{
 "cells": [
  {
   "cell_type": "code",
   "execution_count": 5,
   "metadata": {},
   "outputs": [
    {
     "name": "stdout",
     "output_type": "stream",
     "text": [
      "You have 12 CPUs\n"
     ]
    }
   ],
   "source": [
    "import multiprocessing\n",
    "\n",
    "num_processes = multiprocessing.cpu_count()\n",
    "print('You have {0:1d} CPUs'.format(num_processes))"
   ]
  },
  {
   "cell_type": "code",
   "execution_count": 3,
   "id": "dddaf358",
   "metadata": {},
   "outputs": [
    {
     "name": "stdout",
     "output_type": "stream",
     "text": [
      "Time taken: 7.28 seconds\n"
     ]
    }
   ],
   "source": [
    "import joblib\n",
    "import timeit\n",
    "import math\n",
    "\n",
    "t1 = timeit.default_timer()\n",
    "r = [math.factorial(int(math.sqrt(i**3))) for i in range(100,1000)] \n",
    "t2 = timeit.default_timer()\n",
    "\n",
    "print('Time taken: {0:.2f} seconds'.format(t2-t1))"
   ]
  },
  {
   "cell_type": "code",
   "execution_count": 9,
   "id": "c61b7492",
   "metadata": {},
   "outputs": [
    {
     "name": "stdout",
     "output_type": "stream",
     "text": [
      "Time taken: 0.89 seconds\n"
     ]
    }
   ],
   "source": [
    "t1 = timeit.default_timer()\n",
    "r = joblib.Parallel(n_jobs=-1)(joblib.delayed(math.factorial)(int(math.sqrt(i**3))) for i in range(100,1000))\n",
    "t2 = timeit.default_timer()\n",
    "\n",
    "print('Time taken: {0:.2f} seconds'.format(t2-t1))"
   ]
  }
 ],
 "metadata": {
  "kernelspec": {
   "display_name": "Python 3",
   "language": "python",
   "name": "python3"
  },
  "language_info": {
   "codemirror_mode": {
    "name": "ipython",
    "version": 3
   },
   "file_extension": ".py",
   "mimetype": "text/x-python",
   "name": "python",
   "nbconvert_exporter": "python",
   "pygments_lexer": "ipython3",
   "version": "3.10.12"
  }
 },
 "nbformat": 4,
 "nbformat_minor": 5
}
