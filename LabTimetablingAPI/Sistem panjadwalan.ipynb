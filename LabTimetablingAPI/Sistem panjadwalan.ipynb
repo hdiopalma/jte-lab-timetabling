{
 "cells": [
  {
   "cell_type": "markdown",
   "id": "a11ca03e",
   "metadata": {},
   "source": [
    "# Sistem Penjadwalan Praktikum Otomatis menggunakan Algoritma Genetika dan Tabu Search."
   ]
  },
  {
   "cell_type": "markdown",
   "id": "7c64b620",
   "metadata": {},
   "source": [
    "## Import Library"
   ]
  },
  {
   "cell_type": "code",
   "execution_count": 2,
   "id": "34fde82b-f102-420a-bc61-7dbe633c7e84",
   "metadata": {},
   "outputs": [],
   "source": [
    "import os\n",
    "import sys\n",
    "import django\n",
    "os.environ[\"DJANGO_ALLOW_ASYNC_UNSAFE\"] = \"true\"\n",
    "os.environ.setdefault(\"DJANGO_SETTINGS_MODULE\", \"LabTimetablingAPI.settings\")\n",
    "django.setup()"
   ]
  },
  {
   "cell_type": "markdown",
   "id": "b828a0e7",
   "metadata": {},
   "source": [
    "## Import Model"
   ]
  },
  {
   "cell_type": "code",
   "execution_count": 3,
   "id": "6bbadc0c-5e62-473b-a091-82ec978b90a5",
   "metadata": {},
   "outputs": [],
   "source": [
    "from scheduling_data.models import Laboratory, Module, Participant, Group, Assistant\n",
    "from collections import namedtuple"
   ]
  },
  {
   "cell_type": "markdown",
   "id": "b67b34b6",
   "metadata": {},
   "source": [
    "## Data extraction from model"
   ]
  },
  {
   "cell_type": "code",
   "execution_count": 4,
   "id": "b66ebc72-0f68-4dc6-9846-83f62dc4a144",
   "metadata": {},
   "outputs": [],
   "source": [
    "class LaboratoryData:\n",
    "\n",
    "    def __init__(self, lab = Laboratory):\n",
    "        self._lab = lab\n",
    "        self._laboratories = lab.objects.all()\n",
    "\n",
    "    @property\n",
    "    def laboratories(self): \n",
    "        return self._laboratories.values()\n",
    "    \n",
    "    def get_assistant(self,id):\n",
    "        laboratory = self._laboratories.filter(id=id).first()\n",
    "        assistants = laboratory.assistants.all()\n",
    "        return assistants\n",
    "    \n",
    "    def get_module(self,id):\n",
    "        laboratory = self._laboratories.filter(id=id).first()\n",
    "        modules = laboratory.modules.all()\n",
    "        return modules\n",
    "    \n",
    "class ModuleData:\n",
    "\n",
    "        def __init__(self, module = Module):\n",
    "            self._module = module\n",
    "            self._modules = module.objects.all()\n",
    "    \n",
    "        @property\n",
    "        def modules(self): \n",
    "            return self._modules.values()\n",
    "\n",
    "class ParticipantData:\n",
    "\n",
    "    def __init__(self, participant = Participant):\n",
    "        self._participant = participant\n",
    "        self._participants = participant.objects.all()\n",
    "    \n",
    "    @property\n",
    "    def participants(self):\n",
    "        return self._participants.values()\n",
    "    \n",
    "    def group(self, id):\n",
    "        group_memberships = self._participants.filter(id=id).first().group_memberships.all()\n",
    "        groups = []\n",
    "        for group_membership in group_memberships:\n",
    "            group = group_membership.group\n",
    "            groups.append(group)\n",
    "        return groups\n",
    "    \n",
    "class GroupData:\n",
    "    def __init__(self, group = Group):\n",
    "        self._group = group\n",
    "        self._groups = group.objects.all()\n",
    "\n",
    "    @property\n",
    "    def groups(self):\n",
    "        return self._groups.values()\n",
    "    \n",
    "    def get_group(self, id):\n",
    "        group = self._groups.filter(id=id).first()\n",
    "        return group\n",
    "    \n",
    "    def participants(self, id):\n",
    "        group = self._groups.filter(id=id).first()\n",
    "        group_memberships = group.group_memberships.all()\n",
    "        participants = []\n",
    "        for group_membership in group_memberships:\n",
    "            participant = group_membership.participant\n",
    "            participants.append(participant)\n",
    "        return participants\n",
    "    \n",
    "    def get_participant_schedule(self, id):\n",
    "        participants = self.participants(id)\n",
    "        participant_schedule = []\n",
    "        for participant in participants:\n",
    "            participant_schedule.append(participant.regular_schedule)\n",
    "        return participant_schedule\n",
    "    \n",
    "    def get_group_schedule(self, id):\n",
    "        participant_schedule = self.get_participant_schedule(id)\n",
    "        if len(participant_schedule) == 0:\n",
    "            return {}\n",
    "        days = participant_schedule[0].keys()\n",
    "        merged_schedule = {day: {} for day in days}\n",
    "        for day in days:\n",
    "            for time_slot in participant_schedule[0][day]:\n",
    "                is_available = all(schedule[day][time_slot] for schedule in participant_schedule)\n",
    "                merged_schedule[day][time_slot] = is_available\n",
    "        return merged_schedule\n",
    "                \n",
    "            \n",
    "class AssistantData:\n",
    "\n",
    "    def __init__(self, assistant = Assistant):\n",
    "        self._assistant = assistant\n",
    "        self._assistants = assistant.objects.all()\n",
    "\n",
    "    @property\n",
    "    def assistants(self):\n",
    "        return self._assistants.values()\n",
    "\n",
    "    \n",
    "    def get_assistant(self, id):\n",
    "        assistant = self._assistants.filter(id=id).first()\n",
    "        return assistant\n",
    "    \n",
    "    def get_assistant_modules(self,id):\n",
    "        assistant = self._assistant.filter(id=id).first()\n",
    "        assistant_memberships = assistant.assistant_memberships.all()\n",
    "        modules = []\n",
    "        for assistant_membership in assistant_memberships:\n",
    "            module = assistant_membership.module\n",
    "            modules.append(module)\n",
    "        return modules"
   ]
  },
  {
   "cell_type": "markdown",
   "id": "9fa07671",
   "metadata": {},
   "source": [
    "## Genetic Algorithm"
   ]
  },
  {
   "cell_type": "code",
   "execution_count": 5,
   "id": "1eee2805",
   "metadata": {},
   "outputs": [],
   "source": [
    "import pandas as pd"
   ]
  },
  {
   "cell_type": "code",
   "execution_count": 6,
   "id": "e2e2cd0a-c3e1-43a7-bffe-6cd3f055a5ef",
   "metadata": {},
   "outputs": [],
   "source": [
    "# Assigning data to variables\n",
    "lab_data = LaboratoryData()\n",
    "module_data = ModuleData()\n",
    "participant_data = ParticipantData()\n",
    "group_data = GroupData()\n",
    "assistant_data = AssistantData()"
   ]
  },
  {
   "cell_type": "code",
   "execution_count": 7,
   "id": "9d917c18",
   "metadata": {},
   "outputs": [
    {
     "data": {
      "text/html": [
       "<div>\n",
       "<style scoped>\n",
       "    .dataframe tbody tr th:only-of-type {\n",
       "        vertical-align: middle;\n",
       "    }\n",
       "\n",
       "    .dataframe tbody tr th {\n",
       "        vertical-align: top;\n",
       "    }\n",
       "\n",
       "    .dataframe thead th {\n",
       "        text-align: right;\n",
       "    }\n",
       "</style>\n",
       "<table border=\"1\" class=\"dataframe\">\n",
       "  <thead>\n",
       "    <tr style=\"text-align: right;\">\n",
       "      <th></th>\n",
       "      <th>id</th>\n",
       "      <th>name</th>\n",
       "      <th>nim</th>\n",
       "      <th>semester_id</th>\n",
       "      <th>regular_schedule</th>\n",
       "    </tr>\n",
       "  </thead>\n",
       "  <tbody>\n",
       "    <tr>\n",
       "      <th>0</th>\n",
       "      <td>5</td>\n",
       "      <td>Setio Ningrum</td>\n",
       "      <td>3332210016</td>\n",
       "      <td>1</td>\n",
       "      <td>{'Friday': {'Shift1': False, 'Shift2': True, '...</td>\n",
       "    </tr>\n",
       "    <tr>\n",
       "      <th>1</th>\n",
       "      <td>6</td>\n",
       "      <td>Ruth Anandina</td>\n",
       "      <td>3332210051</td>\n",
       "      <td>1</td>\n",
       "      <td>{'Friday': {'Shift1': False, 'Shift2': True, '...</td>\n",
       "    </tr>\n",
       "    <tr>\n",
       "      <th>2</th>\n",
       "      <td>7</td>\n",
       "      <td>ADHITAMA WIRA YUDHA</td>\n",
       "      <td>3332190029</td>\n",
       "      <td>1</td>\n",
       "      <td>{'Friday': {'Shift1': True, 'Shift2': True, 'S...</td>\n",
       "    </tr>\n",
       "    <tr>\n",
       "      <th>3</th>\n",
       "      <td>8</td>\n",
       "      <td>FARHAN NUGROHO</td>\n",
       "      <td>3332190072</td>\n",
       "      <td>1</td>\n",
       "      <td>{'Friday': {'Shift1': True, 'Shift2': True, 'S...</td>\n",
       "    </tr>\n",
       "    <tr>\n",
       "      <th>4</th>\n",
       "      <td>9</td>\n",
       "      <td>BAGAS NURYANTO</td>\n",
       "      <td>3332190080</td>\n",
       "      <td>1</td>\n",
       "      <td>{'Friday': {'Shift1': False, 'Shift2': True, '...</td>\n",
       "    </tr>\n",
       "    <tr>\n",
       "      <th>...</th>\n",
       "      <td>...</td>\n",
       "      <td>...</td>\n",
       "      <td>...</td>\n",
       "      <td>...</td>\n",
       "      <td>...</td>\n",
       "    </tr>\n",
       "    <tr>\n",
       "      <th>102</th>\n",
       "      <td>55</td>\n",
       "      <td>Maulana Ali Akbar</td>\n",
       "      <td>3332210082</td>\n",
       "      <td>1</td>\n",
       "      <td>{'Friday': {'Shift1': False, 'Shift2': True, '...</td>\n",
       "    </tr>\n",
       "    <tr>\n",
       "      <th>103</th>\n",
       "      <td>65</td>\n",
       "      <td>Naga Tunggal</td>\n",
       "      <td>3332210004</td>\n",
       "      <td>1</td>\n",
       "      <td>{'Friday': {'Shift1': True, 'Shift2': False, '...</td>\n",
       "    </tr>\n",
       "    <tr>\n",
       "      <th>104</th>\n",
       "      <td>86</td>\n",
       "      <td>Randy eleanor</td>\n",
       "      <td>3332210057</td>\n",
       "      <td>1</td>\n",
       "      <td>{'Friday': {'Shift1': True, 'Shift2': True, 'S...</td>\n",
       "    </tr>\n",
       "    <tr>\n",
       "      <th>105</th>\n",
       "      <td>106</td>\n",
       "      <td>MAHESA NURUL VIKAR</td>\n",
       "      <td>3332200087</td>\n",
       "      <td>1</td>\n",
       "      <td>{'Friday': {'Shift1': False, 'Shift2': True, '...</td>\n",
       "    </tr>\n",
       "    <tr>\n",
       "      <th>106</th>\n",
       "      <td>107</td>\n",
       "      <td>MUHAMMAD SYAHDHIA RAMADHAN</td>\n",
       "      <td>3332210055</td>\n",
       "      <td>1</td>\n",
       "      <td>{'Friday': {'Shift1': False, 'Shift2': True, '...</td>\n",
       "    </tr>\n",
       "  </tbody>\n",
       "</table>\n",
       "<p>107 rows × 5 columns</p>\n",
       "</div>"
      ],
      "text/plain": [
       "      id                        name         nim  semester_id  \\\n",
       "0      5               Setio Ningrum  3332210016            1   \n",
       "1      6               Ruth Anandina  3332210051            1   \n",
       "2      7         ADHITAMA WIRA YUDHA  3332190029            1   \n",
       "3      8              FARHAN NUGROHO  3332190072            1   \n",
       "4      9              BAGAS NURYANTO  3332190080            1   \n",
       "..   ...                         ...         ...          ...   \n",
       "102   55           Maulana Ali Akbar  3332210082            1   \n",
       "103   65                Naga Tunggal  3332210004            1   \n",
       "104   86               Randy eleanor  3332210057            1   \n",
       "105  106          MAHESA NURUL VIKAR  3332200087            1   \n",
       "106  107  MUHAMMAD SYAHDHIA RAMADHAN  3332210055            1   \n",
       "\n",
       "                                      regular_schedule  \n",
       "0    {'Friday': {'Shift1': False, 'Shift2': True, '...  \n",
       "1    {'Friday': {'Shift1': False, 'Shift2': True, '...  \n",
       "2    {'Friday': {'Shift1': True, 'Shift2': True, 'S...  \n",
       "3    {'Friday': {'Shift1': True, 'Shift2': True, 'S...  \n",
       "4    {'Friday': {'Shift1': False, 'Shift2': True, '...  \n",
       "..                                                 ...  \n",
       "102  {'Friday': {'Shift1': False, 'Shift2': True, '...  \n",
       "103  {'Friday': {'Shift1': True, 'Shift2': False, '...  \n",
       "104  {'Friday': {'Shift1': True, 'Shift2': True, 'S...  \n",
       "105  {'Friday': {'Shift1': False, 'Shift2': True, '...  \n",
       "106  {'Friday': {'Shift1': False, 'Shift2': True, '...  \n",
       "\n",
       "[107 rows x 5 columns]"
      ]
     },
     "execution_count": 7,
     "metadata": {},
     "output_type": "execute_result"
    }
   ],
   "source": [
    "pd.DataFrame(participant_data.participants)"
   ]
  },
  {
   "cell_type": "code",
   "execution_count": 8,
   "id": "8732d9a5-7284-48e2-b266-f95ae172eece",
   "metadata": {},
   "outputs": [
    {
     "data": {
      "text/html": [
       "<div>\n",
       "<style scoped>\n",
       "    .dataframe tbody tr th:only-of-type {\n",
       "        vertical-align: middle;\n",
       "    }\n",
       "\n",
       "    .dataframe tbody tr th {\n",
       "        vertical-align: top;\n",
       "    }\n",
       "\n",
       "    .dataframe thead th {\n",
       "        text-align: right;\n",
       "    }\n",
       "</style>\n",
       "<table border=\"1\" class=\"dataframe\">\n",
       "  <thead>\n",
       "    <tr style=\"text-align: right;\">\n",
       "      <th></th>\n",
       "      <th>Friday</th>\n",
       "      <th>Monday</th>\n",
       "      <th>Tuesday</th>\n",
       "      <th>Saturday</th>\n",
       "      <th>Thursday</th>\n",
       "      <th>Wednesday</th>\n",
       "    </tr>\n",
       "  </thead>\n",
       "  <tbody>\n",
       "    <tr>\n",
       "      <th>Shift1</th>\n",
       "      <td>False</td>\n",
       "      <td>True</td>\n",
       "      <td>True</td>\n",
       "      <td>False</td>\n",
       "      <td>True</td>\n",
       "      <td>False</td>\n",
       "    </tr>\n",
       "    <tr>\n",
       "      <th>Shift2</th>\n",
       "      <td>True</td>\n",
       "      <td>True</td>\n",
       "      <td>False</td>\n",
       "      <td>False</td>\n",
       "      <td>False</td>\n",
       "      <td>False</td>\n",
       "    </tr>\n",
       "    <tr>\n",
       "      <th>Shift3</th>\n",
       "      <td>False</td>\n",
       "      <td>False</td>\n",
       "      <td>False</td>\n",
       "      <td>True</td>\n",
       "      <td>False</td>\n",
       "      <td>False</td>\n",
       "    </tr>\n",
       "    <tr>\n",
       "      <th>Shift4</th>\n",
       "      <td>True</td>\n",
       "      <td>False</td>\n",
       "      <td>False</td>\n",
       "      <td>False</td>\n",
       "      <td>False</td>\n",
       "      <td>True</td>\n",
       "    </tr>\n",
       "    <tr>\n",
       "      <th>Shift5</th>\n",
       "      <td>False</td>\n",
       "      <td>True</td>\n",
       "      <td>False</td>\n",
       "      <td>True</td>\n",
       "      <td>True</td>\n",
       "      <td>True</td>\n",
       "    </tr>\n",
       "    <tr>\n",
       "      <th>Shift6</th>\n",
       "      <td>True</td>\n",
       "      <td>False</td>\n",
       "      <td>True</td>\n",
       "      <td>True</td>\n",
       "      <td>False</td>\n",
       "      <td>True</td>\n",
       "    </tr>\n",
       "  </tbody>\n",
       "</table>\n",
       "</div>"
      ],
      "text/plain": [
       "        Friday  Monday  Tuesday  Saturday  Thursday  Wednesday\n",
       "Shift1   False    True     True     False      True      False\n",
       "Shift2    True    True    False     False     False      False\n",
       "Shift3   False   False    False      True     False      False\n",
       "Shift4    True   False    False     False     False       True\n",
       "Shift5   False    True    False      True      True       True\n",
       "Shift6    True   False     True      True     False       True"
      ]
     },
     "execution_count": 8,
     "metadata": {},
     "output_type": "execute_result"
    }
   ],
   "source": [
    "pd.DataFrame(group_data.get_group_schedule(1))"
   ]
  },
  {
   "cell_type": "markdown",
   "id": "b8d68180-aa9d-43b3-89a2-891f2fbdea01",
   "metadata": {},
   "source": [
    "Gene Representation for Scheduling Problem"
   ]
  },
  {
   "cell_type": "code",
   "execution_count": 9,
   "id": "a24521a3",
   "metadata": {},
   "outputs": [],
   "source": [
    "TimeSlot = namedtuple(\"TimeSlot\", [\"date\", \"day\", \"shift\"])"
   ]
  },
  {
   "cell_type": "code",
   "execution_count": 10,
   "id": "b48cb094-3b9b-42eb-ad38-06454add934c",
   "metadata": {},
   "outputs": [],
   "source": [
    "# Gene Representation\n",
    "# 1. Laboratory\n",
    "# 2. Module chapter\n",
    "# 3. Group\n",
    "# 4. Assistant\n",
    "# 5. Time Slot : Date, Day, Time\n",
    "# 6. Availability: json, e.g. {\"Friday\": {\"Shift1\": true, \"Shift2\": true, \"Shift3\": true, \"Shift4\": true, \"Shift5\": true, \"Shift6\": false}, \"Monday\": {\"Shift1\": true, \"Shift2\": true, \"Shift3\": true, \"Shift4\": true, \"Shift5\": true, \"Shift6\": false}, \"Tuesday\": {\"Shift1\": true, \"Shift2\": true, \"Shift3\": true, \"Shift4\": true, \"Shift5\": true, \"Shift6\": false}, \"Saturday\": {\"Shift1\": true, \"Shift2\": true, \"Shift3\": true, \"Shift4\": true, \"Shift5\": false, \"Shift6\": true}, \"Thursday\": {\"Shift1\": true, \"Shift2\": true, \"Shift3\": true, \"Shift4\": true, \"Shift5\": true, \"Shift6\": true}, \"Wednesday\": {\"Shift1\": true, \"Shift2\": true, \"Shift3\": true, \"Shift4\": false, \"Shift5\": false, \"Shift6\": true}}\n",
    "\n",
    "class Gene:\n",
    "    def __init__(self, lab, module_chapter, group, assistant, time_slot: TimeSlot):\n",
    "        self.lab = lab\n",
    "        self.module_chapter = module_chapter\n",
    "        self.group = group\n",
    "        self.assistant = assistant\n",
    "        self.time_slot = time_slot\n",
    "        \n",
    "    def __repr__(self):\n",
    "        return f\"Laboratory: {self.lab}, Module Chapter: {self.module_chapter}, Group: {self.group}, Assistant: {self.assistant}, Time Slot: {self.time_slot}\"\n",
    "    \n",
    "    def __eq__(self, other):\n",
    "        return self.lab == other.lab and self.module_chapter == other.module_chapter and self.group == other.group and self.assistant == other.assistant and self.time_slot == other.time_slot\n",
    "    \n",
    "    def __hash__(self):\n",
    "        return hash((self.lab, self.module_chapter, self.group, self.assistant, self.time_slot))\n",
    "    \n",
    "    def __str__(self) -> str:\n",
    "        return f\"Laboratory: {self.lab}, Module Chapter: {self.module_chapter}, Group: {self.group}, Assistant: {self.assistant}, Time Slot: {self.time_slot}\"\n",
    "    \n",
    "    def generate(self):\n",
    "        return Gene(self.lab, self.module_chapter, self.group, self.assistant, self.time_slot)\n",
    "    "
   ]
  },
  {
   "cell_type": "code",
   "execution_count": 55,
   "id": "e62b2b75",
   "metadata": {},
   "outputs": [],
   "source": [
    "# Test Gene\n",
    "gene = Gene(lab_data.laboratories[0][\"id\"], module_data.modules[0][\"id\"], group_data.groups[0][\"id\"],assistant_data.assistants[0][\"id\"], TimeSlot(\"2021-01-01\", \"Friday\", \"Shift1\"))\n",
    "gene2 = Gene(lab_data.laboratories[0][\"id\"], module_data.modules[0][\"id\"], group_data.groups[1][\"id\"], assistant_data.assistants[0][\"id\"], TimeSlot(\"2021-01-01\", \"Friday\", \"Shift2\"))\n",
    "gene3 = Gene(lab_data.laboratories[0][\"id\"], module_data.modules[0][\"id\"], group_data.groups[2][\"id\"], assistant_data.assistants[0][\"id\"], TimeSlot(\"2021-01-01\", \"Monday\", \"Shift1\"))"
   ]
  },
  {
   "cell_type": "code",
   "execution_count": 12,
   "id": "2565bdf4",
   "metadata": {},
   "outputs": [
    {
     "data": {
      "text/plain": [
       "False"
      ]
     },
     "execution_count": 12,
     "metadata": {},
     "output_type": "execute_result"
    }
   ],
   "source": [
    "gene.time_slot == gene3.time_slot"
   ]
  },
  {
   "cell_type": "code",
   "execution_count": 13,
   "id": "34b0d067",
   "metadata": {},
   "outputs": [],
   "source": [
    "# Chromosome Representation\n",
    "# 1. Gene\n",
    "# 2. Fitness\n",
    "\n",
    "class Chromosome:\n",
    "    def __init__(self, genes, fitness):\n",
    "        self.genes = genes\n",
    "        self.fitness = fitness\n",
    "        \n",
    "    def __repr__(self):\n",
    "        return f\"Genes: {self.genes}, Fitness: {self.fitness}\"\n",
    "    \n",
    "    def __eq__(self, other):\n",
    "        return self.genes == other.genes and self.fitness == other.fitness\n",
    "    \n",
    "    def __hash__(self):\n",
    "        return hash((self.genes, self.fitness))\n",
    "    \n",
    "    def __str__(self) -> str:\n",
    "        return f\"Genes: {self.genes}, Fitness: {self.fitness}\"\n",
    "    \n",
    "    def generate(self):\n",
    "        return Chromosome(self.genes, self.fitness)"
   ]
  },
  {
   "cell_type": "code",
   "execution_count": 57,
   "id": "c65015a9",
   "metadata": {},
   "outputs": [],
   "source": [
    "# test chromosome\n",
    "chromosome = Chromosome([gene, gene2, gene3], 0.5)"
   ]
  },
  {
   "cell_type": "code",
   "execution_count": 15,
   "id": "59dcfbfa",
   "metadata": {},
   "outputs": [
    {
     "data": {
      "text/plain": [
       "Genes: [Laboratory: 1, Module Chapter: 1, Group: 1, Assistant: 1, Time Slot: TimeSlot(date='2021-01-01', day='Friday', shift='Shift1'), Laboratory: 1, Module Chapter: 1, Group: 2, Assistant: 1, Time Slot: TimeSlot(date='2021-01-01', day='Friday', shift='Shift2'), Laboratory: 1, Module Chapter: 1, Group: 3, Assistant: 1, Time Slot: TimeSlot(date='2021-01-01', day='Sunday', shift='Shift1')], Fitness: 0.5"
      ]
     },
     "execution_count": 15,
     "metadata": {},
     "output_type": "execute_result"
    }
   ],
   "source": [
    "chromosome.generate()"
   ]
  },
  {
   "cell_type": "code",
   "execution_count": 16,
   "id": "23270ddc",
   "metadata": {},
   "outputs": [],
   "source": [
    "# Objective Class for Fitness Function\n",
    "# 1. Minimize Conflicts: Minimize conflicts in the schedule by ensuring that no two groups are assigned to the same lab and time slot simultaneously.\n",
    "\n",
    "class MinimizeConflicts:\n",
    "    def __init__(self, chromosome):\n",
    "        self.chromosome = chromosome\n",
    "        self.conflicts = namedtuple(\"Conflicts\", [\"time_slot\", \"lab\"])\n",
    "        self.conflicts_time_slot = set()\n",
    "        self.assigned_time_slot = set()\n",
    "        self.conflict_count = 0\n",
    "\n",
    "\n",
    "    def __repr__(self):\n",
    "        return f\"Chromosome: {self.chromosome}, Conflicts Time Slot: {self.conflicts_time_slot}, Assigned Time Slot: {self.assigned_time_slot}, Conflict Count: {self.conflict_count}\"\n",
    "    \n",
    "    def __eq__(self, other):\n",
    "        return self.chromosome == other.chromosome and self.conflicts_time_slot == other.conflicts_time_slot and self.assigned_time_slot == other.assigned_time_slot and self.conflict_count == other.conflict_count\n",
    "    \n",
    "    def calculate_conflicts(self):\n",
    "        for gene in self.chromosome.genes:\n",
    "            if (gene.lab, gene.time_slot) in self.assigned_time_slot:\n",
    "                self.conflicts_time_slot.add(self.conflicts(gene.time_slot, gene.lab))\n",
    "                self.conflict_count += 1\n",
    "            else:\n",
    "                self.assigned_time_slot.add((gene.lab, gene.time_slot))\n",
    "        return self.conflict_count\n",
    "\n",
    "    def calculate_fitness(self):\n",
    "        self.calculate_conflicts()\n",
    "        return self.conflict_count\n"
   ]
  },
  {
   "cell_type": "code",
   "execution_count": 17,
   "id": "5785503f",
   "metadata": {},
   "outputs": [
    {
     "data": {
      "text/plain": [
       "0"
      ]
     },
     "execution_count": 17,
     "metadata": {},
     "output_type": "execute_result"
    }
   ],
   "source": [
    "a = MinimizeConflicts(chromosome)\n",
    "a.calculate_fitness()"
   ]
  },
  {
   "cell_type": "code",
   "execution_count": 29,
   "id": "d7f9f4d6",
   "metadata": {},
   "outputs": [
    {
     "data": {
      "text/plain": [
       "2"
      ]
     },
     "execution_count": 29,
     "metadata": {},
     "output_type": "execute_result"
    }
   ],
   "source": [
    "# 2. Maximize Resource Utilization: Maximize the utilization of assistants by distributing tasks evenly among them. Each assistant should be assigned to a balanced number of groups and shift to avoid overloading.\n",
    "\n",
    "from collections import defaultdict\n",
    "from itertools import combinations\n",
    "\n",
    "class MaximizeResourceUtilization:\n",
    "    def __init__(self, chromosome:list, max_groups_per_assistant, max_shift_per_assistant):\n",
    "        self.chromosome = chromosome\n",
    "        self.max_groups_per_assistant = max_groups_per_assistant\n",
    "        self.max_shift_per_assistant = max_shift_per_assistant\n",
    "        self.assistants_assignments = defaultdict(list)\n",
    "        self.assistants_shifts = defaultdict(list)\n",
    "        self.overload_penalty = 0\n",
    "\n",
    "    def __repr__(self):\n",
    "        return f\"Chromosome: {self.chromosome}, Max Groups Per Assistant: {self.max_groups_per_assistant}, Max Shift Per Assistant: {self.max_shift_per_assistant}, Assistants Assignments: {self.assistants_assignments}, Assistants Shifts: {self.assistants_shifts}, Overload Penalty: {self.overload_penalty}\"\n",
    "    \n",
    "    def calculate_assistants_assignments(self):\n",
    "        self.assistants_assignments.clear()\n",
    "        for gene in self.chromosome.genes:\n",
    "            self.assistants_assignments[gene.assistant].append(gene.group)\n",
    "        return self.assistants_assignments\n",
    "    \n",
    "    def calculate_assistants_shifts(self):\n",
    "        self.assistants_shifts.clear()\n",
    "        for gene in self.chromosome.genes:\n",
    "            self.assistants_shifts[gene.assistant].append(gene.time_slot)\n",
    "        return self.assistants_shifts\n",
    "    \n",
    "    def calculate_overload_penalty(self):\n",
    "        self.overload_penalty = 0\n",
    "        self.calculate_assistants_assignments()\n",
    "        self.calculate_assistants_shifts()\n",
    "        for assistant , assignments in self.assistants_assignments.items():\n",
    "            assignments_penalty = max(0, len(assignments) - self.max_groups_per_assistant)\n",
    "            shift_penalty = (max(0, len(self.assistants_shifts[assistant]) - self.max_shift_per_assistant))\n",
    "            self.overload_penalty += assignments_penalty + shift_penalty\n",
    "        return self.overload_penalty\n",
    "    \n",
    "    def calculate_fitness(self):\n",
    "        self.calculate_overload_penalty()\n",
    "        return self.overload_penalty\n",
    "    \n",
    "b = MaximizeResourceUtilization(chromosome, 2, 2)\n",
    "b.calculate_fitness()\n",
    "\n",
    "        "
   ]
  },
  {
   "cell_type": "code",
   "execution_count": 48,
   "id": "61302e4e",
   "metadata": {},
   "outputs": [
    {
     "data": {
      "text/plain": [
       "{'Friday': {'Shift1': False,\n",
       "  'Shift2': True,\n",
       "  'Shift3': False,\n",
       "  'Shift4': True,\n",
       "  'Shift5': False,\n",
       "  'Shift6': True},\n",
       " 'Monday': {'Shift1': True,\n",
       "  'Shift2': True,\n",
       "  'Shift3': False,\n",
       "  'Shift4': False,\n",
       "  'Shift5': True,\n",
       "  'Shift6': False},\n",
       " 'Tuesday': {'Shift1': True,\n",
       "  'Shift2': False,\n",
       "  'Shift3': False,\n",
       "  'Shift4': False,\n",
       "  'Shift5': False,\n",
       "  'Shift6': True},\n",
       " 'Saturday': {'Shift1': False,\n",
       "  'Shift2': False,\n",
       "  'Shift3': True,\n",
       "  'Shift4': False,\n",
       "  'Shift5': True,\n",
       "  'Shift6': True},\n",
       " 'Thursday': {'Shift1': True,\n",
       "  'Shift2': False,\n",
       "  'Shift3': False,\n",
       "  'Shift4': False,\n",
       "  'Shift5': True,\n",
       "  'Shift6': False},\n",
       " 'Wednesday': {'Shift1': False,\n",
       "  'Shift2': False,\n",
       "  'Shift3': False,\n",
       "  'Shift4': True,\n",
       "  'Shift5': True,\n",
       "  'Shift6': True}}"
      ]
     },
     "execution_count": 48,
     "metadata": {},
     "output_type": "execute_result"
    }
   ],
   "source": [
    "group_data.get_group_schedule(gene.group)"
   ]
  },
  {
   "cell_type": "code",
   "execution_count": 51,
   "id": "a1f6b414",
   "metadata": {},
   "outputs": [
    {
     "data": {
      "text/plain": [
       "False"
      ]
     },
     "execution_count": 51,
     "metadata": {},
     "output_type": "execute_result"
    }
   ],
   "source": [
    "group_data.get_group_schedule(gene.group)[\"Friday\"][\"Shift1\"]"
   ]
  },
  {
   "cell_type": "code",
   "execution_count": 58,
   "id": "076b5e0a",
   "metadata": {},
   "outputs": [
    {
     "data": {
      "text/plain": [
       "2"
      ]
     },
     "execution_count": 58,
     "metadata": {},
     "output_type": "execute_result"
    }
   ],
   "source": [
    "# 3. Maximize Participant Satisfaction: Maximize the satisfaction of participants by ensuring that each participant is assigned to a time slot that is available to them.\n",
    "\n",
    "class ParticipantAvailability:\n",
    "    def __init__(self, chromosome, group_data: GroupData):\n",
    "        self.chromosome = chromosome\n",
    "        self.group_data = group_data\n",
    "        self.unsatified_participants = defaultdict(list)\n",
    "        self.unsatified_participants_count = 0\n",
    "\n",
    "    def calculate_unsatisfied_participants(self):\n",
    "        self.unsatified_participants.clear()\n",
    "        for gene in self.chromosome.genes:\n",
    "            participant_availability = group_data.get_group_schedule(gene.group)\n",
    "            if not participant_availability[gene.time_slot.day][gene.time_slot.shift]:\n",
    "                self.unsatified_participants[gene.group].append(gene.time_slot)\n",
    "                self.unsatified_participants_count += 1\n",
    "        return self.unsatified_participants_count\n",
    "    \n",
    "    def calculate_fitness(self):\n",
    "        self.calculate_unsatisfied_participants()\n",
    "        return self.unsatified_participants_count\n",
    "    \n",
    "c = ParticipantAvailability(chromosome, group_data)\n",
    "c.calculate_fitness()\n",
    "            "
   ]
  },
  {
   "cell_type": "code",
   "execution_count": 59,
   "id": "3379c950",
   "metadata": {},
   "outputs": [
    {
     "data": {
      "text/plain": [
       "defaultdict(list,\n",
       "            {1: [TimeSlot(date='2021-01-01', day='Friday', shift='Shift1')],\n",
       "             3: [TimeSlot(date='2021-01-01', day='Monday', shift='Shift1')]})"
      ]
     },
     "execution_count": 59,
     "metadata": {},
     "output_type": "execute_result"
    }
   ],
   "source": [
    "c.unsatified_participants"
   ]
  },
  {
   "cell_type": "code",
   "execution_count": null,
   "id": "b24839ab",
   "metadata": {},
   "outputs": [],
   "source": []
  }
 ],
 "metadata": {
  "kernelspec": {
   "display_name": "Python 3",
   "language": "python",
   "name": "python3"
  },
  "language_info": {
   "codemirror_mode": {
    "name": "ipython",
    "version": 3
   },
   "file_extension": ".py",
   "mimetype": "text/x-python",
   "name": "python",
   "nbconvert_exporter": "python",
   "pygments_lexer": "ipython3",
   "version": "3.10.12"
  }
 },
 "nbformat": 4,
 "nbformat_minor": 5
}
