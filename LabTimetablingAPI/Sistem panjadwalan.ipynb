{
 "cells": [
  {
   "cell_type": "markdown",
   "id": "a11ca03e",
   "metadata": {},
   "source": [
    "# Sistem Penjadwalan Praktikum Otomatis menggunakan Algoritma Genetika dan Tabu Search."
   ]
  },
  {
   "cell_type": "markdown",
   "id": "7c64b620",
   "metadata": {},
   "source": [
    "## Import Library"
   ]
  },
  {
   "cell_type": "code",
   "execution_count": 135,
   "id": "34fde82b-f102-420a-bc61-7dbe633c7e84",
   "metadata": {},
   "outputs": [],
   "source": [
    "import os\n",
    "import sys\n",
    "import django\n",
    "os.environ[\"DJANGO_ALLOW_ASYNC_UNSAFE\"] = \"true\"\n",
    "os.environ.setdefault(\"DJANGO_SETTINGS_MODULE\", \"LabTimetablingAPI.settings\")\n",
    "django.setup()"
   ]
  },
  {
   "cell_type": "markdown",
   "id": "b828a0e7",
   "metadata": {},
   "source": [
    "## Import Model"
   ]
  },
  {
   "cell_type": "code",
   "execution_count": 136,
   "id": "6bbadc0c-5e62-473b-a091-82ec978b90a5",
   "metadata": {},
   "outputs": [],
   "source": [
    "from scheduling_data.models import Laboratory, Module, Participant, Group, Assistant, Chapter"
   ]
  },
  {
   "cell_type": "markdown",
   "id": "b67b34b6",
   "metadata": {},
   "source": [
    "## Data extraction from model"
   ]
  },
  {
   "cell_type": "code",
   "execution_count": 137,
   "id": "b66ebc72-0f68-4dc6-9846-83f62dc4a144",
   "metadata": {},
   "outputs": [],
   "source": [
    "class LaboratoryData:\n",
    "\n",
    "    def __init__(self, lab = Laboratory):\n",
    "        self._lab = lab\n",
    "        self._laboratories = lab.objects.all()\n",
    "\n",
    "    @property\n",
    "    def laboratories(self): \n",
    "        return self._laboratories.values()\n",
    "    \n",
    "    def get_assistant(self,id):\n",
    "        laboratory = self._laboratories.filter(id=id).first()\n",
    "        assistants = laboratory.assistants.all()\n",
    "        return assistants.values()\n",
    "    \n",
    "    def get_module(self,id):\n",
    "        laboratory = self._laboratories.filter(id=id).first()\n",
    "        modules = laboratory.modules.all()\n",
    "        return modules.values()\n",
    "    \n",
    "class ModuleData:\n",
    "\n",
    "    def __init__(self, module = Module):\n",
    "        self._module = module\n",
    "        self._modules = module.objects.all()\n",
    "\n",
    "    @property\n",
    "    def modules(self): \n",
    "        return self._modules.values()\n",
    "    \n",
    "    def get_module(self,id):\n",
    "        module = self._modules.filter(id=id).first()\n",
    "        return module\n",
    "    \n",
    "    def get_module_chapter(self, id):\n",
    "        module = self.get_module(id)\n",
    "        return module.chapters.all().values()\n",
    "    \n",
    "    def get_group(self, id):\n",
    "        module = self.get_module(id)\n",
    "        return module.groups.all().values()\n",
    "    \n",
    "    def get_laboratory(self, id):\n",
    "        module = self.get_module(id)\n",
    "        return module.laboratory\n",
    "    \n",
    "        \n",
    "class ChapterData:\n",
    "\n",
    "    def __init__(self, chapter = Chapter):\n",
    "        self._chapter = chapter\n",
    "        self._chapters = chapter.objects.all()\n",
    "\n",
    "    @property\n",
    "    def chapters(self): \n",
    "        return self._chapters.values()\n",
    "    \n",
    "    def get_chapter(self,id):\n",
    "        chapter = self._chapters.filter(id=id).first()\n",
    "        return chapter\n",
    "    \n",
    "    def get_chapter_module(self, id):\n",
    "        chapter = self.get_chapter(id)\n",
    "        return chapter.module\n",
    "\n",
    "class ParticipantData:\n",
    "\n",
    "    def __init__(self, participant = Participant):\n",
    "        self._participant = participant\n",
    "        self._participants = participant.objects.all()\n",
    "    \n",
    "    @property\n",
    "    def participants(self):\n",
    "        return self._participants.values()\n",
    "    \n",
    "    def group(self, id):\n",
    "        group_memberships = self._participants.filter(id=id).first().group_memberships.all()\n",
    "        groups = []\n",
    "        for group_membership in group_memberships:\n",
    "            group = group_membership.group\n",
    "            groups.append(group)\n",
    "        return groups\n",
    "    \n",
    "class GroupData:\n",
    "    def __init__(self, group = Group):\n",
    "        self._group = group\n",
    "        self._groups = group.objects.all()\n",
    "\n",
    "    @property\n",
    "    def groups(self):\n",
    "        return self._groups.values()\n",
    "    \n",
    "    def get_group(self, id):\n",
    "        group = self._groups.filter(id=id).first()\n",
    "        return group\n",
    "    \n",
    "    def get_module_group(self, module_id):\n",
    "        groups = self._groups.filter(module_id=module_id)\n",
    "        return groups.values()\n",
    "    \n",
    "    def participants(self, id):\n",
    "        group = self._groups.filter(id=id).first()\n",
    "        group_memberships = group.group_memberships.all()\n",
    "        participants = []\n",
    "        for group_membership in group_memberships:\n",
    "            participant = group_membership.participant\n",
    "            participants.append(participant)\n",
    "        return participants\n",
    "    \n",
    "    def get_participant_schedule(self, id):\n",
    "        participants = self.participants(id)\n",
    "        participant_schedule = []\n",
    "        for participant in participants:\n",
    "            participant_schedule.append(participant.regular_schedule)\n",
    "        return participant_schedule\n",
    "    \n",
    "    def get_group_schedule(self, id):\n",
    "        participant_schedule = self.get_participant_schedule(id)\n",
    "        if len(participant_schedule) == 0:\n",
    "            return {}\n",
    "        days = participant_schedule[0].keys()\n",
    "        merged_schedule = {day: {} for day in days}\n",
    "        for day in days:\n",
    "            for time_slot in participant_schedule[0][day]:\n",
    "                is_available = all(schedule[day][time_slot] for schedule in participant_schedule)\n",
    "                merged_schedule[day][time_slot] = is_available\n",
    "        return merged_schedule\n",
    "                \n",
    "            \n",
    "class AssistantData:\n",
    "\n",
    "    def __init__(self, assistant = Assistant):\n",
    "        self._assistant = assistant\n",
    "        self._assistants = assistant.objects.all()\n",
    "\n",
    "    @property\n",
    "    def assistants(self):\n",
    "        return self._assistants.values()\n",
    "\n",
    "    \n",
    "    def get_assistant(self, id):\n",
    "        assistant = self._assistants.filter(id=id).first()\n",
    "        return assistant\n",
    "    \n",
    "    def get_assistant_modules(self,id):\n",
    "        assistant = self._assistant.filter(id=id).first()\n",
    "        assistant_memberships = assistant.assistant_memberships.all()\n",
    "        modules = []\n",
    "        for assistant_membership in assistant_memberships:\n",
    "            module = assistant_membership.module\n",
    "            modules.append(module)\n",
    "        return modules\n"
   ]
  },
  {
   "cell_type": "markdown",
   "id": "9fa07671",
   "metadata": {},
   "source": [
    "## Genetic Algorithm"
   ]
  },
  {
   "cell_type": "code",
   "execution_count": 138,
   "id": "1eee2805",
   "metadata": {},
   "outputs": [],
   "source": [
    "import pandas as pd"
   ]
  },
  {
   "cell_type": "code",
   "execution_count": 139,
   "id": "e2e2cd0a-c3e1-43a7-bffe-6cd3f055a5ef",
   "metadata": {},
   "outputs": [],
   "source": [
    "# Assigning data to variables\n",
    "lab_data = LaboratoryData()\n",
    "module_data = ModuleData()\n",
    "participant_data = ParticipantData()\n",
    "group_data = GroupData()\n",
    "assistant_data = AssistantData()\n",
    "chapter_data = ChapterData()"
   ]
  },
  {
   "cell_type": "code",
   "execution_count": 140,
   "id": "03863ea2",
   "metadata": {},
   "outputs": [
    {
     "data": {
      "text/plain": [
       "36"
      ]
     },
     "execution_count": 140,
     "metadata": {},
     "output_type": "execute_result"
    }
   ],
   "source": [
    "group_data.get_module_group(1).count()"
   ]
  },
  {
   "cell_type": "code",
   "execution_count": 141,
   "id": "9d917c18",
   "metadata": {},
   "outputs": [
    {
     "data": {
      "text/html": [
       "<div>\n",
       "<style scoped>\n",
       "    .dataframe tbody tr th:only-of-type {\n",
       "        vertical-align: middle;\n",
       "    }\n",
       "\n",
       "    .dataframe tbody tr th {\n",
       "        vertical-align: top;\n",
       "    }\n",
       "\n",
       "    .dataframe thead th {\n",
       "        text-align: right;\n",
       "    }\n",
       "</style>\n",
       "<table border=\"1\" class=\"dataframe\">\n",
       "  <thead>\n",
       "    <tr style=\"text-align: right;\">\n",
       "      <th></th>\n",
       "      <th>id</th>\n",
       "      <th>name</th>\n",
       "      <th>nim</th>\n",
       "      <th>semester_id</th>\n",
       "      <th>regular_schedule</th>\n",
       "    </tr>\n",
       "  </thead>\n",
       "  <tbody>\n",
       "    <tr>\n",
       "      <th>0</th>\n",
       "      <td>5</td>\n",
       "      <td>Setio Ningrum</td>\n",
       "      <td>3332210016</td>\n",
       "      <td>1</td>\n",
       "      <td>{'Friday': {'Shift1': False, 'Shift2': True, '...</td>\n",
       "    </tr>\n",
       "    <tr>\n",
       "      <th>1</th>\n",
       "      <td>6</td>\n",
       "      <td>Ruth Anandina</td>\n",
       "      <td>3332210051</td>\n",
       "      <td>1</td>\n",
       "      <td>{'Friday': {'Shift1': False, 'Shift2': True, '...</td>\n",
       "    </tr>\n",
       "    <tr>\n",
       "      <th>2</th>\n",
       "      <td>7</td>\n",
       "      <td>ADHITAMA WIRA YUDHA</td>\n",
       "      <td>3332190029</td>\n",
       "      <td>1</td>\n",
       "      <td>{'Friday': {'Shift1': True, 'Shift2': True, 'S...</td>\n",
       "    </tr>\n",
       "    <tr>\n",
       "      <th>3</th>\n",
       "      <td>8</td>\n",
       "      <td>FARHAN NUGROHO</td>\n",
       "      <td>3332190072</td>\n",
       "      <td>1</td>\n",
       "      <td>{'Friday': {'Shift1': True, 'Shift2': True, 'S...</td>\n",
       "    </tr>\n",
       "    <tr>\n",
       "      <th>4</th>\n",
       "      <td>9</td>\n",
       "      <td>BAGAS NURYANTO</td>\n",
       "      <td>3332190080</td>\n",
       "      <td>1</td>\n",
       "      <td>{'Friday': {'Shift1': False, 'Shift2': True, '...</td>\n",
       "    </tr>\n",
       "    <tr>\n",
       "      <th>...</th>\n",
       "      <td>...</td>\n",
       "      <td>...</td>\n",
       "      <td>...</td>\n",
       "      <td>...</td>\n",
       "      <td>...</td>\n",
       "    </tr>\n",
       "    <tr>\n",
       "      <th>102</th>\n",
       "      <td>55</td>\n",
       "      <td>Maulana Ali Akbar</td>\n",
       "      <td>3332210082</td>\n",
       "      <td>1</td>\n",
       "      <td>{'Friday': {'Shift1': False, 'Shift2': True, '...</td>\n",
       "    </tr>\n",
       "    <tr>\n",
       "      <th>103</th>\n",
       "      <td>65</td>\n",
       "      <td>Naga Tunggal</td>\n",
       "      <td>3332210004</td>\n",
       "      <td>1</td>\n",
       "      <td>{'Friday': {'Shift1': True, 'Shift2': False, '...</td>\n",
       "    </tr>\n",
       "    <tr>\n",
       "      <th>104</th>\n",
       "      <td>86</td>\n",
       "      <td>Randy eleanor</td>\n",
       "      <td>3332210057</td>\n",
       "      <td>1</td>\n",
       "      <td>{'Friday': {'Shift1': True, 'Shift2': True, 'S...</td>\n",
       "    </tr>\n",
       "    <tr>\n",
       "      <th>105</th>\n",
       "      <td>106</td>\n",
       "      <td>MAHESA NURUL VIKAR</td>\n",
       "      <td>3332200087</td>\n",
       "      <td>1</td>\n",
       "      <td>{'Friday': {'Shift1': False, 'Shift2': True, '...</td>\n",
       "    </tr>\n",
       "    <tr>\n",
       "      <th>106</th>\n",
       "      <td>107</td>\n",
       "      <td>MUHAMMAD SYAHDHIA RAMADHAN</td>\n",
       "      <td>3332210055</td>\n",
       "      <td>1</td>\n",
       "      <td>{'Friday': {'Shift1': False, 'Shift2': True, '...</td>\n",
       "    </tr>\n",
       "  </tbody>\n",
       "</table>\n",
       "<p>107 rows × 5 columns</p>\n",
       "</div>"
      ],
      "text/plain": [
       "      id                        name         nim  semester_id  \\\n",
       "0      5               Setio Ningrum  3332210016            1   \n",
       "1      6               Ruth Anandina  3332210051            1   \n",
       "2      7         ADHITAMA WIRA YUDHA  3332190029            1   \n",
       "3      8              FARHAN NUGROHO  3332190072            1   \n",
       "4      9              BAGAS NURYANTO  3332190080            1   \n",
       "..   ...                         ...         ...          ...   \n",
       "102   55           Maulana Ali Akbar  3332210082            1   \n",
       "103   65                Naga Tunggal  3332210004            1   \n",
       "104   86               Randy eleanor  3332210057            1   \n",
       "105  106          MAHESA NURUL VIKAR  3332200087            1   \n",
       "106  107  MUHAMMAD SYAHDHIA RAMADHAN  3332210055            1   \n",
       "\n",
       "                                      regular_schedule  \n",
       "0    {'Friday': {'Shift1': False, 'Shift2': True, '...  \n",
       "1    {'Friday': {'Shift1': False, 'Shift2': True, '...  \n",
       "2    {'Friday': {'Shift1': True, 'Shift2': True, 'S...  \n",
       "3    {'Friday': {'Shift1': True, 'Shift2': True, 'S...  \n",
       "4    {'Friday': {'Shift1': False, 'Shift2': True, '...  \n",
       "..                                                 ...  \n",
       "102  {'Friday': {'Shift1': False, 'Shift2': True, '...  \n",
       "103  {'Friday': {'Shift1': True, 'Shift2': False, '...  \n",
       "104  {'Friday': {'Shift1': True, 'Shift2': True, 'S...  \n",
       "105  {'Friday': {'Shift1': False, 'Shift2': True, '...  \n",
       "106  {'Friday': {'Shift1': False, 'Shift2': True, '...  \n",
       "\n",
       "[107 rows x 5 columns]"
      ]
     },
     "execution_count": 141,
     "metadata": {},
     "output_type": "execute_result"
    }
   ],
   "source": [
    "pd.DataFrame(participant_data.participants)"
   ]
  },
  {
   "cell_type": "code",
   "execution_count": 142,
   "id": "8732d9a5-7284-48e2-b266-f95ae172eece",
   "metadata": {},
   "outputs": [
    {
     "data": {
      "text/plain": [
       "<QuerySet [{'id': 1, 'name': 'PL-1', 'module_id': 1}, {'id': 2, 'name': 'PL-2', 'module_id': 1}, {'id': 3, 'name': 'PL-3', 'module_id': 1}, {'id': 4, 'name': 'PL-4', 'module_id': 1}, {'id': 5, 'name': 'PL-5', 'module_id': 1}, {'id': 6, 'name': 'PL-6', 'module_id': 1}, {'id': 7, 'name': 'PL-7', 'module_id': 1}, {'id': 8, 'name': 'PL-8', 'module_id': 1}, {'id': 9, 'name': 'PL-9', 'module_id': 1}, {'id': 10, 'name': 'PL-10', 'module_id': 1}, {'id': 11, 'name': 'PL-11', 'module_id': 1}, {'id': 12, 'name': 'PL-12', 'module_id': 1}, {'id': 13, 'name': 'PL-13', 'module_id': 1}, {'id': 14, 'name': 'PL-14', 'module_id': 1}, {'id': 15, 'name': 'PL-15', 'module_id': 1}, {'id': 16, 'name': 'PL-16', 'module_id': 1}, {'id': 17, 'name': 'PL-17', 'module_id': 1}, {'id': 18, 'name': 'PL-18', 'module_id': 1}, {'id': 19, 'name': 'PL-19', 'module_id': 1}, {'id': 20, 'name': 'PL-20', 'module_id': 1}, '...(remaining elements truncated)...']>"
      ]
     },
     "execution_count": 142,
     "metadata": {},
     "output_type": "execute_result"
    }
   ],
   "source": [
    "module_data.get_group(1)"
   ]
  },
  {
   "cell_type": "markdown",
   "id": "b8d68180-aa9d-43b3-89a2-891f2fbdea01",
   "metadata": {},
   "source": [
    "### Gene Representation for Scheduling Problem"
   ]
  },
  {
   "cell_type": "code",
   "execution_count": 143,
   "id": "a24521a3",
   "metadata": {},
   "outputs": [],
   "source": [
    "from collections import namedtuple\n",
    "TimeSlot = namedtuple(\"TimeSlot\", [\"date\", \"day\", \"shift\"])"
   ]
  },
  {
   "cell_type": "code",
   "execution_count": 144,
   "id": "b48cb094-3b9b-42eb-ad38-06454add934c",
   "metadata": {},
   "outputs": [],
   "source": [
    "# Gene Representation\n",
    "# 1. Laboratory\n",
    "# 2. Module\n",
    "# 3. Module chapter\n",
    "# 4. Group\n",
    "# 5. Assistant\n",
    "# 6. Time Slot : Date, Day, Time\n",
    "# 7. Availability: json, e.g. {\"Friday\": {\"Shift1\": true, \"Shift2\": true, \"Shift3\": true, \"Shift4\": true, \"Shift5\": true, \"Shift6\": false}, \"Monday\": {\"Shift1\": true, \"Shift2\": true, \"Shift3\": true, \"Shift4\": true, \"Shift5\": true, \"Shift6\": false}, \"Tuesday\": {\"Shift1\": true, \"Shift2\": true, \"Shift3\": true, \"Shift4\": true, \"Shift5\": true, \"Shift6\": false}, \"Saturday\": {\"Shift1\": true, \"Shift2\": true, \"Shift3\": true, \"Shift4\": true, \"Shift5\": false, \"Shift6\": true}, \"Thursday\": {\"Shift1\": true, \"Shift2\": true, \"Shift3\": true, \"Shift4\": true, \"Shift5\": true, \"Shift6\": true}, \"Wednesday\": {\"Shift1\": true, \"Shift2\": true, \"Shift3\": true, \"Shift4\": false, \"Shift5\": false, \"Shift6\": true}}\n",
    "\n",
    "class Gene:\n",
    "    def __init__(self, laboratory, module, module_chapter, group, assistant, time_slot: TimeSlot):\n",
    "        self.laboratory = laboratory\n",
    "        self.module = module\n",
    "        self.module_chapter = module_chapter\n",
    "        self.group = group\n",
    "        self.assistant = assistant\n",
    "        self.time_slot = time_slot\n",
    "        \n",
    "    def __repr__(self):\n",
    "        return f\"Gene(lab={self.laboratory}, module={self.module}, module_chapter={self.module_chapter}, group={self.group}, assistant={self.assistant}, time_slot={self.time_slot})\"\n",
    "    \n",
    "    def generate(self):\n",
    "        return {\n",
    "            \"lab\": self.laboratory,\n",
    "            \"module\": self.module,\n",
    "            \"module_chapter\": self.module_chapter,\n",
    "            \"group\": self.group,\n",
    "            \"assistant\": self.assistant,\n",
    "            \"time_slot\": self.time_slot\n",
    "        }\n",
    "    "
   ]
  },
  {
   "cell_type": "code",
   "execution_count": 145,
   "id": "e62b2b75",
   "metadata": {},
   "outputs": [],
   "source": [
    "# Test Gene\n",
    "gene = Gene(lab_data.laboratories[0][\"id\"], module_data.modules[0][\"id\"], chapter_data.chapters[0][\"id\"], group_data.groups[0][\"id\"],assistant_data.assistants[0][\"id\"], TimeSlot(\"2021-01-01\", \"Friday\", \"Shift1\"))\n",
    "gene2 = Gene(lab_data.laboratories[0][\"id\"], module_data.modules[0][\"id\"], chapter_data.chapters[0][\"id\"], group_data.groups[1][\"id\"], assistant_data.assistants[0][\"id\"], TimeSlot(\"2021-01-01\", \"Friday\", \"Shift2\"))\n",
    "gene3 = Gene(lab_data.laboratories[0][\"id\"], module_data.modules[0][\"id\"], chapter_data.chapters[0][\"id\"], group_data.groups[2][\"id\"], assistant_data.assistants[0][\"id\"], TimeSlot(\"2021-01-01\", \"Monday\", \"Shift1\"))"
   ]
  },
  {
   "cell_type": "code",
   "execution_count": 146,
   "id": "2565bdf4",
   "metadata": {},
   "outputs": [
    {
     "data": {
      "text/plain": [
       "False"
      ]
     },
     "execution_count": 146,
     "metadata": {},
     "output_type": "execute_result"
    }
   ],
   "source": [
    "gene.time_slot == gene3.time_slot"
   ]
  },
  {
   "cell_type": "code",
   "execution_count": 147,
   "id": "7f3bff76",
   "metadata": {},
   "outputs": [
    {
     "data": {
      "text/plain": [
       "<QuerySet [{'id': 1, 'name': 'PL-1', 'module_id': 1}, {'id': 2, 'name': 'PL-2', 'module_id': 1}, {'id': 3, 'name': 'PL-3', 'module_id': 1}, {'id': 4, 'name': 'PL-4', 'module_id': 1}, {'id': 5, 'name': 'PL-5', 'module_id': 1}, {'id': 6, 'name': 'PL-6', 'module_id': 1}, {'id': 7, 'name': 'PL-7', 'module_id': 1}, {'id': 8, 'name': 'PL-8', 'module_id': 1}, {'id': 9, 'name': 'PL-9', 'module_id': 1}, {'id': 10, 'name': 'PL-10', 'module_id': 1}, {'id': 11, 'name': 'PL-11', 'module_id': 1}, {'id': 12, 'name': 'PL-12', 'module_id': 1}, {'id': 13, 'name': 'PL-13', 'module_id': 1}, {'id': 14, 'name': 'PL-14', 'module_id': 1}, {'id': 15, 'name': 'PL-15', 'module_id': 1}, {'id': 16, 'name': 'PL-16', 'module_id': 1}, {'id': 17, 'name': 'PL-17', 'module_id': 1}, {'id': 18, 'name': 'PL-18', 'module_id': 1}, {'id': 19, 'name': 'PL-19', 'module_id': 1}, {'id': 20, 'name': 'PL-20', 'module_id': 1}, '...(remaining elements truncated)...']>"
      ]
     },
     "execution_count": 147,
     "metadata": {},
     "output_type": "execute_result"
    }
   ],
   "source": [
    "group_data.groups"
   ]
  },
  {
   "cell_type": "markdown",
   "id": "e07c5a5d",
   "metadata": {},
   "source": [
    "#### Gene-Level Constraints: Hard Constraints"
   ]
  },
  {
   "cell_type": "code",
   "execution_count": 148,
   "id": "3b846369",
   "metadata": {},
   "outputs": [],
   "source": [
    "# Constraint Class for Constraint Function\n",
    "# 1. Ensure that each chapter is assigned to the correct module.\n",
    "# 2. Ensure that each module is assigned to the correct lab.\n",
    "# 3. Ensure that each group is assigned to the correct module.\n",
    "# 4. Ensure that each assistant is assigned to the correct lab.\n",
    "\n",
    "class ConstraintChecker:\n",
    "    def __init__(self, gene, lab_data: LaboratoryData, module_data: ModuleData, group_data: GroupData, assistant_data: AssistantData, chapter_data: ChapterData):\n",
    "        self.gene = gene\n",
    "        self.lab_data = lab_data\n",
    "        self.module_data = module_data\n",
    "        self.group_data = group_data\n",
    "        self.assistant_data = assistant_data\n",
    "        self.chapter_data = chapter_data\n",
    "\n",
    "    def chapter_module_constraint(self):\n",
    "        module = self.module_data.get_module(self.gene.module)\n",
    "        chapter = self.chapter_data.get_chapter(self.gene.module_chapter)\n",
    "        return module == chapter.module\n",
    "    \n",
    "    def module_lab_constraint(self):\n",
    "        module = self.module_data.get_module(self.gene.module)\n",
    "        return module.laboratory.id == self.gene.laboratory\n",
    "    \n",
    "    def group_module_constraint(self):\n",
    "        module = self.module_data.get_module(self.gene.module)\n",
    "        group = self.group_data.get_group(self.gene.group)\n",
    "        return module == group.module\n",
    "    \n",
    "    def assistant_lab_constraint(self):\n",
    "        assistant = self.assistant_data.get_assistant(self.gene.assistant)\n",
    "        return assistant.laboratory.id == self.gene.laboratory\n",
    "    \n",
    "    def check(self):\n",
    "        return self.chapter_module_constraint() and self.module_lab_constraint() and self.group_module_constraint() and self.assistant_lab_constraint()"
   ]
  },
  {
   "cell_type": "code",
   "execution_count": 149,
   "id": "058bc234",
   "metadata": {},
   "outputs": [
    {
     "data": {
      "text/plain": [
       "1"
      ]
     },
     "execution_count": 149,
     "metadata": {},
     "output_type": "execute_result"
    }
   ],
   "source": [
    "assistant_data.get_assistant(1).laboratory.id"
   ]
  },
  {
   "cell_type": "markdown",
   "id": "20a13b51",
   "metadata": {},
   "source": [
    "### Chromosome Representation for Scheduling Problem"
   ]
  },
  {
   "cell_type": "code",
   "execution_count": 150,
   "id": "34b0d067",
   "metadata": {},
   "outputs": [],
   "source": [
    "# Chromosome.py\n",
    "# Chromosome Representation\n",
    "# 1. Gene\n",
    "\n",
    "class Chromosome:\n",
    "    def __init__(self, genes):\n",
    "        self.genes = genes\n",
    "        \n",
    "    def __repr__(self):\n",
    "        return f\"Genes: {self.genes}, Fitness: {self.fitness}\"\n",
    "    \n",
    "    def __eq__(self, other):\n",
    "        return self.genes == other.genes and self.fitness == other.fitness\n",
    "    \n",
    "    def __hash__(self):\n",
    "        return hash((self.genes, self.fitness))\n",
    "    \n",
    "    def __str__(self) -> str:\n",
    "        return f\"Genes: {self.genes}, Fitness: {self.fitness}\"\n",
    "    \n",
    "    def generate(self):\n",
    "        return Chromosome(self.genes, self.fitness)\n",
    "    "
   ]
  },
  {
   "cell_type": "code",
   "execution_count": 151,
   "id": "c65015a9",
   "metadata": {},
   "outputs": [],
   "source": [
    "# test chromosome\n",
    "chromosome = Chromosome([gene, gene2, gene3])"
   ]
  },
  {
   "cell_type": "markdown",
   "id": "92b25160",
   "metadata": {},
   "source": [
    "#### Chromosome-Level Constraints"
   ]
  },
  {
   "cell_type": "markdown",
   "id": "8f9748de",
   "metadata": {},
   "source": [
    "#### Objective Function, \n",
    "satisfying hard and soft constraints.\n",
    "1. Hard Constraints\n",
    "    - Each course must be assigned to a single room in a single time slot.\n",
    "    - Each room can only accommodate a specified course at a time.\n",
    "    - Each lecturer can only teach one course at a time.\n",
    "    - Each lecturer can only assist one group of students at a time.\n",
    "    - Each student can only take one course at a time.\n",
    "    - Each course must be assigned to a single time slot.\n",
    "    - Each course must be assigned to a single lecturer.\n",
    "    - Each course must be assigned up to a specified student group.\n",
    "    - Each course must be finished within a specified time slot.\n",
    "    - Course held for 5 days a week.\n",
    "    - No two groups can be assigned to the same lab and time slot simultaneously.\n",
    "    - Make sure each group is assigned to all the courses they need. In this case, each group must be assigned to each chapter of the course module.\n",
    "\n",
    "2. Soft Constraints\n",
    "    - Maximum units that can be held simultaneously on a module the same is 2 modules per week.\n",
    "    - The period between each unit is at least 2 days.\n",
    "    - The number of groups for each course in 1 shift is 3 groups\n",
    "\n",
    "Objective class\n",
    "1. Minimize conflict: Minimize conflicts in the schedule by ensuring that no two groups are assigned to the same lab and time slot simultaneously.\n",
    "2. Maximize Resource Utilization: Maximize the utilization of assistants by distributing tasks evenly among them. Each assistant should be assigned to a balanced number of groups and shift to avoid overloading.\n",
    "3. Maximize Participant Satisfaction: Maximize the satisfaction of participants by ensuring that each participant is assigned to a time slot that is available to them."
   ]
  },
  {
   "cell_type": "code",
   "execution_count": 152,
   "id": "23270ddc",
   "metadata": {},
   "outputs": [],
   "source": [
    "# Objective Class for Fitness Function\n",
    "# 1. Minimize Conflicts: Minimize conflicts in the schedule by ensuring that no two groups are assigned to the same lab and time slot simultaneously.\n",
    "\n",
    "class MinimizeConflicts:\n",
    "    def __init__(self, chromosome):\n",
    "        self.chromosome = chromosome\n",
    "        self.conflicts = namedtuple(\"Conflicts\", [\"time_slot\", \"lab\"])\n",
    "        self.conflicts_time_slot = set()\n",
    "        self.assigned_time_slot = set()\n",
    "        self.conflict_count = 0\n",
    "\n",
    "\n",
    "    def __repr__(self):\n",
    "        return f\"Chromosome: {self.chromosome}, Conflicts Time Slot: {self.conflicts_time_slot}, Assigned Time Slot: {self.assigned_time_slot}, Conflict Count: {self.conflict_count}\"\n",
    "    \n",
    "    def __eq__(self, other):\n",
    "        return self.chromosome == other.chromosome and self.conflicts_time_slot == other.conflicts_time_slot and self.assigned_time_slot == other.assigned_time_slot and self.conflict_count == other.conflict_count\n",
    "    \n",
    "    def calculate_conflicts(self):\n",
    "        for gene in self.chromosome.genes:\n",
    "            if (gene.laboratory, gene.time_slot) in self.assigned_time_slot:\n",
    "                self.conflicts_time_slot.add(self.conflicts(gene.time_slot, gene.laboratory))\n",
    "                self.conflict_count += 1\n",
    "            else:\n",
    "                self.assigned_time_slot.add((gene.laboratory, gene.time_slot))\n",
    "        return self.conflict_count\n",
    "\n",
    "    def calculate_fitness(self):\n",
    "        self.calculate_conflicts()\n",
    "        return self.conflict_count\n"
   ]
  },
  {
   "cell_type": "code",
   "execution_count": 153,
   "id": "5785503f",
   "metadata": {},
   "outputs": [
    {
     "data": {
      "text/plain": [
       "0"
      ]
     },
     "execution_count": 153,
     "metadata": {},
     "output_type": "execute_result"
    }
   ],
   "source": [
    "a = MinimizeConflicts(chromosome)\n",
    "a.calculate_fitness()"
   ]
  },
  {
   "cell_type": "code",
   "execution_count": 154,
   "id": "d7f9f4d6",
   "metadata": {},
   "outputs": [
    {
     "data": {
      "text/plain": [
       "2"
      ]
     },
     "execution_count": 154,
     "metadata": {},
     "output_type": "execute_result"
    }
   ],
   "source": [
    "# 2. Maximize Resource Utilization: Maximize the utilization of assistants by distributing tasks evenly among them. Each assistant should be assigned to a balanced number of groups and shift to avoid overloading.\n",
    "\n",
    "from collections import defaultdict\n",
    "from itertools import combinations\n",
    "\n",
    "class MaximizeResourceUtilization:\n",
    "    def __init__(self, chromosome:list, max_groups_per_assistant, max_shift_per_assistant):\n",
    "        self.chromosome = chromosome\n",
    "        self.max_groups_per_assistant = max_groups_per_assistant\n",
    "        self.max_shift_per_assistant = max_shift_per_assistant\n",
    "        self.assistants_assignments = defaultdict(list)\n",
    "        self.assistants_shifts = defaultdict(list)\n",
    "        self.overload_penalty = 0\n",
    "\n",
    "    def __repr__(self):\n",
    "        return f\"Chromosome: {self.chromosome}, Max Groups Per Assistant: {self.max_groups_per_assistant}, Max Shift Per Assistant: {self.max_shift_per_assistant}, Assistants Assignments: {self.assistants_assignments}, Assistants Shifts: {self.assistants_shifts}, Overload Penalty: {self.overload_penalty}\"\n",
    "    \n",
    "    def calculate_assistants_assignments(self):\n",
    "        self.assistants_assignments.clear()\n",
    "        for gene in self.chromosome.genes:\n",
    "            self.assistants_assignments[gene.assistant].append(gene.group)\n",
    "        return self.assistants_assignments\n",
    "    \n",
    "    def calculate_assistants_shifts(self):\n",
    "        self.assistants_shifts.clear()\n",
    "        for gene in self.chromosome.genes:\n",
    "            self.assistants_shifts[gene.assistant].append(gene.time_slot)\n",
    "        return self.assistants_shifts\n",
    "    \n",
    "    def calculate_overload_penalty(self):\n",
    "        self.overload_penalty = 0\n",
    "        self.calculate_assistants_assignments()\n",
    "        self.calculate_assistants_shifts()\n",
    "        for assistant , assignments in self.assistants_assignments.items():\n",
    "            assignments_penalty = max(0, len(assignments) - self.max_groups_per_assistant)\n",
    "            shift_penalty = (max(0, len(self.assistants_shifts[assistant]) - self.max_shift_per_assistant))\n",
    "            self.overload_penalty += assignments_penalty + shift_penalty\n",
    "        return self.overload_penalty\n",
    "    \n",
    "    def calculate_fitness(self):\n",
    "        self.calculate_overload_penalty()\n",
    "        return self.overload_penalty\n",
    "    \n",
    "b = MaximizeResourceUtilization(chromosome, 2, 2)\n",
    "b.calculate_fitness()\n",
    "\n",
    "        "
   ]
  },
  {
   "cell_type": "code",
   "execution_count": 155,
   "id": "61302e4e",
   "metadata": {},
   "outputs": [
    {
     "data": {
      "text/plain": [
       "{'Friday': {'Shift1': False,\n",
       "  'Shift2': True,\n",
       "  'Shift3': False,\n",
       "  'Shift4': True,\n",
       "  'Shift5': False,\n",
       "  'Shift6': True},\n",
       " 'Monday': {'Shift1': True,\n",
       "  'Shift2': True,\n",
       "  'Shift3': False,\n",
       "  'Shift4': False,\n",
       "  'Shift5': True,\n",
       "  'Shift6': False},\n",
       " 'Tuesday': {'Shift1': True,\n",
       "  'Shift2': False,\n",
       "  'Shift3': False,\n",
       "  'Shift4': False,\n",
       "  'Shift5': False,\n",
       "  'Shift6': True},\n",
       " 'Saturday': {'Shift1': False,\n",
       "  'Shift2': False,\n",
       "  'Shift3': True,\n",
       "  'Shift4': False,\n",
       "  'Shift5': True,\n",
       "  'Shift6': True},\n",
       " 'Thursday': {'Shift1': True,\n",
       "  'Shift2': False,\n",
       "  'Shift3': False,\n",
       "  'Shift4': False,\n",
       "  'Shift5': True,\n",
       "  'Shift6': False},\n",
       " 'Wednesday': {'Shift1': False,\n",
       "  'Shift2': False,\n",
       "  'Shift3': False,\n",
       "  'Shift4': True,\n",
       "  'Shift5': True,\n",
       "  'Shift6': True}}"
      ]
     },
     "execution_count": 155,
     "metadata": {},
     "output_type": "execute_result"
    }
   ],
   "source": [
    "group_data.get_group_schedule(gene.group)"
   ]
  },
  {
   "cell_type": "code",
   "execution_count": 156,
   "id": "a1f6b414",
   "metadata": {},
   "outputs": [
    {
     "data": {
      "text/plain": [
       "False"
      ]
     },
     "execution_count": 156,
     "metadata": {},
     "output_type": "execute_result"
    }
   ],
   "source": [
    "group_data.get_group_schedule(gene.group)[\"Friday\"][\"Shift1\"]"
   ]
  },
  {
   "cell_type": "code",
   "execution_count": 157,
   "id": "076b5e0a",
   "metadata": {},
   "outputs": [
    {
     "data": {
      "text/plain": [
       "2"
      ]
     },
     "execution_count": 157,
     "metadata": {},
     "output_type": "execute_result"
    }
   ],
   "source": [
    "# 3. Maximize Participant Satisfaction: Maximize the satisfaction of participants by ensuring that each participant is assigned to a time slot that is available to them.\n",
    "\n",
    "class ParticipantAvailability:\n",
    "    def __init__(self, chromosome, group_data: GroupData):\n",
    "        self.chromosome = chromosome\n",
    "        self.group_data = group_data\n",
    "        self.unsatified_participants = defaultdict(list)\n",
    "        self.unsatified_participants_count = 0\n",
    "\n",
    "    def calculate_unsatisfied_participants(self):\n",
    "        self.unsatified_participants.clear()\n",
    "        for gene in self.chromosome.genes:\n",
    "            participant_availability = group_data.get_group_schedule(gene.group)\n",
    "            if not participant_availability[gene.time_slot.day][gene.time_slot.shift]:\n",
    "                self.unsatified_participants[gene.group].append(gene.time_slot)\n",
    "                self.unsatified_participants_count += 1\n",
    "        return self.unsatified_participants_count\n",
    "    \n",
    "    def calculate_fitness(self):\n",
    "        self.calculate_unsatisfied_participants()\n",
    "        return self.unsatified_participants_count\n",
    "    \n",
    "c = ParticipantAvailability(chromosome, group_data)\n",
    "c.calculate_fitness()\n",
    "            "
   ]
  },
  {
   "cell_type": "code",
   "execution_count": 158,
   "id": "3379c950",
   "metadata": {},
   "outputs": [
    {
     "data": {
      "text/plain": [
       "defaultdict(list,\n",
       "            {1: [TimeSlot(date='2021-01-01', day='Friday', shift='Shift1')],\n",
       "             3: [TimeSlot(date='2021-01-01', day='Monday', shift='Shift1')]})"
      ]
     },
     "execution_count": 158,
     "metadata": {},
     "output_type": "execute_result"
    }
   ],
   "source": [
    "c.unsatified_participants"
   ]
  },
  {
   "cell_type": "code",
   "execution_count": 159,
   "id": "b24839ab",
   "metadata": {},
   "outputs": [],
   "source": [
    "# 4. Maximize Weekly Chapter Coverage: Maximize the number of chapters covered in a week by ensuring that each chapter is assigned to a time slot that is available to them."
   ]
  },
  {
   "cell_type": "code",
   "execution_count": 160,
   "id": "3b0beb5f",
   "metadata": {},
   "outputs": [
    {
     "data": {
      "text/plain": [
       "<QuerySet [{'id': 1, 'name': 'U-1', 'module_id': 1}, {'id': 2, 'name': 'U-2', 'module_id': 1}, {'id': 3, 'name': 'U-3', 'module_id': 1}, {'id': 4, 'name': 'U-4', 'module_id': 1}, {'id': 5, 'name': 'U-5', 'module_id': 1}, {'id': 6, 'name': 'U-6', 'module_id': 1}, {'id': 7, 'name': 'U-7', 'module_id': 1}, {'id': 8, 'name': 'U-8', 'module_id': 1}]>"
      ]
     },
     "execution_count": 160,
     "metadata": {},
     "output_type": "execute_result"
    }
   ],
   "source": [
    "module_data.get_module_chapter(gene.module_chapter)"
   ]
  },
  {
   "cell_type": "code",
   "execution_count": 161,
   "id": "49a5e2b2",
   "metadata": {},
   "outputs": [
    {
     "data": {
      "text/plain": [
       "[Gene(lab=1, module=1, module_chapter=1, group=1, assistant=1, time_slot=TimeSlot(date='2021-01-01', day='Friday', shift='Shift1')),\n",
       " Gene(lab=1, module=1, module_chapter=1, group=2, assistant=1, time_slot=TimeSlot(date='2021-01-01', day='Friday', shift='Shift2')),\n",
       " Gene(lab=1, module=1, module_chapter=1, group=3, assistant=1, time_slot=TimeSlot(date='2021-01-01', day='Monday', shift='Shift1'))]"
      ]
     },
     "execution_count": 161,
     "metadata": {},
     "output_type": "execute_result"
    }
   ],
   "source": [
    "chromosome.genes"
   ]
  },
  {
   "cell_type": "code",
   "execution_count": null,
   "id": "43b308f3",
   "metadata": {},
   "outputs": [],
   "source": []
  },
  {
   "cell_type": "markdown",
   "id": "6fe07df3",
   "metadata": {},
   "source": [
    "#### Constants: \n",
    "1. Number of days in a week\n",
    "2. Number of time slots in a day"
   ]
  },
  {
   "cell_type": "code",
   "execution_count": 162,
   "id": "4e4356ec",
   "metadata": {},
   "outputs": [],
   "source": [
    "# Constant.py\n",
    "class Constant:\n",
    "    days = [\"Monday\", \"Tuesday\", \"Wednesday\", \"Thursday\", \"Friday\", \"Saturday\"]\n",
    "    shifts = [\"Shift1\", \"Shift2\", \"Shift3\", \"Shift4\", \"Shift5\", \"Shift6\"]"
   ]
  },
  {
   "cell_type": "markdown",
   "id": "096108f6",
   "metadata": {},
   "source": [
    "### Population Initialization"
   ]
  },
  {
   "cell_type": "code",
   "execution_count": 163,
   "id": "844f673f",
   "metadata": {},
   "outputs": [],
   "source": [
    "# Population Representation\n",
    "# 1. Chromosome\n",
    "# 2. Population Size\n",
    "# 3. Mutation Rate\n",
    "# 4. Crossover Rate\n",
    "# 5. Selection Strategy\n",
    "# 6. Fitness Function\n",
    "\n",
    "from random import random, randint, choice\n",
    "from copy import deepcopy\n",
    "from math import ceil\n",
    "import numpy as np\n",
    "\n",
    "class Population:\n",
    "    def __init__(self, chromosomes, fitness_function):\n",
    "        self.chromosomes = chromosomes\n",
    "        self.fitnesess = [fitness_function(chromosome) for chromosome in self.chromosomes]\n",
    "\n",
    "    def __repr__(self):\n",
    "        return f\"Chromosomes: {self.chromosomes}\"\n",
    "    \n",
    "    def __eq__(self, other):\n",
    "        return self.chromosomes == other.chromosomes\n",
    "    \n",
    "    def __hash__(self):\n",
    "        return hash(self.chromosomes)\n",
    "    "
   ]
  },
  {
   "cell_type": "markdown",
   "id": "af258692",
   "metadata": {},
   "source": [
    "### Algorithm"
   ]
  },
  {
   "cell_type": "markdown",
   "id": "59b3ada4",
   "metadata": {},
   "source": [
    "##### Strategy"
   ]
  },
  {
   "cell_type": "markdown",
   "id": "5115376b",
   "metadata": {},
   "source": [
    "Selection Strategy\n",
    "1. Roulette Wheel Selection\n",
    "2. Tournament Selection\n",
    "3. Rank Selection"
   ]
  },
  {
   "cell_type": "code",
   "execution_count": 164,
   "id": "7d609e9d",
   "metadata": {},
   "outputs": [],
   "source": [
    "class SelectionStrategy:\n",
    "    @staticmethod\n",
    "    def roulette_wheel(population, fitness_function):\n",
    "        fitnesses = [fitness_function(chromosome) for chromosome in population.chromosomes]\n",
    "        total_fitness = sum(fitnesses)\n",
    "        probabilities = [fitness / total_fitness for fitness in fitnesses]\n",
    "        return np.random.choice(population.chromosomes, p=probabilities)\n",
    "    \n",
    "    @staticmethod\n",
    "    def tournament(population, fitness_function, **kwargs):\n",
    "        tournament_size = kwargs.get(\"tournament_size\", 2)\n",
    "        tournament_candidates = np.random.choice(population.chromosomes, tournament_size)\n",
    "        return max(tournament_candidates, key=fitness_function)\n",
    "    \n",
    "    def random(self, population):\n",
    "        return choice(population.chromosomes)\n",
    "    \n",
    "    @staticmethod\n",
    "    def elitism(population, fitness_value, **kwargs):\n",
    "        elitism_size = kwargs.get(\"elitism_size\", 1)\n",
    "        return Population(population.chromosomes[:elitism_size], fitness_value)\n",
    "    \n",
    "    @staticmethod\n",
    "    def select(population, fitness_function, selection_size, selection_strategy):\n",
    "        return Population([selection_strategy(population, fitness_function) for _ in range(selection_size)])\n"
   ]
  },
  {
   "cell_type": "markdown",
   "id": "2861a34a",
   "metadata": {},
   "source": [
    "##### Operators"
   ]
  },
  {
   "cell_type": "code",
   "execution_count": null,
   "id": "830e44a3",
   "metadata": {},
   "outputs": [],
   "source": []
  },
  {
   "cell_type": "code",
   "execution_count": null,
   "id": "8ca7a347",
   "metadata": {},
   "outputs": [],
   "source": []
  },
  {
   "cell_type": "code",
   "execution_count": 165,
   "id": "8b39cce7",
   "metadata": {},
   "outputs": [],
   "source": [
    "\n",
    "from datetime import datetime, timedelta"
   ]
  },
  {
   "cell_type": "code",
   "execution_count": 166,
   "id": "e2a1c857",
   "metadata": {},
   "outputs": [
    {
     "data": {
      "text/plain": [
       "288"
      ]
     },
     "execution_count": 166,
     "metadata": {},
     "output_type": "execute_result"
    }
   ],
   "source": [
    "group_count = group_data.groups.count()\n",
    "chapter_count = chapter_data.chapters.count()\n",
    "group_count * chapter_count"
   ]
  },
  {
   "cell_type": "code",
   "execution_count": 167,
   "id": "7cb7fc45",
   "metadata": {},
   "outputs": [],
   "source": [
    "# Population Generator: Generate Gene, Generate Chromosome, Generate Population\n",
    "# 1. Generate Gene\n",
    "# 2. Generate Chromosome\n",
    "# 3. Generate Population\n",
    "\n",
    "class PopulationGenerator:\n",
    "    def __init__(self, lab_data: LaboratoryData, module_data: ModuleData, participant_data: ParticipantData, group_data: GroupData, assistant_data: AssistantData, chapter_data: ChapterData):\n",
    "        self.lab_data = lab_data\n",
    "        self.module_data = module_data\n",
    "        self.participant_data = participant_data\n",
    "        self.group_data = group_data\n",
    "        self.assistant_data = assistant_data\n",
    "        self.chapter_data = chapter_data\n",
    "        \n",
    "    def generate_gene(self):\n",
    "        while True:\n",
    "            # Generate gene\n",
    "            laboratory = choice(self.lab_data.laboratories)[\"id\"]\n",
    "            module = choice(self.lab_data.get_module(laboratory))[\"id\"]\n",
    "            module_chapter = choice(self.module_data.get_module_chapter(module))[\"id\"]\n",
    "            group = choice(self.module_data.get_group(module))[\"id\"]\n",
    "            assistant = choice(self.lab_data.get_assistant(laboratory))[\"id\"]\n",
    "\n",
    "            # Generate time slot\n",
    "            module_start_date = self.module_data.get_module(module).start_date\n",
    "            module_end_date = self.module_data.get_module(module).end_date\n",
    "            module_duration = (module_end_date - module_start_date).days + 1\n",
    "            module_weeks = ceil(module_duration / 7)\n",
    "            \n",
    "            week = randint(0, module_weeks-1)\n",
    "            day = choice(Constant.days)\n",
    "            shift = choice(Constant.shifts)\n",
    "            date = module_start_date + timedelta(days=week*7 + Constant.days.index(day))\n",
    "            time_slot = TimeSlot(date, day, shift)\n",
    "            gene = Gene(laboratory, module, module_chapter, group, assistant, time_slot)\n",
    "            constraint_checker = ConstraintChecker(gene, self.lab_data, self.module_data, self.group_data, self.assistant_data, self.chapter_data)\n",
    "            if constraint_checker.check():\n",
    "                return gene\n",
    "    \n",
    "    def generate_chromosome(self, **kwargs):\n",
    "        chromosome_size = kwargs.get(\"chromosome_size\", self.calculate_chromosome_size())\n",
    "        genes = []\n",
    "        for _ in range(chromosome_size):\n",
    "            genes.append(self.generate_gene())\n",
    "        return Chromosome(genes)\n",
    "    \n",
    "    def calculate_chromosome_size(self):\n",
    "        chromosome_size = 0\n",
    "        for module in self.module_data.modules:\n",
    "            module_chapter_count = self.module_data.get_module_chapter(module[\"id\"]).count()\n",
    "            group_count = self.module_data.get_group(module[\"id\"]).count()\n",
    "            chromosome_size += module_chapter_count * group_count\n",
    "        return chromosome_size\n",
    "        \n",
    "    def generate_population(self, population_size = 10, fitness_function = None):\n",
    "        chromosomes = []\n",
    "        for _ in range(population_size):\n",
    "            chromosomes.append(self.generate_chromosome())\n",
    "        return Population(chromosomes, fitness_function)"
   ]
  },
  {
   "cell_type": "code",
   "execution_count": 168,
   "id": "e7fe2333",
   "metadata": {},
   "outputs": [],
   "source": [
    "# GeneticOperators.py\n",
    "\n",
    "from datetime import timedelta\n",
    "\n",
    "class GeneticOperators:\n",
    "    @staticmethod\n",
    "    def generate_genes():\n",
    "        while True:\n",
    "            # Generate gene\n",
    "            laboratory = choice(lab_data.laboratories)[\"id\"]\n",
    "            module = choice(lab_data.get_module(laboratory))[\"id\"]\n",
    "            module_chapter = choice(module_data.get_module_chapter(module))[\"id\"]\n",
    "            group = choice(module_data.get_group(module))[\"id\"]\n",
    "            assistant = choice(lab_data.get_assistant(laboratory))[\"id\"]\n",
    "\n",
    "            # Generate time slot\n",
    "            time_slot = GeneticOperators.generate_timeslot(module)\n",
    "            gene = Gene(laboratory, module, module_chapter, group, assistant, time_slot)\n",
    "            constraint_checker = ConstraintChecker(gene, lab_data, module_data, group_data, assistant_data, chapter_data)\n",
    "            if constraint_checker.check():\n",
    "                return gene\n",
    "            \n",
    "    def generate_timeslot(module_id):\n",
    "        while True:\n",
    "            # Generate time slot\n",
    "            module_start_date = module_data.get_module(module_id).start_date\n",
    "            module_end_date = module_data.get_module(module_id).end_date\n",
    "            module_duration = (module_end_date - module_start_date).days + 1\n",
    "            module_weeks = ceil(module_duration / 7)\n",
    "            \n",
    "            week = randint(0, module_weeks-1)\n",
    "            day = choice(Constant.days)\n",
    "            shift = choice(Constant.shifts)\n",
    "            date = module_start_date + timedelta(days=week*7 + Constant.days.index(day))\n",
    "            time_slot = TimeSlot(date, day, shift)\n",
    "            return time_slot\n",
    "\n",
    "    @staticmethod\n",
    "    def crossover(parent1, parent2, num_crossover_points, crossover_probability):\n",
    "        if random() > crossover_probability:\n",
    "            return parent1, parent2\n",
    "        crossover_points = sorted([randint(0, len(parent1.genes)) for _ in range(num_crossover_points)])\n",
    "        parent1_genes = deepcopy(parent1.genes)\n",
    "        parent2_genes = deepcopy(parent2.genes)\n",
    "        for i in range(0, len(crossover_points), 2):\n",
    "            start = crossover_points[i]\n",
    "            end = crossover_points[i+1] if i+1 < len(crossover_points) else len(parent1.genes)\n",
    "            for j in range(start, end):\n",
    "                parent1_genes[j], parent2_genes[j] = parent2_genes[j], parent1_genes[j]\n",
    "        return Chromosome(parent1_genes, 0), Chromosome(parent2_genes, 0)\n",
    "    \n",
    "    @staticmethod\n",
    "    def mutate(parent, mutation_size, mutation_probability):\n",
    "        if random() > mutation_probability:\n",
    "            return parent\n",
    "        mutated_genes = deepcopy(parent.genes)\n",
    "        for _ in range(mutation_size):\n",
    "            mutated_genes[randint(0, len(mutated_genes)-1)] = GeneticOperators.generate_genes()\n",
    "        return Chromosome(mutated_genes, 0)\n",
    "    \n",
    "    @staticmethod\n",
    "    def select(population, fitness_function, selection_size, selection_strategy):\n",
    "        return selection_strategy.select(population, selection_size, fitness_function)\n",
    "    \n",
    "    @staticmethod\n",
    "    def repair(chromosome, fitness_function):\n",
    "        for gene in chromosome.genes:\n",
    "            if not group_data.get_group_schedule(gene.group)[gene.time_slot.day][gene.time_slot.shift]:\n",
    "                gene.time_slot = GeneticOperators.generate_timeslot(gene.module)\n",
    "        chromosome.fitness = fitness_function(chromosome)\n",
    "        return chromosome\n",
    "    \n",
    "    @staticmethod\n",
    "    def fitness_function(chromosome):\n",
    "        chromosome.fitness = MinimizeConflicts(chromosome).calculate_fitness() + MaximizeResourceUtilization(chromosome, 8, 16).calculate_fitness() + ParticipantAvailability(chromosome, group_data).calculate_fitness()\n",
    "        return chromosome.fitness\n"
   ]
  },
  {
   "cell_type": "code",
   "execution_count": 169,
   "id": "e3d83eae",
   "metadata": {},
   "outputs": [],
   "source": [
    "# GeneticAlgorithm.py\n",
    "class GeneticAlgorithm:\n",
    "    def __init__(self, population_generator: PopulationGenerator, fitness_function, selection_strategy: SelectionStrategy, crossover_probability, mutation_probability, num_crossover_points, mutation_size, elitism_size):\n",
    "        self.population_generator = population_generator\n",
    "        self.fitness_function = fitness_function\n",
    "        self.selection_strategy = selection_strategy\n",
    "        self.crossover_probability = crossover_probability\n",
    "        self.mutation_probability = mutation_probability\n",
    "        self.num_crossover_points = num_crossover_points\n",
    "        self.mutation_size = mutation_size\n",
    "        self.elitism_size = elitism_size\n",
    "\n",
    "    def __repr__(self):\n",
    "        return f\"Population Generator: {self.population_generator}, Fitness Function: {self.fitness_function}, Selection Strategy: {self.selection_strategy}, Crossover Probability: {self.crossover_probability}, Mutation Probability: {self.mutation_probability}, Number of Crossover Points: {self.num_crossover_points}, Mutation Size: {self.mutation_size}, Elitism Size: {self.elitism_size}\"\n",
    "    \n",
    "    def __eq__(self, other):\n",
    "        return self.population_generator == other.population_generator and self.fitness_function == other.fitness_function and self.selection_strategy == other.selection_strategy and self.crossover_probability == other.crossover_probability and self.mutation_probability == other.mutation_probability and self.num_crossover_points == other.num_crossover_points and self.mutation_size == other.mutation_size and self.elitism_size == other.elitism_size\n",
    "    \n",
    "    def __hash__(self):\n",
    "        return hash((self.population_generator, self.fitness_function, self.selection_strategy, self.crossover_probability, self.mutation_probability, self.num_crossover_points, self.mutation_size, self.elitism_size))\n",
    "    \n",
    "    def __str__(self) -> str:\n",
    "        return f\"Population Generator: {self.population_generator}, Fitness Function: {self.fitness_function}, Selection Strategy: {self.selection_strategy}, Crossover Probability: {self.crossover_probability}, Mutation Probability: {self.mutation_probability}, Number of Crossover Points: {self.num_crossover_points}, Mutation Size: {self.mutation_size}, Elitism Size: {self.elitism_size}\"\n",
    "    \n",
    "    def evolve(self, population):\n",
    "        new_population = Population([], self.fitness_function)\n",
    "        elitism = SelectionStrategy.elitism(population, self.elitism_size)\n",
    "        new_population.chromosomes.extend(elitism.chromosomes)\n",
    "        while len(new_population.chromosomes) < len(population.chromosomes):\n",
    "            parent1 = SelectionStrategy.select(population, self.fitness_function, 1, self.selection_strategy).chromosomes[0]\n",
    "            parent2 = SelectionStrategy.select(population, self.fitness_function, 1, self.selection_strategy).chromosomes[0]\n",
    "            child1, child2 = GeneticOperators.crossover(parent1, parent2, self.num_crossover_points, self.crossover_probability)\n",
    "            child1 = GeneticOperators.mutate(child1, self.mutation_size, self.mutation_probability)\n",
    "            child2 = GeneticOperators.mutate(child2, self.mutation_size, self.mutation_probability)\n",
    "            child1 = GeneticOperators.repair(child1, self.fitness_function)\n",
    "            child2 = GeneticOperators.repair(child2, self.fitness_function)\n",
    "            new_population.chromosomes.extend([child1, child2])\n",
    "        return new_population\n",
    "\n",
    "    def run(self, max_generations, population_size, verbose=False):\n",
    "        population = self.population_generator.generate_population(population_size, self.fitness_function)\n",
    "        for generation in range(max_generations):\n",
    "            population = self.evolve(population)\n",
    "            if verbose:\n",
    "                print(f\"Generation {generation}: {population.chromosomes[0].fitness}\")\n",
    "        return population"
   ]
  },
  {
   "cell_type": "code",
   "execution_count": 170,
   "id": "7e81db46",
   "metadata": {},
   "outputs": [],
   "source": [
    "#GeneticAlgorithmBuilder.py\n",
    "class GeneticAlgorithmBuilder:\n",
    "    def __init__(self):\n",
    "        self.parameters = {\n",
    "            \"population_size\": 10,\n",
    "            \"mutation_rate\": 0.1,\n",
    "            \"crossover_rate\": 0.8,\n",
    "            \"num_crossover_points\": 2,\n",
    "            \"mutation_size\": 1,\n",
    "            \"selection_size\": 2,\n",
    "            \"elitism_size\": 1,\n",
    "            \"max_generations\": 10,\n",
    "            \"max_groups_per_assistant\": 2,\n",
    "            \"max_shift_per_assistant\": 2,\n",
    "            \"tournament_size\": 2,\n",
    "            \"selection_strategy\": SelectionStrategy().roulette_wheel,\n",
    "            \"fitness_function\": GeneticAlgorithmBuilder.fitness_function\n",
    "        }\n",
    "\n",
    "    def set_population_size(self, population_size):\n",
    "        self.parameters[\"population_size\"] = population_size\n",
    "        return self\n",
    "    \n",
    "    def set_mutation_rate(self, mutation_rate):\n",
    "        self.parameters[\"mutation_rate\"] = mutation_rate\n",
    "        return self\n",
    "    \n",
    "    def set_crossover_rate(self, crossover_rate):\n",
    "        self.parameters[\"crossover_rate\"] = crossover_rate\n",
    "        return self\n",
    "    \n",
    "    def set_num_crossover_points(self, num_crossover_points):\n",
    "        self.parameters[\"num_crossover_points\"] = num_crossover_points\n",
    "        return self\n",
    "    \n",
    "    def set_mutation_size(self, mutation_size):\n",
    "        self.parameters[\"mutation_size\"] = mutation_size\n",
    "        return self\n",
    "    \n",
    "    def set_selection_size(self, selection_size):\n",
    "        self.parameters[\"selection_size\"] = selection_size\n",
    "        return self\n",
    "    \n",
    "    def set_elitism_size(self, elitism_size):\n",
    "        self.parameters[\"elitism_size\"] = elitism_size\n",
    "        return self\n",
    "    \n",
    "    def set_max_generations(self, max_generations):\n",
    "        self.parameters[\"max_generations\"] = max_generations\n",
    "        return self\n",
    "    \n",
    "    def set_max_groups_per_assistant(self, max_groups_per_assistant):\n",
    "        self.parameters[\"max_groups_per_assistant\"] = max_groups_per_assistant\n",
    "        return self\n",
    "    \n",
    "    def set_max_shift_per_assistant(self, max_shift_per_assistant):\n",
    "        self.parameters[\"max_shift_per_assistant\"] = max_shift_per_assistant\n",
    "        return self\n",
    "    \n",
    "    def set_tournament_size(self, tournament_size):\n",
    "        self.parameters[\"tournament_size\"] = tournament_size\n",
    "        return self\n",
    "    \n",
    "    def set_selection_strategy(self, selection_strategy):\n",
    "        self.parameters[\"selection_strategy\"] = selection_strategy\n",
    "        return self\n",
    "    \n",
    "    def set_fitness_function(self, fitness_function):\n",
    "        self.parameters[\"fitness_function\"] = fitness_function\n",
    "        return self\n",
    "    \n",
    "    def build(self):\n",
    "        return GeneticAlgorithm(**self.parameters)"
   ]
  },
  {
   "cell_type": "code",
   "execution_count": 171,
   "id": "e07c5f72",
   "metadata": {},
   "outputs": [],
   "source": [
    "#Test\n",
    "population_generator = PopulationGenerator(lab_data, module_data, participant_data, group_data, assistant_data, chapter_data)\n",
    "fitness_function = GeneticOperators.fitness_function\n",
    "selection_strategy = SelectionStrategy.tournament\n",
    "crossover_probability = 0.8\n",
    "mutation_probability = 0.5\n",
    "num_crossover_points = 5\n",
    "mutation_size = 2\n",
    "elitism_size = 1\n",
    "max_generations = 10\n",
    "max_groups_per_assistant = 6\n",
    "max_shift_per_assistant = 16\n",
    "tournament_size = 2\n",
    "genetic_algorithm = GeneticAlgorithm(population_generator, fitness_function, selection_strategy, crossover_probability, mutation_probability, num_crossover_points, mutation_size, elitism_size)"
   ]
  },
  {
   "cell_type": "code",
   "execution_count": 172,
   "id": "9846f0ee",
   "metadata": {},
   "outputs": [
    {
     "ename": "TypeError",
     "evalue": "Population.__init__() missing 1 required positional argument: 'fitness_function'",
     "output_type": "error",
     "traceback": [
      "\u001b[1;31m---------------------------------------------------------------------------\u001b[0m",
      "\u001b[1;31mTypeError\u001b[0m                                 Traceback (most recent call last)",
      "\u001b[1;32md:\\Projects\\Kuliah\\skripsi\\jte-lab-timetabling\\LabTimetablingAPI\\Sistem panjadwalan.ipynb Cell 57\u001b[0m line \u001b[0;36m1\n\u001b[1;32m----> <a href='vscode-notebook-cell:/d%3A/Projects/Kuliah/skripsi/jte-lab-timetabling/LabTimetablingAPI/Sistem%20panjadwalan.ipynb#Y110sZmlsZQ%3D%3D?line=0'>1</a>\u001b[0m test \u001b[39m=\u001b[39m genetic_algorithm\u001b[39m.\u001b[39;49mrun(max_generations, \u001b[39m3\u001b[39;49m, verbose\u001b[39m=\u001b[39;49m\u001b[39mTrue\u001b[39;49;00m)\n",
      "\u001b[1;32md:\\Projects\\Kuliah\\skripsi\\jte-lab-timetabling\\LabTimetablingAPI\\Sistem panjadwalan.ipynb Cell 57\u001b[0m line \u001b[0;36m4\n\u001b[0;32m     <a href='vscode-notebook-cell:/d%3A/Projects/Kuliah/skripsi/jte-lab-timetabling/LabTimetablingAPI/Sistem%20panjadwalan.ipynb#Y110sZmlsZQ%3D%3D?line=40'>41</a>\u001b[0m population \u001b[39m=\u001b[39m \u001b[39mself\u001b[39m\u001b[39m.\u001b[39mpopulation_generator\u001b[39m.\u001b[39mgenerate_population(population_size, \u001b[39mself\u001b[39m\u001b[39m.\u001b[39mfitness_function)\n\u001b[0;32m     <a href='vscode-notebook-cell:/d%3A/Projects/Kuliah/skripsi/jte-lab-timetabling/LabTimetablingAPI/Sistem%20panjadwalan.ipynb#Y110sZmlsZQ%3D%3D?line=41'>42</a>\u001b[0m \u001b[39mfor\u001b[39;00m generation \u001b[39min\u001b[39;00m \u001b[39mrange\u001b[39m(max_generations):\n\u001b[1;32m---> <a href='vscode-notebook-cell:/d%3A/Projects/Kuliah/skripsi/jte-lab-timetabling/LabTimetablingAPI/Sistem%20panjadwalan.ipynb#Y110sZmlsZQ%3D%3D?line=42'>43</a>\u001b[0m     population \u001b[39m=\u001b[39m \u001b[39mself\u001b[39;49m\u001b[39m.\u001b[39;49mevolve(population)\n\u001b[0;32m     <a href='vscode-notebook-cell:/d%3A/Projects/Kuliah/skripsi/jte-lab-timetabling/LabTimetablingAPI/Sistem%20panjadwalan.ipynb#Y110sZmlsZQ%3D%3D?line=43'>44</a>\u001b[0m     \u001b[39mif\u001b[39;00m verbose:\n\u001b[0;32m     <a href='vscode-notebook-cell:/d%3A/Projects/Kuliah/skripsi/jte-lab-timetabling/LabTimetablingAPI/Sistem%20panjadwalan.ipynb#Y110sZmlsZQ%3D%3D?line=44'>45</a>\u001b[0m         \u001b[39mprint\u001b[39m(\u001b[39mf\u001b[39m\u001b[39m\"\u001b[39m\u001b[39mGeneration \u001b[39m\u001b[39m{\u001b[39;00mgeneration\u001b[39m}\u001b[39;00m\u001b[39m: \u001b[39m\u001b[39m{\u001b[39;00mpopulation\u001b[39m.\u001b[39mchromosomes[\u001b[39m0\u001b[39m]\u001b[39m.\u001b[39mfitness\u001b[39m}\u001b[39;00m\u001b[39m\"\u001b[39m)\n",
      "\u001b[1;32md:\\Projects\\Kuliah\\skripsi\\jte-lab-timetabling\\LabTimetablingAPI\\Sistem panjadwalan.ipynb Cell 57\u001b[0m line \u001b[0;36m2\n\u001b[0;32m     <a href='vscode-notebook-cell:/d%3A/Projects/Kuliah/skripsi/jte-lab-timetabling/LabTimetablingAPI/Sistem%20panjadwalan.ipynb#Y110sZmlsZQ%3D%3D?line=24'>25</a>\u001b[0m \u001b[39mdef\u001b[39;00m \u001b[39mevolve\u001b[39m(\u001b[39mself\u001b[39m, population):\n\u001b[0;32m     <a href='vscode-notebook-cell:/d%3A/Projects/Kuliah/skripsi/jte-lab-timetabling/LabTimetablingAPI/Sistem%20panjadwalan.ipynb#Y110sZmlsZQ%3D%3D?line=25'>26</a>\u001b[0m     new_population \u001b[39m=\u001b[39m Population([], \u001b[39mself\u001b[39m\u001b[39m.\u001b[39mfitness_function)\n\u001b[1;32m---> <a href='vscode-notebook-cell:/d%3A/Projects/Kuliah/skripsi/jte-lab-timetabling/LabTimetablingAPI/Sistem%20panjadwalan.ipynb#Y110sZmlsZQ%3D%3D?line=26'>27</a>\u001b[0m     elitism \u001b[39m=\u001b[39m SelectionStrategy\u001b[39m.\u001b[39;49melitism(population, \u001b[39mself\u001b[39;49m\u001b[39m.\u001b[39;49melitism_size)\n\u001b[0;32m     <a href='vscode-notebook-cell:/d%3A/Projects/Kuliah/skripsi/jte-lab-timetabling/LabTimetablingAPI/Sistem%20panjadwalan.ipynb#Y110sZmlsZQ%3D%3D?line=27'>28</a>\u001b[0m     new_population\u001b[39m.\u001b[39mchromosomes\u001b[39m.\u001b[39mextend(elitism\u001b[39m.\u001b[39mchromosomes)\n\u001b[0;32m     <a href='vscode-notebook-cell:/d%3A/Projects/Kuliah/skripsi/jte-lab-timetabling/LabTimetablingAPI/Sistem%20panjadwalan.ipynb#Y110sZmlsZQ%3D%3D?line=28'>29</a>\u001b[0m     \u001b[39mwhile\u001b[39;00m \u001b[39mlen\u001b[39m(new_population\u001b[39m.\u001b[39mchromosomes) \u001b[39m<\u001b[39m \u001b[39mlen\u001b[39m(population\u001b[39m.\u001b[39mchromosomes):\n",
      "\u001b[1;32md:\\Projects\\Kuliah\\skripsi\\jte-lab-timetabling\\LabTimetablingAPI\\Sistem panjadwalan.ipynb Cell 57\u001b[0m line \u001b[0;36m2\n\u001b[0;32m     <a href='vscode-notebook-cell:/d%3A/Projects/Kuliah/skripsi/jte-lab-timetabling/LabTimetablingAPI/Sistem%20panjadwalan.ipynb#Y110sZmlsZQ%3D%3D?line=17'>18</a>\u001b[0m \u001b[39m@staticmethod\u001b[39m\n\u001b[0;32m     <a href='vscode-notebook-cell:/d%3A/Projects/Kuliah/skripsi/jte-lab-timetabling/LabTimetablingAPI/Sistem%20panjadwalan.ipynb#Y110sZmlsZQ%3D%3D?line=18'>19</a>\u001b[0m \u001b[39mdef\u001b[39;00m \u001b[39melitism\u001b[39m(population, elitism_size):\n\u001b[1;32m---> <a href='vscode-notebook-cell:/d%3A/Projects/Kuliah/skripsi/jte-lab-timetabling/LabTimetablingAPI/Sistem%20panjadwalan.ipynb#Y110sZmlsZQ%3D%3D?line=19'>20</a>\u001b[0m     \u001b[39mreturn\u001b[39;00m Population(\u001b[39msorted\u001b[39;49m(population\u001b[39m.\u001b[39;49mchromosomes, key\u001b[39m=\u001b[39;49m\u001b[39mlambda\u001b[39;49;00m chromosome: chromosome\u001b[39m.\u001b[39;49mfitness, reverse\u001b[39m=\u001b[39;49m\u001b[39mTrue\u001b[39;49;00m)[:elitism_size])\n",
      "\u001b[1;31mTypeError\u001b[0m: Population.__init__() missing 1 required positional argument: 'fitness_function'"
     ]
    }
   ],
   "source": [
    "test = genetic_algorithm.run(max_generations, 3, verbose=True)"
   ]
  },
  {
   "cell_type": "code",
   "execution_count": 148,
   "id": "7dea92d6",
   "metadata": {},
   "outputs": [
    {
     "data": {
      "text/plain": [
       "827"
      ]
     },
     "execution_count": 148,
     "metadata": {},
     "output_type": "execute_result"
    }
   ],
   "source": [
    "GeneticOperators.fitness_function(test.chromosomes[0])\n"
   ]
  }
 ],
 "metadata": {
  "kernelspec": {
   "display_name": "Python 3",
   "language": "python",
   "name": "python3"
  },
  "language_info": {
   "codemirror_mode": {
    "name": "ipython",
    "version": 3
   },
   "file_extension": ".py",
   "mimetype": "text/x-python",
   "name": "python",
   "nbconvert_exporter": "python",
   "pygments_lexer": "ipython3",
   "version": "3.10.12"
  }
 },
 "nbformat": 4,
 "nbformat_minor": 5
}
