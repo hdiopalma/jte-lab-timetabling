{
 "cells": [
  {
   "cell_type": "markdown",
   "metadata": {},
   "source": [
    "# Sistem Penjadwalan Praktikum Otomatis menggunakan Algoritma Genetika dan Tabu Search."
   ]
  },
  {
   "cell_type": "markdown",
   "metadata": {},
   "source": [
    "#### Import Library"
   ]
  },
  {
   "cell_type": "code",
   "execution_count": 5,
   "metadata": {},
   "outputs": [],
   "source": [
    "from collections import namedtuple"
   ]
  },
  {
   "cell_type": "markdown",
   "metadata": {},
   "source": [
    "## Inisiasi Data"
   ]
  },
  {
   "cell_type": "code",
   "execution_count": 6,
   "metadata": {},
   "outputs": [],
   "source": [
    "# Namedtuple for Semester model\n",
    "SemesterTuple = namedtuple('SemesterTuple', ['id', 'name'])\n",
    "# Namedtuple for Laboratory model\n",
    "LaboratoryTuple = namedtuple('LaboratoryTuple', ['id', 'name'])\n",
    "# Namedtuple for Module model\n",
    "ModuleTuple = namedtuple('ModuleTuple', ['id', 'name', 'start_date', 'end_date', 'laboratory_id', 'semester_id'])\n",
    "# Namedtuple for Chapter model\n",
    "ChapterTuple = namedtuple('ChapterTuple', ['id', 'name', 'module_id'])\n",
    "# Namedtuple for Group model\n",
    "GroupTuple = namedtuple('GroupTuple', ['id', 'name', 'module_id'])\n",
    "# Namedtuple for Participant model\n",
    "ParticipantTuple = namedtuple('ParticipantTuple', ['id', 'name', 'nim', 'semester_id', 'regular_schedule'])\n",
    "# Namedtuple for Assistant model\n",
    "AssistantTuple = namedtuple('AssistantTuple', ['id', 'name', 'nim', 'laboratory_id', 'semester_id', 'regular_schedule', 'prefered_schedule'])\n",
    "# Namedtuple for GroupMembership model\n",
    "GroupMembershipTuple = namedtuple('GroupMembershipTuple', ['id', 'participant_id', 'group_id'])\n",
    "# Namedtuple for AssistantMembership model\n",
    "AssistantMembershipTuple = namedtuple('AssistantMembershipTuple', ['id', 'assistant_id', 'module_id'])"
   ]
  },
  {
   "cell_type": "code",
   "execution_count": 7,
   "metadata": {},
   "outputs": [],
   "source": [
    "# Fillin the data\n",
    "semesters = [SemesterTuple(1, 'Ganjil 22/23'), SemesterTuple(2, 'Genap 22/23')]\n",
    "laboratories = [\n",
    "    LaboratoryTuple(id=1, name='Dasar Elektro'),\n",
    "    LaboratoryTuple(id=2, name='Kendali'),\n",
    "    LaboratoryTuple(id=3, name='Tenaga'),\n",
    "    LaboratoryTuple(id=4, name='Telekomunikasi'),\n",
    "    LaboratoryTuple(id=5, name='Komputer'),\n",
    "]\n",
    "modules = [ModuleTuple(id=1, name='Pengukuran Listrik', start_date='2022-09-12', end_date='2022-11-26', laboratory_id=1, semester_id=1)]\n",
    "chapters = [\n",
    "    ChapterTuple(id=1, name='U-1', module_id=1),\n",
    "    ChapterTuple(id=2, name='U-2', module_id=1),\n",
    "    ChapterTuple(id=3, name='U-3', module_id=1),\n",
    "    ChapterTuple(id=4, name='U-4', module_id=1),\n",
    "    ChapterTuple(id=5, name='U-5', module_id=1),\n",
    "    ChapterTuple(id=6, name='U-6', module_id=1),\n",
    "    ChapterTuple(id=7, name='U-7', module_id=1),\n",
    "    ChapterTuple(id=8, name='U-8', module_id=1),\n",
    "]\n",
    "groups = [\n",
    "    GroupTuple(id=1, name='PL-1', module_id=1),\n",
    "    GroupTuple(id=2, name='PL-2', module_id=1),\n",
    "    GroupTuple(id=3, name='PL-3', module_id=1),\n",
    "    GroupTuple(id=4, name='PL-4', module_id=1),\n",
    "    GroupTuple(id=5, name='PL-5', module_id=1),\n",
    "    GroupTuple(id=6, name='PL-6', module_id=1),\n",
    "    GroupTuple(id=7, name='PL-7', module_id=1),\n",
    "    GroupTuple(id=8, name='PL-8', module_id=1),\n",
    "    GroupTuple(id=9, name='PL-9', module_id=1),\n",
    "    GroupTuple(id=10, name='PL-10', module_id=1),\n",
    "    GroupTuple(id=11, name='PL-11', module_id=1),\n",
    "    GroupTuple(id=12, name='PL-12', module_id=1),\n",
    "    GroupTuple(id=13, name='PL-13', module_id=1),\n",
    "    GroupTuple(id=14, name='PL-14', module_id=1),\n",
    "    GroupTuple(id=15, name='PL-15', module_id=1),\n",
    "    GroupTuple(id=16, name='PL-16', module_id=1),\n",
    "    GroupTuple(id=17, name='PL-17', module_id=1),\n",
    "    GroupTuple(id=18, name='PL-18', module_id=1),\n",
    "    GroupTuple(id=19, name='PL-19', module_id=1),\n",
    "    GroupTuple(id=20, name='PL-20', module_id=1),\n",
    "    GroupTuple(id=21, name='PL-21', module_id=1),\n",
    "    GroupTuple(id=22, name='PL-22', module_id=1),\n",
    "    GroupTuple(id=23, name='PL-23', module_id=1),\n",
    "    GroupTuple(id=24, name='PL-24', module_id=1),\n",
    "    GroupTuple(id=25, name='PL-25', module_id=1),\n",
    "    GroupTuple(id=26, name='PL-26', module_id=1),\n",
    "    GroupTuple(id=27, name='PL-27', module_id=1),\n",
    "    GroupTuple(id=28, name='PL-28', module_id=1),\n",
    "    GroupTuple(id=29, name='PL-29', module_id=1),\n",
    "    GroupTuple(id=30, name='PL-30', module_id=1),\n",
    "    GroupTuple(id=31, name='PL-31', module_id=1),\n",
    "    GroupTuple(id=32, name='PL-32', module_id=1),\n",
    "    GroupTuple(id=33, name='PL-33', module_id=1),\n",
    "    GroupTuple(id=34, name='PL-34', module_id=1),\n",
    "    GroupTuple(id=35, name='PL-35', module_id=1),\n",
    "    GroupTuple(id=36, name='PL-36', module_id=1),\n",
    "]\n"
   ]
  },
  {
   "cell_type": "code",
   "execution_count": null,
   "metadata": {},
   "outputs": [],
   "source": []
  }
 ],
 "metadata": {
  "kernelspec": {
   "display_name": "Python 3",
   "language": "python",
   "name": "python3"
  },
  "language_info": {
   "codemirror_mode": {
    "name": "ipython",
    "version": 3
   },
   "file_extension": ".py",
   "mimetype": "text/x-python",
   "name": "python",
   "nbconvert_exporter": "python",
   "pygments_lexer": "ipython3",
   "version": "3.10.12"
  },
  "orig_nbformat": 4
 },
 "nbformat": 4,
 "nbformat_minor": 2
}
