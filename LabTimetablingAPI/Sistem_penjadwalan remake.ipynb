{
 "cells": [
  {
   "cell_type": "markdown",
   "metadata": {},
   "source": [
    "# Sistem penjadwalan praktikum lab otomatis menggunakan algoritma meta-heuristik hibrida berbasiskan API. Menggunakan algoritma genetika dan lainnya (dalam pengembangan)."
   ]
  },
  {
   "cell_type": "markdown",
   "metadata": {},
   "source": [
    "## Setup"
   ]
  },
  {
   "cell_type": "markdown",
   "metadata": {},
   "source": [
    "### Django setup and other dependencies"
   ]
  },
  {
   "cell_type": "code",
   "execution_count": 679,
   "metadata": {},
   "outputs": [],
   "source": [
    "import os\n",
    "import sys\n",
    "import django\n",
    "os.environ[\"DJANGO_ALLOW_ASYNC_UNSAFE\"] = \"true\"\n",
    "os.environ.setdefault(\"DJANGO_SETTINGS_MODULE\", \"LabTimetablingAPI.settings\")\n",
    "django.setup()\n",
    "from django.conf import settings\n",
    "#set debug to true\n",
    "settings.DEBUG = True\n",
    "\n",
    "#logging\n",
    "import logging\n",
    "logging.basicConfig(level=logging.INFO)\n",
    "logger = logging.getLogger(__name__)"
   ]
  },
  {
   "cell_type": "markdown",
   "metadata": {},
   "source": [
    "### Pararellization"
   ]
  },
  {
   "cell_type": "code",
   "execution_count": 680,
   "metadata": {},
   "outputs": [],
   "source": [
    "#Pararellization\n",
    "\n",
    "import os\n",
    "import multiprocessing as mp\n",
    "import concurrent.futures\n",
    "from django.db import close_old_connections\n",
    "\n",
    "class ParallelExecutor:\n",
    "    def __init__(self, max_workers=None):\n",
    "        self.max_workers = min(mp.cpu_count(), max_workers or mp.cpu_count())\n",
    "        self.executor = None\n",
    "        self.enter_args = None\n",
    "        self.enter_kwargs = None\n",
    "\n",
    "    def _execute_parallel(self, fn, data, cpu_bound=False):\n",
    "        executor_cls = concurrent.futures.ThreadPoolExecutor if cpu_bound else concurrent.futures.ProcessPoolExecutor\n",
    "        with executor_cls(max_workers=self.max_workers) as executor:\n",
    "            # close_old_connections() #close old connections, this is to make sure that the database connection is closed after each request\n",
    "            # return list(executor.map(fn, data))\n",
    "            futures = [executor.submit(fn, d) for d in data]\n",
    "            concurrent.futures.wait(futures)\n",
    "            return [f.result() for f in futures]\n",
    "\n",
    "    def execute_cpu_bound(self, fn, data):\n",
    "        return self._execute_parallel(fn, data, cpu_bound=True)\n",
    "    \n",
    "    def execute_io_bound(self, fn, data):\n",
    "        return self._execute_parallel(fn, data, cpu_bound=False)\n",
    "    \n",
    "    def __enter__(self, *args, **kwargs):\n",
    "        self.executor = self\n",
    "        self.enter_args = args\n",
    "        self.enter_kwargs = kwargs\n",
    "        return self\n",
    "    \n",
    "    def __exit__(self, exc_type, exc_val, exc_tb):\n",
    "        self.executor = None\n",
    "        self.enter_args = None\n",
    "        self.enter_kwargs = None\n"
   ]
  },
  {
   "cell_type": "code",
   "execution_count": 681,
   "metadata": {},
   "outputs": [
    {
     "data": {
      "text/plain": [
       "12"
      ]
     },
     "execution_count": 681,
     "metadata": {},
     "output_type": "execute_result"
    }
   ],
   "source": [
    "mp.cpu_count()"
   ]
  },
  {
   "cell_type": "code",
   "execution_count": null,
   "metadata": {},
   "outputs": [],
   "source": []
  },
  {
   "cell_type": "markdown",
   "metadata": {},
   "source": [
    "### Data related setup"
   ]
  },
  {
   "cell_type": "markdown",
   "metadata": {},
   "source": [
    "#### Ekstraksi Data\n",
    "Ekstrasi data dari model Django ke dalam objek Python."
   ]
  },
  {
   "cell_type": "code",
   "execution_count": 682,
   "metadata": {},
   "outputs": [],
   "source": [
    "from scheduling_data.models import Laboratory, Module, Participant, Group, Assistant, Chapter\n",
    "from functools import lru_cache\n",
    "#Data Handling, import data from model to an object\n",
    "# All random methods are for testing purposes only\n",
    "\n",
    "class LaboratoryData:\n",
    "\n",
    "    @classmethod\n",
    "    @lru_cache(maxsize=1)\n",
    "    def get_laboratories(cls):\n",
    "        return Laboratory.objects.all()\n",
    "    \n",
    "    @classmethod\n",
    "    def get_laboratory(cls, id):\n",
    "        return Laboratory.objects.get(id=id)\n",
    "    \n",
    "    @classmethod\n",
    "    def get_random_laboratory(cls):\n",
    "        return Laboratory.objects.order_by('?').first()\n",
    "    \n",
    "    @classmethod\n",
    "    @lru_cache(maxsize=None)\n",
    "    def get_assistants(cls, id):\n",
    "        laboratory = Laboratory.objects.get(id=id)\n",
    "        if laboratory:\n",
    "            return laboratory.assistants.all()\n",
    "        return []\n",
    "    \n",
    "    @classmethod\n",
    "    def get_modules(cls, id):\n",
    "        laboratory = Laboratory.objects.get(id=id)\n",
    "        if laboratory:\n",
    "            return laboratory.modules.all()\n",
    "        return []\n",
    "    \n",
    "\n",
    "class ModuleData:\n",
    "    \n",
    "    @classmethod\n",
    "    @lru_cache(maxsize=1)\n",
    "    def get_modules(cls):\n",
    "        return Module.objects.all()\n",
    "    \n",
    "    @classmethod\n",
    "    @lru_cache(maxsize=None)\n",
    "    def get_module(cls, id):\n",
    "        return Module.objects.get(id=id)\n",
    "    \n",
    "    @classmethod\n",
    "    def get_random_module(cls):\n",
    "        return Module.objects.order_by('?').first()\n",
    "    \n",
    "    @classmethod\n",
    "    def get_laboratory(cls, id):\n",
    "        module = Module.objects.get(id=id)\n",
    "        if module:\n",
    "            return module.laboratory\n",
    "        return None\n",
    "    \n",
    "    @classmethod\n",
    "    @lru_cache(maxsize=None)\n",
    "    def get_groups(cls, id):\n",
    "        module = Module.objects.get(id=id)\n",
    "        if module:\n",
    "            return module.groups.all()\n",
    "        return []\n",
    "    \n",
    "    @classmethod\n",
    "    @lru_cache(maxsize=None)\n",
    "    def get_chapters(cls, id):\n",
    "        module = Module.objects.get(id=id)\n",
    "        if module:\n",
    "            return module.chapters.all()\n",
    "        return []\n",
    "    \n",
    "    @classmethod\n",
    "    def get_participants(cls, id):\n",
    "        module = Module.objects.get(id=id)\n",
    "        if module:\n",
    "            groups = module.groups.all()\n",
    "            participants = []\n",
    "            for group in groups:\n",
    "                group_memberships = group.group_memberships.all()\n",
    "                for group_membership in group_memberships:\n",
    "                    participants.append(group_membership.participant)\n",
    "            return participants\n",
    "        return []\n",
    "    \n",
    "    @classmethod\n",
    "    def get_assistants(cls, id):\n",
    "        module = Module.objects.get(id=id)\n",
    "        if module:\n",
    "            assistants = []\n",
    "            assistants_membership = module.assistant_memberships.all()\n",
    "            for assistant_membership in assistants_membership:\n",
    "                assistants.append(assistant_membership.assistant)\n",
    "            return assistants\n",
    "        return []\n",
    "        \n",
    "    \n",
    "class ChapterData:\n",
    "    \n",
    "    @classmethod\n",
    "    @lru_cache(maxsize=10)\n",
    "    def get_chapters(cls):\n",
    "        return Chapter.objects.all()\n",
    "    \n",
    "    @classmethod\n",
    "    def get_chapter(cls, id):\n",
    "        return Chapter.objects.get(id=id)\n",
    "    \n",
    "    @classmethod\n",
    "    def get_module(cls, id):\n",
    "        chapter = Chapter.objects.get(id=id)\n",
    "        if chapter:\n",
    "            return chapter.module\n",
    "        return None\n",
    "    \n",
    "    @classmethod\n",
    "    def get_random_chapter(cls, id):\n",
    "        chapter = Chapter.objects.get(id=id)\n",
    "        if chapter:\n",
    "            return chapter.module\n",
    "        return None\n",
    "    \n",
    "class ParticipantData:\n",
    "        \n",
    "    @classmethod\n",
    "    @lru_cache(maxsize=10)\n",
    "    def get_participants(cls):\n",
    "        return Participant.objects.all()\n",
    "    \n",
    "    @classmethod\n",
    "    def get_participant(cls, id):\n",
    "        return Participant.objects.get(id=id)\n",
    "    \n",
    "    @classmethod\n",
    "    def get_random_participant(cls):\n",
    "        return Participant.objects.order_by('?').first()\n",
    "    \n",
    "    @classmethod\n",
    "    def get_groups(cls, id):\n",
    "        participant = Participant.objects.get(id=id)\n",
    "        if participant:\n",
    "            groups_membership = participant.group_memberships.all()\n",
    "            groups = []\n",
    "            for group_membership in groups_membership:\n",
    "                groups.append(group_membership.group)\n",
    "            return groups\n",
    "        return []\n",
    "    \n",
    "    @classmethod\n",
    "    def get_modules(cls, id):\n",
    "        participant = Participant.objects.get(id=id)\n",
    "        if participant:\n",
    "            groups_membership = participant.group_memberships.all()\n",
    "            modules = []\n",
    "            for group_membership in groups_membership:\n",
    "                modules.append(group_membership.group.module)\n",
    "            return modules\n",
    "        return []\n",
    "    \n",
    "    @classmethod\n",
    "    def get_schedule(cls, id):\n",
    "        participant = Participant.objects.get(id=id)\n",
    "        if participant:\n",
    "            return participant.regular_schedule\n",
    "        return None\n",
    "        \n",
    "class GroupData:\n",
    "    \n",
    "    @classmethod\n",
    "    @lru_cache(maxsize=1)\n",
    "    def get_groups(cls):\n",
    "        return Group.objects.all()\n",
    "    \n",
    "    @classmethod\n",
    "    def get_group(cls, id):\n",
    "        return Group.objects.get(id=id)\n",
    "    \n",
    "    @classmethod\n",
    "    def get_random_group(cls):\n",
    "        return Group.objects.order_by('?').first()\n",
    "    \n",
    "    @classmethod\n",
    "    def get_module(cls, id):\n",
    "        group = Group.objects.get(id=id)\n",
    "        if group:\n",
    "            return group.module\n",
    "        return None\n",
    "    \n",
    "    @classmethod\n",
    "    def get_participants(cls, id):\n",
    "        group = Group.objects.get(id=id)\n",
    "        if group:\n",
    "            group_memberships = group.group_memberships.all()\n",
    "            participants = []\n",
    "            for group_membership in group_memberships:\n",
    "                participants.append(group_membership.participant)\n",
    "            return participants\n",
    "        return []\n",
    "    \n",
    "    @classmethod\n",
    "    def get_assistants(cls, id):\n",
    "        group = Group.objects.get(id=id)\n",
    "        if group:\n",
    "            module = group.module\n",
    "            assistants = []\n",
    "            assistants_membership = module.assistant_memberships.all()\n",
    "            for assistant_membership in assistants_membership:\n",
    "                assistants.append(assistant_membership.assistant)\n",
    "            return assistants\n",
    "        return []\n",
    "    \n",
    "    @classmethod\n",
    "    def get_participant_schedule(cls, id):\n",
    "        participants = cls.get_participants(id)\n",
    "        if participants:\n",
    "            schedule = []\n",
    "            for participant in participants:\n",
    "                schedule.append(participant.regular_schedule)\n",
    "            return schedule\n",
    "        return None\n",
    "    \n",
    "    @classmethod\n",
    "    @lru_cache(maxsize=None)\n",
    "    def get_schedule(cls, id):\n",
    "        participants_schedule = cls.get_participant_schedule(id)\n",
    "        if participants_schedule:\n",
    "            days = participants_schedule[0].keys()\n",
    "            merged_schedule = {day:{} for day in days}\n",
    "            for day in days:\n",
    "                for timeslot in participants_schedule[0][day]:\n",
    "                    is_available = all([participant_schedule[day][timeslot] for participant_schedule in participants_schedule])\n",
    "                    merged_schedule[day][timeslot] = is_available\n",
    "            return merged_schedule\n",
    "        return None\n",
    "    \n",
    "class AssistantData:\n",
    "    \n",
    "    @classmethod\n",
    "    @lru_cache(maxsize=1)\n",
    "    def get_assistants(cls):\n",
    "        return Assistant.objects.all()\n",
    "    \n",
    "    @classmethod\n",
    "    def get_assistant(cls, id):\n",
    "        return Assistant.objects.get(id=id)\n",
    "    \n",
    "    @classmethod\n",
    "    def get_random_assistant(cls):\n",
    "        # This is for testing purposes only\n",
    "        return Assistant.objects.order_by('?').first()\n",
    "    \n",
    "    @classmethod\n",
    "    def get_laboratory(cls, id):\n",
    "        assistant = Assistant.objects.get(id=id)\n",
    "        if assistant:\n",
    "            return assistant.laboratory\n",
    "        return None\n",
    "    \n",
    "    @classmethod\n",
    "    def get_modules(cls, id):\n",
    "        assistant = Assistant.objects.get(id=id)\n",
    "        if assistant:\n",
    "            modules = []\n",
    "            assistant_membership = assistant.assistant_memberships.all()\n",
    "            for assistant_membership in assistant_membership:\n",
    "                modules.append(assistant_membership.module)\n",
    "            return modules\n",
    "        return []\n",
    "    \n",
    "    @classmethod\n",
    "    def get_groups(cls, id):\n",
    "        assistant = Assistant.objects.get(id=id)\n",
    "        if assistant:\n",
    "            modules = cls.get_modules(id)\n",
    "            groups = []\n",
    "            for module in modules:\n",
    "                groups.append(module.groups.all())\n",
    "            return groups\n",
    "        return []\n",
    "    \n",
    "    @classmethod\n",
    "    def get_schedule(cls, id):\n",
    "        assistant = Assistant.objects.get(id=id)\n",
    "        if assistant:\n",
    "            return assistant.regular_schedule\n",
    "        return None\n"
   ]
  },
  {
   "cell_type": "code",
   "execution_count": 683,
   "metadata": {},
   "outputs": [],
   "source": [
    "# import timeit\n",
    "# import cProfile\n",
    "# import random\n",
    "\n",
    "\n",
    "\n",
    "# def get_group_schedule(group_id):\n",
    "#     group_id = random.choice(group_id)\n",
    "#     return GroupData.get_schedule(group_id)\n",
    "\n",
    "# group_id = [group.id for group in GroupData.get_groups()]\n",
    "# pr = cProfile.Profile()\n",
    "# pr.enable()\n",
    "# for i in range(36000):\n",
    "#     get_group_schedule(group_id)\n",
    "# pr.disable()\n",
    "\n",
    "# pr.print_stats(sort='cumtime')"
   ]
  },
  {
   "cell_type": "code",
   "execution_count": 684,
   "metadata": {},
   "outputs": [],
   "source": [
    "#Data manager\n",
    "class DataHandler:\n",
    "    def __init__(self):\n",
    "        self.laboratory_data = LaboratoryData()\n",
    "        self.module_data = ModuleData()\n",
    "        self.chapter_data = ChapterData()\n",
    "        self.participant_data = ParticipantData()\n",
    "        self.group_data = GroupData()\n",
    "        self.assistant_data = AssistantData()\n",
    "    "
   ]
  },
  {
   "cell_type": "markdown",
   "metadata": {},
   "source": [
    "##### Test"
   ]
  },
  {
   "cell_type": "code",
   "execution_count": 685,
   "metadata": {},
   "outputs": [
    {
     "data": {
      "text/plain": [
       "<QuerySet [<Group: PL-1>, <Group: PL-2>, <Group: PL-3>, <Group: PL-4>, <Group: PL-5>, <Group: PL-6>, <Group: PL-7>, <Group: PL-8>, <Group: PL-9>, <Group: PL-10>, <Group: PL-11>, <Group: PL-12>, <Group: PL-13>, <Group: PL-14>, <Group: PL-15>, <Group: PL-16>, <Group: PL-17>, <Group: PL-18>, <Group: PL-19>, <Group: PL-20>, '...(remaining elements truncated)...']>"
      ]
     },
     "execution_count": 685,
     "metadata": {},
     "output_type": "execute_result"
    }
   ],
   "source": [
    "ModuleData.get_module(1).groups.all()"
   ]
  },
  {
   "cell_type": "markdown",
   "metadata": {},
   "source": [
    "### Constants"
   ]
  },
  {
   "cell_type": "code",
   "execution_count": 686,
   "metadata": {},
   "outputs": [],
   "source": [
    "class Constant:\n",
    "    days = [\"Monday\", \"Tuesday\", \"Wednesday\", \"Thursday\", \"Friday\", \"Saturday\"]\n",
    "    shifts = [\"Shift1\", \"Shift2\", \"Shift3\", \"Shift4\", \"Shift5\", \"Shift6\"]\n",
    "\n",
    "from collections import namedtuple\n",
    "TimeSlot = namedtuple(\"TimeSlot\", [\"date\", \"day\", \"shift\"])"
   ]
  },
  {
   "cell_type": "markdown",
   "metadata": {},
   "source": [
    "## Algoritma"
   ]
  },
  {
   "cell_type": "markdown",
   "metadata": {},
   "source": [
    "### Algoritma Genetika"
   ]
  },
  {
   "cell_type": "markdown",
   "metadata": {},
   "source": [
    "#### Gene"
   ]
  },
  {
   "cell_type": "markdown",
   "metadata": {},
   "source": [
    "##### Gene Inialization\n",
    "Initializing the gene structure. I add constraits_broken attribute to the gene structure to keep track of the number of constraints broken by the gene, or should I rename it to fitness_broken?  So that the chromosome can detect which gene violates the most constraints and then mutate it. I don't need constraints_broken attribute because invalid genes will never be added to the chromosome."
   ]
  },
  {
   "cell_type": "code",
   "execution_count": 687,
   "metadata": {},
   "outputs": [],
   "source": [
    "from collections import namedtuple\n",
    "TimeSlot = namedtuple(\"TimeSlot\", [\"date\", \"day\", \"shift\"])\n",
    "\n",
    "class Gene:\n",
    "    def __init__(self, laboratory, module, chapter, group, assistant, time_slot: TimeSlot):\n",
    "        self.laboratory = laboratory\n",
    "        self.module = module\n",
    "        self.chapter = chapter\n",
    "        self.group = group\n",
    "        self.assistant = assistant\n",
    "        self.time_slot = time_slot\n",
    "\n",
    "        self._laboratory_data = None\n",
    "        self._module_data = None\n",
    "        self._chapter_data = None\n",
    "        self._group_data = None\n",
    "        self._assistant_data = None\n",
    "\n",
    "    def __str__(self):\n",
    "        return f\"Gene(laboratory={self.laboratory}, module={self.module}, chapter={self.chapter}, group={self.group}, assistant={self.assistant}, time_slot={self.time_slot})\"\n",
    "    \n",
    "    def __repr__(self):\n",
    "        return self.__str__()\n",
    "    \n",
    "    def __eq__(self, other: \"Gene\"):\n",
    "        return self.laboratory == other.laboratory and self.module == other.module and self.chapter == other.chapter and self.group == other.group and self.assistant == other.assistant and self.time_slot == other.time_slot\n",
    "    \n",
    "    @property\n",
    "    def laboratory_data(self):\n",
    "        if self._laboratory_data is None:\n",
    "            self._laboratory_data = LaboratoryData.get_laboratory(self.laboratory)\n",
    "        return self._laboratory_data\n",
    "    \n",
    "    @property\n",
    "    def module_data(self):\n",
    "        if self._module_data is None:\n",
    "            self._module_data = ModuleData.get_module(self.module)\n",
    "        return self._module_data\n",
    "    \n",
    "    @property\n",
    "    def chapter_data(self):\n",
    "        if self._chapter_data is None:\n",
    "            self._chapter_data = ChapterData.get_chapter(self.chapter)\n",
    "        return self._chapter_data\n",
    "    \n",
    "    @property\n",
    "    def group_data(self):\n",
    "        if self._group_data is None:\n",
    "            self._group_data = GroupData.get_group(self.group)\n",
    "        return self._group_data\n",
    "    \n",
    "    @property\n",
    "    def assistant_data(self):\n",
    "        if self._assistant_data is None:\n",
    "            self._assistant_data = AssistantData.get_assistant(self.assistant)\n",
    "        return self._assistant_data\n",
    "    \n",
    "    @property\n",
    "    def group_schedule(self):\n",
    "        '''Returns the availability of the group'''\n",
    "        return GroupData.get_schedule(self.group)\n",
    "    \n",
    "    \n"
   ]
  },
  {
   "cell_type": "code",
   "execution_count": 688,
   "metadata": {},
   "outputs": [
    {
     "name": "stdout",
     "output_type": "stream",
     "text": [
      "Gene(laboratory=1, module=1, chapter=1, group=15, assistant=1, time_slot=TimeSlot(date='2021-01-01', day='Monday', shift='Shift1'))\n"
     ]
    }
   ],
   "source": [
    "# Test Gene\n",
    "gene = Gene(LaboratoryData.get_random_laboratory().id, ModuleData.get_random_module().id, ChapterData.get_random_chapter(1).id, GroupData.get_random_group().id, AssistantData.get_random_assistant().id, TimeSlot(\"2021-01-01\", \"Monday\", \"Shift1\"))\n",
    "print(gene)"
   ]
  },
  {
   "cell_type": "markdown",
   "metadata": {},
   "source": [
    "##### Gene Level Constraints\n",
    "Check if a gene is valid by not violating any constraints. Constraints are defined on gene level, it was to ensure that the gene is valid before it is assigned to a chromosome. \n",
    "\n",
    "My plan is to prevent the gene from being invalid in the first place, all the constraint must return true before the gene is assigned to a chromosome. This would reduce the number of invalid chromosomes and thus reducing the complexity of the algorithm albeit make the chromosome initialization process slower, but atleast it reduces the pressure for my brain to think about fixing the invalid chromosomes. My God, if only I was a genius, I would not have to do this. I rather playing genshin impact than doing this, hu tao is waiting for me."
   ]
  },
  {
   "cell_type": "code",
   "execution_count": 689,
   "metadata": {},
   "outputs": [],
   "source": [
    "# Constraint Class for Constraint Function\n",
    "# 1. Ensure that each chapter is assigned to the correct module.\n",
    "# 2. Ensure that each module is assigned to the correct lab.\n",
    "# 3. Ensure that each group is assigned to the correct module.\n",
    "# 4. Ensure that each assistant is assigned to the correct lab.\n",
    "\n",
    "class BaseConstraint:\n",
    "    def __init__(self, name):\n",
    "        self.name = name\n",
    "    \n",
    "    def __str__(self):\n",
    "        return f\"Constraint(name={self.name})\"\n",
    "    \n",
    "    def __repr__(self):\n",
    "        return self.__str__()\n",
    "    \n",
    "    def __call__(self, gene: Gene):\n",
    "        raise NotImplementedError(\"Constraint function not implemented\")\n",
    "    \n",
    "# Ensure that each chapter is assigned to the correct module.\n",
    "class ChapterModuleConstraint(BaseConstraint):\n",
    "    def __init__(self):\n",
    "        super().__init__(\"ChapterModuleConstraint\")\n",
    "        self.chapters = ChapterData\n",
    "\n",
    "    def __call__(self, gene: Gene) -> bool:\n",
    "        if gene.module == self.chapters.get_module(gene.chapter).id:\n",
    "            return True\n",
    "        return False\n",
    "    \n",
    "# Ensure that each group is assigned to the correct module.\n",
    "class GroupModuleConstraint(BaseConstraint):\n",
    "    def __init__(self):\n",
    "        super().__init__(\"GroupModuleConstraint\")\n",
    "        self.groups = GroupData\n",
    "    \n",
    "    def __call__(self, gene: Gene) -> bool:\n",
    "        if gene.module == self.groups.get_module(gene.group).id:\n",
    "            return True\n",
    "        return False\n",
    "\n",
    "# Ensure that each module is assigned to the correct lab.\n",
    "class ModuleLaboratoryConstraint(BaseConstraint):\n",
    "    def __init__(self):\n",
    "        super().__init__(\"ModuleLaboratoryConstraint\")\n",
    "        self.modules = ModuleData\n",
    "    \n",
    "    def __call__(self, gene: Gene) -> bool:\n",
    "        if gene.laboratory == self.modules.get_laboratory(gene.module).id:\n",
    "            return True\n",
    "        return False\n",
    "    \n",
    "# Ensure that each assistant is assigned to the correct lab.\n",
    "class AssistantLaboratoryConstraint(BaseConstraint):\n",
    "    def __init__(self):\n",
    "        super().__init__(\"AssistantLaboratoryConstraint\")\n",
    "        self.assistants = AssistantData\n",
    "    \n",
    "    def __call__(self, gene: Gene) -> bool:\n",
    "        if gene.laboratory == self.assistants.get_laboratory(gene.assistant).id:\n",
    "            return True\n",
    "        return False\n",
    "    \n",
    "# Ensure that the group schedule is not violated by the gene time slot.\n",
    "class ScheduleConstraint(BaseConstraint):\n",
    "    def __init__(self):\n",
    "        super().__init__(\"ScheduleConstraint\")\n",
    "        self.groups = GroupData\n",
    "    \n",
    "    def __call__(self, gene: Gene) -> bool:\n",
    "        \n",
    "        schedule = self.groups.get_schedule(gene.group)\n",
    "        if schedule:\n",
    "            return schedule[gene.time_slot.day][gene.time_slot.shift]\n",
    "        return False\n",
    "    \n",
    "# Dynamic Constraint Class (custom constraint function)\n",
    "class DynamicConstraint(BaseConstraint):\n",
    "    def __init__(self, name, constraint_function):\n",
    "        super().__init__(name)\n",
    "        self.constraint_function = constraint_function\n",
    "    \n",
    "    def __call__(self, gene: Gene) -> bool:\n",
    "        return self.constraint_function(gene)"
   ]
  },
  {
   "cell_type": "code",
   "execution_count": 690,
   "metadata": {},
   "outputs": [],
   "source": [
    "# Group all constraints\n",
    "from typing import List\n",
    "class ConstraintManager:\n",
    "    def __init__(self,constraints: List[BaseConstraint]):\n",
    "        self.constraints = constraints\n",
    "    \n",
    "    def __str__(self):\n",
    "        return f\"constraints={self.constraints})\"\n",
    "    \n",
    "    def __repr__(self):\n",
    "        return self.__str__()\n",
    "    \n",
    "    def __call__(self, gene: Gene) -> bool:\n",
    "        return all([constraint(gene) for constraint in self.constraints])"
   ]
  },
  {
   "cell_type": "code",
   "execution_count": 691,
   "metadata": {},
   "outputs": [
    {
     "name": "stdout",
     "output_type": "stream",
     "text": [
      "False\n"
     ]
    }
   ],
   "source": [
    "# Test Constraint\n",
    "chapter_module_constraint = ChapterModuleConstraint()\n",
    "group_module_constraint = GroupModuleConstraint()\n",
    "module_laboratory_constraint = ModuleLaboratoryConstraint()\n",
    "assistant_laboratory_constraint = AssistantLaboratoryConstraint()\n",
    "schedule_constraint = ScheduleConstraint()\n",
    "\n",
    "constraint_checker = ConstraintManager([chapter_module_constraint, group_module_constraint, module_laboratory_constraint, assistant_laboratory_constraint, schedule_constraint])\n",
    "\n",
    "gene = Gene(LaboratoryData.get_random_laboratory().id, ModuleData.get_random_module().id, ChapterData.get_random_chapter(1).id, GroupData.get_random_group().id, AssistantData.get_random_assistant().id, TimeSlot(\"2021-05-05\", \"Friday\", \"Shift2\"))\n",
    "\n",
    "print(constraint_checker(gene))"
   ]
  },
  {
   "cell_type": "code",
   "execution_count": 692,
   "metadata": {},
   "outputs": [
    {
     "data": {
      "text/plain": [
       "{'Friday': {'Shift1': False,\n",
       "  'Shift2': False,\n",
       "  'Shift3': True,\n",
       "  'Shift4': False,\n",
       "  'Shift5': True,\n",
       "  'Shift6': False},\n",
       " 'Monday': {'Shift1': False,\n",
       "  'Shift2': False,\n",
       "  'Shift3': False,\n",
       "  'Shift4': True,\n",
       "  'Shift5': True,\n",
       "  'Shift6': True},\n",
       " 'Tuesday': {'Shift1': True,\n",
       "  'Shift2': True,\n",
       "  'Shift3': False,\n",
       "  'Shift4': False,\n",
       "  'Shift5': True,\n",
       "  'Shift6': False},\n",
       " 'Saturday': {'Shift1': False,\n",
       "  'Shift2': False,\n",
       "  'Shift3': False,\n",
       "  'Shift4': False,\n",
       "  'Shift5': False,\n",
       "  'Shift6': False},\n",
       " 'Thursday': {'Shift1': True,\n",
       "  'Shift2': False,\n",
       "  'Shift3': False,\n",
       "  'Shift4': False,\n",
       "  'Shift5': False,\n",
       "  'Shift6': True},\n",
       " 'Wednesday': {'Shift1': False,\n",
       "  'Shift2': True,\n",
       "  'Shift3': False,\n",
       "  'Shift4': False,\n",
       "  'Shift5': False,\n",
       "  'Shift6': True}}"
      ]
     },
     "execution_count": 692,
     "metadata": {},
     "output_type": "execute_result"
    }
   ],
   "source": [
    "GroupData.get_schedule(gene.group)"
   ]
  },
  {
   "cell_type": "markdown",
   "metadata": {},
   "source": [
    "#### Chromosome"
   ]
  },
  {
   "cell_type": "markdown",
   "metadata": {},
   "source": [
    "##### Chromosome Initialization"
   ]
  },
  {
   "cell_type": "code",
   "execution_count": 693,
   "metadata": {},
   "outputs": [],
   "source": [
    "class Chromosome:\n",
    "    def __init__(self, genes: List[Gene]):\n",
    "        self.genes = genes\n",
    "        self.constraints_broken = set()\n",
    "    \n",
    "    def __str__(self):\n",
    "        return f\"Chromosome(genes={self.genes})\"\n",
    "    \n",
    "    def __repr__(self):\n",
    "        return self.__str__()\n",
    "    \n",
    "    def __eq__(self, other: \"Chromosome\"):\n",
    "        return self.genes == other.genes\n",
    "    \n",
    "    def __getitem__(self, index):\n",
    "        return self.genes[index]\n",
    "    \n",
    "    def __len__(self):\n",
    "        return len(self.genes)\n",
    "    \n",
    "    def __iter__(self):\n",
    "        return iter(self.genes)\n",
    "    \n",
    "    def __contains__(self, gene: Gene):\n",
    "        return gene in self.genes\n",
    "    \n",
    "    def add_gene(self, gene: Gene):\n",
    "        self.genes.append(gene)\n",
    "    \n",
    "    def remove_gene(self, gene: Gene):\n",
    "        self.genes.remove(gene)\n",
    "    \n",
    "    def get_gene(self, index):\n",
    "        return self.genes[index]\n",
    "    \n",
    "    def get_genes(self):\n",
    "        return self.genes"
   ]
  },
  {
   "cell_type": "code",
   "execution_count": 694,
   "metadata": {},
   "outputs": [
    {
     "name": "stdout",
     "output_type": "stream",
     "text": [
      "TimeSlot(date='2021-05-05', day='Friday', shift='Shift2')\n",
      "TimeSlot(date='2021-05-05', day='Friday', shift='Shift2')\n",
      "TimeSlot(date='2021-05-05', day='Friday', shift='Shift2')\n",
      "TimeSlot(date='2021-05-05', day='Friday', shift='Shift2')\n",
      "TimeSlot(date='2021-05-05', day='Friday', shift='Shift2')\n",
      "TimeSlot(date='2021-05-05', day='Friday', shift='Shift2')\n",
      "TimeSlot(date='2021-05-05', day='Friday', shift='Shift2')\n",
      "TimeSlot(date='2021-05-05', day='Friday', shift='Shift2')\n",
      "TimeSlot(date='2021-05-05', day='Friday', shift='Shift2')\n",
      "TimeSlot(date='2021-05-05', day='Friday', shift='Shift2')\n"
     ]
    }
   ],
   "source": [
    "# Test Chromosome\n",
    "chromosome = Chromosome([Gene(LaboratoryData.get_random_laboratory().id, ModuleData.get_random_module().id, ChapterData.get_random_chapter(1).id, GroupData.get_random_group().id, AssistantData.get_random_assistant().id, TimeSlot(\"2021-05-05\", \"Friday\", \"Shift2\")) for i in range(10)])\n",
    "for gene in chromosome:\n",
    "    print(gene.time_slot)"
   ]
  },
  {
   "cell_type": "markdown",
   "metadata": {},
   "source": [
    "#### Fitness Function\n",
    "Fitness function is a function that takes a chromosome as input and returns a fitness score as output. The fitness score is a measure of how good the chromosome is. The higher the score, the better the chromosome is, wait, is it? Or should I say the lower the score, the better the chromosome is? I don't know, I'm just keep moving forward without any idea of what I'm actually doing, just hoping that maybe I stumble upon something that works. I'm just a monkey with a keyboard, I don't know what I'm doing."
   ]
  },
  {
   "cell_type": "code",
   "execution_count": 695,
   "metadata": {},
   "outputs": [],
   "source": [
    "#Base Fitness Class\n",
    "class BaseFitness:\n",
    "    def __init__(self, name):\n",
    "        self.name = name\n",
    "    \n",
    "    def __str__(self):\n",
    "        return f\"Fitness(name={self.name})\"\n",
    "    \n",
    "    def __repr__(self):\n",
    "        return self.__str__()\n",
    "    \n",
    "    def __call__(self, chromosome: Chromosome):\n",
    "        raise NotImplementedError(\"Fitness function not implemented\")"
   ]
  },
  {
   "cell_type": "markdown",
   "metadata": {},
   "source": [
    "##### 1. Group Assignment Conflict Penalty\n",
    "This function is used to calculate the number of group that assigned to the same lab at the same time. The lower the number, the less conflict there is. In other words, this objective is to Minimize conflicts in the schedule by ensuring that no two groups are assigned to the same lab and time slot simultaneously.\n",
    "\n",
    "Bahasa Simplenya, fungsi ini menghitung jumlah konflik yang terjadi pada jadwal, khususnya jadwal grup yang berada di lab yang sama pada waktu yang sama. Jadi misal di jadwal hari selasa shift 1, ada 2 grup yang berada di lab yang sama, maka akan dihitung sebagai 1 konflik. Tapi tergantung batas maksimal konflik yang ditentukan, misal batas maksimal konflik adalah 2, maka jadwal tersebut masih valid. Tapi kalau batas maksimal konflik adalah 1, maka jadwal tersebut tidak valid dan dihitung sebagai 1 konflik."
   ]
  },
  {
   "cell_type": "code",
   "execution_count": 696,
   "metadata": {},
   "outputs": [],
   "source": [
    "#GroupAssignmentConflictPenalty\n",
    "from collections import defaultdict\n",
    "\n",
    "class GroupAssignmentConflictFitness(BaseFitness):\n",
    "    \"\"\"Count the number of groups assigned to a time slot in a lab, and penalize the chromosome if the number of groups exceeds the maximum threshold\"\"\"\n",
    "    def __init__(self):\n",
    "        super().__init__(\"GroupAssignmentConflictFitness\")\n",
    "        self.max_threshold = 2 # Maximum number of groups that can be assigned to a single time slot in lab\n",
    "        self.conflict_penalty = 1 # Penalty for each group that exceeds the maximum threshold\n",
    "        \n",
    "        #conflicts[laboratory][module][time_slot] = [groups]\n",
    "        self._conflicts = self.default_outer_dict()\n",
    "        # Keeps track of the number of groups assigned to a time slot in a lab, initialized to 0\n",
    "\n",
    "    def default_inner_dict(self):\n",
    "        return defaultdict(list)\n",
    "    \n",
    "    def default_middle_dict(self):\n",
    "        return defaultdict(self.default_inner_dict)\n",
    "    \n",
    "    def default_outer_dict(self):\n",
    "        return defaultdict(self.default_middle_dict)\n",
    "\n",
    "    def __call__(self, chromosome: Chromosome):\n",
    "        self._conflicts.clear()\n",
    "        for gene in chromosome:\n",
    "            self._conflicts[gene.laboratory][gene.module][gene.time_slot].append(gene.group)\n",
    "        \n",
    "        total_penalty = 0\n",
    "        for laboratory in self._conflicts:\n",
    "            for module in self._conflicts[laboratory]:\n",
    "                for time_slot in self._conflicts[laboratory][module]:\n",
    "                    groups = self._conflicts[laboratory][module][time_slot] #Get all groups that are assigned to the time slot, more specifically, the number of groups in conflict[laboratory][module][time_slot]\n",
    "                    if len(groups) > self.max_threshold:\n",
    "                        total_penalty += (len(groups) - self.max_threshold) * self.conflict_penalty\n",
    "        return total_penalty\n",
    "    \n",
    "    def get_conflicts(self):\n",
    "        return self._conflicts\n",
    "    \n",
    "    def configure(self, max_threshold, conflict_penalty):\n",
    "        \"\"\"Configure the fitness function\n",
    "        Args:\n",
    "            max_threshold (int): Maximum number of groups that can be assigned to a single time slot in lab\n",
    "            conflict_penalty (int): Penalty for each group that exceeds the maximum threshold\"\"\"\n",
    "        self.max_threshold = max_threshold\n",
    "        self.conflict_penalty = conflict_penalty"
   ]
  },
  {
   "cell_type": "markdown",
   "metadata": {},
   "source": [
    "##### 2. Assistant Distribution Penalty\n",
    "The purpose of this function is to maximize the utilization of assistants by distributing tasks evenly among them. Each assistant should be assigned to a balanced number of groups and shift to avoid overloading, and to ensure their brain is not fried."
   ]
  },
  {
   "cell_type": "code",
   "execution_count": 697,
   "metadata": {},
   "outputs": [],
   "source": [
    "from collections import namedtuple, defaultdict, Counter\n",
    "\n",
    "#Maximize the utilization of assistants by distributing tasks evenly among them. Each assistant should be assigned to a balanced number of groups and shift to avoid overloading.\n",
    "class AssistantDistributionFitness(BaseFitness):\n",
    "    def __init__(self):\n",
    "        super().__init__(\"AssistantDistributionFitness\")\n",
    "        self.max_group_threshold = 15 # Maximum number of groups that can be assigned to a single assistant\n",
    "        self.max_shift_threshold = 15 # Maximum number of shifts that can be assigned to a single assistant\n",
    "        self.group_penalty = 1 # Penalty for each group that exceeds the maximum threshold\n",
    "        self.shift_penalty = 1 # Penalty for each shift that exceeds the maximum threshold\n",
    "\n",
    "        #groups[assistant][module] = [groups]\n",
    "        self._groups = self.default_outer_dict()\n",
    "        #shifts[assistant][module] = [shifts]\n",
    "        self._shifts = self.default_outer_dict()\n",
    "\n",
    "    def default_inner_dict(self):\n",
    "        return defaultdict(set)\n",
    "    \n",
    "    def default_outer_dict(self):\n",
    "        return defaultdict(self.default_inner_dict)\n",
    "    \n",
    "\n",
    "\n",
    "    def __call__(self, chromosome: Chromosome):\n",
    "        self._groups.clear()\n",
    "        self._shifts.clear()\n",
    "        for gene in chromosome:\n",
    "            self._groups[gene.assistant][gene.module].add(gene.group)\n",
    "            self._shifts[gene.assistant][gene.module].add(gene.time_slot)\n",
    "        \n",
    "        total_penalty = 0\n",
    "        for assistant in self._groups:\n",
    "            for module in self._groups[assistant]:\n",
    "                groups = self._groups[assistant][module]\n",
    "                shifts = self._shifts[assistant][module]\n",
    "                if len(groups) > self.max_group_threshold:\n",
    "                    total_penalty += (len(groups) - self.max_group_threshold) * self.group_penalty\n",
    "                if len(shifts) > self.max_shift_threshold:\n",
    "                    total_penalty += (len(shifts) - self.max_shift_threshold) * self.shift_penalty\n",
    "        return total_penalty\n",
    "    \n",
    "    def get_groups(self):\n",
    "        return self._groups\n",
    "    \n",
    "    def get_shifts(self):\n",
    "        return self._shifts\n",
    "    \n",
    "    def configure(self, max_group_threshold, max_shift_threshold, group_penalty, shift_penalty):\n",
    "        \"\"\"Configure the fitness function\n",
    "        Args:\n",
    "            max_group_threshold (int): Maximum number of groups that can be assigned to a single assistant\n",
    "            max_shift_threshold (int): Maximum number of shifts that can be assigned to a single assistant\n",
    "            group_penalty (int): Penalty for each group that exceeds the maximum threshold\n",
    "            shift_penalty (int): Penalty for each shift that exceeds the maximum threshold\"\"\"\n",
    "        self.max_group_threshold = max_group_threshold\n",
    "        self.max_shift_threshold = max_shift_threshold\n",
    "        self.group_penalty = group_penalty\n",
    "        self.shift_penalty = shift_penalty\n"
   ]
  },
  {
   "cell_type": "markdown",
   "metadata": {},
   "source": [
    "##### 3. Apalagi ya? \n",
    "Nanti ditambahin lagi kalo udah kepikiran.\n"
   ]
  },
  {
   "cell_type": "code",
   "execution_count": 698,
   "metadata": {},
   "outputs": [],
   "source": [
    "#Fitness Manager\n",
    "class FitnessManager:\n",
    "    def __init__(self, fitness_functions: List[BaseFitness]):\n",
    "        self.fitness_functions = fitness_functions\n",
    "    \n",
    "    def __str__(self):\n",
    "        return f\"FitnessManager(fitness_functions={self.fitness_functions})\"\n",
    "    \n",
    "    def __repr__(self):\n",
    "        return self.__str__()\n",
    "    \n",
    "    def __call__(self, chromosome: Chromosome):\n",
    "        return sum([fitness_function(chromosome) for fitness_function in self.fitness_functions])\n",
    "    \n",
    "    def configure(self, fitness_functions: List[BaseFitness]):\n",
    "        self.fitness_functions = fitness_functions\n",
    "\n",
    "    def grouped_fitness(self, chromosome: Chromosome):\n",
    "        \"\"\"Return a dictionary of fitness functions and their respective fitness value\"\"\"\n",
    "        return {fitness_function.name: fitness_function(chromosome) for fitness_function in self.fitness_functions}"
   ]
  },
  {
   "cell_type": "markdown",
   "metadata": {},
   "source": [
    "#### Population"
   ]
  },
  {
   "cell_type": "markdown",
   "metadata": {},
   "source": [
    "##### Population Initialization"
   ]
  },
  {
   "cell_type": "code",
   "execution_count": 699,
   "metadata": {},
   "outputs": [],
   "source": [
    "#Population Initialization Class\n",
    "import random\n",
    "\n",
    "class Population:\n",
    "    def __init__(self, chromosomes: List[Chromosome], fitness_manager: FitnessManager):\n",
    "        self.chromosomes = chromosomes\n",
    "        self.fitness_manager = fitness_manager\n",
    "    \n",
    "    def __str__(self):\n",
    "        return f\"Population(chromosomes={self.chromosomes})\"\n",
    "    \n",
    "    def __repr__(self):\n",
    "        return self.__str__()\n",
    "    \n",
    "    def __getitem__(self, index):\n",
    "        return self.chromosomes[index]\n",
    "    \n",
    "    def __len__(self):\n",
    "        return len(self.chromosomes)\n",
    "    \n",
    "    def __iter__(self):\n",
    "        return iter(self.chromosomes)\n",
    "    \n",
    "    def __eq__(self, other: \"Population\"):\n",
    "        return self.chromosomes == other.chromosomes\n",
    "    \n",
    "    def __contains__(self, chromosome: Chromosome):\n",
    "        return chromosome in self.chromosomes\n",
    "    \n",
    "    def calculate_fitness(self):\n",
    "        for chromosome in self.chromosomes:\n",
    "            chromosome.fitness = self.fitness_manager(chromosome)\n",
    "    \n",
    "    def add_chromosome(self, chromosome: Chromosome):\n",
    "        self.chromosomes.append(chromosome)\n",
    "    \n",
    "    def remove_chromosome(self, chromosome: Chromosome):\n",
    "        self.chromosomes.remove(chromosome)\n",
    "    \n",
    "    def get_chromosome(self, index):\n",
    "        return self.chromosomes[index]\n",
    "    \n",
    "    def get_chromosomes(self):\n",
    "        return self.chromosomes\n",
    "    \n",
    "    def get_random_chromosome(self):\n",
    "        return random.choice(self.chromosomes)\n",
    "    \n",
    "    def get_best_chromosome(self):\n",
    "        return min(self.chromosomes, key=lambda chromosome: chromosome.fitness)\n",
    "    \n",
    "    def get_worst_chromosome(self):\n",
    "        return max(self.chromosomes, key=lambda chromosome: chromosome.fitness)\n",
    "    \n",
    "    def get_average_fitness(self):\n",
    "        return sum([chromosome.fitness for chromosome in self.chromosomes]) / len(self.chromosomes)"
   ]
  },
  {
   "cell_type": "markdown",
   "metadata": {},
   "source": [
    "#### Factory Method\n",
    "Class for generating population, chromosome, and gene. This class also generates some data like time slot, chromosome length, etc.This class requires a lot of data to be passed to it, so I think it's better to make it a class instead of a function."
   ]
  },
  {
   "cell_type": "code",
   "execution_count": 700,
   "metadata": {},
   "outputs": [],
   "source": [
    "#factory.py\n",
    "from typing import List\n",
    "from math import ceil, floor\n",
    "\n",
    "import numpy as np\n",
    "from datetime import datetime, timedelta\n",
    "\n",
    "from multiprocessing import Pool\n",
    "\n",
    "TimeSlot = namedtuple(\"TimeSlot\", [\"date\", \"day\", \"shift\"])\n",
    "\n",
    "class Factory:\n",
    "    '''Factory class to generate chromosomes and population. It also contains the data from the database. We can call this class when we need some of'''\n",
    "    def __init__(self):\n",
    "        self.laboratories = LaboratoryData\n",
    "        self.modules = ModuleData\n",
    "        self.chapters = ChapterData\n",
    "        self.groups = GroupData\n",
    "        self.participants = ParticipantData\n",
    "        self.assistants = AssistantData\n",
    "        self.constant = Constant\n",
    "        \n",
    "        self.constraints = ConstraintManager([ChapterModuleConstraint(), GroupModuleConstraint(), ModuleLaboratoryConstraint(), AssistantLaboratoryConstraint(), ScheduleConstraint()])\n",
    "        self.fitness_manager = FitnessManager([GroupAssignmentConflictFitness(), AssistantDistributionFitness()])\n",
    "\n",
    "    def set_constraints(self, constraints: List[BaseConstraint]):\n",
    "        # No idea if I need to check constraints here when generating the population\n",
    "        # But I think it's better to set the constraints here, maybe we can change the constraints later\n",
    "        self.constraints = ConstraintManager(constraints)\n",
    "\n",
    "    def set_fitness_manager(self, fitness_manager: FitnessManager):\n",
    "        self.fitness_manager = fitness_manager\n",
    "\n",
    "    def set_data(self, laboratories, modules, chapters, groups, participants, assistants):\n",
    "        self.laboratories = laboratories\n",
    "        self.modules = modules\n",
    "        self.chapters = chapters\n",
    "        self.groups = groups\n",
    "        self.participants = participants\n",
    "        self.assistants = assistants\n",
    "    \n",
    "    def generate_time_slot(self, start_date, end_date):\n",
    "        \"\"\"Generate time slots based on the start date, end date, days and shifts\"\"\"\n",
    "        #if start_date not start from Monday, then start from the next Monday\n",
    "        if start_date.weekday() != 0:\n",
    "            start_date = start_date + timedelta(days=7 - start_date.weekday())\n",
    "        duration = (end_date - start_date).days + 1\n",
    "        weeks_duration = floor(duration / 7) # Number of weeks between start date and end date, using floor to make sure that the time slot does not exceed the end date\n",
    "        random_weeks = np.random.randint(0, weeks_duration)\n",
    "        random_days = np.random.choice(self.constant.days)\n",
    "        random_shifts = np.random.choice(self.constant.shifts)\n",
    "        random_date = start_date + timedelta(days=random_weeks * 7 + self.constant.days.index(random_days))\n",
    "        return TimeSlot(random_date, random_days, random_shifts)\n",
    "    \n",
    "    def generate_time_slot_weekly(self, start_date, end_date):\n",
    "        \"\"\"Generate time slots based on the start date, end date, days and shifts\"\"\"\n",
    "        #if start_date not start from Monday, then start from the next Monday\n",
    "        if start_date.weekday() != 0:\n",
    "            start_date = start_date + timedelta(days=7 - start_date.weekday())\n",
    "        random_days = np.random.choice(self.constant.days)\n",
    "        random_shifts = np.random.choice(self.constant.shifts)\n",
    "        random_date = start_date + timedelta(days= 7 + self.constant.days.index(random_days))\n",
    "        return TimeSlot(random_date, random_days, random_shifts)\n",
    "    \n",
    "    def chromosome_size(self) -> int:\n",
    "        \"\"\"\n",
    "        Calculate the chromosome size based on the number of modules chapters and groups.\n",
    "        Each group must be assigned to all chapters in a module. Mostly used for testing purposes.\n",
    "        The actual chromosome size is generated based on parential data.\n",
    "\n",
    "        Returns:\n",
    "            int: chromosome size\n",
    "        \"\"\"\n",
    "        chromosome_size = 0\n",
    "        for module in self.modules:\n",
    "            chromosome_size += len(module.groups.all()) * len(module.chapters.all())\n",
    "        return chromosome_size\n",
    "    \n",
    "    def generate_chromosome(self) -> Chromosome:\n",
    "        \"\"\"Generate a chromosome based on data, each group must be assigned to all chapters in a module of appropriate lab\"\"\"\n",
    "        chromosome = Chromosome([])\n",
    "        for module in self.modules.get_modules():\n",
    "            for group in self.modules.get_groups(module.id):\n",
    "                for chapter in self.modules.get_chapters(module.id):\n",
    "                    laboratory = module.laboratory\n",
    "                    assistant = np.random.choice(self.laboratories.get_assistants(laboratory.id))\n",
    "                    time_slot = self.generate_time_slot(module.start_date, module.end_date)\n",
    "                    gene = Gene(laboratory.id, module.id, chapter.id, group.id, assistant.id, time_slot)\n",
    "                    chromosome.add_gene(gene)\n",
    "        return chromosome\n",
    "    \n",
    "    def generate_chromosome_weekly(self) -> Chromosome:\n",
    "        \"\"\"Generate a chromosome based on data, each group must be assigned to all chapters in a module of appropriate lab\"\"\"\n",
    "        chromosome = Chromosome([])\n",
    "        for module in self.modules.get_modules():\n",
    "            for group in self.modules.get_groups(module.id):\n",
    "                start_date = module.start_date\n",
    "                end_date = module.end_date\n",
    "                duration = (end_date - start_date).days + 1\n",
    "                weeks_duration = floor(duration / 7)\n",
    "                chapters_count = len(self.modules.get_chapters(module.id))\n",
    "                weekly_chapters = ceil(chapters_count / weeks_duration)\n",
    "                for i in range(weekly_chapters):\n",
    "                    laboratory = module.laboratory\n",
    "                    assistant = np.random.choice(self.laboratories.get_assistants(laboratory.id))\n",
    "                    time_slot = self.generate_time_slot_weekly(start_date, end_date)\n",
    "                    #first chapter\n",
    "                    chapter = module.chapters.all().first()\n",
    "                    gene = Gene(laboratory.id, module.id, chapter.id, group.id, assistant.id, time_slot)\n",
    "                    chromosome.add_gene(gene)\n",
    "        return chromosome\n",
    "    \n",
    "    def generate_population(self, population_size: int) -> Population:\n",
    "        \"\"\"Generate a population based on the population size\"\"\"\n",
    "\n",
    "        if settings.DEBUG:\n",
    "            logger.info(\"Generating population\")\n",
    "\n",
    "        chromosomes = []\n",
    "        # chromosomes = [self.generate_chromosome() for i in range(population_size)]\n",
    "        for i in range(population_size):\n",
    "            if settings.DEBUG:\n",
    "                logger.info(f\"Generating chromosome {i}\")\n",
    "\n",
    "            chromosomes.append(self.generate_chromosome())\n",
    "\n",
    "        population = Population(chromosomes, self.fitness_manager)\n",
    "        #population.calculate_fitness()\n",
    "        return population\n",
    "    \n",
    "    def generate_population_weekly(self, population_size: int) -> Population:\n",
    "        \"\"\"Generate a population based on the population size\"\"\"\n",
    "\n",
    "        if settings.DEBUG:\n",
    "            logger.info(\"Generating population\")\n",
    "\n",
    "        chromosomes = []\n",
    "        # chromosomes = [self.generate_chromosome() for i in range(population_size)]\n",
    "        for i in range(population_size):\n",
    "            if settings.DEBUG:\n",
    "                logger.info(f\"Generating chromosome {i}\")\n",
    "\n",
    "            chromosomes.append(self.generate_chromosome_weekly())\n",
    "\n",
    "        population = Population(chromosomes, self.fitness_manager)\n",
    "        #population.calculate_fitness()\n",
    "        return population\n",
    "    \n"
   ]
  },
  {
   "cell_type": "code",
   "execution_count": 701,
   "metadata": {},
   "outputs": [
    {
     "name": "stderr",
     "output_type": "stream",
     "text": [
      "INFO:__main__:Generating population\n",
      "INFO:__main__:Generating chromosome 0\n"
     ]
    }
   ],
   "source": [
    "#generate population test\n",
    "factory = Factory()\n",
    "settings.DEBUG = True\n",
    "population = factory.generate_population_weekly(1)\n"
   ]
  },
  {
   "cell_type": "code",
   "execution_count": null,
   "metadata": {},
   "outputs": [],
   "source": []
  },
  {
   "cell_type": "code",
   "execution_count": 702,
   "metadata": {},
   "outputs": [],
   "source": [
    "# group_assignment_conflict_fitness = GroupAssignmentConflictFitness()\n",
    "# assistant_distribution_fitness = AssistantDistributionFitness()\n",
    "\n",
    "# assistant_distribution_fitness.configure(15, 15, 1, 1)\n",
    "# group_assignment_conflict_fitness.configure(2, 1)\n",
    "\n",
    "# fitness_manager = FitnessManager([group_assignment_conflict_fitness, assistant_distribution_fitness])\n",
    "\n",
    "# fitness_manager(population[0])\n"
   ]
  },
  {
   "cell_type": "markdown",
   "metadata": {},
   "source": [
    "##### Factory pararel version test"
   ]
  },
  {
   "cell_type": "code",
   "execution_count": 703,
   "metadata": {},
   "outputs": [],
   "source": [
    "#Factory class parallel version test for faster population generation\n",
    "\n",
    "from multiprocessing import Pool, cpu_count, current_process, Manager, Process, Queue, Lock, Value\n",
    "from functools import partial\n",
    "from itertools import repeat\n",
    "import concurrent.futures\n",
    "\n",
    "class FactoryParallel(Factory):\n",
    "    def __init__(self):\n",
    "        super().__init__()\n",
    "        self.pool = Pool()\n",
    "        \n",
    "    def __del__(self):\n",
    "        self.pool.close()\n",
    "        self.pool.join()\n",
    "    \n",
    "    def generate_chromosome_parallel(self, i) -> Chromosome:\n",
    "        # i is just a dummy variable, it is not used, but it is needed for the map function\n",
    "        return self.generate_chromosome()\n",
    "    \n",
    "    def generate_population_parallel(self, population_size: int) -> Population:\n",
    "        with concurrent.futures.ThreadPoolExecutor() as executor:\n",
    "            chromosomes = list(executor.map(self.generate_chromosome_parallel, range(population_size)))\n",
    "        population = Population(chromosomes, self.fitness_manager)\n",
    "        return population\n"
   ]
  },
  {
   "cell_type": "code",
   "execution_count": 704,
   "metadata": {},
   "outputs": [],
   "source": [
    "# #generate population test\n",
    "# factory = Factory()\n",
    "# factory_parallel = FactoryParallel()\n",
    "# #time\n",
    "# import time\n",
    "# start = time.time()\n",
    "# population = factory.generate_population(100)\n",
    "# end = time.time()\n",
    "\n",
    "# parallel_start = time.time()\n",
    "# population_parallel = factory_parallel.generate_population_parallel(100)\n",
    "# parallel_end = time.time()\n",
    "\n",
    "# print(f\"Time taken for serial population generation: {end - start}\")\n",
    "# print(f\"Time taken for parallel population generation: {parallel_end - parallel_start}\")\n"
   ]
  },
  {
   "cell_type": "code",
   "execution_count": 705,
   "metadata": {},
   "outputs": [],
   "source": [
    "import timeit\n",
    "\n",
    "def test_factory(population_size):\n",
    "    factory_serial = Factory()\n",
    "    factory_parallel = FactoryParallel()\n",
    "    serial_time = timeit.timeit(lambda: factory_serial.generate_population(population_size), number=1)\n",
    "    parallel_time = timeit.timeit(lambda: factory_parallel.generate_population_parallel(population_size), number=1)\n",
    "    print(f\"Population size: {population_size}\")\n",
    "    print(f\"Serial time: {serial_time}\")\n",
    "    print(f\"Parallel time: {parallel_time}\")\n",
    "    print(f\"Speedup: {serial_time / parallel_time}\")\n",
    "    if serial_time / parallel_time > 1:\n",
    "        print(\"Parallel is faster with time difference of: \", serial_time - parallel_time)\n",
    "    else:\n",
    "        print(\"Serial is faster with time difference of: \", parallel_time - serial_time)\n",
    "    print()\n",
    "    return serial_time, parallel_time\n"
   ]
  },
  {
   "cell_type": "code",
   "execution_count": 706,
   "metadata": {},
   "outputs": [],
   "source": [
    "# #test for population size 1, 2, 4, 8, 16, 32, 64, 128, 256, 512\n",
    "# settings.DEBUG = False\n",
    "# data = []\n",
    "# for i in range(0, 10):\n",
    "#     data.append(test_factory(2 ** i))\n",
    "#     print('----------------------------------')\n"
   ]
  },
  {
   "cell_type": "markdown",
   "metadata": {},
   "source": [
    "##### Pararel and Serial version comparison\n",
    "\n",
    "Setelah dicoba, pada awalnya versi pararel lebih lambat dari versi serial, khususnya pada ukuran populasi rendah. Sekiranya antara 1 hingga 100 populasi, versi serial lebih cepat dari pada yang pararel. Tapi ketika ukuran populasi meningkat, setidaknya diatas 100, kecepatan versi pararel mulai mengungguli versi serial. Perbedaan yang dihasilkan juga cukup signifikan, pada saat populasi mencapai 512, versi pararel 1.5 kali lebih cepat dari versi serial. Apakah itu cukup signifikan? Mungkin kita coba lagi dengan ukuran populasi yang lebih besar, misal 1024 atau 2048. Sementara itu, ini adalah hasil perbandingan dari ujicoba sebelumnya. Untuk keterangan, ukuran chromosome untuk tiap populasi adalah 288.\n",
    "\n",
    "| Population Size | Serial | Pararel | Pararel Speedup |\n",
    "| --------------- | ------ | ------- | --------------- |\n",
    "| 2               | 0.765  | 0.576   | 1.328           |\n",
    "| 4               | 1.792  | 1.954   | 0.917           |\n",
    "| 8               | 3.573  | 4.294   | 0.832           |\n",
    "| 16              | 6.771  | 8.302   | 0.815           |\n",
    "| 32              | 13.199 | 17.507  | 0.753           |\n",
    "| 64              | 28.468 | 34.396  | 0.827           |\n",
    "| 128             | 53.476 | 46.242  | 1.156           |\n",
    "| 256             | 91.285 | 83.171  | 1.097           |\n",
    "| 512             | 466.15 | 294.25  | 1.584           |\n",
    "| 1024            | 385.61 | 304.31  | 1.267           |\n",
    "| 2048            | 758.55 | 587.89  | 1.290           |\n",
    "\n",
    "Kayaknya nanti bisa dipertimbangin deh mau make jenis proses yang mana, tergantung jumlah populasinya. Hmm kira2 bisa ngga ini diterapin di fungsi fitness. Di versi kode sebelumnya sebenernya lebih lama di ngurusin perhitungan fitness-nya, kalo generate population mah cuman diawal doang."
   ]
  },
  {
   "cell_type": "code",
   "execution_count": 707,
   "metadata": {},
   "outputs": [],
   "source": [
    "# # #test for population size 1024, 2048, 4096, 8192\n",
    "# for i in range(10, 14):\n",
    "#     data.append(test_factory(2 ** i))\n",
    "#     print('----------------------------------')"
   ]
  },
  {
   "cell_type": "markdown",
   "metadata": {},
   "source": [
    "#### Operator\n",
    "Operator is a class that contains methods for performing genetic operations such as crossover and mutation. This class is used by the genetic algorithm class to perform genetic operations on the population."
   ]
  },
  {
   "cell_type": "markdown",
   "metadata": {},
   "source": [
    "##### Mutation\n",
    "\n",
    "The one that need to mutate is just the time slot and the assistant, the rest is fixed because we just need the schedule. \n",
    "The group is already assigned to the appropriate module and all its chapters, we don't need to change it. \n",
    "Each chapter also already assigned to the correct module, and each module have their own lab, as well the group and the assistant. \n",
    "The schedule is affected by the time slot and the assistant that is assigned to the group. \n",
    "The number of group is fixed and cannot be random, that's why the only things that need to be mutated is the time slot and the assistant only.\n",
    "\n",
    "Tapi masih rada bingung sih fungsi mutasi apa aja yang mesti diterapin, apa ini bener?"
   ]
  },
  {
   "cell_type": "code",
   "execution_count": 708,
   "metadata": {},
   "outputs": [],
   "source": [
    "#Mutation Class\n",
    "\n",
    "import random\n",
    "from copy import deepcopy\n",
    "\n",
    "class BaseMutation:\n",
    "    def __init__(self, name, probability_weight=1):\n",
    "        self.name = name\n",
    "        self.probability_weight = probability_weight # It is used to determine the probability of the mutation function being called if more than one mutation function is used.\n",
    "    \n",
    "    def __str__(self):\n",
    "        return f\"Mutation(name={self.name})\"\n",
    "    \n",
    "    def __repr__(self):\n",
    "        return self.__str__()\n",
    "    \n",
    "    def __call__(self, chromosome: Chromosome):\n",
    "        raise NotImplementedError(\"Mutation function not implemented\")\n",
    "    \n",
    "class SwapMutation(BaseMutation):\n",
    "    def __init__(self):\n",
    "        super().__init__(\"SwapMutation\")\n",
    "    \n",
    "    def __call__(self, chromosome: Chromosome):\n",
    "        # Randomly select a gene\n",
    "        gene1 = random.choice(chromosome)\n",
    "        # Randomly select another gene\n",
    "        gene2 = random.choice(chromosome)\n",
    "        # Swap the time slot and the assistant\n",
    "        gene1.time_slot, gene2.time_slot = gene2.time_slot, gene1.time_slot\n",
    "        gene1.assistant, gene2.assistant = gene2.assistant, gene1.assistant\n",
    "\n",
    "        return chromosome\n",
    "    \n",
    "class ShiftMutation(BaseMutation):\n",
    "    def __init__(self):\n",
    "        super().__init__(\"ShiftMutation\")\n",
    "        self.constant = Constant\n",
    "    \n",
    "    def __call__(self, chromosome: Chromosome):\n",
    "        # Randomly select a gene\n",
    "        gene = random.choice(chromosome)\n",
    "        # Shift the time slot\n",
    "        gene.time_slot = self.shift_time_slot(gene.time_slot)\n",
    "\n",
    "        return chromosome\n",
    "    \n",
    "    def shift_time_slot(self, time_slot: TimeSlot) -> TimeSlot:\n",
    "        # Shift the time slot by 1 day\n",
    "        if time_slot.day == \"Saturday\":\n",
    "            return TimeSlot(time_slot.date + timedelta(days=2), \"Monday\", time_slot.shift)\n",
    "        return TimeSlot(time_slot.date + timedelta(days=1), self.constant.days[self.constant.days.index(time_slot.day) + 1], time_slot.shift)\n",
    "    \n",
    "class RandomMutation(BaseMutation):\n",
    "    def __init__(self):\n",
    "        super().__init__(\"RandomMutation\")\n",
    "        self.constant = Constant\n",
    "        self.laboratories = LaboratoryData\n",
    "\n",
    "\n",
    "    def __call__(self, chromosome: Chromosome):\n",
    "        # Randomly select a gene\n",
    "        gene = random.choice(chromosome)\n",
    "        module = gene.module_data\n",
    "        # Randomly select a time slot\n",
    "        time_slot = self.generate_time_slot(module.start_date, module.end_date)\n",
    "        # Randomly select an assistant\n",
    "        assistant = random.choice(self.laboratories.get_assistants(gene.laboratory)).id \n",
    "        # Change the gene\n",
    "        gene.time_slot = time_slot\n",
    "        gene.assistant = assistant\n",
    "\n",
    "        return chromosome\n",
    "    \n",
    "    def generate_time_slot(self, start_date, end_date):\n",
    "        \"\"\"Generate time slots based on the start date, end date, days and shifts\"\"\"\n",
    "        #if start_date not start from Monday, then start from the next Monday\n",
    "        if start_date.weekday() != 0:\n",
    "            start_date = start_date + timedelta(days=7 - start_date.weekday())\n",
    "        duration = (end_date - start_date).days + 1\n",
    "        weeks_duration = floor(duration / 7)\n",
    "        random_weeks = np.random.randint(0, weeks_duration)\n",
    "        random_days = np.random.choice(self.constant.days)\n",
    "        random_shifts = np.random.choice(self.constant.shifts)\n",
    "        random_date = start_date + timedelta(days=random_weeks * 7 + self.constant.days.index(random_days))\n",
    "        return TimeSlot(random_date, random_days, random_shifts)\n",
    "    \n",
    "class DynamicMutation(BaseMutation):\n",
    "    def __init__(self, name, mutation_function):\n",
    "        super().__init__(name)\n",
    "        self.mutation_function = mutation_function\n",
    "    \n",
    "    def __call__(self, chromosome: Chromosome):\n",
    "\n",
    "        return self.mutation_function(chromosome)\n",
    "    \n",
    "class MutationManager:\n",
    "    def __init__(self, mutation_functions: List[BaseMutation]):\n",
    "        self.mutation_functions = mutation_functions\n",
    "        self.mutation_probability = 0.1\n",
    "    \n",
    "    def __str__(self):\n",
    "        return f\"MutationManager(mutation_functions={self.mutation_functions})\"\n",
    "    \n",
    "    def __repr__(self):\n",
    "        return self.__str__()\n",
    "    \n",
    "    def __call__(self, chromosome: Chromosome):\n",
    "        #random based on probability weight\n",
    "        if random.random() < self.mutation_probability:\n",
    "            if settings.DEBUG:\n",
    "                logger.info(\"Mutating chromosome\")\n",
    "            mutation_function = self.get_random_mutation()\n",
    "            return mutation_function(chromosome)\n",
    "        return chromosome\n",
    "    \n",
    "    def get_random_mutation(self):\n",
    "        return random.choices(self.mutation_functions, weights=[mutation.probability_weight for mutation in self.mutation_functions])[0]\n",
    "    \n",
    "    def configure(self, mutation_functions: List[BaseMutation]):\n",
    "        self.mutation_functions = mutation_functions"
   ]
  },
  {
   "cell_type": "code",
   "execution_count": 709,
   "metadata": {},
   "outputs": [],
   "source": [
    "# factory = Factory()\n",
    "# population = factory.generate_population(5)"
   ]
  },
  {
   "cell_type": "code",
   "execution_count": 710,
   "metadata": {},
   "outputs": [],
   "source": [
    "# # Mutation Test\n",
    "# settings.DEBUG = True\n",
    "\n",
    "# swap_mutation = SwapMutation()\n",
    "# shift_mutation = ShiftMutation()\n",
    "# random_mutation = RandomMutation()\n",
    "\n",
    "# random_mutation.probability_weight = 1000\n",
    "\n",
    "# mutation_manager = MutationManager([swap_mutation, shift_mutation, random_mutation])\n",
    "# mutation_manager.mutation_probability = 1\n",
    "\n",
    "# import timeit\n",
    "# timeit.timeit(lambda: mutation_manager(population[0]), number=1)\n"
   ]
  },
  {
   "cell_type": "code",
   "execution_count": 711,
   "metadata": {},
   "outputs": [],
   "source": [
    "#mutation unit test\n",
    "import unittest\n",
    "\n",
    "class MutationTest(unittest.TestCase):\n",
    "    def setUp(self):\n",
    "        self.factory = Factory()\n",
    "        self.population = self.factory.generate_population(5)\n",
    "        self.mutation_manager = MutationManager([SwapMutation(), ShiftMutation(), RandomMutation()])\n",
    "        self.mutation_manager.mutation_probability = 1\n",
    "        self.mutation_manager.configure([SwapMutation(), ShiftMutation(), RandomMutation()])\n",
    "    \n",
    "    def test_swap_mutation(self):\n",
    "        swap_mutation = SwapMutation()\n",
    "        chromosome = deepcopy(self.population[0])\n",
    "        mutated_chromosome = swap_mutation(chromosome)\n",
    "        self.assertNotEqual(chromosome, mutated_chromosome)\n",
    "    \n",
    "    def test_shift_mutation(self):\n",
    "        shift_mutation = ShiftMutation()\n",
    "        chromosome = deepcopy(self.population[0])\n",
    "        mutated_chromosome = shift_mutation(chromosome)\n",
    "        self.assertNotEqual(chromosome, mutated_chromosome)\n",
    "    \n",
    "    def test_random_mutation(self):\n",
    "        random_mutation = RandomMutation()\n",
    "        chromosome = deepcopy(self.population[0])\n",
    "        mutated_chromosome = random_mutation(chromosome)\n",
    "        self.assertNotEqual(chromosome, mutated_chromosome)\n",
    "    \n",
    "    def test_mutation_manager(self):\n",
    "        chromosome = deepcopy(self.population[0])\n",
    "        mutated_chromosome = self.mutation_manager(chromosome)\n",
    "        self.assertNotEqual(chromosome, mutated_chromosome)\n",
    "    \n",
    "    def test_dynamic_mutation(self):\n",
    "        dynamic_mutation = DynamicMutation(\"DynamicMutation\", lambda chromosome: chromosome)\n",
    "        chromosome = deepcopy(self.population[0])\n",
    "        mutated_chromosome = dynamic_mutation(chromosome)\n",
    "        self.assertEqual(chromosome, mutated_chromosome)"
   ]
  },
  {
   "cell_type": "markdown",
   "metadata": {},
   "source": [
    "##### Crossover"
   ]
  },
  {
   "cell_type": "code",
   "execution_count": 712,
   "metadata": {},
   "outputs": [],
   "source": [
    "#Crossover Class\n",
    "\n",
    "import random\n",
    "from copy import deepcopy\n",
    "\n",
    "class BaseCrossover:\n",
    "    def __init__(self, name, probability_weight=1):\n",
    "        self.name = name\n",
    "        self.probability_weight = probability_weight # It is used to determine the probability of the crossover function being called if more than one crossover function is used.\n",
    "    \n",
    "    def __str__(self):\n",
    "        return f\"Crossover(name={self.name})\"\n",
    "    \n",
    "    def __repr__(self):\n",
    "        return self.__str__()\n",
    "    \n",
    "    def __call__(self, parent1: Chromosome, parent2: Chromosome):\n",
    "        raise NotImplementedError(\"Crossover function not implemented\")\n",
    "    \n",
    "class SinglePointCrossover(BaseCrossover):\n",
    "    def __init__(self):\n",
    "        super().__init__(\"SinglePointCrossover\")\n",
    "    \n",
    "    def __call__(self, parent1: Chromosome, parent2: Chromosome):\n",
    "        # Randomly select a point\n",
    "        point = random.randint(0, len(parent1))\n",
    "        # initialize the children\n",
    "        # child1 = deepcopy(parent1)\n",
    "        # child2 = deepcopy(parent2)\n",
    "        child1 = parent1 # already deepcopy in the selection part of the algorithm\n",
    "        child2 = parent2\n",
    "        #swap that point onwards\n",
    "        child1.genes[point:], child2.genes[point:] = child2.genes[point:], child1.genes[point:]\n",
    "\n",
    "        return child1, child2\n",
    "    \n",
    "class TwoPointCrossover(BaseCrossover):\n",
    "    def __init__(self):\n",
    "        super().__init__(\"TwoPointCrossover\")\n",
    "    \n",
    "    def __call__(self, parent1: Chromosome, parent2: Chromosome):\n",
    "        # Randomly select 2 points\n",
    "        point1 = random.randint(0, len(parent1))\n",
    "        point2 = random.randint(0, len(parent1))\n",
    "        # initialize the children\n",
    "        child1 = parent1\n",
    "        child2 = parent2\n",
    "        #swap a section of the chromosome between the 2 points\n",
    "        if point1 > point2:\n",
    "            point1, point2 = point2, point1\n",
    "        child1.genes[point1:point2], child2.genes[point1:point2] = child2.genes[point1:point2], child1.genes[point1:point2]\n",
    "\n",
    "        return child1, child2\n",
    "    \n",
    "class UniformCrossover(BaseCrossover):\n",
    "    def __init__(self):\n",
    "        super().__init__(\"UniformCrossover\")\n",
    "        self.uniform_probability = 0.5\n",
    "    \n",
    "    def __call__(self, parent1: Chromosome, parent2: Chromosome):\n",
    "        # initialize the children\n",
    "        child1 = parent1\n",
    "        child2 = parent2\n",
    "        #swap a section of the chromosome between the 2 points\n",
    "        count = 0\n",
    "        for i in range(len(child1)):\n",
    "            if random.random() < self.uniform_probability:\n",
    "                count += 1\n",
    "                child1.genes[i], child2.genes[i] = child2.genes[i], child1.genes[i]\n",
    "        \n",
    "        return child1, child2\n",
    "    \n",
    "    def configure(self, uniform_probability):\n",
    "        '''Configure the crossover function\n",
    "        \n",
    "        Args:\n",
    "            uniform_probability (float): The probability of swapping a gene between the 2 parents on a particular index'''\n",
    "        \n",
    "        self.uniform_probability = uniform_probability\n",
    "\n",
    "class DynamicCrossover(BaseCrossover):\n",
    "    def __init__(self, name, crossover_function):\n",
    "        super().__init__(name)\n",
    "        self.crossover_function = crossover_function\n",
    "    \n",
    "    def __call__(self, parent1: Chromosome, parent2: Chromosome):\n",
    "        return self.crossover_function(parent1, parent2)\n",
    "    \n",
    "class CrossoverManager:\n",
    "    def __init__(self, crossover_functions: List[BaseCrossover]):\n",
    "        self.crossover_functions = crossover_functions\n",
    "        self.crossover_probability = 0.1\n",
    "    \n",
    "    def __str__(self):\n",
    "        return f\"CrossoverManager(crossover_functions={self.crossover_functions})\"\n",
    "    \n",
    "    def __repr__(self):\n",
    "        return self.__str__()\n",
    "    \n",
    "    def __call__(self, parent1: Chromosome, parent2: Chromosome):\n",
    "        #random based on probability weight\n",
    "        if random.random() < self.crossover_probability:\n",
    "            if settings.DEBUG:\n",
    "                logger.info(\"Crossovering chromosome\")\n",
    "            crossover_function = self.get_random_crossover()\n",
    "            return crossover_function(parent1, parent2)\n",
    "        return parent1, parent2\n",
    "    \n",
    "    def get_random_crossover(self):\n",
    "        return random.choices(self.crossover_functions, weights=[crossover.probability_weight for crossover in self.crossover_functions])[0]\n",
    "    \n",
    "    def configure(self, crossover_functions: List[BaseCrossover]):\n",
    "        self.crossover_functions = crossover_functions"
   ]
  },
  {
   "cell_type": "code",
   "execution_count": 713,
   "metadata": {},
   "outputs": [],
   "source": [
    "# Crossover Test if it works\n",
    "import unittest\n",
    "\n",
    "#import Chromosome, Gene, TimeSlot, LaboratoryData, ModuleData, ChapterData, GroupData, AssistantData\n",
    "#import SinglePointCrossover, TwoPointCrossover, UniformCrossover\n",
    "#import Constant\n",
    "\n",
    "class TestCrossover(unittest.TestCase):\n",
    "    def setUp(self):\n",
    "        self.parent1 = Chromosome([Gene(LaboratoryData.get_random_laboratory().id, ModuleData.get_random_module().id, ChapterData.get_random_chapter(1).id, GroupData.get_random_group().id, AssistantData.get_random_assistant().id, self.generate_time_slot(datetime(2021, 5, 5), datetime(2021, 6, 15))) for i in range(10)])\n",
    "        self.parent2 = Chromosome([Gene(LaboratoryData.get_random_laboratory().id, ModuleData.get_random_module().id, ChapterData.get_random_chapter(1).id, GroupData.get_random_group().id, AssistantData.get_random_assistant().id, self.generate_time_slot(datetime(2021, 5, 5), datetime(2021, 6, 15))) for i in range(10)])\n",
    "\n",
    "    def generate_time_slot(self, start_date, end_date):\n",
    "        \"\"\"Generate time slots based on the start date, end date, days and shifts\"\"\"\n",
    "        #if start_date not start from Monday, then start from the next Monday\n",
    "        if start_date.weekday() != 0:\n",
    "            start_date = start_date + timedelta(days=7 - start_date.weekday())\n",
    "        duration = (end_date - start_date).days + 1\n",
    "        weeks_duration = floor(duration / 7)\n",
    "        random_weeks = np.random.randint(0, weeks_duration)\n",
    "        random_days = np.random.choice(Constant.days)\n",
    "        random_shifts = np.random.choice(Constant.shifts)\n",
    "        random_date = start_date + timedelta(days=random_weeks * 7 + Constant.days.index(random_days))\n",
    "        return TimeSlot(random_date, random_days, random_shifts)\n",
    "\n",
    "    def test_single_point_crossover(self):\n",
    "        single_point_crossover = SinglePointCrossover()\n",
    "        child1, child2 = single_point_crossover(self.parent1, self.parent2)\n",
    "        self.assertNotEqual(self.parent1.genes, child1.genes)\n",
    "        self.assertNotEqual(self.parent2.genes, child2.genes)\n",
    "        self.assertEqual(len(child1), len(child2))\n",
    "        self.assertEqual(len(child1), len(self.parent1))\n",
    "        self.assertEqual(len(child2), len(self.parent2))\n",
    "\n",
    "    def test_two_point_crossover(self):\n",
    "        two_point_crossover = TwoPointCrossover()\n",
    "        child1, child2 = two_point_crossover(self.parent1, self.parent2)\n",
    "        self.assertNotEqual(self.parent1.genes, child1.genes)\n",
    "        self.assertNotEqual(self.parent2.genes, child2.genes)\n",
    "        self.assertEqual(len(child1), len(child2))\n",
    "        self.assertEqual(len(child1), len(self.parent1))\n",
    "        self.assertEqual(len(child2), len(self.parent2))\n",
    "\n",
    "    def test_uniform_crossover(self):\n",
    "        uniform_crossover = UniformCrossover()\n",
    "        child1, child2 = uniform_crossover(self.parent1, self.parent2)\n",
    "        self.assertNotEqual(self.parent1.genes, child1.genes)\n",
    "        self.assertNotEqual(self.parent2.genes, child2.genes)\n",
    "        self.assertEqual(len(child1), len(child2))\n",
    "        self.assertEqual(len(child1), len(self.parent1))\n",
    "        self.assertEqual(len(child2), len(self.parent2))\n"
   ]
  },
  {
   "cell_type": "code",
   "execution_count": 714,
   "metadata": {},
   "outputs": [],
   "source": [
    "# # Crossover Test\n",
    "# settings.DEBUG = True\n",
    "# factory = Factory()\n",
    "# population = factory.generate_population(2)\n",
    "\n",
    "# single_point_crossover = SinglePointCrossover()\n",
    "# two_point_crossover = TwoPointCrossover()\n",
    "# uniform_crossover = UniformCrossover()\n",
    "\n",
    "# crossover_manager = CrossoverManager([single_point_crossover, two_point_crossover, uniform_crossover])\n",
    "# crossover_manager.crossover_probability = 1\n",
    "\n",
    "# child1, child2 = crossover_manager(population[0], population[1])"
   ]
  },
  {
   "cell_type": "code",
   "execution_count": 715,
   "metadata": {},
   "outputs": [],
   "source": [
    "# # count the number of genes that are different\n",
    "# count = 0\n",
    "# for i in range(len(child1)):\n",
    "#     if child1[i] != population[0][i]:\n",
    "#         count += 1\n",
    "\n",
    "# print(f\"Number of genes that are different: {count}\")"
   ]
  },
  {
   "cell_type": "markdown",
   "metadata": {},
   "source": [
    "##### Repair"
   ]
  },
  {
   "cell_type": "code",
   "execution_count": 716,
   "metadata": {},
   "outputs": [],
   "source": [
    "#Repairs Class\n",
    "\n",
    "class BaseRepair:\n",
    "    def __init__(self, name):\n",
    "        self.name = name\n",
    "    \n",
    "    def __str__(self):\n",
    "        return f\"Repair(name={self.name})\"\n",
    "    \n",
    "    def __repr__(self):\n",
    "        return self.__str__()\n",
    "    \n",
    "    def __call__(self, chromosome: Chromosome):\n",
    "        raise NotImplementedError(\"Repair function not implemented\")\n",
    "    \n",
    "class DynamicRepair(BaseRepair):\n",
    "    def __init__(self, name, repair_function):\n",
    "        super().__init__(name)\n",
    "        self.repair_function = repair_function\n",
    "    \n",
    "    def __call__(self, chromosome: Chromosome):\n",
    "        return self.repair_function(chromosome)\n",
    "    \n",
    "class RepairManager:\n",
    "    def __init__(self, repair_functions: List[BaseRepair]):\n",
    "        self.repair_functions = repair_functions\n",
    "    \n",
    "    def __str__(self):\n",
    "        return f\"RepairManager(repair_functions={self.repair_functions})\"\n",
    "    \n",
    "    def __repr__(self):\n",
    "        return self.__str__()\n",
    "    \n",
    "    def __call__(self, chromosome: Chromosome):\n",
    "        for repair_function in self.repair_functions:\n",
    "            chromosome = repair_function(chromosome)\n",
    "        return chromosome\n",
    "    \n",
    "    def configure(self, repair_functions: List[BaseRepair]):\n",
    "        self.repair_functions = repair_functions"
   ]
  },
  {
   "cell_type": "code",
   "execution_count": 717,
   "metadata": {},
   "outputs": [],
   "source": [
    "\n",
    "class RepairTimeSlot(BaseRepair):\n",
    "    def __init__(self):\n",
    "        super().__init__(\"RepairTimeSlot\")\n",
    "        self.schedule_constraint = ScheduleConstraint()\n",
    "    \n",
    "    def __call__(self, chromosome: Chromosome):\n",
    "        # chromosome = deepcopy(chromosome)\n",
    "        for gene in chromosome:\n",
    "            if not self.check_available_time_slot(gene):\n",
    "                time_slot = self.find_feasible_solution(gene)\n",
    "                if time_slot is None:\n",
    "                    time_slot = gene.time_slot\n",
    "                gene.time_slot = time_slot\n",
    "        return chromosome\n",
    "    \n",
    "    def check_available_time_slot(self, gene: Gene):\n",
    "        \"\"\"Check whether the time slot is available or not.\n",
    "        The gene contain group_schedule property which is a dictionary of day as key and list of shifts dictionary with boolean value as value.\n",
    "        This is the example of the group_schedule property:\n",
    "        {'Friday': {'Shift1': False,\n",
    "                    'Shift2': True,\n",
    "                    'Shift3': False,\n",
    "                    'Shift4': True,\n",
    "                    'Shift5': False,\n",
    "                    'Shift6': True}\n",
    "        }\n",
    "\n",
    "        The value is already in a boolean value, so we can just return it based on the time slot shift and day.\n",
    "        \"\"\"\n",
    "        return self.schedule_constraint(gene)\n",
    "    \n",
    "    def generate_time_slot(self, start_date, end_date):\n",
    "        \"\"\"Generate time slots based on the start date, end date, days and shifts\"\"\"\n",
    "        #if start_date not start from Monday, then start from the next Monday\n",
    "        if start_date.weekday() != 0:\n",
    "            start_date = start_date + timedelta(days=7 - start_date.weekday())\n",
    "        duration = (end_date - start_date).days + 1\n",
    "        weeks_duration = floor(duration / 7)\n",
    "        random_weeks = np.random.randint(0, weeks_duration)\n",
    "        random_days = np.random.choice(Constant.days)\n",
    "        random_shifts = np.random.choice(Constant.shifts)\n",
    "        random_date = start_date + timedelta(days=random_weeks * 7 + Constant.days.index(random_days))\n",
    "        return TimeSlot(random_date, random_days, random_shifts)\n",
    "    \n",
    "    def find_feasible_solution(self, gene: Gene, max_iteration=100):\n",
    "        \"\"\"Find a feasible solution for the gene by randomly generating a time slot until it is available\"\"\"\n",
    "        start_date = gene.module_data.start_date\n",
    "        end_date = gene.module_data.end_date\n",
    "        for _ in range(max_iteration):\n",
    "            gene.time_slot = self.generate_time_slot(start_date, end_date)\n",
    "            if self.check_available_time_slot(gene):\n",
    "                return gene.time_slot\n",
    "        return None"
   ]
  },
  {
   "cell_type": "code",
   "execution_count": 718,
   "metadata": {},
   "outputs": [],
   "source": [
    "# #test def generate_time_slot\n",
    "# factory = Factory()\n",
    "# repair_time_slot = RepairTimeSlot()\n",
    "# population = factory.generate_population(2042)\n",
    "\n",
    "# def test_repair_time_slot():\n",
    "#     for chromosome in population:\n",
    "#         chromosome = repair_time_slot(chromosome)"
   ]
  },
  {
   "cell_type": "code",
   "execution_count": 719,
   "metadata": {},
   "outputs": [],
   "source": [
    "#unit test for repair time slot\n",
    "import unittest\n",
    "\n",
    "class RepairTimeSlotTest(unittest.TestCase):\n",
    "    def setUp(self):\n",
    "        self.factory = Factory()\n",
    "        self.repair_time_slot = RepairTimeSlot()\n",
    "        self.population = self.factory.generate_population(10)\n",
    "    \n",
    "    def test_repair_time_slot(self):\n",
    "        for chromosome in self.population:\n",
    "            chromosome = self.repair_time_slot(chromosome)\n",
    "            for gene in chromosome:\n",
    "                self.assertTrue(self.repair_time_slot.check_available_time_slot(gene))"
   ]
  },
  {
   "cell_type": "code",
   "execution_count": 720,
   "metadata": {},
   "outputs": [],
   "source": [
    "# settings.DEBUG = False\n",
    "\n",
    "# factory = Factory()\n",
    "# population = factory.generate_population(500)\n",
    "\n",
    "# repair_time_slot = RepairTimeSlot()\n",
    "\n",
    "# repair_manager = RepairManager([repair_time_slot])\n",
    "\n",
    "# schedule_constraint = ScheduleConstraint()\n",
    "\n",
    "# for chromosome in population:\n",
    "#     chromosome = repair_manager(chromosome)\n",
    "#     count = 0\n",
    "#     for gene in chromosome:\n",
    "#         if not schedule_constraint(gene):\n",
    "#             count += 1\n",
    "#     print(f\"Number of genes that violate the schedule constraint: {count}\")\n",
    "    "
   ]
  },
  {
   "cell_type": "markdown",
   "metadata": {},
   "source": [
    "##### Selection"
   ]
  },
  {
   "cell_type": "code",
   "execution_count": 721,
   "metadata": {},
   "outputs": [],
   "source": [
    "#Selection Class\n",
    "\n",
    "import random\n",
    "from copy import deepcopy\n",
    "\n",
    "class BaseSelection:\n",
    "    def __init__(self, name, probability_weight=1):\n",
    "        self.name = name\n",
    "        self.probability_weight = probability_weight # It is used to determine the probability of the selection function being called if more than one selection function is used.\n",
    "    \n",
    "    def __str__(self):\n",
    "        return f\"Selection(name={self.name})\"\n",
    "    \n",
    "    def __repr__(self):\n",
    "        return self.__str__()\n",
    "    \n",
    "    def __call__(self, population: Population):\n",
    "        raise NotImplementedError(\"Selection function not implemented\")\n",
    "        \n",
    "    \n",
    "class RouletteWheelSelection(BaseSelection):\n",
    "    def __init__(self):\n",
    "        super().__init__(\"RouletteWheelSelection\")\n",
    "    \n",
    "    def __call__(self, population: Population):\n",
    "        # Calculate the total fitness\n",
    "        total_fitness = sum([chromosome.fitness for chromosome in population])\n",
    "        # Calculate the probability of each chromosome being selected\n",
    "        probabilities = [chromosome.fitness / total_fitness for chromosome in population]\n",
    "        # Select a chromosome based on the probability\n",
    "\n",
    "        return random.choices(population, weights=probabilities)[0] # random.choices return a list, so we need to get the first element\n",
    "    \n",
    "class TournamentSelection(BaseSelection):\n",
    "    def __init__(self):\n",
    "        super().__init__(\"TournamentSelection\")\n",
    "        self.tournament_size = 2\n",
    "    \n",
    "    def __call__(self, population: Population):\n",
    "        # Select a random chromosome\n",
    "        chromosome = random.choice(population)\n",
    "        # Select a random chromosome from the tournament size\n",
    "        for i in range(self.tournament_size - 1):\n",
    "            chromosome2 = random.choice(population)\n",
    "            if chromosome2.fitness < chromosome.fitness:\n",
    "                chromosome = chromosome2 # Select the chromosome with the lowest fitness\n",
    "\n",
    "        return chromosome\n",
    "    \n",
    "    def configure(self, tournament_size):\n",
    "        self.tournament_size = tournament_size\n",
    "\n",
    "class ElitismSelection(BaseSelection):\n",
    "    def __init__(self):\n",
    "        super().__init__(\"ElitismSelection\")\n",
    "        self.elitism_size = 1\n",
    "    \n",
    "    def __call__(self, population: Population):\n",
    "        # Sort the population based on fitness\n",
    "        population = sorted(population, key=lambda chromosome: chromosome.fitness)\n",
    "        # Select the best chromosome\n",
    "\n",
    "        if self.elitism_size == 1:\n",
    "            return population[0]\n",
    "        \n",
    "        return population[:self.elitism_size]\n",
    "    \n",
    "    def configure(self, elitism_size):\n",
    "        self.elitism_size = elitism_size\n",
    "\n",
    "class DynamicSelection(BaseSelection):\n",
    "    def __init__(self, name, selection_function):\n",
    "        super().__init__(name)\n",
    "        self.selection_function = selection_function\n",
    "    \n",
    "    def __call__(self, population: Population):\n",
    "        return self.selection_function(population)\n",
    "    \n",
    "class SelectionManager:\n",
    "    def __init__(self, selection_functions: List[BaseSelection]):\n",
    "        self.selection_functions = selection_functions\n",
    "        self.selection_probability = 0.1\n",
    "    \n",
    "    def __str__(self):\n",
    "        return f\"SelectionManager(selection_functions={self.selection_functions})\"\n",
    "    \n",
    "    def __repr__(self):\n",
    "        return self.__str__()\n",
    "    \n",
    "    def __call__(self, population: Population) -> Chromosome:\n",
    "        #random based on probability weight\n",
    "        if random.random() < self.selection_probability:\n",
    "            if settings.DEBUG:\n",
    "                logger.info(\"Selecting chromosome\")\n",
    "            selection_function = self.get_random_selection()\n",
    "            return selection_function(population)\n",
    "        \n",
    "        # if isinstance(population, list):\n",
    "        #     return random.choice(population)\n",
    "\n",
    "        return population.get_random_chromosome()\n",
    "    \n",
    "    def get_random_selection(self):\n",
    "        return random.choices(self.selection_functions, weights=[selection.probability_weight for selection in self.selection_functions])[0]\n",
    "    \n",
    "    def configure(self, selection_functions: List[BaseSelection]):\n",
    "        self.selection_functions = selection_functions"
   ]
  },
  {
   "cell_type": "code",
   "execution_count": 722,
   "metadata": {},
   "outputs": [
    {
     "name": "stderr",
     "output_type": "stream",
     "text": [
      "INFO:__main__:Generating population\n",
      "INFO:__main__:Generating chromosome 0\n",
      "INFO:__main__:Generating chromosome 1\n",
      "INFO:__main__:Generating chromosome 2\n",
      "INFO:__main__:Generating chromosome 3\n",
      "INFO:__main__:Generating chromosome 4\n"
     ]
    }
   ],
   "source": [
    "# Selection Test\n",
    "factory = Factory()\n",
    "population = factory.generate_population(5)\n",
    "\n",
    "roulette_wheel_selection = RouletteWheelSelection()\n",
    "tournament_selection = TournamentSelection()\n",
    "elitism_selection = ElitismSelection()\n",
    "\n",
    "selection_manager = SelectionManager([roulette_wheel_selection, tournament_selection, elitism_selection])\n",
    "selection_manager.selection_probability = 1\n"
   ]
  },
  {
   "cell_type": "code",
   "execution_count": 723,
   "metadata": {},
   "outputs": [],
   "source": [
    "population.calculate_fitness()"
   ]
  },
  {
   "cell_type": "code",
   "execution_count": 724,
   "metadata": {},
   "outputs": [
    {
     "name": "stderr",
     "output_type": "stream",
     "text": [
      "INFO:__main__:Selecting chromosome\n",
      "INFO:__main__:Selecting chromosome\n",
      "INFO:__main__:Selecting chromosome\n",
      "INFO:__main__:Selecting chromosome\n",
      "INFO:__main__:Selecting chromosome\n"
     ]
    }
   ],
   "source": [
    "new_population = Population([], population.fitness_manager)\n",
    "\n",
    "for i in range(len(population)):\n",
    "    chromosome = deepcopy(selection_manager(population))\n",
    "    new_population.add_chromosome(chromosome)\n"
   ]
  },
  {
   "cell_type": "code",
   "execution_count": 725,
   "metadata": {},
   "outputs": [
    {
     "data": {
      "text/plain": [
       "5"
      ]
     },
     "execution_count": 725,
     "metadata": {},
     "output_type": "execute_result"
    }
   ],
   "source": [
    "len(new_population)"
   ]
  },
  {
   "cell_type": "markdown",
   "metadata": {},
   "source": [
    "#### Main Algorithm"
   ]
  },
  {
   "cell_type": "code",
   "execution_count": 751,
   "metadata": {},
   "outputs": [],
   "source": [
    "#Genetic Algorithm Class\n",
    "\n",
    "import time\n",
    "from copy import deepcopy\n",
    "\n",
    "class GeneticAlgorithm:\n",
    "    def __init__(self, factory: Factory, population_size: int, selection_manager: SelectionManager, crossover_manager: CrossoverManager, mutation_manager: MutationManager, repair_manager: RepairManager, elitism_size: int, elitism_selection: ElitismSelection):\n",
    "        self.factory = factory\n",
    "        self.population_size = population_size\n",
    "        self.selection_manager = selection_manager\n",
    "        self.crossover_manager = crossover_manager\n",
    "        self.mutation_manager = mutation_manager\n",
    "        self.repair_manager = repair_manager\n",
    "        self.elitism_size = elitism_size\n",
    "        self.elitism_selection = elitism_selection\n",
    "\n",
    "        #log detail for each iteration. Containt the best chromosome, total repairing time, total crossovering time, total mutating time, total fitness time etc.\n",
    "        # log[i] = { \"best_chromosome\": Chromosome, \"repair_time\": float, \"crossover_time\": float, \"mutation_time\": float, \"fitness_time\": float, \"total_time\": float}\n",
    "        self.log = {}\n",
    "\n",
    "    # def log_detail(self, i, best_chromosome, repair_time, crossover_time, mutation_time, fitness_time, total_time):\n",
    "\n",
    "    #     self.log[i] = { \"best_chromosome\": best_chromosome, \"repair_time\": repair_time, \"crossover_time\": crossover_time, \"mutation_time\": mutation_time, \"fitness_time\": fitness_time, \"total_time\": total_time}\n",
    "    \n",
    "    def __str__(self):\n",
    "        return f\"GeneticAlgorithm(factory={self.factory}, population_size={self.population_size}, selection_manager={self.selection_manager}, crossover_manager={self.crossover_manager}, mutation_manager={self.mutation_manager}, repair_manager={self.repair_manager}, elitism_size={self.elitism_size})\"\n",
    "    \n",
    "    def __repr__(self):\n",
    "        return self.__str__()\n",
    "    \n",
    "    def __init_population(self):\n",
    "        #return self.factory.generate_population_weekly(self.population_size)\n",
    "        return self.factory.generate_population(self.population_size)\n",
    "    \n",
    "    def __selection(self, population: Population):\n",
    "        return self.selection_manager(population)\n",
    "    \n",
    "    def __crossover(self, parent1: Chromosome, parent2: Chromosome):\n",
    "        return self.crossover_manager(parent1, parent2)\n",
    "    \n",
    "    def __mutation(self, chromosome: Chromosome):\n",
    "        return self.mutation_manager(chromosome)\n",
    "    \n",
    "    def __repair(self, chromosome: Chromosome):\n",
    "        return self.repair_manager(chromosome)\n",
    "    \n",
    "    def __elitism(self, population: Population):\n",
    "        self.elitism_selection.elitism_size = self.elitism_size\n",
    "        return self.elitism_selection(population)\n",
    "    \n",
    "    def __evolve(self, population: Population, iteration: int):\n",
    "        start = time.time()\n",
    "\n",
    "        # Selection\n",
    "        parent1 = deepcopy(self.__selection(population))\n",
    "        parent2 = deepcopy(self.__selection(population))\n",
    "        selection_time = time.time() - start\n",
    "        self.log[iteration][\"selection_time\"] += selection_time\n",
    "\n",
    "        # Crossover\n",
    "        child1, child2 = self.__crossover(parent1, parent2) # Crossover is done using deep copy, so we need to assign it back to the variable since it not modify the original chromosome\n",
    "        crossover_time = time.time() - start - selection_time\n",
    "        self.log[iteration][\"crossover_time\"] += crossover_time\n",
    "\n",
    "        # Mutation\n",
    "        self.__mutation(child1) # Mutation is done in place, so we don't need to assign it back to the variable\n",
    "        self.__mutation(child2)\n",
    "        mutation_time = time.time() - start - selection_time - crossover_time\n",
    "        self.log[iteration][\"mutation_time\"] += mutation_time\n",
    "\n",
    "        # Repair\n",
    "        self.__repair(child1) # Repair is done in place, so we don't need to assign it back to the variable\n",
    "        self.__repair(child2)\n",
    "        repair_time = time.time() - start - selection_time - crossover_time - mutation_time\n",
    "        self.log[iteration][\"repair_time\"] += repair_time\n",
    "        \n",
    "        return child1, child2\n",
    "    \n",
    "    def __evolve_population(self, population: Population, iteration: int):\n",
    "    \n",
    "        # Elitism\n",
    "        start = time.time()\n",
    "        elitism = self.__elitism(population)\n",
    "        elitism_time = time.time() - start\n",
    "        self.log[iteration][\"elitism_time\"] += elitism_time\n",
    "        # Evolve the rest of the population\n",
    "        children = []\n",
    "\n",
    "        # for _ in range(len(population) - self.elitism_size): # -elitism_size because we need to make slots for the elitism\n",
    "        #     child1, child2 = self.__evolve(population, iteration)\n",
    "        #     children.append(child1)\n",
    "        #     children.append(child2)\n",
    "\n",
    "        while len(children) < len(population) - self.elitism_size:\n",
    "            child1, child2 = self.__evolve(population, iteration)\n",
    "            children.append(child1)\n",
    "            children.append(child2)\n",
    "            \n",
    "        return Population(children, population.fitness_manager), elitism\n",
    "    \n",
    "    def run(self, max_iteration: int):\n",
    "        # Initialize the population\n",
    "        population = self.__init_population()\n",
    "        # Calculate the fitness of the population\n",
    "        population.calculate_fitness()\n",
    "        # Sort the population based on fitness\n",
    "        population = Population(sorted(population, key=lambda chromosome: chromosome.fitness), population.fitness_manager)\n",
    "        \n",
    "        \n",
    "        logger.info(f\"Initial population: {len(population)} chromosomes\")\n",
    "\n",
    "        for i in range(max_iteration):\n",
    "\n",
    "            self.log[i] = {\"best_chromosome\": population[0], \"repair_time\": 0, \"crossover_time\": 0, \"mutation_time\": 0, \"fitness_time\": 0, \"total_time\": 0, \"elitism_time\": 0, \"selection_time\": 0, \"total_time\": 0}\n",
    "\n",
    "            logger.info(f\"Iteration {i}\")\n",
    "            start = time.time()\n",
    "\n",
    "            # Evolve the population\n",
    "            \n",
    "            population, elitism = self.__evolve_population(population,i)\n",
    "            evolve_time = time.time() - start\n",
    "            self.log[i][\"total_time\"] += evolve_time\n",
    "            logger.info(f\"Evolve time for iteration {i}: {evolve_time}\")\n",
    "\n",
    "            # Add the elitism back to the population\n",
    "            population.add_chromosome(elitism)\n",
    "\n",
    "            # Calculate the fitness of the population\n",
    "            population.calculate_fitness()\n",
    "            fitness_time = time.time() - start - evolve_time\n",
    "            self.log[i][\"fitness_time\"] += fitness_time\n",
    "\n",
    "            # Sort the population based on fitness\n",
    "            population = Population(sorted(population, key=lambda chromosome: chromosome.fitness), population.fitness_manager)\n",
    "        \n",
    "            logger.info(f\"Best chromosome after iteration {i}: {population[0].fitness}\")\n",
    "            logger.info(f\"Worst chromosome after iteration {i}: {population[-1].fitness}\")\n",
    "            #line\n",
    "            print(\"--------------------------------------------------\")\n",
    "\n",
    "            # gc.collect()\n",
    "        return population[0]\n",
    "    \n",
    "    def configure(self, population_size: int, selection_manager: SelectionManager, crossover_manager: CrossoverManager, mutation_manager: MutationManager, repair_manager: RepairManager, elitism_size: int):\n",
    "        self.population_size = population_size\n",
    "        self.selection_manager = selection_manager\n",
    "        self.crossover_manager = crossover_manager\n",
    "        self.mutation_manager = mutation_manager\n",
    "        self.repair_manager = repair_manager\n",
    "        self.elitism_size = elitism_size"
   ]
  },
  {
   "cell_type": "code",
   "execution_count": 756,
   "metadata": {},
   "outputs": [],
   "source": [
    "# Genetic Algorithm Test\n",
    "#factory\n",
    "factory = Factory()\n",
    "\n",
    "#fitness\n",
    "group_assignment_conflict_fitness = GroupAssignmentConflictFitness()\n",
    "group_assignment_conflict_fitness.configure(3, 1)\n",
    "\n",
    "assistant_distribution_fitness = AssistantDistributionFitness()\n",
    "assistant_distribution_fitness.configure(15, 50, 1, 1)\n",
    "\n",
    "fitness_manager = FitnessManager([group_assignment_conflict_fitness, assistant_distribution_fitness])\n",
    "factory.fitness_manager = fitness_manager\n",
    "\n",
    "population_size = 25\n",
    "selection_manager = SelectionManager([RouletteWheelSelection(), TournamentSelection(), ElitismSelection()])\n",
    "crossover_manager = CrossoverManager([SinglePointCrossover(), TwoPointCrossover(), UniformCrossover()])\n",
    "mutation_manager = MutationManager([SwapMutation(), ShiftMutation(), RandomMutation()])\n",
    "repair_manager = RepairManager([RepairTimeSlot()])\n",
    "elitism_size = 1\n",
    "elitism_selection = ElitismSelection()\n",
    "\n",
    "selection_manager.selection_probability = 0.75\n",
    "crossover_manager.crossover_probability = 0.75\n",
    "mutation_manager.mutation_probability = 0.75\n",
    "\n",
    "genetic_algorithm = GeneticAlgorithm(factory, population_size, selection_manager, crossover_manager, mutation_manager, repair_manager, elitism_size, elitism_selection)"
   ]
  },
  {
   "cell_type": "code",
   "execution_count": 728,
   "metadata": {},
   "outputs": [],
   "source": [
    "import cProfile"
   ]
  },
  {
   "cell_type": "code",
   "execution_count": 757,
   "metadata": {},
   "outputs": [
    {
     "name": "stderr",
     "output_type": "stream",
     "text": [
      "INFO:__main__:Initial population: 25 chromosomes\n",
      "INFO:__main__:Iteration 0\n",
      "INFO:__main__:Evolve time for iteration 0: 0.6665802001953125\n",
      "INFO:__main__:Best chromosome after iteration 0: 81\n",
      "INFO:__main__:Worst chromosome after iteration 0: 112\n"
     ]
    },
    {
     "name": "stdout",
     "output_type": "stream",
     "text": [
      "--------------------------------------------------\n"
     ]
    },
    {
     "name": "stderr",
     "output_type": "stream",
     "text": [
      "INFO:__main__:Iteration 1\n",
      "INFO:__main__:Evolve time for iteration 1: 0.35628437995910645\n",
      "INFO:__main__:Best chromosome after iteration 1: 81\n",
      "INFO:__main__:Worst chromosome after iteration 1: 105\n"
     ]
    },
    {
     "name": "stdout",
     "output_type": "stream",
     "text": [
      "--------------------------------------------------\n"
     ]
    },
    {
     "name": "stderr",
     "output_type": "stream",
     "text": [
      "INFO:__main__:Iteration 2\n",
      "INFO:__main__:Evolve time for iteration 2: 0.32620739936828613\n",
      "INFO:__main__:Best chromosome after iteration 2: 78\n",
      "INFO:__main__:Worst chromosome after iteration 2: 110\n"
     ]
    },
    {
     "name": "stdout",
     "output_type": "stream",
     "text": [
      "--------------------------------------------------\n"
     ]
    },
    {
     "name": "stderr",
     "output_type": "stream",
     "text": [
      "INFO:__main__:Iteration 3\n",
      "INFO:__main__:Evolve time for iteration 3: 0.27105236053466797\n",
      "INFO:__main__:Best chromosome after iteration 3: 77\n",
      "INFO:__main__:Worst chromosome after iteration 3: 103\n"
     ]
    },
    {
     "name": "stdout",
     "output_type": "stream",
     "text": [
      "--------------------------------------------------\n"
     ]
    },
    {
     "name": "stderr",
     "output_type": "stream",
     "text": [
      "INFO:__main__:Iteration 4\n",
      "INFO:__main__:Evolve time for iteration 4: 0.24914216995239258\n",
      "INFO:__main__:Best chromosome after iteration 4: 77\n",
      "INFO:__main__:Worst chromosome after iteration 4: 105\n"
     ]
    },
    {
     "name": "stdout",
     "output_type": "stream",
     "text": [
      "--------------------------------------------------\n"
     ]
    },
    {
     "name": "stderr",
     "output_type": "stream",
     "text": [
      "INFO:__main__:Iteration 5\n",
      "INFO:__main__:Evolve time for iteration 5: 0.42376184463500977\n",
      "INFO:__main__:Best chromosome after iteration 5: 73\n",
      "INFO:__main__:Worst chromosome after iteration 5: 105\n"
     ]
    },
    {
     "name": "stdout",
     "output_type": "stream",
     "text": [
      "--------------------------------------------------\n"
     ]
    },
    {
     "name": "stderr",
     "output_type": "stream",
     "text": [
      "INFO:__main__:Iteration 6\n",
      "INFO:__main__:Evolve time for iteration 6: 0.24187684059143066\n",
      "INFO:__main__:Best chromosome after iteration 6: 72\n",
      "INFO:__main__:Worst chromosome after iteration 6: 98\n"
     ]
    },
    {
     "name": "stdout",
     "output_type": "stream",
     "text": [
      "--------------------------------------------------\n"
     ]
    },
    {
     "name": "stderr",
     "output_type": "stream",
     "text": [
      "INFO:__main__:Iteration 7\n",
      "INFO:__main__:Evolve time for iteration 7: 0.3096742630004883\n",
      "INFO:__main__:Best chromosome after iteration 7: 72\n",
      "INFO:__main__:Worst chromosome after iteration 7: 95\n"
     ]
    },
    {
     "name": "stdout",
     "output_type": "stream",
     "text": [
      "--------------------------------------------------\n"
     ]
    },
    {
     "name": "stderr",
     "output_type": "stream",
     "text": [
      "INFO:__main__:Iteration 8\n",
      "INFO:__main__:Evolve time for iteration 8: 0.26755619049072266\n",
      "INFO:__main__:Best chromosome after iteration 8: 72\n",
      "INFO:__main__:Worst chromosome after iteration 8: 89\n"
     ]
    },
    {
     "name": "stdout",
     "output_type": "stream",
     "text": [
      "--------------------------------------------------\n"
     ]
    },
    {
     "name": "stderr",
     "output_type": "stream",
     "text": [
      "INFO:__main__:Iteration 9\n",
      "INFO:__main__:Evolve time for iteration 9: 0.2631669044494629\n",
      "INFO:__main__:Best chromosome after iteration 9: 71\n",
      "INFO:__main__:Worst chromosome after iteration 9: 86\n"
     ]
    },
    {
     "name": "stdout",
     "output_type": "stream",
     "text": [
      "--------------------------------------------------\n"
     ]
    },
    {
     "name": "stderr",
     "output_type": "stream",
     "text": [
      "INFO:__main__:Iteration 10\n",
      "INFO:__main__:Evolve time for iteration 10: 0.29735755920410156\n",
      "INFO:__main__:Best chromosome after iteration 10: 71\n",
      "INFO:__main__:Worst chromosome after iteration 10: 86\n"
     ]
    },
    {
     "name": "stdout",
     "output_type": "stream",
     "text": [
      "--------------------------------------------------\n"
     ]
    },
    {
     "name": "stderr",
     "output_type": "stream",
     "text": [
      "INFO:__main__:Iteration 11\n",
      "INFO:__main__:Evolve time for iteration 11: 0.3000156879425049\n",
      "INFO:__main__:Best chromosome after iteration 11: 71\n",
      "INFO:__main__:Worst chromosome after iteration 11: 74\n"
     ]
    },
    {
     "name": "stdout",
     "output_type": "stream",
     "text": [
      "--------------------------------------------------\n"
     ]
    },
    {
     "name": "stderr",
     "output_type": "stream",
     "text": [
      "INFO:__main__:Iteration 12\n",
      "INFO:__main__:Evolve time for iteration 12: 0.6308491230010986\n",
      "INFO:__main__:Best chromosome after iteration 12: 70\n",
      "INFO:__main__:Worst chromosome after iteration 12: 75\n"
     ]
    },
    {
     "name": "stdout",
     "output_type": "stream",
     "text": [
      "--------------------------------------------------\n"
     ]
    },
    {
     "name": "stderr",
     "output_type": "stream",
     "text": [
      "INFO:__main__:Iteration 13\n",
      "INFO:__main__:Evolve time for iteration 13: 0.3040895462036133\n",
      "INFO:__main__:Best chromosome after iteration 13: 70\n",
      "INFO:__main__:Worst chromosome after iteration 13: 75\n"
     ]
    },
    {
     "name": "stdout",
     "output_type": "stream",
     "text": [
      "--------------------------------------------------\n"
     ]
    },
    {
     "name": "stderr",
     "output_type": "stream",
     "text": [
      "INFO:__main__:Iteration 14\n",
      "INFO:__main__:Evolve time for iteration 14: 0.36759376525878906\n",
      "INFO:__main__:Best chromosome after iteration 14: 68\n",
      "INFO:__main__:Worst chromosome after iteration 14: 74\n"
     ]
    },
    {
     "name": "stdout",
     "output_type": "stream",
     "text": [
      "--------------------------------------------------\n"
     ]
    },
    {
     "name": "stderr",
     "output_type": "stream",
     "text": [
      "INFO:__main__:Iteration 15\n",
      "INFO:__main__:Evolve time for iteration 15: 0.3181464672088623\n",
      "INFO:__main__:Best chromosome after iteration 15: 67\n",
      "INFO:__main__:Worst chromosome after iteration 15: 75\n"
     ]
    },
    {
     "name": "stdout",
     "output_type": "stream",
     "text": [
      "--------------------------------------------------\n"
     ]
    },
    {
     "name": "stderr",
     "output_type": "stream",
     "text": [
      "INFO:__main__:Iteration 16\n",
      "INFO:__main__:Evolve time for iteration 16: 0.5755083560943604\n",
      "INFO:__main__:Best chromosome after iteration 16: 67\n",
      "INFO:__main__:Worst chromosome after iteration 16: 73\n"
     ]
    },
    {
     "name": "stdout",
     "output_type": "stream",
     "text": [
      "--------------------------------------------------\n"
     ]
    },
    {
     "name": "stderr",
     "output_type": "stream",
     "text": [
      "INFO:__main__:Iteration 17\n",
      "INFO:__main__:Evolve time for iteration 17: 0.3854105472564697\n",
      "INFO:__main__:Best chromosome after iteration 17: 66\n",
      "INFO:__main__:Worst chromosome after iteration 17: 72\n"
     ]
    },
    {
     "name": "stdout",
     "output_type": "stream",
     "text": [
      "--------------------------------------------------\n"
     ]
    },
    {
     "name": "stderr",
     "output_type": "stream",
     "text": [
      "INFO:__main__:Iteration 18\n",
      "INFO:__main__:Evolve time for iteration 18: 0.3933589458465576\n",
      "INFO:__main__:Best chromosome after iteration 18: 66\n",
      "INFO:__main__:Worst chromosome after iteration 18: 74\n"
     ]
    },
    {
     "name": "stdout",
     "output_type": "stream",
     "text": [
      "--------------------------------------------------\n"
     ]
    },
    {
     "name": "stderr",
     "output_type": "stream",
     "text": [
      "INFO:__main__:Iteration 19\n",
      "INFO:__main__:Evolve time for iteration 19: 0.39142775535583496\n",
      "INFO:__main__:Best chromosome after iteration 19: 65\n",
      "INFO:__main__:Worst chromosome after iteration 19: 71\n"
     ]
    },
    {
     "name": "stdout",
     "output_type": "stream",
     "text": [
      "--------------------------------------------------\n"
     ]
    },
    {
     "name": "stderr",
     "output_type": "stream",
     "text": [
      "INFO:__main__:Iteration 20\n",
      "INFO:__main__:Evolve time for iteration 20: 0.6508665084838867\n",
      "INFO:__main__:Best chromosome after iteration 20: 65\n",
      "INFO:__main__:Worst chromosome after iteration 20: 70\n"
     ]
    },
    {
     "name": "stdout",
     "output_type": "stream",
     "text": [
      "--------------------------------------------------\n"
     ]
    },
    {
     "name": "stderr",
     "output_type": "stream",
     "text": [
      "INFO:__main__:Iteration 21\n",
      "INFO:__main__:Evolve time for iteration 21: 0.39212465286254883\n",
      "INFO:__main__:Best chromosome after iteration 21: 64\n",
      "INFO:__main__:Worst chromosome after iteration 21: 71\n"
     ]
    },
    {
     "name": "stdout",
     "output_type": "stream",
     "text": [
      "--------------------------------------------------\n"
     ]
    },
    {
     "name": "stderr",
     "output_type": "stream",
     "text": [
      "INFO:__main__:Iteration 22\n",
      "INFO:__main__:Evolve time for iteration 22: 0.4042520523071289\n",
      "INFO:__main__:Best chromosome after iteration 22: 64\n",
      "INFO:__main__:Worst chromosome after iteration 22: 69\n"
     ]
    },
    {
     "name": "stdout",
     "output_type": "stream",
     "text": [
      "--------------------------------------------------\n"
     ]
    },
    {
     "name": "stderr",
     "output_type": "stream",
     "text": [
      "INFO:__main__:Iteration 23\n",
      "INFO:__main__:Evolve time for iteration 23: 0.4042332172393799\n",
      "INFO:__main__:Best chromosome after iteration 23: 63\n",
      "INFO:__main__:Worst chromosome after iteration 23: 69\n"
     ]
    },
    {
     "name": "stdout",
     "output_type": "stream",
     "text": [
      "--------------------------------------------------\n"
     ]
    },
    {
     "name": "stderr",
     "output_type": "stream",
     "text": [
      "INFO:__main__:Iteration 24\n",
      "INFO:__main__:Evolve time for iteration 24: 0.6271898746490479\n",
      "INFO:__main__:Best chromosome after iteration 24: 62\n",
      "INFO:__main__:Worst chromosome after iteration 24: 65\n"
     ]
    },
    {
     "name": "stdout",
     "output_type": "stream",
     "text": [
      "--------------------------------------------------\n"
     ]
    },
    {
     "name": "stderr",
     "output_type": "stream",
     "text": [
      "INFO:__main__:Iteration 25\n",
      "INFO:__main__:Evolve time for iteration 25: 0.4139742851257324\n",
      "INFO:__main__:Best chromosome after iteration 25: 61\n",
      "INFO:__main__:Worst chromosome after iteration 25: 66\n"
     ]
    },
    {
     "name": "stdout",
     "output_type": "stream",
     "text": [
      "--------------------------------------------------\n"
     ]
    },
    {
     "name": "stderr",
     "output_type": "stream",
     "text": [
      "INFO:__main__:Iteration 26\n",
      "INFO:__main__:Evolve time for iteration 26: 0.37802934646606445\n",
      "INFO:__main__:Best chromosome after iteration 26: 60\n",
      "INFO:__main__:Worst chromosome after iteration 26: 66\n"
     ]
    },
    {
     "name": "stdout",
     "output_type": "stream",
     "text": [
      "--------------------------------------------------\n"
     ]
    },
    {
     "name": "stderr",
     "output_type": "stream",
     "text": [
      "INFO:__main__:Iteration 27\n",
      "INFO:__main__:Evolve time for iteration 27: 0.42717766761779785\n",
      "INFO:__main__:Best chromosome after iteration 27: 60\n",
      "INFO:__main__:Worst chromosome after iteration 27: 68\n"
     ]
    },
    {
     "name": "stdout",
     "output_type": "stream",
     "text": [
      "--------------------------------------------------\n"
     ]
    },
    {
     "name": "stderr",
     "output_type": "stream",
     "text": [
      "INFO:__main__:Iteration 28\n",
      "INFO:__main__:Evolve time for iteration 28: 0.7418482303619385\n",
      "INFO:__main__:Best chromosome after iteration 28: 58\n",
      "INFO:__main__:Worst chromosome after iteration 28: 64\n"
     ]
    },
    {
     "name": "stdout",
     "output_type": "stream",
     "text": [
      "--------------------------------------------------\n"
     ]
    },
    {
     "name": "stderr",
     "output_type": "stream",
     "text": [
      "INFO:__main__:Iteration 29\n",
      "INFO:__main__:Evolve time for iteration 29: 0.45268988609313965\n",
      "INFO:__main__:Best chromosome after iteration 29: 58\n",
      "INFO:__main__:Worst chromosome after iteration 29: 65\n"
     ]
    },
    {
     "name": "stdout",
     "output_type": "stream",
     "text": [
      "--------------------------------------------------\n"
     ]
    },
    {
     "name": "stderr",
     "output_type": "stream",
     "text": [
      "INFO:__main__:Iteration 30\n",
      "INFO:__main__:Evolve time for iteration 30: 0.48973727226257324\n",
      "INFO:__main__:Best chromosome after iteration 30: 57\n",
      "INFO:__main__:Worst chromosome after iteration 30: 63\n"
     ]
    },
    {
     "name": "stdout",
     "output_type": "stream",
     "text": [
      "--------------------------------------------------\n"
     ]
    },
    {
     "name": "stderr",
     "output_type": "stream",
     "text": [
      "INFO:__main__:Iteration 31\n",
      "INFO:__main__:Evolve time for iteration 31: 0.6704976558685303\n",
      "INFO:__main__:Best chromosome after iteration 31: 57\n",
      "INFO:__main__:Worst chromosome after iteration 31: 64\n"
     ]
    },
    {
     "name": "stdout",
     "output_type": "stream",
     "text": [
      "--------------------------------------------------\n"
     ]
    },
    {
     "name": "stderr",
     "output_type": "stream",
     "text": [
      "INFO:__main__:Iteration 32\n",
      "INFO:__main__:Evolve time for iteration 32: 0.47542238235473633\n",
      "INFO:__main__:Best chromosome after iteration 32: 57\n",
      "INFO:__main__:Worst chromosome after iteration 32: 64\n"
     ]
    },
    {
     "name": "stdout",
     "output_type": "stream",
     "text": [
      "--------------------------------------------------\n"
     ]
    },
    {
     "name": "stderr",
     "output_type": "stream",
     "text": [
      "INFO:__main__:Iteration 33\n",
      "INFO:__main__:Evolve time for iteration 33: 0.49137115478515625\n",
      "INFO:__main__:Best chromosome after iteration 33: 56\n",
      "INFO:__main__:Worst chromosome after iteration 33: 64\n"
     ]
    },
    {
     "name": "stdout",
     "output_type": "stream",
     "text": [
      "--------------------------------------------------\n"
     ]
    },
    {
     "name": "stderr",
     "output_type": "stream",
     "text": [
      "INFO:__main__:Iteration 34\n",
      "INFO:__main__:Evolve time for iteration 34: 0.48015880584716797\n",
      "INFO:__main__:Best chromosome after iteration 34: 56\n",
      "INFO:__main__:Worst chromosome after iteration 34: 64\n"
     ]
    },
    {
     "name": "stdout",
     "output_type": "stream",
     "text": [
      "--------------------------------------------------\n"
     ]
    },
    {
     "name": "stderr",
     "output_type": "stream",
     "text": [
      "INFO:__main__:Iteration 35\n",
      "INFO:__main__:Evolve time for iteration 35: 0.7426836490631104\n",
      "INFO:__main__:Best chromosome after iteration 35: 55\n",
      "INFO:__main__:Worst chromosome after iteration 35: 61\n"
     ]
    },
    {
     "name": "stdout",
     "output_type": "stream",
     "text": [
      "--------------------------------------------------\n"
     ]
    },
    {
     "name": "stderr",
     "output_type": "stream",
     "text": [
      "INFO:__main__:Iteration 36\n",
      "INFO:__main__:Evolve time for iteration 36: 0.480060338973999\n",
      "INFO:__main__:Best chromosome after iteration 36: 54\n",
      "INFO:__main__:Worst chromosome after iteration 36: 60\n"
     ]
    },
    {
     "name": "stdout",
     "output_type": "stream",
     "text": [
      "--------------------------------------------------\n"
     ]
    },
    {
     "name": "stderr",
     "output_type": "stream",
     "text": [
      "INFO:__main__:Iteration 37\n",
      "INFO:__main__:Evolve time for iteration 37: 0.4970824718475342\n",
      "INFO:__main__:Best chromosome after iteration 37: 53\n",
      "INFO:__main__:Worst chromosome after iteration 37: 59\n"
     ]
    },
    {
     "name": "stdout",
     "output_type": "stream",
     "text": [
      "--------------------------------------------------\n"
     ]
    },
    {
     "name": "stderr",
     "output_type": "stream",
     "text": [
      "INFO:__main__:Iteration 38\n",
      "INFO:__main__:Evolve time for iteration 38: 0.7496364116668701\n",
      "INFO:__main__:Best chromosome after iteration 38: 52\n",
      "INFO:__main__:Worst chromosome after iteration 38: 58\n"
     ]
    },
    {
     "name": "stdout",
     "output_type": "stream",
     "text": [
      "--------------------------------------------------\n"
     ]
    },
    {
     "name": "stderr",
     "output_type": "stream",
     "text": [
      "INFO:__main__:Iteration 39\n",
      "INFO:__main__:Evolve time for iteration 39: 0.5420775413513184\n",
      "INFO:__main__:Best chromosome after iteration 39: 51\n",
      "INFO:__main__:Worst chromosome after iteration 39: 58\n"
     ]
    },
    {
     "name": "stdout",
     "output_type": "stream",
     "text": [
      "--------------------------------------------------\n"
     ]
    },
    {
     "name": "stderr",
     "output_type": "stream",
     "text": [
      "INFO:__main__:Iteration 40\n",
      "INFO:__main__:Evolve time for iteration 40: 0.45233607292175293\n",
      "INFO:__main__:Best chromosome after iteration 40: 51\n",
      "INFO:__main__:Worst chromosome after iteration 40: 58\n"
     ]
    },
    {
     "name": "stdout",
     "output_type": "stream",
     "text": [
      "--------------------------------------------------\n"
     ]
    },
    {
     "name": "stderr",
     "output_type": "stream",
     "text": [
      "INFO:__main__:Iteration 41\n",
      "INFO:__main__:Evolve time for iteration 41: 0.4805786609649658\n",
      "INFO:__main__:Best chromosome after iteration 41: 50\n",
      "INFO:__main__:Worst chromosome after iteration 41: 60\n"
     ]
    },
    {
     "name": "stdout",
     "output_type": "stream",
     "text": [
      "--------------------------------------------------\n"
     ]
    },
    {
     "name": "stderr",
     "output_type": "stream",
     "text": [
      "INFO:__main__:Iteration 42\n",
      "INFO:__main__:Evolve time for iteration 42: 0.7331461906433105\n",
      "INFO:__main__:Best chromosome after iteration 42: 49\n",
      "INFO:__main__:Worst chromosome after iteration 42: 56\n"
     ]
    },
    {
     "name": "stdout",
     "output_type": "stream",
     "text": [
      "--------------------------------------------------\n"
     ]
    },
    {
     "name": "stderr",
     "output_type": "stream",
     "text": [
      "INFO:__main__:Iteration 43\n",
      "INFO:__main__:Evolve time for iteration 43: 0.44762730598449707\n",
      "INFO:__main__:Best chromosome after iteration 43: 49\n",
      "INFO:__main__:Worst chromosome after iteration 43: 54\n"
     ]
    },
    {
     "name": "stdout",
     "output_type": "stream",
     "text": [
      "--------------------------------------------------\n"
     ]
    },
    {
     "name": "stderr",
     "output_type": "stream",
     "text": [
      "INFO:__main__:Iteration 44\n",
      "INFO:__main__:Evolve time for iteration 44: 0.5068612098693848\n",
      "INFO:__main__:Best chromosome after iteration 44: 49\n",
      "INFO:__main__:Worst chromosome after iteration 44: 53\n"
     ]
    },
    {
     "name": "stdout",
     "output_type": "stream",
     "text": [
      "--------------------------------------------------\n"
     ]
    },
    {
     "name": "stderr",
     "output_type": "stream",
     "text": [
      "INFO:__main__:Iteration 45\n",
      "INFO:__main__:Evolve time for iteration 45: 0.7579967975616455\n",
      "INFO:__main__:Best chromosome after iteration 45: 49\n",
      "INFO:__main__:Worst chromosome after iteration 45: 52\n"
     ]
    },
    {
     "name": "stdout",
     "output_type": "stream",
     "text": [
      "--------------------------------------------------\n"
     ]
    },
    {
     "name": "stderr",
     "output_type": "stream",
     "text": [
      "INFO:__main__:Iteration 46\n",
      "INFO:__main__:Evolve time for iteration 46: 0.5176684856414795\n",
      "INFO:__main__:Best chromosome after iteration 46: 48\n",
      "INFO:__main__:Worst chromosome after iteration 46: 52\n"
     ]
    },
    {
     "name": "stdout",
     "output_type": "stream",
     "text": [
      "--------------------------------------------------\n"
     ]
    },
    {
     "name": "stderr",
     "output_type": "stream",
     "text": [
      "INFO:__main__:Iteration 47\n",
      "INFO:__main__:Evolve time for iteration 47: 0.46314215660095215\n",
      "INFO:__main__:Best chromosome after iteration 47: 47\n",
      "INFO:__main__:Worst chromosome after iteration 47: 52\n"
     ]
    },
    {
     "name": "stdout",
     "output_type": "stream",
     "text": [
      "--------------------------------------------------\n"
     ]
    },
    {
     "name": "stderr",
     "output_type": "stream",
     "text": [
      "INFO:__main__:Iteration 48\n",
      "INFO:__main__:Evolve time for iteration 48: 0.4427223205566406\n",
      "INFO:__main__:Best chromosome after iteration 48: 47\n",
      "INFO:__main__:Worst chromosome after iteration 48: 53\n"
     ]
    },
    {
     "name": "stdout",
     "output_type": "stream",
     "text": [
      "--------------------------------------------------\n"
     ]
    },
    {
     "name": "stderr",
     "output_type": "stream",
     "text": [
      "INFO:__main__:Iteration 49\n",
      "INFO:__main__:Evolve time for iteration 49: 0.7711496353149414\n",
      "INFO:__main__:Best chromosome after iteration 49: 47\n",
      "INFO:__main__:Worst chromosome after iteration 49: 53\n"
     ]
    },
    {
     "name": "stdout",
     "output_type": "stream",
     "text": [
      "--------------------------------------------------\n"
     ]
    },
    {
     "name": "stderr",
     "output_type": "stream",
     "text": [
      "INFO:__main__:Iteration 50\n",
      "INFO:__main__:Evolve time for iteration 50: 0.5326778888702393\n",
      "INFO:__main__:Best chromosome after iteration 50: 47\n",
      "INFO:__main__:Worst chromosome after iteration 50: 52\n"
     ]
    },
    {
     "name": "stdout",
     "output_type": "stream",
     "text": [
      "--------------------------------------------------\n"
     ]
    },
    {
     "name": "stderr",
     "output_type": "stream",
     "text": [
      "INFO:__main__:Iteration 51\n",
      "INFO:__main__:Evolve time for iteration 51: 0.4710566997528076\n",
      "INFO:__main__:Best chromosome after iteration 51: 47\n",
      "INFO:__main__:Worst chromosome after iteration 51: 52\n"
     ]
    },
    {
     "name": "stdout",
     "output_type": "stream",
     "text": [
      "--------------------------------------------------\n"
     ]
    },
    {
     "name": "stderr",
     "output_type": "stream",
     "text": [
      "INFO:__main__:Iteration 52\n",
      "INFO:__main__:Evolve time for iteration 52: 0.7995469570159912\n",
      "INFO:__main__:Best chromosome after iteration 52: 46\n",
      "INFO:__main__:Worst chromosome after iteration 52: 51\n"
     ]
    },
    {
     "name": "stdout",
     "output_type": "stream",
     "text": [
      "--------------------------------------------------\n"
     ]
    },
    {
     "name": "stderr",
     "output_type": "stream",
     "text": [
      "INFO:__main__:Iteration 53\n",
      "INFO:__main__:Evolve time for iteration 53: 0.44333600997924805\n",
      "INFO:__main__:Best chromosome after iteration 53: 46\n",
      "INFO:__main__:Worst chromosome after iteration 53: 51\n"
     ]
    },
    {
     "name": "stdout",
     "output_type": "stream",
     "text": [
      "--------------------------------------------------\n"
     ]
    },
    {
     "name": "stderr",
     "output_type": "stream",
     "text": [
      "INFO:__main__:Iteration 54\n",
      "INFO:__main__:Evolve time for iteration 54: 0.49002957344055176\n",
      "INFO:__main__:Best chromosome after iteration 54: 46\n",
      "INFO:__main__:Worst chromosome after iteration 54: 50\n"
     ]
    },
    {
     "name": "stdout",
     "output_type": "stream",
     "text": [
      "--------------------------------------------------\n"
     ]
    },
    {
     "name": "stderr",
     "output_type": "stream",
     "text": [
      "INFO:__main__:Iteration 55\n",
      "INFO:__main__:Evolve time for iteration 55: 0.4853551387786865\n",
      "INFO:__main__:Best chromosome after iteration 55: 45\n",
      "INFO:__main__:Worst chromosome after iteration 55: 51\n"
     ]
    },
    {
     "name": "stdout",
     "output_type": "stream",
     "text": [
      "--------------------------------------------------\n"
     ]
    },
    {
     "name": "stderr",
     "output_type": "stream",
     "text": [
      "INFO:__main__:Iteration 56\n",
      "INFO:__main__:Evolve time for iteration 56: 0.7375407218933105\n",
      "INFO:__main__:Best chromosome after iteration 56: 44\n",
      "INFO:__main__:Worst chromosome after iteration 56: 51\n"
     ]
    },
    {
     "name": "stdout",
     "output_type": "stream",
     "text": [
      "--------------------------------------------------\n"
     ]
    },
    {
     "name": "stderr",
     "output_type": "stream",
     "text": [
      "INFO:__main__:Iteration 57\n",
      "INFO:__main__:Evolve time for iteration 57: 0.5156798362731934\n",
      "INFO:__main__:Best chromosome after iteration 57: 44\n",
      "INFO:__main__:Worst chromosome after iteration 57: 49\n"
     ]
    },
    {
     "name": "stdout",
     "output_type": "stream",
     "text": [
      "--------------------------------------------------\n"
     ]
    },
    {
     "name": "stderr",
     "output_type": "stream",
     "text": [
      "INFO:__main__:Iteration 58\n",
      "INFO:__main__:Evolve time for iteration 58: 0.5269725322723389\n",
      "INFO:__main__:Best chromosome after iteration 58: 44\n",
      "INFO:__main__:Worst chromosome after iteration 58: 51\n"
     ]
    },
    {
     "name": "stdout",
     "output_type": "stream",
     "text": [
      "--------------------------------------------------\n"
     ]
    },
    {
     "name": "stderr",
     "output_type": "stream",
     "text": [
      "INFO:__main__:Iteration 59\n",
      "INFO:__main__:Evolve time for iteration 59: 0.8143250942230225\n",
      "INFO:__main__:Best chromosome after iteration 59: 44\n",
      "INFO:__main__:Worst chromosome after iteration 59: 47\n"
     ]
    },
    {
     "name": "stdout",
     "output_type": "stream",
     "text": [
      "--------------------------------------------------\n"
     ]
    },
    {
     "name": "stderr",
     "output_type": "stream",
     "text": [
      "INFO:__main__:Iteration 60\n",
      "INFO:__main__:Evolve time for iteration 60: 0.44376707077026367\n",
      "INFO:__main__:Best chromosome after iteration 60: 43\n",
      "INFO:__main__:Worst chromosome after iteration 60: 47\n"
     ]
    },
    {
     "name": "stdout",
     "output_type": "stream",
     "text": [
      "--------------------------------------------------\n"
     ]
    },
    {
     "name": "stderr",
     "output_type": "stream",
     "text": [
      "INFO:__main__:Iteration 61\n",
      "INFO:__main__:Evolve time for iteration 61: 0.5143990516662598\n",
      "INFO:__main__:Best chromosome after iteration 61: 42\n",
      "INFO:__main__:Worst chromosome after iteration 61: 50\n"
     ]
    },
    {
     "name": "stdout",
     "output_type": "stream",
     "text": [
      "--------------------------------------------------\n"
     ]
    },
    {
     "name": "stderr",
     "output_type": "stream",
     "text": [
      "INFO:__main__:Iteration 62\n",
      "INFO:__main__:Evolve time for iteration 62: 0.48912763595581055\n",
      "INFO:__main__:Best chromosome after iteration 62: 42\n",
      "INFO:__main__:Worst chromosome after iteration 62: 50\n"
     ]
    },
    {
     "name": "stdout",
     "output_type": "stream",
     "text": [
      "--------------------------------------------------\n"
     ]
    },
    {
     "name": "stderr",
     "output_type": "stream",
     "text": [
      "INFO:__main__:Iteration 63\n",
      "INFO:__main__:Evolve time for iteration 63: 0.7720189094543457\n",
      "INFO:__main__:Best chromosome after iteration 63: 41\n",
      "INFO:__main__:Worst chromosome after iteration 63: 48\n"
     ]
    },
    {
     "name": "stdout",
     "output_type": "stream",
     "text": [
      "--------------------------------------------------\n"
     ]
    },
    {
     "name": "stderr",
     "output_type": "stream",
     "text": [
      "INFO:__main__:Iteration 64\n",
      "INFO:__main__:Evolve time for iteration 64: 0.5466809272766113\n",
      "INFO:__main__:Best chromosome after iteration 64: 41\n",
      "INFO:__main__:Worst chromosome after iteration 64: 47\n"
     ]
    },
    {
     "name": "stdout",
     "output_type": "stream",
     "text": [
      "--------------------------------------------------\n"
     ]
    },
    {
     "name": "stderr",
     "output_type": "stream",
     "text": [
      "INFO:__main__:Iteration 65\n",
      "INFO:__main__:Evolve time for iteration 65: 0.4586179256439209\n",
      "INFO:__main__:Best chromosome after iteration 65: 40\n",
      "INFO:__main__:Worst chromosome after iteration 65: 45\n"
     ]
    },
    {
     "name": "stdout",
     "output_type": "stream",
     "text": [
      "--------------------------------------------------\n"
     ]
    },
    {
     "name": "stderr",
     "output_type": "stream",
     "text": [
      "INFO:__main__:Iteration 66\n",
      "INFO:__main__:Evolve time for iteration 66: 0.833315372467041\n",
      "INFO:__main__:Best chromosome after iteration 66: 40\n",
      "INFO:__main__:Worst chromosome after iteration 66: 45\n"
     ]
    },
    {
     "name": "stdout",
     "output_type": "stream",
     "text": [
      "--------------------------------------------------\n"
     ]
    },
    {
     "name": "stderr",
     "output_type": "stream",
     "text": [
      "INFO:__main__:Iteration 67\n",
      "INFO:__main__:Evolve time for iteration 67: 0.5094096660614014\n",
      "INFO:__main__:Best chromosome after iteration 67: 39\n",
      "INFO:__main__:Worst chromosome after iteration 67: 45\n"
     ]
    },
    {
     "name": "stdout",
     "output_type": "stream",
     "text": [
      "--------------------------------------------------\n"
     ]
    },
    {
     "name": "stderr",
     "output_type": "stream",
     "text": [
      "INFO:__main__:Iteration 68\n",
      "INFO:__main__:Evolve time for iteration 68: 0.49683070182800293\n",
      "INFO:__main__:Best chromosome after iteration 68: 39\n",
      "INFO:__main__:Worst chromosome after iteration 68: 45\n"
     ]
    },
    {
     "name": "stdout",
     "output_type": "stream",
     "text": [
      "--------------------------------------------------\n"
     ]
    },
    {
     "name": "stderr",
     "output_type": "stream",
     "text": [
      "INFO:__main__:Iteration 69\n",
      "INFO:__main__:Evolve time for iteration 69: 0.48523521423339844\n",
      "INFO:__main__:Best chromosome after iteration 69: 39\n",
      "INFO:__main__:Worst chromosome after iteration 69: 45\n"
     ]
    },
    {
     "name": "stdout",
     "output_type": "stream",
     "text": [
      "--------------------------------------------------\n"
     ]
    },
    {
     "name": "stderr",
     "output_type": "stream",
     "text": [
      "INFO:__main__:Iteration 70\n",
      "INFO:__main__:Evolve time for iteration 70: 0.8623335361480713\n",
      "INFO:__main__:Best chromosome after iteration 70: 39\n",
      "INFO:__main__:Worst chromosome after iteration 70: 45\n"
     ]
    },
    {
     "name": "stdout",
     "output_type": "stream",
     "text": [
      "--------------------------------------------------\n"
     ]
    },
    {
     "name": "stderr",
     "output_type": "stream",
     "text": [
      "INFO:__main__:Iteration 71\n",
      "INFO:__main__:Evolve time for iteration 71: 0.4855234622955322\n",
      "INFO:__main__:Best chromosome after iteration 71: 39\n",
      "INFO:__main__:Worst chromosome after iteration 71: 43\n"
     ]
    },
    {
     "name": "stdout",
     "output_type": "stream",
     "text": [
      "--------------------------------------------------\n"
     ]
    },
    {
     "name": "stderr",
     "output_type": "stream",
     "text": [
      "INFO:__main__:Iteration 72\n",
      "INFO:__main__:Evolve time for iteration 72: 0.49991440773010254\n",
      "INFO:__main__:Best chromosome after iteration 72: 38\n",
      "INFO:__main__:Worst chromosome after iteration 72: 43\n"
     ]
    },
    {
     "name": "stdout",
     "output_type": "stream",
     "text": [
      "--------------------------------------------------\n"
     ]
    },
    {
     "name": "stderr",
     "output_type": "stream",
     "text": [
      "INFO:__main__:Iteration 73\n",
      "INFO:__main__:Evolve time for iteration 73: 0.4939429759979248\n",
      "INFO:__main__:Best chromosome after iteration 73: 37\n",
      "INFO:__main__:Worst chromosome after iteration 73: 43\n"
     ]
    },
    {
     "name": "stdout",
     "output_type": "stream",
     "text": [
      "--------------------------------------------------\n"
     ]
    },
    {
     "name": "stderr",
     "output_type": "stream",
     "text": [
      "INFO:__main__:Iteration 74\n",
      "INFO:__main__:Evolve time for iteration 74: 0.8222925662994385\n",
      "INFO:__main__:Best chromosome after iteration 74: 37\n",
      "INFO:__main__:Worst chromosome after iteration 74: 43\n"
     ]
    },
    {
     "name": "stdout",
     "output_type": "stream",
     "text": [
      "--------------------------------------------------\n"
     ]
    },
    {
     "name": "stderr",
     "output_type": "stream",
     "text": [
      "INFO:__main__:Iteration 75\n",
      "INFO:__main__:Evolve time for iteration 75: 0.5084655284881592\n",
      "INFO:__main__:Best chromosome after iteration 75: 37\n",
      "INFO:__main__:Worst chromosome after iteration 75: 42\n"
     ]
    },
    {
     "name": "stdout",
     "output_type": "stream",
     "text": [
      "--------------------------------------------------\n"
     ]
    },
    {
     "name": "stderr",
     "output_type": "stream",
     "text": [
      "INFO:__main__:Iteration 76\n",
      "INFO:__main__:Evolve time for iteration 76: 0.5433046817779541\n",
      "INFO:__main__:Best chromosome after iteration 76: 37\n",
      "INFO:__main__:Worst chromosome after iteration 76: 42\n"
     ]
    },
    {
     "name": "stdout",
     "output_type": "stream",
     "text": [
      "--------------------------------------------------\n"
     ]
    },
    {
     "name": "stderr",
     "output_type": "stream",
     "text": [
      "INFO:__main__:Iteration 77\n",
      "INFO:__main__:Evolve time for iteration 77: 0.45426034927368164\n",
      "INFO:__main__:Best chromosome after iteration 77: 36\n",
      "INFO:__main__:Worst chromosome after iteration 77: 41\n"
     ]
    },
    {
     "name": "stdout",
     "output_type": "stream",
     "text": [
      "--------------------------------------------------\n"
     ]
    },
    {
     "name": "stderr",
     "output_type": "stream",
     "text": [
      "INFO:__main__:Iteration 78\n",
      "INFO:__main__:Evolve time for iteration 78: 0.8601269721984863\n",
      "INFO:__main__:Best chromosome after iteration 78: 36\n",
      "INFO:__main__:Worst chromosome after iteration 78: 42\n"
     ]
    },
    {
     "name": "stdout",
     "output_type": "stream",
     "text": [
      "--------------------------------------------------\n"
     ]
    },
    {
     "name": "stderr",
     "output_type": "stream",
     "text": [
      "INFO:__main__:Iteration 79\n",
      "INFO:__main__:Evolve time for iteration 79: 0.4281282424926758\n",
      "INFO:__main__:Best chromosome after iteration 79: 36\n",
      "INFO:__main__:Worst chromosome after iteration 79: 42\n"
     ]
    },
    {
     "name": "stdout",
     "output_type": "stream",
     "text": [
      "--------------------------------------------------\n"
     ]
    },
    {
     "name": "stderr",
     "output_type": "stream",
     "text": [
      "INFO:__main__:Iteration 80\n",
      "INFO:__main__:Evolve time for iteration 80: 0.5776703357696533\n",
      "INFO:__main__:Best chromosome after iteration 80: 36\n",
      "INFO:__main__:Worst chromosome after iteration 80: 41\n"
     ]
    },
    {
     "name": "stdout",
     "output_type": "stream",
     "text": [
      "--------------------------------------------------\n"
     ]
    },
    {
     "name": "stderr",
     "output_type": "stream",
     "text": [
      "INFO:__main__:Iteration 81\n",
      "INFO:__main__:Evolve time for iteration 81: 0.7399859428405762\n",
      "INFO:__main__:Best chromosome after iteration 81: 35\n",
      "INFO:__main__:Worst chromosome after iteration 81: 40\n"
     ]
    },
    {
     "name": "stdout",
     "output_type": "stream",
     "text": [
      "--------------------------------------------------\n"
     ]
    },
    {
     "name": "stderr",
     "output_type": "stream",
     "text": [
      "INFO:__main__:Iteration 82\n",
      "INFO:__main__:Evolve time for iteration 82: 0.5051450729370117\n",
      "INFO:__main__:Best chromosome after iteration 82: 35\n",
      "INFO:__main__:Worst chromosome after iteration 82: 40\n"
     ]
    },
    {
     "name": "stdout",
     "output_type": "stream",
     "text": [
      "--------------------------------------------------\n"
     ]
    },
    {
     "name": "stderr",
     "output_type": "stream",
     "text": [
      "INFO:__main__:Iteration 83\n",
      "INFO:__main__:Evolve time for iteration 83: 0.49053311347961426\n",
      "INFO:__main__:Best chromosome after iteration 83: 34\n",
      "INFO:__main__:Worst chromosome after iteration 83: 41\n"
     ]
    },
    {
     "name": "stdout",
     "output_type": "stream",
     "text": [
      "--------------------------------------------------\n"
     ]
    },
    {
     "name": "stderr",
     "output_type": "stream",
     "text": [
      "INFO:__main__:Iteration 84\n",
      "INFO:__main__:Evolve time for iteration 84: 0.5271074771881104\n",
      "INFO:__main__:Best chromosome after iteration 84: 34\n",
      "INFO:__main__:Worst chromosome after iteration 84: 42\n"
     ]
    },
    {
     "name": "stdout",
     "output_type": "stream",
     "text": [
      "--------------------------------------------------\n"
     ]
    },
    {
     "name": "stderr",
     "output_type": "stream",
     "text": [
      "INFO:__main__:Iteration 85\n",
      "INFO:__main__:Evolve time for iteration 85: 0.8437118530273438\n",
      "INFO:__main__:Best chromosome after iteration 85: 34\n",
      "INFO:__main__:Worst chromosome after iteration 85: 38\n"
     ]
    },
    {
     "name": "stdout",
     "output_type": "stream",
     "text": [
      "--------------------------------------------------\n"
     ]
    },
    {
     "name": "stderr",
     "output_type": "stream",
     "text": [
      "INFO:__main__:Iteration 86\n",
      "INFO:__main__:Evolve time for iteration 86: 0.5031692981719971\n",
      "INFO:__main__:Best chromosome after iteration 86: 34\n",
      "INFO:__main__:Worst chromosome after iteration 86: 39\n"
     ]
    },
    {
     "name": "stdout",
     "output_type": "stream",
     "text": [
      "--------------------------------------------------\n"
     ]
    },
    {
     "name": "stderr",
     "output_type": "stream",
     "text": [
      "INFO:__main__:Iteration 87\n",
      "INFO:__main__:Evolve time for iteration 87: 0.43445563316345215\n",
      "INFO:__main__:Best chromosome after iteration 87: 34\n",
      "INFO:__main__:Worst chromosome after iteration 87: 39\n"
     ]
    },
    {
     "name": "stdout",
     "output_type": "stream",
     "text": [
      "--------------------------------------------------\n"
     ]
    },
    {
     "name": "stderr",
     "output_type": "stream",
     "text": [
      "INFO:__main__:Iteration 88\n",
      "INFO:__main__:Evolve time for iteration 88: 0.4888472557067871\n",
      "INFO:__main__:Best chromosome after iteration 88: 34\n",
      "INFO:__main__:Worst chromosome after iteration 88: 37\n"
     ]
    },
    {
     "name": "stdout",
     "output_type": "stream",
     "text": [
      "--------------------------------------------------\n"
     ]
    },
    {
     "name": "stderr",
     "output_type": "stream",
     "text": [
      "INFO:__main__:Iteration 89\n",
      "INFO:__main__:Evolve time for iteration 89: 0.7622125148773193\n",
      "INFO:__main__:Best chromosome after iteration 89: 33\n",
      "INFO:__main__:Worst chromosome after iteration 89: 38\n"
     ]
    },
    {
     "name": "stdout",
     "output_type": "stream",
     "text": [
      "--------------------------------------------------\n"
     ]
    },
    {
     "name": "stderr",
     "output_type": "stream",
     "text": [
      "INFO:__main__:Iteration 90\n",
      "INFO:__main__:Evolve time for iteration 90: 0.4821462631225586\n",
      "INFO:__main__:Best chromosome after iteration 90: 33\n",
      "INFO:__main__:Worst chromosome after iteration 90: 37\n"
     ]
    },
    {
     "name": "stdout",
     "output_type": "stream",
     "text": [
      "--------------------------------------------------\n"
     ]
    },
    {
     "name": "stderr",
     "output_type": "stream",
     "text": [
      "INFO:__main__:Iteration 91\n",
      "INFO:__main__:Evolve time for iteration 91: 0.47083401679992676\n",
      "INFO:__main__:Best chromosome after iteration 91: 32\n",
      "INFO:__main__:Worst chromosome after iteration 91: 37\n"
     ]
    },
    {
     "name": "stdout",
     "output_type": "stream",
     "text": [
      "--------------------------------------------------\n"
     ]
    },
    {
     "name": "stderr",
     "output_type": "stream",
     "text": [
      "INFO:__main__:Iteration 92\n",
      "INFO:__main__:Evolve time for iteration 92: 0.4919874668121338\n",
      "INFO:__main__:Best chromosome after iteration 92: 32\n",
      "INFO:__main__:Worst chromosome after iteration 92: 36\n"
     ]
    },
    {
     "name": "stdout",
     "output_type": "stream",
     "text": [
      "--------------------------------------------------\n"
     ]
    },
    {
     "name": "stderr",
     "output_type": "stream",
     "text": [
      "INFO:__main__:Iteration 93\n",
      "INFO:__main__:Evolve time for iteration 93: 0.8449840545654297\n",
      "INFO:__main__:Best chromosome after iteration 93: 32\n",
      "INFO:__main__:Worst chromosome after iteration 93: 38\n"
     ]
    },
    {
     "name": "stdout",
     "output_type": "stream",
     "text": [
      "--------------------------------------------------\n"
     ]
    },
    {
     "name": "stderr",
     "output_type": "stream",
     "text": [
      "INFO:__main__:Iteration 94\n",
      "INFO:__main__:Evolve time for iteration 94: 0.5047731399536133\n",
      "INFO:__main__:Best chromosome after iteration 94: 32\n",
      "INFO:__main__:Worst chromosome after iteration 94: 38\n"
     ]
    },
    {
     "name": "stdout",
     "output_type": "stream",
     "text": [
      "--------------------------------------------------\n"
     ]
    },
    {
     "name": "stderr",
     "output_type": "stream",
     "text": [
      "INFO:__main__:Iteration 95\n",
      "INFO:__main__:Evolve time for iteration 95: 0.5223503112792969\n",
      "INFO:__main__:Best chromosome after iteration 95: 31\n",
      "INFO:__main__:Worst chromosome after iteration 95: 38\n"
     ]
    },
    {
     "name": "stdout",
     "output_type": "stream",
     "text": [
      "--------------------------------------------------\n"
     ]
    },
    {
     "name": "stderr",
     "output_type": "stream",
     "text": [
      "INFO:__main__:Iteration 96\n",
      "INFO:__main__:Evolve time for iteration 96: 0.8799533843994141\n",
      "INFO:__main__:Best chromosome after iteration 96: 30\n",
      "INFO:__main__:Worst chromosome after iteration 96: 38\n"
     ]
    },
    {
     "name": "stdout",
     "output_type": "stream",
     "text": [
      "--------------------------------------------------\n"
     ]
    },
    {
     "name": "stderr",
     "output_type": "stream",
     "text": [
      "INFO:__main__:Iteration 97\n",
      "INFO:__main__:Evolve time for iteration 97: 0.5026156902313232\n",
      "INFO:__main__:Best chromosome after iteration 97: 30\n",
      "INFO:__main__:Worst chromosome after iteration 97: 35\n"
     ]
    },
    {
     "name": "stdout",
     "output_type": "stream",
     "text": [
      "--------------------------------------------------\n"
     ]
    },
    {
     "name": "stderr",
     "output_type": "stream",
     "text": [
      "INFO:__main__:Iteration 98\n",
      "INFO:__main__:Evolve time for iteration 98: 0.558847188949585\n",
      "INFO:__main__:Best chromosome after iteration 98: 30\n",
      "INFO:__main__:Worst chromosome after iteration 98: 35\n"
     ]
    },
    {
     "name": "stdout",
     "output_type": "stream",
     "text": [
      "--------------------------------------------------\n"
     ]
    },
    {
     "name": "stderr",
     "output_type": "stream",
     "text": [
      "INFO:__main__:Iteration 99\n",
      "INFO:__main__:Evolve time for iteration 99: 0.5046043395996094\n",
      "INFO:__main__:Best chromosome after iteration 99: 30\n",
      "INFO:__main__:Worst chromosome after iteration 99: 36\n"
     ]
    },
    {
     "name": "stdout",
     "output_type": "stream",
     "text": [
      "--------------------------------------------------\n"
     ]
    },
    {
     "name": "stderr",
     "output_type": "stream",
     "text": [
      "INFO:__main__:Iteration 100\n",
      "INFO:__main__:Evolve time for iteration 100: 0.8385663032531738\n",
      "INFO:__main__:Best chromosome after iteration 100: 29\n",
      "INFO:__main__:Worst chromosome after iteration 100: 37\n"
     ]
    },
    {
     "name": "stdout",
     "output_type": "stream",
     "text": [
      "--------------------------------------------------\n"
     ]
    },
    {
     "name": "stderr",
     "output_type": "stream",
     "text": [
      "INFO:__main__:Iteration 101\n",
      "INFO:__main__:Evolve time for iteration 101: 0.508408784866333\n",
      "INFO:__main__:Best chromosome after iteration 101: 28\n",
      "INFO:__main__:Worst chromosome after iteration 101: 37\n"
     ]
    },
    {
     "name": "stdout",
     "output_type": "stream",
     "text": [
      "--------------------------------------------------\n"
     ]
    },
    {
     "name": "stderr",
     "output_type": "stream",
     "text": [
      "INFO:__main__:Iteration 102\n",
      "INFO:__main__:Evolve time for iteration 102: 0.5233755111694336\n",
      "INFO:__main__:Best chromosome after iteration 102: 28\n",
      "INFO:__main__:Worst chromosome after iteration 102: 32\n"
     ]
    },
    {
     "name": "stdout",
     "output_type": "stream",
     "text": [
      "--------------------------------------------------\n"
     ]
    },
    {
     "name": "stderr",
     "output_type": "stream",
     "text": [
      "INFO:__main__:Iteration 103\n",
      "INFO:__main__:Evolve time for iteration 103: 0.49920177459716797\n",
      "INFO:__main__:Best chromosome after iteration 103: 28\n",
      "INFO:__main__:Worst chromosome after iteration 103: 33\n"
     ]
    },
    {
     "name": "stdout",
     "output_type": "stream",
     "text": [
      "--------------------------------------------------\n"
     ]
    },
    {
     "name": "stderr",
     "output_type": "stream",
     "text": [
      "INFO:__main__:Iteration 104\n",
      "INFO:__main__:Evolve time for iteration 104: 0.8507611751556396\n",
      "INFO:__main__:Best chromosome after iteration 104: 28\n",
      "INFO:__main__:Worst chromosome after iteration 104: 35\n"
     ]
    },
    {
     "name": "stdout",
     "output_type": "stream",
     "text": [
      "--------------------------------------------------\n"
     ]
    },
    {
     "name": "stderr",
     "output_type": "stream",
     "text": [
      "INFO:__main__:Iteration 105\n",
      "INFO:__main__:Evolve time for iteration 105: 0.45791196823120117\n",
      "INFO:__main__:Best chromosome after iteration 105: 28\n",
      "INFO:__main__:Worst chromosome after iteration 105: 35\n"
     ]
    },
    {
     "name": "stdout",
     "output_type": "stream",
     "text": [
      "--------------------------------------------------\n"
     ]
    },
    {
     "name": "stderr",
     "output_type": "stream",
     "text": [
      "INFO:__main__:Iteration 106\n",
      "INFO:__main__:Evolve time for iteration 106: 0.5121591091156006\n",
      "INFO:__main__:Best chromosome after iteration 106: 28\n",
      "INFO:__main__:Worst chromosome after iteration 106: 35\n"
     ]
    },
    {
     "name": "stdout",
     "output_type": "stream",
     "text": [
      "--------------------------------------------------\n"
     ]
    },
    {
     "name": "stderr",
     "output_type": "stream",
     "text": [
      "INFO:__main__:Iteration 107\n",
      "INFO:__main__:Evolve time for iteration 107: 0.5239291191101074\n",
      "INFO:__main__:Best chromosome after iteration 107: 28\n",
      "INFO:__main__:Worst chromosome after iteration 107: 34\n"
     ]
    },
    {
     "name": "stdout",
     "output_type": "stream",
     "text": [
      "--------------------------------------------------\n"
     ]
    },
    {
     "name": "stderr",
     "output_type": "stream",
     "text": [
      "INFO:__main__:Iteration 108\n",
      "INFO:__main__:Evolve time for iteration 108: 0.8226971626281738\n",
      "INFO:__main__:Best chromosome after iteration 108: 28\n",
      "INFO:__main__:Worst chromosome after iteration 108: 33\n"
     ]
    },
    {
     "name": "stdout",
     "output_type": "stream",
     "text": [
      "--------------------------------------------------\n"
     ]
    },
    {
     "name": "stderr",
     "output_type": "stream",
     "text": [
      "INFO:__main__:Iteration 109\n",
      "INFO:__main__:Evolve time for iteration 109: 0.4716010093688965\n",
      "INFO:__main__:Best chromosome after iteration 109: 28\n",
      "INFO:__main__:Worst chromosome after iteration 109: 32\n"
     ]
    },
    {
     "name": "stdout",
     "output_type": "stream",
     "text": [
      "--------------------------------------------------\n"
     ]
    },
    {
     "name": "stderr",
     "output_type": "stream",
     "text": [
      "INFO:__main__:Iteration 110\n",
      "INFO:__main__:Evolve time for iteration 110: 0.5471367835998535\n",
      "INFO:__main__:Best chromosome after iteration 110: 28\n",
      "INFO:__main__:Worst chromosome after iteration 110: 32\n"
     ]
    },
    {
     "name": "stdout",
     "output_type": "stream",
     "text": [
      "--------------------------------------------------\n"
     ]
    },
    {
     "name": "stderr",
     "output_type": "stream",
     "text": [
      "INFO:__main__:Iteration 111\n",
      "INFO:__main__:Evolve time for iteration 111: 0.5451788902282715\n",
      "INFO:__main__:Best chromosome after iteration 111: 28\n",
      "INFO:__main__:Worst chromosome after iteration 111: 31\n"
     ]
    },
    {
     "name": "stdout",
     "output_type": "stream",
     "text": [
      "--------------------------------------------------\n"
     ]
    },
    {
     "name": "stderr",
     "output_type": "stream",
     "text": [
      "INFO:__main__:Iteration 112\n",
      "INFO:__main__:Evolve time for iteration 112: 0.8754978179931641\n",
      "INFO:__main__:Best chromosome after iteration 112: 27\n",
      "INFO:__main__:Worst chromosome after iteration 112: 34\n"
     ]
    },
    {
     "name": "stdout",
     "output_type": "stream",
     "text": [
      "--------------------------------------------------\n"
     ]
    },
    {
     "name": "stderr",
     "output_type": "stream",
     "text": [
      "INFO:__main__:Iteration 113\n",
      "INFO:__main__:Evolve time for iteration 113: 0.4629073143005371\n",
      "INFO:__main__:Best chromosome after iteration 113: 27\n",
      "INFO:__main__:Worst chromosome after iteration 113: 31\n"
     ]
    },
    {
     "name": "stdout",
     "output_type": "stream",
     "text": [
      "--------------------------------------------------\n"
     ]
    },
    {
     "name": "stderr",
     "output_type": "stream",
     "text": [
      "INFO:__main__:Iteration 114\n",
      "INFO:__main__:Evolve time for iteration 114: 0.5137567520141602\n",
      "INFO:__main__:Best chromosome after iteration 114: 27\n",
      "INFO:__main__:Worst chromosome after iteration 114: 32\n"
     ]
    },
    {
     "name": "stdout",
     "output_type": "stream",
     "text": [
      "--------------------------------------------------\n"
     ]
    },
    {
     "name": "stderr",
     "output_type": "stream",
     "text": [
      "INFO:__main__:Iteration 115\n",
      "INFO:__main__:Evolve time for iteration 115: 0.5564322471618652\n",
      "INFO:__main__:Best chromosome after iteration 115: 26\n",
      "INFO:__main__:Worst chromosome after iteration 115: 32\n"
     ]
    },
    {
     "name": "stdout",
     "output_type": "stream",
     "text": [
      "--------------------------------------------------\n"
     ]
    },
    {
     "name": "stderr",
     "output_type": "stream",
     "text": [
      "INFO:__main__:Iteration 116\n",
      "INFO:__main__:Evolve time for iteration 116: 0.8845233917236328\n",
      "INFO:__main__:Best chromosome after iteration 116: 26\n",
      "INFO:__main__:Worst chromosome after iteration 116: 32\n"
     ]
    },
    {
     "name": "stdout",
     "output_type": "stream",
     "text": [
      "--------------------------------------------------\n"
     ]
    },
    {
     "name": "stderr",
     "output_type": "stream",
     "text": [
      "INFO:__main__:Iteration 117\n",
      "INFO:__main__:Evolve time for iteration 117: 0.5253112316131592\n",
      "INFO:__main__:Best chromosome after iteration 117: 26\n",
      "INFO:__main__:Worst chromosome after iteration 117: 33\n"
     ]
    },
    {
     "name": "stdout",
     "output_type": "stream",
     "text": [
      "--------------------------------------------------\n"
     ]
    },
    {
     "name": "stderr",
     "output_type": "stream",
     "text": [
      "INFO:__main__:Iteration 118\n",
      "INFO:__main__:Evolve time for iteration 118: 0.5510644912719727\n",
      "INFO:__main__:Best chromosome after iteration 118: 25\n",
      "INFO:__main__:Worst chromosome after iteration 118: 31\n"
     ]
    },
    {
     "name": "stdout",
     "output_type": "stream",
     "text": [
      "--------------------------------------------------\n"
     ]
    },
    {
     "name": "stderr",
     "output_type": "stream",
     "text": [
      "INFO:__main__:Iteration 119\n",
      "INFO:__main__:Evolve time for iteration 119: 0.8584439754486084\n",
      "INFO:__main__:Best chromosome after iteration 119: 25\n",
      "INFO:__main__:Worst chromosome after iteration 119: 33\n"
     ]
    },
    {
     "name": "stdout",
     "output_type": "stream",
     "text": [
      "--------------------------------------------------\n"
     ]
    },
    {
     "name": "stderr",
     "output_type": "stream",
     "text": [
      "INFO:__main__:Iteration 120\n",
      "INFO:__main__:Evolve time for iteration 120: 0.581028938293457\n",
      "INFO:__main__:Best chromosome after iteration 120: 25\n",
      "INFO:__main__:Worst chromosome after iteration 120: 32\n"
     ]
    },
    {
     "name": "stdout",
     "output_type": "stream",
     "text": [
      "--------------------------------------------------\n"
     ]
    },
    {
     "name": "stderr",
     "output_type": "stream",
     "text": [
      "INFO:__main__:Iteration 121\n",
      "INFO:__main__:Evolve time for iteration 121: 0.5421805381774902\n",
      "INFO:__main__:Best chromosome after iteration 121: 25\n",
      "INFO:__main__:Worst chromosome after iteration 121: 32\n"
     ]
    },
    {
     "name": "stdout",
     "output_type": "stream",
     "text": [
      "--------------------------------------------------\n"
     ]
    },
    {
     "name": "stderr",
     "output_type": "stream",
     "text": [
      "INFO:__main__:Iteration 122\n",
      "INFO:__main__:Evolve time for iteration 122: 0.5637505054473877\n",
      "INFO:__main__:Best chromosome after iteration 122: 25\n",
      "INFO:__main__:Worst chromosome after iteration 122: 32\n"
     ]
    },
    {
     "name": "stdout",
     "output_type": "stream",
     "text": [
      "--------------------------------------------------\n"
     ]
    },
    {
     "name": "stderr",
     "output_type": "stream",
     "text": [
      "INFO:__main__:Iteration 123\n",
      "INFO:__main__:Evolve time for iteration 123: 0.9099557399749756\n",
      "INFO:__main__:Best chromosome after iteration 123: 25\n",
      "INFO:__main__:Worst chromosome after iteration 123: 31\n"
     ]
    },
    {
     "name": "stdout",
     "output_type": "stream",
     "text": [
      "--------------------------------------------------\n"
     ]
    },
    {
     "name": "stderr",
     "output_type": "stream",
     "text": [
      "INFO:__main__:Iteration 124\n",
      "INFO:__main__:Evolve time for iteration 124: 0.4937775135040283\n",
      "INFO:__main__:Best chromosome after iteration 124: 25\n",
      "INFO:__main__:Worst chromosome after iteration 124: 33\n"
     ]
    },
    {
     "name": "stdout",
     "output_type": "stream",
     "text": [
      "--------------------------------------------------\n"
     ]
    },
    {
     "name": "stderr",
     "output_type": "stream",
     "text": [
      "INFO:__main__:Iteration 125\n",
      "INFO:__main__:Evolve time for iteration 125: 0.47203850746154785\n",
      "INFO:__main__:Best chromosome after iteration 125: 24\n",
      "INFO:__main__:Worst chromosome after iteration 125: 30\n"
     ]
    },
    {
     "name": "stdout",
     "output_type": "stream",
     "text": [
      "--------------------------------------------------\n"
     ]
    },
    {
     "name": "stderr",
     "output_type": "stream",
     "text": [
      "INFO:__main__:Iteration 126\n",
      "INFO:__main__:Evolve time for iteration 126: 0.5450565814971924\n",
      "INFO:__main__:Best chromosome after iteration 126: 24\n",
      "INFO:__main__:Worst chromosome after iteration 126: 30\n"
     ]
    },
    {
     "name": "stdout",
     "output_type": "stream",
     "text": [
      "--------------------------------------------------\n"
     ]
    },
    {
     "name": "stderr",
     "output_type": "stream",
     "text": [
      "INFO:__main__:Iteration 127\n",
      "INFO:__main__:Evolve time for iteration 127: 0.8865752220153809\n",
      "INFO:__main__:Best chromosome after iteration 127: 24\n",
      "INFO:__main__:Worst chromosome after iteration 127: 29\n"
     ]
    },
    {
     "name": "stdout",
     "output_type": "stream",
     "text": [
      "--------------------------------------------------\n"
     ]
    },
    {
     "name": "stderr",
     "output_type": "stream",
     "text": [
      "INFO:__main__:Iteration 128\n",
      "INFO:__main__:Evolve time for iteration 128: 0.5964629650115967\n",
      "INFO:__main__:Best chromosome after iteration 128: 24\n",
      "INFO:__main__:Worst chromosome after iteration 128: 27\n"
     ]
    },
    {
     "name": "stdout",
     "output_type": "stream",
     "text": [
      "--------------------------------------------------\n"
     ]
    },
    {
     "name": "stderr",
     "output_type": "stream",
     "text": [
      "INFO:__main__:Iteration 129\n",
      "INFO:__main__:Evolve time for iteration 129: 0.5180315971374512\n",
      "INFO:__main__:Best chromosome after iteration 129: 24\n",
      "INFO:__main__:Worst chromosome after iteration 129: 28\n"
     ]
    },
    {
     "name": "stdout",
     "output_type": "stream",
     "text": [
      "--------------------------------------------------\n"
     ]
    },
    {
     "name": "stderr",
     "output_type": "stream",
     "text": [
      "INFO:__main__:Iteration 130\n",
      "INFO:__main__:Evolve time for iteration 130: 0.5129830837249756\n",
      "INFO:__main__:Best chromosome after iteration 130: 24\n",
      "INFO:__main__:Worst chromosome after iteration 130: 29\n"
     ]
    },
    {
     "name": "stdout",
     "output_type": "stream",
     "text": [
      "--------------------------------------------------\n"
     ]
    },
    {
     "name": "stderr",
     "output_type": "stream",
     "text": [
      "INFO:__main__:Iteration 131\n",
      "INFO:__main__:Evolve time for iteration 131: 0.9339156150817871\n",
      "INFO:__main__:Best chromosome after iteration 131: 23\n",
      "INFO:__main__:Worst chromosome after iteration 131: 30\n"
     ]
    },
    {
     "name": "stdout",
     "output_type": "stream",
     "text": [
      "--------------------------------------------------\n"
     ]
    },
    {
     "name": "stderr",
     "output_type": "stream",
     "text": [
      "INFO:__main__:Iteration 132\n",
      "INFO:__main__:Evolve time for iteration 132: 0.5198912620544434\n",
      "INFO:__main__:Best chromosome after iteration 132: 23\n",
      "INFO:__main__:Worst chromosome after iteration 132: 30\n"
     ]
    },
    {
     "name": "stdout",
     "output_type": "stream",
     "text": [
      "--------------------------------------------------\n"
     ]
    },
    {
     "name": "stderr",
     "output_type": "stream",
     "text": [
      "INFO:__main__:Iteration 133\n",
      "INFO:__main__:Evolve time for iteration 133: 0.49725818634033203\n",
      "INFO:__main__:Best chromosome after iteration 133: 23\n",
      "INFO:__main__:Worst chromosome after iteration 133: 31\n"
     ]
    },
    {
     "name": "stdout",
     "output_type": "stream",
     "text": [
      "--------------------------------------------------\n"
     ]
    },
    {
     "name": "stderr",
     "output_type": "stream",
     "text": [
      "INFO:__main__:Iteration 134\n",
      "INFO:__main__:Evolve time for iteration 134: 0.5418195724487305\n",
      "INFO:__main__:Best chromosome after iteration 134: 23\n",
      "INFO:__main__:Worst chromosome after iteration 134: 31\n"
     ]
    },
    {
     "name": "stdout",
     "output_type": "stream",
     "text": [
      "--------------------------------------------------\n"
     ]
    },
    {
     "name": "stderr",
     "output_type": "stream",
     "text": [
      "INFO:__main__:Iteration 135\n",
      "INFO:__main__:Evolve time for iteration 135: 0.974895715713501\n",
      "INFO:__main__:Best chromosome after iteration 135: 23\n",
      "INFO:__main__:Worst chromosome after iteration 135: 31\n"
     ]
    },
    {
     "name": "stdout",
     "output_type": "stream",
     "text": [
      "--------------------------------------------------\n"
     ]
    },
    {
     "name": "stderr",
     "output_type": "stream",
     "text": [
      "INFO:__main__:Iteration 136\n",
      "INFO:__main__:Evolve time for iteration 136: 0.5483307838439941\n",
      "INFO:__main__:Best chromosome after iteration 136: 23\n",
      "INFO:__main__:Worst chromosome after iteration 136: 31\n"
     ]
    },
    {
     "name": "stdout",
     "output_type": "stream",
     "text": [
      "--------------------------------------------------\n"
     ]
    },
    {
     "name": "stderr",
     "output_type": "stream",
     "text": [
      "INFO:__main__:Iteration 137\n",
      "INFO:__main__:Evolve time for iteration 137: 0.490567684173584\n",
      "INFO:__main__:Best chromosome after iteration 137: 23\n",
      "INFO:__main__:Worst chromosome after iteration 137: 29\n"
     ]
    },
    {
     "name": "stdout",
     "output_type": "stream",
     "text": [
      "--------------------------------------------------\n"
     ]
    },
    {
     "name": "stderr",
     "output_type": "stream",
     "text": [
      "INFO:__main__:Iteration 138\n",
      "INFO:__main__:Evolve time for iteration 138: 0.49996495246887207\n",
      "INFO:__main__:Best chromosome after iteration 138: 23\n",
      "INFO:__main__:Worst chromosome after iteration 138: 28\n"
     ]
    },
    {
     "name": "stdout",
     "output_type": "stream",
     "text": [
      "--------------------------------------------------\n"
     ]
    },
    {
     "name": "stderr",
     "output_type": "stream",
     "text": [
      "INFO:__main__:Iteration 139\n",
      "INFO:__main__:Evolve time for iteration 139: 0.9591562747955322\n",
      "INFO:__main__:Best chromosome after iteration 139: 23\n",
      "INFO:__main__:Worst chromosome after iteration 139: 29\n"
     ]
    },
    {
     "name": "stdout",
     "output_type": "stream",
     "text": [
      "--------------------------------------------------\n"
     ]
    },
    {
     "name": "stderr",
     "output_type": "stream",
     "text": [
      "INFO:__main__:Iteration 140\n",
      "INFO:__main__:Evolve time for iteration 140: 0.512686014175415\n",
      "INFO:__main__:Best chromosome after iteration 140: 23\n",
      "INFO:__main__:Worst chromosome after iteration 140: 25\n"
     ]
    },
    {
     "name": "stdout",
     "output_type": "stream",
     "text": [
      "--------------------------------------------------\n"
     ]
    },
    {
     "name": "stderr",
     "output_type": "stream",
     "text": [
      "INFO:__main__:Iteration 141\n",
      "INFO:__main__:Evolve time for iteration 141: 0.5167605876922607\n",
      "INFO:__main__:Best chromosome after iteration 141: 23\n",
      "INFO:__main__:Worst chromosome after iteration 141: 27\n"
     ]
    },
    {
     "name": "stdout",
     "output_type": "stream",
     "text": [
      "--------------------------------------------------\n"
     ]
    },
    {
     "name": "stderr",
     "output_type": "stream",
     "text": [
      "INFO:__main__:Iteration 142\n",
      "INFO:__main__:Evolve time for iteration 142: 0.5524082183837891\n",
      "INFO:__main__:Best chromosome after iteration 142: 23\n",
      "INFO:__main__:Worst chromosome after iteration 142: 27\n"
     ]
    },
    {
     "name": "stdout",
     "output_type": "stream",
     "text": [
      "--------------------------------------------------\n"
     ]
    },
    {
     "name": "stderr",
     "output_type": "stream",
     "text": [
      "INFO:__main__:Iteration 143\n",
      "INFO:__main__:Evolve time for iteration 143: 0.5519623756408691\n",
      "INFO:__main__:Best chromosome after iteration 143: 23\n",
      "INFO:__main__:Worst chromosome after iteration 143: 27\n"
     ]
    },
    {
     "name": "stdout",
     "output_type": "stream",
     "text": [
      "--------------------------------------------------\n"
     ]
    },
    {
     "name": "stderr",
     "output_type": "stream",
     "text": [
      "INFO:__main__:Iteration 144\n",
      "INFO:__main__:Evolve time for iteration 144: 0.8822994232177734\n",
      "INFO:__main__:Best chromosome after iteration 144: 22\n",
      "INFO:__main__:Worst chromosome after iteration 144: 27\n"
     ]
    },
    {
     "name": "stdout",
     "output_type": "stream",
     "text": [
      "--------------------------------------------------\n"
     ]
    },
    {
     "name": "stderr",
     "output_type": "stream",
     "text": [
      "INFO:__main__:Iteration 145\n",
      "INFO:__main__:Evolve time for iteration 145: 0.5016806125640869\n",
      "INFO:__main__:Best chromosome after iteration 145: 22\n",
      "INFO:__main__:Worst chromosome after iteration 145: 28\n"
     ]
    },
    {
     "name": "stdout",
     "output_type": "stream",
     "text": [
      "--------------------------------------------------\n"
     ]
    },
    {
     "name": "stderr",
     "output_type": "stream",
     "text": [
      "INFO:__main__:Iteration 146\n",
      "INFO:__main__:Evolve time for iteration 146: 0.5972042083740234\n",
      "INFO:__main__:Best chromosome after iteration 146: 22\n",
      "INFO:__main__:Worst chromosome after iteration 146: 28\n"
     ]
    },
    {
     "name": "stdout",
     "output_type": "stream",
     "text": [
      "--------------------------------------------------\n"
     ]
    },
    {
     "name": "stderr",
     "output_type": "stream",
     "text": [
      "INFO:__main__:Iteration 147\n",
      "INFO:__main__:Evolve time for iteration 147: 0.5289900302886963\n",
      "INFO:__main__:Best chromosome after iteration 147: 22\n",
      "INFO:__main__:Worst chromosome after iteration 147: 27\n"
     ]
    },
    {
     "name": "stdout",
     "output_type": "stream",
     "text": [
      "--------------------------------------------------\n"
     ]
    },
    {
     "name": "stderr",
     "output_type": "stream",
     "text": [
      "INFO:__main__:Iteration 148\n",
      "INFO:__main__:Evolve time for iteration 148: 0.9390063285827637\n",
      "INFO:__main__:Best chromosome after iteration 148: 21\n",
      "INFO:__main__:Worst chromosome after iteration 148: 27\n"
     ]
    },
    {
     "name": "stdout",
     "output_type": "stream",
     "text": [
      "--------------------------------------------------\n"
     ]
    },
    {
     "name": "stderr",
     "output_type": "stream",
     "text": [
      "INFO:__main__:Iteration 149\n",
      "INFO:__main__:Evolve time for iteration 149: 0.5488913059234619\n",
      "INFO:__main__:Best chromosome after iteration 149: 21\n",
      "INFO:__main__:Worst chromosome after iteration 149: 26\n"
     ]
    },
    {
     "name": "stdout",
     "output_type": "stream",
     "text": [
      "--------------------------------------------------\n"
     ]
    },
    {
     "name": "stderr",
     "output_type": "stream",
     "text": [
      "INFO:__main__:Iteration 150\n",
      "INFO:__main__:Evolve time for iteration 150: 0.5169401168823242\n",
      "INFO:__main__:Best chromosome after iteration 150: 21\n",
      "INFO:__main__:Worst chromosome after iteration 150: 26\n"
     ]
    },
    {
     "name": "stdout",
     "output_type": "stream",
     "text": [
      "--------------------------------------------------\n"
     ]
    },
    {
     "name": "stderr",
     "output_type": "stream",
     "text": [
      "INFO:__main__:Iteration 151\n",
      "INFO:__main__:Evolve time for iteration 151: 0.8986549377441406\n",
      "INFO:__main__:Best chromosome after iteration 151: 21\n",
      "INFO:__main__:Worst chromosome after iteration 151: 26\n"
     ]
    },
    {
     "name": "stdout",
     "output_type": "stream",
     "text": [
      "--------------------------------------------------\n"
     ]
    },
    {
     "name": "stderr",
     "output_type": "stream",
     "text": [
      "INFO:__main__:Iteration 152\n",
      "INFO:__main__:Evolve time for iteration 152: 0.5400490760803223\n",
      "INFO:__main__:Best chromosome after iteration 152: 20\n",
      "INFO:__main__:Worst chromosome after iteration 152: 27\n"
     ]
    },
    {
     "name": "stdout",
     "output_type": "stream",
     "text": [
      "--------------------------------------------------\n"
     ]
    },
    {
     "name": "stderr",
     "output_type": "stream",
     "text": [
      "INFO:__main__:Iteration 153\n",
      "INFO:__main__:Evolve time for iteration 153: 0.5399205684661865\n",
      "INFO:__main__:Best chromosome after iteration 153: 20\n",
      "INFO:__main__:Worst chromosome after iteration 153: 26\n"
     ]
    },
    {
     "name": "stdout",
     "output_type": "stream",
     "text": [
      "--------------------------------------------------\n"
     ]
    },
    {
     "name": "stderr",
     "output_type": "stream",
     "text": [
      "INFO:__main__:Iteration 154\n",
      "INFO:__main__:Evolve time for iteration 154: 0.5236694812774658\n",
      "INFO:__main__:Best chromosome after iteration 154: 19\n",
      "INFO:__main__:Worst chromosome after iteration 154: 25\n"
     ]
    },
    {
     "name": "stdout",
     "output_type": "stream",
     "text": [
      "--------------------------------------------------\n"
     ]
    },
    {
     "name": "stderr",
     "output_type": "stream",
     "text": [
      "INFO:__main__:Iteration 155\n",
      "INFO:__main__:Evolve time for iteration 155: 0.5095973014831543\n",
      "INFO:__main__:Best chromosome after iteration 155: 19\n",
      "INFO:__main__:Worst chromosome after iteration 155: 26\n"
     ]
    },
    {
     "name": "stdout",
     "output_type": "stream",
     "text": [
      "--------------------------------------------------\n"
     ]
    },
    {
     "name": "stderr",
     "output_type": "stream",
     "text": [
      "INFO:__main__:Iteration 156\n",
      "INFO:__main__:Evolve time for iteration 156: 0.8242204189300537\n",
      "INFO:__main__:Best chromosome after iteration 156: 19\n",
      "INFO:__main__:Worst chromosome after iteration 156: 26\n"
     ]
    },
    {
     "name": "stdout",
     "output_type": "stream",
     "text": [
      "--------------------------------------------------\n"
     ]
    },
    {
     "name": "stderr",
     "output_type": "stream",
     "text": [
      "INFO:__main__:Iteration 157\n",
      "INFO:__main__:Evolve time for iteration 157: 0.46973228454589844\n",
      "INFO:__main__:Best chromosome after iteration 157: 18\n",
      "INFO:__main__:Worst chromosome after iteration 157: 26\n"
     ]
    },
    {
     "name": "stdout",
     "output_type": "stream",
     "text": [
      "--------------------------------------------------\n"
     ]
    },
    {
     "name": "stderr",
     "output_type": "stream",
     "text": [
      "INFO:__main__:Iteration 158\n",
      "INFO:__main__:Evolve time for iteration 158: 0.4885439872741699\n",
      "INFO:__main__:Best chromosome after iteration 158: 18\n",
      "INFO:__main__:Worst chromosome after iteration 158: 27\n"
     ]
    },
    {
     "name": "stdout",
     "output_type": "stream",
     "text": [
      "--------------------------------------------------\n"
     ]
    },
    {
     "name": "stderr",
     "output_type": "stream",
     "text": [
      "INFO:__main__:Iteration 159\n",
      "INFO:__main__:Evolve time for iteration 159: 0.5438511371612549\n",
      "INFO:__main__:Best chromosome after iteration 159: 18\n",
      "INFO:__main__:Worst chromosome after iteration 159: 25\n"
     ]
    },
    {
     "name": "stdout",
     "output_type": "stream",
     "text": [
      "--------------------------------------------------\n"
     ]
    },
    {
     "name": "stderr",
     "output_type": "stream",
     "text": [
      "INFO:__main__:Iteration 160\n",
      "INFO:__main__:Evolve time for iteration 160: 0.9428939819335938\n",
      "INFO:__main__:Best chromosome after iteration 160: 18\n",
      "INFO:__main__:Worst chromosome after iteration 160: 25\n"
     ]
    },
    {
     "name": "stdout",
     "output_type": "stream",
     "text": [
      "--------------------------------------------------\n"
     ]
    },
    {
     "name": "stderr",
     "output_type": "stream",
     "text": [
      "INFO:__main__:Iteration 161\n",
      "INFO:__main__:Evolve time for iteration 161: 0.48452234268188477\n",
      "INFO:__main__:Best chromosome after iteration 161: 18\n",
      "INFO:__main__:Worst chromosome after iteration 161: 26\n"
     ]
    },
    {
     "name": "stdout",
     "output_type": "stream",
     "text": [
      "--------------------------------------------------\n"
     ]
    },
    {
     "name": "stderr",
     "output_type": "stream",
     "text": [
      "INFO:__main__:Iteration 162\n",
      "INFO:__main__:Evolve time for iteration 162: 0.5520074367523193\n",
      "INFO:__main__:Best chromosome after iteration 162: 18\n",
      "INFO:__main__:Worst chromosome after iteration 162: 24\n"
     ]
    },
    {
     "name": "stdout",
     "output_type": "stream",
     "text": [
      "--------------------------------------------------\n"
     ]
    },
    {
     "name": "stderr",
     "output_type": "stream",
     "text": [
      "INFO:__main__:Iteration 163\n",
      "INFO:__main__:Evolve time for iteration 163: 0.523226261138916\n",
      "INFO:__main__:Best chromosome after iteration 163: 18\n",
      "INFO:__main__:Worst chromosome after iteration 163: 24\n"
     ]
    },
    {
     "name": "stdout",
     "output_type": "stream",
     "text": [
      "--------------------------------------------------\n"
     ]
    },
    {
     "name": "stderr",
     "output_type": "stream",
     "text": [
      "INFO:__main__:Iteration 164\n",
      "INFO:__main__:Evolve time for iteration 164: 0.9912266731262207\n",
      "INFO:__main__:Best chromosome after iteration 164: 17\n",
      "INFO:__main__:Worst chromosome after iteration 164: 26\n"
     ]
    },
    {
     "name": "stdout",
     "output_type": "stream",
     "text": [
      "--------------------------------------------------\n"
     ]
    },
    {
     "name": "stderr",
     "output_type": "stream",
     "text": [
      "INFO:__main__:Iteration 165\n",
      "INFO:__main__:Evolve time for iteration 165: 0.5690276622772217\n",
      "INFO:__main__:Best chromosome after iteration 165: 17\n",
      "INFO:__main__:Worst chromosome after iteration 165: 21\n"
     ]
    },
    {
     "name": "stdout",
     "output_type": "stream",
     "text": [
      "--------------------------------------------------\n"
     ]
    },
    {
     "name": "stderr",
     "output_type": "stream",
     "text": [
      "INFO:__main__:Iteration 166\n",
      "INFO:__main__:Evolve time for iteration 166: 0.501079797744751\n",
      "INFO:__main__:Best chromosome after iteration 166: 17\n",
      "INFO:__main__:Worst chromosome after iteration 166: 22\n"
     ]
    },
    {
     "name": "stdout",
     "output_type": "stream",
     "text": [
      "--------------------------------------------------\n"
     ]
    },
    {
     "name": "stderr",
     "output_type": "stream",
     "text": [
      "INFO:__main__:Iteration 167\n",
      "INFO:__main__:Evolve time for iteration 167: 0.5298097133636475\n",
      "INFO:__main__:Best chromosome after iteration 167: 17\n",
      "INFO:__main__:Worst chromosome after iteration 167: 25\n"
     ]
    },
    {
     "name": "stdout",
     "output_type": "stream",
     "text": [
      "--------------------------------------------------\n"
     ]
    },
    {
     "name": "stderr",
     "output_type": "stream",
     "text": [
      "INFO:__main__:Iteration 168\n",
      "INFO:__main__:Evolve time for iteration 168: 0.9392595291137695\n",
      "INFO:__main__:Best chromosome after iteration 168: 17\n",
      "INFO:__main__:Worst chromosome after iteration 168: 26\n"
     ]
    },
    {
     "name": "stdout",
     "output_type": "stream",
     "text": [
      "--------------------------------------------------\n"
     ]
    },
    {
     "name": "stderr",
     "output_type": "stream",
     "text": [
      "INFO:__main__:Iteration 169\n",
      "INFO:__main__:Evolve time for iteration 169: 0.5230076313018799\n",
      "INFO:__main__:Best chromosome after iteration 169: 17\n",
      "INFO:__main__:Worst chromosome after iteration 169: 21\n"
     ]
    },
    {
     "name": "stdout",
     "output_type": "stream",
     "text": [
      "--------------------------------------------------\n"
     ]
    },
    {
     "name": "stderr",
     "output_type": "stream",
     "text": [
      "INFO:__main__:Iteration 170\n",
      "INFO:__main__:Evolve time for iteration 170: 0.5370755195617676\n",
      "INFO:__main__:Best chromosome after iteration 170: 17\n",
      "INFO:__main__:Worst chromosome after iteration 170: 21\n"
     ]
    },
    {
     "name": "stdout",
     "output_type": "stream",
     "text": [
      "--------------------------------------------------\n"
     ]
    },
    {
     "name": "stderr",
     "output_type": "stream",
     "text": [
      "INFO:__main__:Iteration 171\n",
      "INFO:__main__:Evolve time for iteration 171: 0.5003178119659424\n",
      "INFO:__main__:Best chromosome after iteration 171: 16\n",
      "INFO:__main__:Worst chromosome after iteration 171: 21\n"
     ]
    },
    {
     "name": "stdout",
     "output_type": "stream",
     "text": [
      "--------------------------------------------------\n"
     ]
    },
    {
     "name": "stderr",
     "output_type": "stream",
     "text": [
      "INFO:__main__:Iteration 172\n",
      "INFO:__main__:Evolve time for iteration 172: 0.9254655838012695\n",
      "INFO:__main__:Best chromosome after iteration 172: 16\n",
      "INFO:__main__:Worst chromosome after iteration 172: 19\n"
     ]
    },
    {
     "name": "stdout",
     "output_type": "stream",
     "text": [
      "--------------------------------------------------\n"
     ]
    },
    {
     "name": "stderr",
     "output_type": "stream",
     "text": [
      "INFO:__main__:Iteration 173\n",
      "INFO:__main__:Evolve time for iteration 173: 0.48791003227233887\n",
      "INFO:__main__:Best chromosome after iteration 173: 16\n",
      "INFO:__main__:Worst chromosome after iteration 173: 20\n"
     ]
    },
    {
     "name": "stdout",
     "output_type": "stream",
     "text": [
      "--------------------------------------------------\n"
     ]
    },
    {
     "name": "stderr",
     "output_type": "stream",
     "text": [
      "INFO:__main__:Iteration 174\n",
      "INFO:__main__:Evolve time for iteration 174: 0.5523891448974609\n",
      "INFO:__main__:Best chromosome after iteration 174: 16\n",
      "INFO:__main__:Worst chromosome after iteration 174: 21\n"
     ]
    },
    {
     "name": "stdout",
     "output_type": "stream",
     "text": [
      "--------------------------------------------------\n"
     ]
    },
    {
     "name": "stderr",
     "output_type": "stream",
     "text": [
      "INFO:__main__:Iteration 175\n",
      "INFO:__main__:Evolve time for iteration 175: 0.5694131851196289\n",
      "INFO:__main__:Best chromosome after iteration 175: 16\n",
      "INFO:__main__:Worst chromosome after iteration 175: 22\n"
     ]
    },
    {
     "name": "stdout",
     "output_type": "stream",
     "text": [
      "--------------------------------------------------\n"
     ]
    },
    {
     "name": "stderr",
     "output_type": "stream",
     "text": [
      "INFO:__main__:Iteration 176\n",
      "INFO:__main__:Evolve time for iteration 176: 0.9815552234649658\n",
      "INFO:__main__:Best chromosome after iteration 176: 16\n",
      "INFO:__main__:Worst chromosome after iteration 176: 22\n"
     ]
    },
    {
     "name": "stdout",
     "output_type": "stream",
     "text": [
      "--------------------------------------------------\n"
     ]
    },
    {
     "name": "stderr",
     "output_type": "stream",
     "text": [
      "INFO:__main__:Iteration 177\n",
      "INFO:__main__:Evolve time for iteration 177: 0.4897806644439697\n",
      "INFO:__main__:Best chromosome after iteration 177: 16\n",
      "INFO:__main__:Worst chromosome after iteration 177: 20\n"
     ]
    },
    {
     "name": "stdout",
     "output_type": "stream",
     "text": [
      "--------------------------------------------------\n"
     ]
    },
    {
     "name": "stderr",
     "output_type": "stream",
     "text": [
      "INFO:__main__:Iteration 178\n",
      "INFO:__main__:Evolve time for iteration 178: 0.49988770484924316\n",
      "INFO:__main__:Best chromosome after iteration 178: 16\n",
      "INFO:__main__:Worst chromosome after iteration 178: 22\n"
     ]
    },
    {
     "name": "stdout",
     "output_type": "stream",
     "text": [
      "--------------------------------------------------\n"
     ]
    },
    {
     "name": "stderr",
     "output_type": "stream",
     "text": [
      "INFO:__main__:Iteration 179\n",
      "INFO:__main__:Evolve time for iteration 179: 0.5250964164733887\n",
      "INFO:__main__:Best chromosome after iteration 179: 16\n",
      "INFO:__main__:Worst chromosome after iteration 179: 20\n"
     ]
    },
    {
     "name": "stdout",
     "output_type": "stream",
     "text": [
      "--------------------------------------------------\n"
     ]
    },
    {
     "name": "stderr",
     "output_type": "stream",
     "text": [
      "INFO:__main__:Iteration 180\n",
      "INFO:__main__:Evolve time for iteration 180: 0.5100464820861816\n",
      "INFO:__main__:Best chromosome after iteration 180: 16\n",
      "INFO:__main__:Worst chromosome after iteration 180: 20\n"
     ]
    },
    {
     "name": "stdout",
     "output_type": "stream",
     "text": [
      "--------------------------------------------------\n"
     ]
    },
    {
     "name": "stderr",
     "output_type": "stream",
     "text": [
      "INFO:__main__:Iteration 181\n",
      "INFO:__main__:Evolve time for iteration 181: 0.9616241455078125\n",
      "INFO:__main__:Best chromosome after iteration 181: 16\n",
      "INFO:__main__:Worst chromosome after iteration 181: 19\n"
     ]
    },
    {
     "name": "stdout",
     "output_type": "stream",
     "text": [
      "--------------------------------------------------\n"
     ]
    },
    {
     "name": "stderr",
     "output_type": "stream",
     "text": [
      "INFO:__main__:Iteration 182\n",
      "INFO:__main__:Evolve time for iteration 182: 0.5681271553039551\n",
      "INFO:__main__:Best chromosome after iteration 182: 16\n",
      "INFO:__main__:Worst chromosome after iteration 182: 21\n"
     ]
    },
    {
     "name": "stdout",
     "output_type": "stream",
     "text": [
      "--------------------------------------------------\n"
     ]
    },
    {
     "name": "stderr",
     "output_type": "stream",
     "text": [
      "INFO:__main__:Iteration 183\n",
      "INFO:__main__:Evolve time for iteration 183: 0.5542771816253662\n",
      "INFO:__main__:Best chromosome after iteration 183: 16\n",
      "INFO:__main__:Worst chromosome after iteration 183: 20\n"
     ]
    },
    {
     "name": "stdout",
     "output_type": "stream",
     "text": [
      "--------------------------------------------------\n"
     ]
    },
    {
     "name": "stderr",
     "output_type": "stream",
     "text": [
      "INFO:__main__:Iteration 184\n",
      "INFO:__main__:Evolve time for iteration 184: 0.583643913269043\n",
      "INFO:__main__:Best chromosome after iteration 184: 16\n",
      "INFO:__main__:Worst chromosome after iteration 184: 20\n"
     ]
    },
    {
     "name": "stdout",
     "output_type": "stream",
     "text": [
      "--------------------------------------------------\n"
     ]
    },
    {
     "name": "stderr",
     "output_type": "stream",
     "text": [
      "INFO:__main__:Iteration 185\n",
      "INFO:__main__:Evolve time for iteration 185: 0.9609344005584717\n",
      "INFO:__main__:Best chromosome after iteration 185: 16\n",
      "INFO:__main__:Worst chromosome after iteration 185: 21\n"
     ]
    },
    {
     "name": "stdout",
     "output_type": "stream",
     "text": [
      "--------------------------------------------------\n"
     ]
    },
    {
     "name": "stderr",
     "output_type": "stream",
     "text": [
      "INFO:__main__:Iteration 186\n",
      "INFO:__main__:Evolve time for iteration 186: 0.5480992794036865\n",
      "INFO:__main__:Best chromosome after iteration 186: 16\n",
      "INFO:__main__:Worst chromosome after iteration 186: 21\n"
     ]
    },
    {
     "name": "stdout",
     "output_type": "stream",
     "text": [
      "--------------------------------------------------\n"
     ]
    },
    {
     "name": "stderr",
     "output_type": "stream",
     "text": [
      "INFO:__main__:Iteration 187\n",
      "INFO:__main__:Evolve time for iteration 187: 0.5235037803649902\n",
      "INFO:__main__:Best chromosome after iteration 187: 16\n",
      "INFO:__main__:Worst chromosome after iteration 187: 22\n"
     ]
    },
    {
     "name": "stdout",
     "output_type": "stream",
     "text": [
      "--------------------------------------------------\n"
     ]
    },
    {
     "name": "stderr",
     "output_type": "stream",
     "text": [
      "INFO:__main__:Iteration 188\n",
      "INFO:__main__:Evolve time for iteration 188: 0.5643959045410156\n",
      "INFO:__main__:Best chromosome after iteration 188: 16\n",
      "INFO:__main__:Worst chromosome after iteration 188: 20\n"
     ]
    },
    {
     "name": "stdout",
     "output_type": "stream",
     "text": [
      "--------------------------------------------------\n"
     ]
    },
    {
     "name": "stderr",
     "output_type": "stream",
     "text": [
      "INFO:__main__:Iteration 189\n",
      "INFO:__main__:Evolve time for iteration 189: 0.9397358894348145\n",
      "INFO:__main__:Best chromosome after iteration 189: 16\n",
      "INFO:__main__:Worst chromosome after iteration 189: 19\n"
     ]
    },
    {
     "name": "stdout",
     "output_type": "stream",
     "text": [
      "--------------------------------------------------\n"
     ]
    },
    {
     "name": "stderr",
     "output_type": "stream",
     "text": [
      "INFO:__main__:Iteration 190\n",
      "INFO:__main__:Evolve time for iteration 190: 0.4871983528137207\n",
      "INFO:__main__:Best chromosome after iteration 190: 16\n",
      "INFO:__main__:Worst chromosome after iteration 190: 20\n"
     ]
    },
    {
     "name": "stdout",
     "output_type": "stream",
     "text": [
      "--------------------------------------------------\n"
     ]
    },
    {
     "name": "stderr",
     "output_type": "stream",
     "text": [
      "INFO:__main__:Iteration 191\n",
      "INFO:__main__:Evolve time for iteration 191: 0.5280938148498535\n",
      "INFO:__main__:Best chromosome after iteration 191: 16\n",
      "INFO:__main__:Worst chromosome after iteration 191: 20\n"
     ]
    },
    {
     "name": "stdout",
     "output_type": "stream",
     "text": [
      "--------------------------------------------------\n"
     ]
    },
    {
     "name": "stderr",
     "output_type": "stream",
     "text": [
      "INFO:__main__:Iteration 192\n",
      "INFO:__main__:Evolve time for iteration 192: 0.5185153484344482\n",
      "INFO:__main__:Best chromosome after iteration 192: 15\n",
      "INFO:__main__:Worst chromosome after iteration 192: 22\n"
     ]
    },
    {
     "name": "stdout",
     "output_type": "stream",
     "text": [
      "--------------------------------------------------\n"
     ]
    },
    {
     "name": "stderr",
     "output_type": "stream",
     "text": [
      "INFO:__main__:Iteration 193\n",
      "INFO:__main__:Evolve time for iteration 193: 0.4972803592681885\n",
      "INFO:__main__:Best chromosome after iteration 193: 15\n",
      "INFO:__main__:Worst chromosome after iteration 193: 22\n"
     ]
    },
    {
     "name": "stdout",
     "output_type": "stream",
     "text": [
      "--------------------------------------------------\n"
     ]
    },
    {
     "name": "stderr",
     "output_type": "stream",
     "text": [
      "INFO:__main__:Iteration 194\n",
      "INFO:__main__:Evolve time for iteration 194: 0.966447114944458\n",
      "INFO:__main__:Best chromosome after iteration 194: 15\n",
      "INFO:__main__:Worst chromosome after iteration 194: 22\n"
     ]
    },
    {
     "name": "stdout",
     "output_type": "stream",
     "text": [
      "--------------------------------------------------\n"
     ]
    },
    {
     "name": "stderr",
     "output_type": "stream",
     "text": [
      "INFO:__main__:Iteration 195\n",
      "INFO:__main__:Evolve time for iteration 195: 0.5211901664733887\n",
      "INFO:__main__:Best chromosome after iteration 195: 15\n",
      "INFO:__main__:Worst chromosome after iteration 195: 20\n"
     ]
    },
    {
     "name": "stdout",
     "output_type": "stream",
     "text": [
      "--------------------------------------------------\n"
     ]
    },
    {
     "name": "stderr",
     "output_type": "stream",
     "text": [
      "INFO:__main__:Iteration 196\n",
      "INFO:__main__:Evolve time for iteration 196: 0.5599679946899414\n",
      "INFO:__main__:Best chromosome after iteration 196: 15\n",
      "INFO:__main__:Worst chromosome after iteration 196: 21\n"
     ]
    },
    {
     "name": "stdout",
     "output_type": "stream",
     "text": [
      "--------------------------------------------------\n"
     ]
    },
    {
     "name": "stderr",
     "output_type": "stream",
     "text": [
      "INFO:__main__:Iteration 197\n",
      "INFO:__main__:Evolve time for iteration 197: 0.5438992977142334\n",
      "INFO:__main__:Best chromosome after iteration 197: 15\n",
      "INFO:__main__:Worst chromosome after iteration 197: 22\n"
     ]
    },
    {
     "name": "stdout",
     "output_type": "stream",
     "text": [
      "--------------------------------------------------\n"
     ]
    },
    {
     "name": "stderr",
     "output_type": "stream",
     "text": [
      "INFO:__main__:Iteration 198\n",
      "INFO:__main__:Evolve time for iteration 198: 0.9275696277618408\n",
      "INFO:__main__:Best chromosome after iteration 198: 15\n",
      "INFO:__main__:Worst chromosome after iteration 198: 22\n"
     ]
    },
    {
     "name": "stdout",
     "output_type": "stream",
     "text": [
      "--------------------------------------------------\n"
     ]
    },
    {
     "name": "stderr",
     "output_type": "stream",
     "text": [
      "INFO:__main__:Iteration 199\n",
      "INFO:__main__:Evolve time for iteration 199: 0.505108118057251\n",
      "INFO:__main__:Best chromosome after iteration 199: 15\n",
      "INFO:__main__:Worst chromosome after iteration 199: 21\n"
     ]
    },
    {
     "name": "stdout",
     "output_type": "stream",
     "text": [
      "--------------------------------------------------\n"
     ]
    },
    {
     "name": "stderr",
     "output_type": "stream",
     "text": [
      "INFO:__main__:Iteration 200\n",
      "INFO:__main__:Evolve time for iteration 200: 0.548168420791626\n",
      "INFO:__main__:Best chromosome after iteration 200: 15\n",
      "INFO:__main__:Worst chromosome after iteration 200: 20\n"
     ]
    },
    {
     "name": "stdout",
     "output_type": "stream",
     "text": [
      "--------------------------------------------------\n"
     ]
    },
    {
     "name": "stderr",
     "output_type": "stream",
     "text": [
      "INFO:__main__:Iteration 201\n",
      "INFO:__main__:Evolve time for iteration 201: 0.5633082389831543\n",
      "INFO:__main__:Best chromosome after iteration 201: 15\n",
      "INFO:__main__:Worst chromosome after iteration 201: 18\n"
     ]
    },
    {
     "name": "stdout",
     "output_type": "stream",
     "text": [
      "--------------------------------------------------\n"
     ]
    },
    {
     "name": "stderr",
     "output_type": "stream",
     "text": [
      "INFO:__main__:Iteration 202\n",
      "INFO:__main__:Evolve time for iteration 202: 0.5849688053131104\n",
      "INFO:__main__:Best chromosome after iteration 202: 15\n",
      "INFO:__main__:Worst chromosome after iteration 202: 18\n"
     ]
    },
    {
     "name": "stdout",
     "output_type": "stream",
     "text": [
      "--------------------------------------------------\n"
     ]
    },
    {
     "name": "stderr",
     "output_type": "stream",
     "text": [
      "INFO:__main__:Iteration 203\n",
      "INFO:__main__:Evolve time for iteration 203: 0.9819619655609131\n",
      "INFO:__main__:Best chromosome after iteration 203: 15\n",
      "INFO:__main__:Worst chromosome after iteration 203: 18\n"
     ]
    },
    {
     "name": "stdout",
     "output_type": "stream",
     "text": [
      "--------------------------------------------------\n"
     ]
    },
    {
     "name": "stderr",
     "output_type": "stream",
     "text": [
      "INFO:__main__:Iteration 204\n",
      "INFO:__main__:Evolve time for iteration 204: 0.5038838386535645\n",
      "INFO:__main__:Best chromosome after iteration 204: 15\n",
      "INFO:__main__:Worst chromosome after iteration 204: 18\n"
     ]
    },
    {
     "name": "stdout",
     "output_type": "stream",
     "text": [
      "--------------------------------------------------\n"
     ]
    },
    {
     "name": "stderr",
     "output_type": "stream",
     "text": [
      "INFO:__main__:Iteration 205\n",
      "INFO:__main__:Evolve time for iteration 205: 0.5433218479156494\n",
      "INFO:__main__:Best chromosome after iteration 205: 15\n",
      "INFO:__main__:Worst chromosome after iteration 205: 19\n"
     ]
    },
    {
     "name": "stdout",
     "output_type": "stream",
     "text": [
      "--------------------------------------------------\n"
     ]
    },
    {
     "name": "stderr",
     "output_type": "stream",
     "text": [
      "INFO:__main__:Iteration 206\n",
      "INFO:__main__:Evolve time for iteration 206: 0.5902493000030518\n",
      "INFO:__main__:Best chromosome after iteration 206: 15\n",
      "INFO:__main__:Worst chromosome after iteration 206: 20\n"
     ]
    },
    {
     "name": "stdout",
     "output_type": "stream",
     "text": [
      "--------------------------------------------------\n"
     ]
    },
    {
     "name": "stderr",
     "output_type": "stream",
     "text": [
      "INFO:__main__:Iteration 207\n",
      "INFO:__main__:Evolve time for iteration 207: 0.9299130439758301\n",
      "INFO:__main__:Best chromosome after iteration 207: 15\n",
      "INFO:__main__:Worst chromosome after iteration 207: 21\n"
     ]
    },
    {
     "name": "stdout",
     "output_type": "stream",
     "text": [
      "--------------------------------------------------\n"
     ]
    },
    {
     "name": "stderr",
     "output_type": "stream",
     "text": [
      "INFO:__main__:Iteration 208\n",
      "INFO:__main__:Evolve time for iteration 208: 0.5161714553833008\n",
      "INFO:__main__:Best chromosome after iteration 208: 15\n",
      "INFO:__main__:Worst chromosome after iteration 208: 21\n"
     ]
    },
    {
     "name": "stdout",
     "output_type": "stream",
     "text": [
      "--------------------------------------------------\n"
     ]
    },
    {
     "name": "stderr",
     "output_type": "stream",
     "text": [
      "INFO:__main__:Iteration 209\n",
      "INFO:__main__:Evolve time for iteration 209: 0.5021772384643555\n",
      "INFO:__main__:Best chromosome after iteration 209: 15\n",
      "INFO:__main__:Worst chromosome after iteration 209: 23\n"
     ]
    },
    {
     "name": "stdout",
     "output_type": "stream",
     "text": [
      "--------------------------------------------------\n"
     ]
    },
    {
     "name": "stderr",
     "output_type": "stream",
     "text": [
      "INFO:__main__:Iteration 210\n",
      "INFO:__main__:Evolve time for iteration 210: 0.5490431785583496\n",
      "INFO:__main__:Best chromosome after iteration 210: 15\n",
      "INFO:__main__:Worst chromosome after iteration 210: 24\n"
     ]
    },
    {
     "name": "stdout",
     "output_type": "stream",
     "text": [
      "--------------------------------------------------\n"
     ]
    },
    {
     "name": "stderr",
     "output_type": "stream",
     "text": [
      "INFO:__main__:Iteration 211\n",
      "INFO:__main__:Evolve time for iteration 211: 0.5146253108978271\n",
      "INFO:__main__:Best chromosome after iteration 211: 15\n",
      "INFO:__main__:Worst chromosome after iteration 211: 23\n"
     ]
    },
    {
     "name": "stdout",
     "output_type": "stream",
     "text": [
      "--------------------------------------------------\n"
     ]
    },
    {
     "name": "stderr",
     "output_type": "stream",
     "text": [
      "INFO:__main__:Iteration 212\n",
      "INFO:__main__:Evolve time for iteration 212: 0.9673705101013184\n",
      "INFO:__main__:Best chromosome after iteration 212: 15\n",
      "INFO:__main__:Worst chromosome after iteration 212: 23\n"
     ]
    },
    {
     "name": "stdout",
     "output_type": "stream",
     "text": [
      "--------------------------------------------------\n"
     ]
    },
    {
     "name": "stderr",
     "output_type": "stream",
     "text": [
      "INFO:__main__:Iteration 213\n",
      "INFO:__main__:Evolve time for iteration 213: 0.5238873958587646\n",
      "INFO:__main__:Best chromosome after iteration 213: 15\n",
      "INFO:__main__:Worst chromosome after iteration 213: 19\n"
     ]
    },
    {
     "name": "stdout",
     "output_type": "stream",
     "text": [
      "--------------------------------------------------\n"
     ]
    },
    {
     "name": "stderr",
     "output_type": "stream",
     "text": [
      "INFO:__main__:Iteration 214\n",
      "INFO:__main__:Evolve time for iteration 214: 0.5443899631500244\n",
      "INFO:__main__:Best chromosome after iteration 214: 15\n",
      "INFO:__main__:Worst chromosome after iteration 214: 22\n"
     ]
    },
    {
     "name": "stdout",
     "output_type": "stream",
     "text": [
      "--------------------------------------------------\n"
     ]
    },
    {
     "name": "stderr",
     "output_type": "stream",
     "text": [
      "INFO:__main__:Iteration 215\n",
      "INFO:__main__:Evolve time for iteration 215: 0.5103678703308105\n",
      "INFO:__main__:Best chromosome after iteration 215: 15\n",
      "INFO:__main__:Worst chromosome after iteration 215: 21\n"
     ]
    },
    {
     "name": "stdout",
     "output_type": "stream",
     "text": [
      "--------------------------------------------------\n"
     ]
    },
    {
     "name": "stderr",
     "output_type": "stream",
     "text": [
      "INFO:__main__:Iteration 216\n",
      "INFO:__main__:Evolve time for iteration 216: 0.956061601638794\n",
      "INFO:__main__:Best chromosome after iteration 216: 15\n",
      "INFO:__main__:Worst chromosome after iteration 216: 21\n"
     ]
    },
    {
     "name": "stdout",
     "output_type": "stream",
     "text": [
      "--------------------------------------------------\n"
     ]
    },
    {
     "name": "stderr",
     "output_type": "stream",
     "text": [
      "INFO:__main__:Iteration 217\n",
      "INFO:__main__:Evolve time for iteration 217: 0.4904966354370117\n",
      "INFO:__main__:Best chromosome after iteration 217: 15\n",
      "INFO:__main__:Worst chromosome after iteration 217: 21\n"
     ]
    },
    {
     "name": "stdout",
     "output_type": "stream",
     "text": [
      "--------------------------------------------------\n"
     ]
    },
    {
     "name": "stderr",
     "output_type": "stream",
     "text": [
      "INFO:__main__:Iteration 218\n",
      "INFO:__main__:Evolve time for iteration 218: 0.5416533946990967\n",
      "INFO:__main__:Best chromosome after iteration 218: 15\n",
      "INFO:__main__:Worst chromosome after iteration 218: 19\n"
     ]
    },
    {
     "name": "stdout",
     "output_type": "stream",
     "text": [
      "--------------------------------------------------\n"
     ]
    },
    {
     "name": "stderr",
     "output_type": "stream",
     "text": [
      "INFO:__main__:Iteration 219\n",
      "INFO:__main__:Evolve time for iteration 219: 0.5252377986907959\n",
      "INFO:__main__:Best chromosome after iteration 219: 15\n",
      "INFO:__main__:Worst chromosome after iteration 219: 19\n"
     ]
    },
    {
     "name": "stdout",
     "output_type": "stream",
     "text": [
      "--------------------------------------------------\n"
     ]
    },
    {
     "name": "stderr",
     "output_type": "stream",
     "text": [
      "INFO:__main__:Iteration 220\n",
      "INFO:__main__:Evolve time for iteration 220: 0.528153657913208\n",
      "INFO:__main__:Best chromosome after iteration 220: 15\n",
      "INFO:__main__:Worst chromosome after iteration 220: 20\n"
     ]
    },
    {
     "name": "stdout",
     "output_type": "stream",
     "text": [
      "--------------------------------------------------\n"
     ]
    },
    {
     "name": "stderr",
     "output_type": "stream",
     "text": [
      "INFO:__main__:Iteration 221\n",
      "INFO:__main__:Evolve time for iteration 221: 0.973867654800415\n",
      "INFO:__main__:Best chromosome after iteration 221: 15\n",
      "INFO:__main__:Worst chromosome after iteration 221: 21\n"
     ]
    },
    {
     "name": "stdout",
     "output_type": "stream",
     "text": [
      "--------------------------------------------------\n"
     ]
    },
    {
     "name": "stderr",
     "output_type": "stream",
     "text": [
      "INFO:__main__:Iteration 222\n",
      "INFO:__main__:Evolve time for iteration 222: 0.5345854759216309\n",
      "INFO:__main__:Best chromosome after iteration 222: 15\n",
      "INFO:__main__:Worst chromosome after iteration 222: 22\n"
     ]
    },
    {
     "name": "stdout",
     "output_type": "stream",
     "text": [
      "--------------------------------------------------\n"
     ]
    },
    {
     "name": "stderr",
     "output_type": "stream",
     "text": [
      "INFO:__main__:Iteration 223\n",
      "INFO:__main__:Evolve time for iteration 223: 0.554746150970459\n",
      "INFO:__main__:Best chromosome after iteration 223: 15\n",
      "INFO:__main__:Worst chromosome after iteration 223: 20\n"
     ]
    },
    {
     "name": "stdout",
     "output_type": "stream",
     "text": [
      "--------------------------------------------------\n"
     ]
    },
    {
     "name": "stderr",
     "output_type": "stream",
     "text": [
      "INFO:__main__:Iteration 224\n",
      "INFO:__main__:Evolve time for iteration 224: 0.56046462059021\n",
      "INFO:__main__:Best chromosome after iteration 224: 15\n",
      "INFO:__main__:Worst chromosome after iteration 224: 19\n"
     ]
    },
    {
     "name": "stdout",
     "output_type": "stream",
     "text": [
      "--------------------------------------------------\n"
     ]
    },
    {
     "name": "stderr",
     "output_type": "stream",
     "text": [
      "INFO:__main__:Iteration 225\n",
      "INFO:__main__:Evolve time for iteration 225: 0.4906482696533203\n",
      "INFO:__main__:Best chromosome after iteration 225: 15\n",
      "INFO:__main__:Worst chromosome after iteration 225: 21\n"
     ]
    },
    {
     "name": "stdout",
     "output_type": "stream",
     "text": [
      "--------------------------------------------------\n"
     ]
    },
    {
     "name": "stderr",
     "output_type": "stream",
     "text": [
      "INFO:__main__:Iteration 226\n",
      "INFO:__main__:Evolve time for iteration 226: 1.057945966720581\n",
      "INFO:__main__:Best chromosome after iteration 226: 14\n",
      "INFO:__main__:Worst chromosome after iteration 226: 21\n"
     ]
    },
    {
     "name": "stdout",
     "output_type": "stream",
     "text": [
      "--------------------------------------------------\n"
     ]
    },
    {
     "name": "stderr",
     "output_type": "stream",
     "text": [
      "INFO:__main__:Iteration 227\n",
      "INFO:__main__:Evolve time for iteration 227: 0.5157926082611084\n",
      "INFO:__main__:Best chromosome after iteration 227: 14\n",
      "INFO:__main__:Worst chromosome after iteration 227: 19\n"
     ]
    },
    {
     "name": "stdout",
     "output_type": "stream",
     "text": [
      "--------------------------------------------------\n"
     ]
    },
    {
     "name": "stderr",
     "output_type": "stream",
     "text": [
      "INFO:__main__:Iteration 228\n",
      "INFO:__main__:Evolve time for iteration 228: 0.47275710105895996\n",
      "INFO:__main__:Best chromosome after iteration 228: 14\n",
      "INFO:__main__:Worst chromosome after iteration 228: 19\n"
     ]
    },
    {
     "name": "stdout",
     "output_type": "stream",
     "text": [
      "--------------------------------------------------\n"
     ]
    },
    {
     "name": "stderr",
     "output_type": "stream",
     "text": [
      "INFO:__main__:Iteration 229\n",
      "INFO:__main__:Evolve time for iteration 229: 0.578413724899292\n",
      "INFO:__main__:Best chromosome after iteration 229: 14\n",
      "INFO:__main__:Worst chromosome after iteration 229: 20\n"
     ]
    },
    {
     "name": "stdout",
     "output_type": "stream",
     "text": [
      "--------------------------------------------------\n"
     ]
    },
    {
     "name": "stderr",
     "output_type": "stream",
     "text": [
      "INFO:__main__:Iteration 230\n",
      "INFO:__main__:Evolve time for iteration 230: 1.0733962059020996\n",
      "INFO:__main__:Best chromosome after iteration 230: 14\n",
      "INFO:__main__:Worst chromosome after iteration 230: 21\n"
     ]
    },
    {
     "name": "stdout",
     "output_type": "stream",
     "text": [
      "--------------------------------------------------\n"
     ]
    },
    {
     "name": "stderr",
     "output_type": "stream",
     "text": [
      "INFO:__main__:Iteration 231\n",
      "INFO:__main__:Evolve time for iteration 231: 0.5348219871520996\n",
      "INFO:__main__:Best chromosome after iteration 231: 14\n",
      "INFO:__main__:Worst chromosome after iteration 231: 21\n"
     ]
    },
    {
     "name": "stdout",
     "output_type": "stream",
     "text": [
      "--------------------------------------------------\n"
     ]
    },
    {
     "name": "stderr",
     "output_type": "stream",
     "text": [
      "INFO:__main__:Iteration 232\n",
      "INFO:__main__:Evolve time for iteration 232: 0.5442640781402588\n",
      "INFO:__main__:Best chromosome after iteration 232: 14\n",
      "INFO:__main__:Worst chromosome after iteration 232: 20\n"
     ]
    },
    {
     "name": "stdout",
     "output_type": "stream",
     "text": [
      "--------------------------------------------------\n"
     ]
    },
    {
     "name": "stderr",
     "output_type": "stream",
     "text": [
      "INFO:__main__:Iteration 233\n",
      "INFO:__main__:Evolve time for iteration 233: 0.4676334857940674\n",
      "INFO:__main__:Best chromosome after iteration 233: 14\n",
      "INFO:__main__:Worst chromosome after iteration 233: 21\n"
     ]
    },
    {
     "name": "stdout",
     "output_type": "stream",
     "text": [
      "--------------------------------------------------\n"
     ]
    },
    {
     "name": "stderr",
     "output_type": "stream",
     "text": [
      "INFO:__main__:Iteration 234\n",
      "INFO:__main__:Evolve time for iteration 234: 0.5070908069610596\n",
      "INFO:__main__:Best chromosome after iteration 234: 14\n",
      "INFO:__main__:Worst chromosome after iteration 234: 19\n"
     ]
    },
    {
     "name": "stdout",
     "output_type": "stream",
     "text": [
      "--------------------------------------------------\n"
     ]
    },
    {
     "name": "stderr",
     "output_type": "stream",
     "text": [
      "INFO:__main__:Iteration 235\n",
      "INFO:__main__:Evolve time for iteration 235: 0.9614310264587402\n",
      "INFO:__main__:Best chromosome after iteration 235: 14\n",
      "INFO:__main__:Worst chromosome after iteration 235: 19\n"
     ]
    },
    {
     "name": "stdout",
     "output_type": "stream",
     "text": [
      "--------------------------------------------------\n"
     ]
    },
    {
     "name": "stderr",
     "output_type": "stream",
     "text": [
      "INFO:__main__:Iteration 236\n",
      "INFO:__main__:Evolve time for iteration 236: 0.5450084209442139\n",
      "INFO:__main__:Best chromosome after iteration 236: 14\n",
      "INFO:__main__:Worst chromosome after iteration 236: 19\n"
     ]
    },
    {
     "name": "stdout",
     "output_type": "stream",
     "text": [
      "--------------------------------------------------\n"
     ]
    },
    {
     "name": "stderr",
     "output_type": "stream",
     "text": [
      "INFO:__main__:Iteration 237\n",
      "INFO:__main__:Evolve time for iteration 237: 0.5066494941711426\n",
      "INFO:__main__:Best chromosome after iteration 237: 14\n",
      "INFO:__main__:Worst chromosome after iteration 237: 18\n"
     ]
    },
    {
     "name": "stdout",
     "output_type": "stream",
     "text": [
      "--------------------------------------------------\n"
     ]
    },
    {
     "name": "stderr",
     "output_type": "stream",
     "text": [
      "INFO:__main__:Iteration 238\n",
      "INFO:__main__:Evolve time for iteration 238: 0.5035243034362793\n",
      "INFO:__main__:Best chromosome after iteration 238: 14\n",
      "INFO:__main__:Worst chromosome after iteration 238: 17\n"
     ]
    },
    {
     "name": "stdout",
     "output_type": "stream",
     "text": [
      "--------------------------------------------------\n"
     ]
    },
    {
     "name": "stderr",
     "output_type": "stream",
     "text": [
      "INFO:__main__:Iteration 239\n",
      "INFO:__main__:Evolve time for iteration 239: 0.5437474250793457\n",
      "INFO:__main__:Best chromosome after iteration 239: 14\n",
      "INFO:__main__:Worst chromosome after iteration 239: 17\n"
     ]
    },
    {
     "name": "stdout",
     "output_type": "stream",
     "text": [
      "--------------------------------------------------\n"
     ]
    },
    {
     "name": "stderr",
     "output_type": "stream",
     "text": [
      "INFO:__main__:Iteration 240\n",
      "INFO:__main__:Evolve time for iteration 240: 1.1005985736846924\n",
      "INFO:__main__:Best chromosome after iteration 240: 14\n",
      "INFO:__main__:Worst chromosome after iteration 240: 18\n"
     ]
    },
    {
     "name": "stdout",
     "output_type": "stream",
     "text": [
      "--------------------------------------------------\n"
     ]
    },
    {
     "name": "stderr",
     "output_type": "stream",
     "text": [
      "INFO:__main__:Iteration 241\n",
      "INFO:__main__:Evolve time for iteration 241: 0.539989709854126\n",
      "INFO:__main__:Best chromosome after iteration 241: 14\n",
      "INFO:__main__:Worst chromosome after iteration 241: 20\n"
     ]
    },
    {
     "name": "stdout",
     "output_type": "stream",
     "text": [
      "--------------------------------------------------\n"
     ]
    },
    {
     "name": "stderr",
     "output_type": "stream",
     "text": [
      "INFO:__main__:Iteration 242\n",
      "INFO:__main__:Evolve time for iteration 242: 0.5179686546325684\n",
      "INFO:__main__:Best chromosome after iteration 242: 14\n",
      "INFO:__main__:Worst chromosome after iteration 242: 18\n"
     ]
    },
    {
     "name": "stdout",
     "output_type": "stream",
     "text": [
      "--------------------------------------------------\n"
     ]
    },
    {
     "name": "stderr",
     "output_type": "stream",
     "text": [
      "INFO:__main__:Iteration 243\n",
      "INFO:__main__:Evolve time for iteration 243: 0.5776722431182861\n",
      "INFO:__main__:Best chromosome after iteration 243: 14\n",
      "INFO:__main__:Worst chromosome after iteration 243: 20\n"
     ]
    },
    {
     "name": "stdout",
     "output_type": "stream",
     "text": [
      "--------------------------------------------------\n"
     ]
    },
    {
     "name": "stderr",
     "output_type": "stream",
     "text": [
      "INFO:__main__:Iteration 244\n",
      "INFO:__main__:Evolve time for iteration 244: 0.9916365146636963\n",
      "INFO:__main__:Best chromosome after iteration 244: 14\n",
      "INFO:__main__:Worst chromosome after iteration 244: 20\n"
     ]
    },
    {
     "name": "stdout",
     "output_type": "stream",
     "text": [
      "--------------------------------------------------\n"
     ]
    },
    {
     "name": "stderr",
     "output_type": "stream",
     "text": [
      "INFO:__main__:Iteration 245\n",
      "INFO:__main__:Evolve time for iteration 245: 0.5537490844726562\n",
      "INFO:__main__:Best chromosome after iteration 245: 13\n",
      "INFO:__main__:Worst chromosome after iteration 245: 22\n"
     ]
    },
    {
     "name": "stdout",
     "output_type": "stream",
     "text": [
      "--------------------------------------------------\n"
     ]
    },
    {
     "name": "stderr",
     "output_type": "stream",
     "text": [
      "INFO:__main__:Iteration 246\n",
      "INFO:__main__:Evolve time for iteration 246: 0.5414650440216064\n",
      "INFO:__main__:Best chromosome after iteration 246: 13\n",
      "INFO:__main__:Worst chromosome after iteration 246: 18\n"
     ]
    },
    {
     "name": "stdout",
     "output_type": "stream",
     "text": [
      "--------------------------------------------------\n"
     ]
    },
    {
     "name": "stderr",
     "output_type": "stream",
     "text": [
      "INFO:__main__:Iteration 247\n",
      "INFO:__main__:Evolve time for iteration 247: 0.5204107761383057\n",
      "INFO:__main__:Best chromosome after iteration 247: 13\n",
      "INFO:__main__:Worst chromosome after iteration 247: 19\n"
     ]
    },
    {
     "name": "stdout",
     "output_type": "stream",
     "text": [
      "--------------------------------------------------\n"
     ]
    },
    {
     "name": "stderr",
     "output_type": "stream",
     "text": [
      "INFO:__main__:Iteration 248\n",
      "INFO:__main__:Evolve time for iteration 248: 0.46679067611694336\n",
      "INFO:__main__:Best chromosome after iteration 248: 13\n",
      "INFO:__main__:Worst chromosome after iteration 248: 19\n"
     ]
    },
    {
     "name": "stdout",
     "output_type": "stream",
     "text": [
      "--------------------------------------------------\n"
     ]
    },
    {
     "name": "stderr",
     "output_type": "stream",
     "text": [
      "INFO:__main__:Iteration 249\n",
      "INFO:__main__:Evolve time for iteration 249: 1.0294618606567383\n",
      "INFO:__main__:Best chromosome after iteration 249: 13\n",
      "INFO:__main__:Worst chromosome after iteration 249: 19\n"
     ]
    },
    {
     "name": "stdout",
     "output_type": "stream",
     "text": [
      "--------------------------------------------------\n"
     ]
    },
    {
     "name": "stderr",
     "output_type": "stream",
     "text": [
      "INFO:__main__:Iteration 250\n",
      "INFO:__main__:Evolve time for iteration 250: 0.5351104736328125\n",
      "INFO:__main__:Best chromosome after iteration 250: 13\n",
      "INFO:__main__:Worst chromosome after iteration 250: 20\n"
     ]
    },
    {
     "name": "stdout",
     "output_type": "stream",
     "text": [
      "--------------------------------------------------\n"
     ]
    },
    {
     "name": "stderr",
     "output_type": "stream",
     "text": [
      "INFO:__main__:Iteration 251\n",
      "INFO:__main__:Evolve time for iteration 251: 0.580996036529541\n",
      "INFO:__main__:Best chromosome after iteration 251: 13\n",
      "INFO:__main__:Worst chromosome after iteration 251: 19\n"
     ]
    },
    {
     "name": "stdout",
     "output_type": "stream",
     "text": [
      "--------------------------------------------------\n"
     ]
    },
    {
     "name": "stderr",
     "output_type": "stream",
     "text": [
      "INFO:__main__:Iteration 252\n",
      "INFO:__main__:Evolve time for iteration 252: 0.5045254230499268\n",
      "INFO:__main__:Best chromosome after iteration 252: 13\n",
      "INFO:__main__:Worst chromosome after iteration 252: 20\n"
     ]
    },
    {
     "name": "stdout",
     "output_type": "stream",
     "text": [
      "--------------------------------------------------\n"
     ]
    },
    {
     "name": "stderr",
     "output_type": "stream",
     "text": [
      "INFO:__main__:Iteration 253\n",
      "INFO:__main__:Evolve time for iteration 253: 0.607001543045044\n",
      "INFO:__main__:Best chromosome after iteration 253: 13\n",
      "INFO:__main__:Worst chromosome after iteration 253: 18\n"
     ]
    },
    {
     "name": "stdout",
     "output_type": "stream",
     "text": [
      "--------------------------------------------------\n"
     ]
    },
    {
     "name": "stderr",
     "output_type": "stream",
     "text": [
      "INFO:__main__:Iteration 254\n",
      "INFO:__main__:Evolve time for iteration 254: 1.0728387832641602\n",
      "INFO:__main__:Best chromosome after iteration 254: 13\n",
      "INFO:__main__:Worst chromosome after iteration 254: 16\n"
     ]
    },
    {
     "name": "stdout",
     "output_type": "stream",
     "text": [
      "--------------------------------------------------\n"
     ]
    },
    {
     "name": "stderr",
     "output_type": "stream",
     "text": [
      "INFO:__main__:Iteration 255\n",
      "INFO:__main__:Evolve time for iteration 255: 0.5720160007476807\n",
      "INFO:__main__:Best chromosome after iteration 255: 13\n",
      "INFO:__main__:Worst chromosome after iteration 255: 17\n"
     ]
    },
    {
     "name": "stdout",
     "output_type": "stream",
     "text": [
      "--------------------------------------------------\n"
     ]
    },
    {
     "name": "stderr",
     "output_type": "stream",
     "text": [
      "INFO:__main__:Iteration 256\n",
      "INFO:__main__:Evolve time for iteration 256: 0.47471189498901367\n",
      "INFO:__main__:Best chromosome after iteration 256: 13\n",
      "INFO:__main__:Worst chromosome after iteration 256: 18\n"
     ]
    },
    {
     "name": "stdout",
     "output_type": "stream",
     "text": [
      "--------------------------------------------------\n"
     ]
    },
    {
     "name": "stderr",
     "output_type": "stream",
     "text": [
      "INFO:__main__:Iteration 257\n",
      "INFO:__main__:Evolve time for iteration 257: 0.5267941951751709\n",
      "INFO:__main__:Best chromosome after iteration 257: 13\n",
      "INFO:__main__:Worst chromosome after iteration 257: 18\n"
     ]
    },
    {
     "name": "stdout",
     "output_type": "stream",
     "text": [
      "--------------------------------------------------\n"
     ]
    },
    {
     "name": "stderr",
     "output_type": "stream",
     "text": [
      "INFO:__main__:Iteration 258\n",
      "INFO:__main__:Evolve time for iteration 258: 0.49297237396240234\n",
      "INFO:__main__:Best chromosome after iteration 258: 13\n",
      "INFO:__main__:Worst chromosome after iteration 258: 20\n"
     ]
    },
    {
     "name": "stdout",
     "output_type": "stream",
     "text": [
      "--------------------------------------------------\n"
     ]
    },
    {
     "name": "stderr",
     "output_type": "stream",
     "text": [
      "INFO:__main__:Iteration 259\n",
      "INFO:__main__:Evolve time for iteration 259: 1.0755279064178467\n",
      "INFO:__main__:Best chromosome after iteration 259: 13\n",
      "INFO:__main__:Worst chromosome after iteration 259: 19\n"
     ]
    },
    {
     "name": "stdout",
     "output_type": "stream",
     "text": [
      "--------------------------------------------------\n"
     ]
    },
    {
     "name": "stderr",
     "output_type": "stream",
     "text": [
      "INFO:__main__:Iteration 260\n",
      "INFO:__main__:Evolve time for iteration 260: 0.5493028163909912\n",
      "INFO:__main__:Best chromosome after iteration 260: 13\n",
      "INFO:__main__:Worst chromosome after iteration 260: 17\n"
     ]
    },
    {
     "name": "stdout",
     "output_type": "stream",
     "text": [
      "--------------------------------------------------\n"
     ]
    },
    {
     "name": "stderr",
     "output_type": "stream",
     "text": [
      "INFO:__main__:Iteration 261\n",
      "INFO:__main__:Evolve time for iteration 261: 0.5411756038665771\n",
      "INFO:__main__:Best chromosome after iteration 261: 13\n",
      "INFO:__main__:Worst chromosome after iteration 261: 21\n"
     ]
    },
    {
     "name": "stdout",
     "output_type": "stream",
     "text": [
      "--------------------------------------------------\n"
     ]
    },
    {
     "name": "stderr",
     "output_type": "stream",
     "text": [
      "INFO:__main__:Iteration 262\n",
      "INFO:__main__:Evolve time for iteration 262: 0.5097498893737793\n",
      "INFO:__main__:Best chromosome after iteration 262: 13\n",
      "INFO:__main__:Worst chromosome after iteration 262: 18\n"
     ]
    },
    {
     "name": "stdout",
     "output_type": "stream",
     "text": [
      "--------------------------------------------------\n"
     ]
    },
    {
     "name": "stderr",
     "output_type": "stream",
     "text": [
      "INFO:__main__:Iteration 263\n",
      "INFO:__main__:Evolve time for iteration 263: 0.5161821842193604\n",
      "INFO:__main__:Best chromosome after iteration 263: 13\n",
      "INFO:__main__:Worst chromosome after iteration 263: 17\n"
     ]
    },
    {
     "name": "stdout",
     "output_type": "stream",
     "text": [
      "--------------------------------------------------\n"
     ]
    },
    {
     "name": "stderr",
     "output_type": "stream",
     "text": [
      "INFO:__main__:Iteration 264\n",
      "INFO:__main__:Evolve time for iteration 264: 1.0420517921447754\n",
      "INFO:__main__:Best chromosome after iteration 264: 13\n",
      "INFO:__main__:Worst chromosome after iteration 264: 17\n"
     ]
    },
    {
     "name": "stdout",
     "output_type": "stream",
     "text": [
      "--------------------------------------------------\n"
     ]
    },
    {
     "name": "stderr",
     "output_type": "stream",
     "text": [
      "INFO:__main__:Iteration 265\n",
      "INFO:__main__:Evolve time for iteration 265: 0.4540369510650635\n",
      "INFO:__main__:Best chromosome after iteration 265: 13\n",
      "INFO:__main__:Worst chromosome after iteration 265: 18\n"
     ]
    },
    {
     "name": "stdout",
     "output_type": "stream",
     "text": [
      "--------------------------------------------------\n"
     ]
    },
    {
     "name": "stderr",
     "output_type": "stream",
     "text": [
      "INFO:__main__:Iteration 266\n",
      "INFO:__main__:Evolve time for iteration 266: 0.45790529251098633\n",
      "INFO:__main__:Best chromosome after iteration 266: 13\n",
      "INFO:__main__:Worst chromosome after iteration 266: 17\n"
     ]
    },
    {
     "name": "stdout",
     "output_type": "stream",
     "text": [
      "--------------------------------------------------\n"
     ]
    },
    {
     "name": "stderr",
     "output_type": "stream",
     "text": [
      "INFO:__main__:Iteration 267\n",
      "INFO:__main__:Evolve time for iteration 267: 0.45299458503723145\n",
      "INFO:__main__:Best chromosome after iteration 267: 13\n",
      "INFO:__main__:Worst chromosome after iteration 267: 17\n"
     ]
    },
    {
     "name": "stdout",
     "output_type": "stream",
     "text": [
      "--------------------------------------------------\n"
     ]
    },
    {
     "name": "stderr",
     "output_type": "stream",
     "text": [
      "INFO:__main__:Iteration 268\n",
      "INFO:__main__:Evolve time for iteration 268: 0.46976733207702637\n",
      "INFO:__main__:Best chromosome after iteration 268: 13\n",
      "INFO:__main__:Worst chromosome after iteration 268: 17\n"
     ]
    },
    {
     "name": "stdout",
     "output_type": "stream",
     "text": [
      "--------------------------------------------------\n"
     ]
    },
    {
     "name": "stderr",
     "output_type": "stream",
     "text": [
      "INFO:__main__:Iteration 269\n",
      "INFO:__main__:Evolve time for iteration 269: 1.0855052471160889\n",
      "INFO:__main__:Best chromosome after iteration 269: 13\n",
      "INFO:__main__:Worst chromosome after iteration 269: 22\n"
     ]
    },
    {
     "name": "stdout",
     "output_type": "stream",
     "text": [
      "--------------------------------------------------\n"
     ]
    },
    {
     "name": "stderr",
     "output_type": "stream",
     "text": [
      "INFO:__main__:Iteration 270\n",
      "INFO:__main__:Evolve time for iteration 270: 0.4848814010620117\n",
      "INFO:__main__:Best chromosome after iteration 270: 13\n",
      "INFO:__main__:Worst chromosome after iteration 270: 20\n"
     ]
    },
    {
     "name": "stdout",
     "output_type": "stream",
     "text": [
      "--------------------------------------------------\n"
     ]
    },
    {
     "name": "stderr",
     "output_type": "stream",
     "text": [
      "INFO:__main__:Iteration 271\n",
      "INFO:__main__:Evolve time for iteration 271: 0.43842029571533203\n",
      "INFO:__main__:Best chromosome after iteration 271: 12\n",
      "INFO:__main__:Worst chromosome after iteration 271: 19\n"
     ]
    },
    {
     "name": "stdout",
     "output_type": "stream",
     "text": [
      "--------------------------------------------------\n"
     ]
    },
    {
     "name": "stderr",
     "output_type": "stream",
     "text": [
      "INFO:__main__:Iteration 272\n",
      "INFO:__main__:Evolve time for iteration 272: 0.5490572452545166\n",
      "INFO:__main__:Best chromosome after iteration 272: 12\n",
      "INFO:__main__:Worst chromosome after iteration 272: 23\n"
     ]
    },
    {
     "name": "stdout",
     "output_type": "stream",
     "text": [
      "--------------------------------------------------\n"
     ]
    },
    {
     "name": "stderr",
     "output_type": "stream",
     "text": [
      "INFO:__main__:Iteration 273\n",
      "INFO:__main__:Evolve time for iteration 273: 0.5207929611206055\n",
      "INFO:__main__:Best chromosome after iteration 273: 12\n",
      "INFO:__main__:Worst chromosome after iteration 273: 19\n"
     ]
    },
    {
     "name": "stdout",
     "output_type": "stream",
     "text": [
      "--------------------------------------------------\n"
     ]
    },
    {
     "name": "stderr",
     "output_type": "stream",
     "text": [
      "INFO:__main__:Iteration 274\n",
      "INFO:__main__:Evolve time for iteration 274: 0.5082888603210449\n",
      "INFO:__main__:Best chromosome after iteration 274: 12\n",
      "INFO:__main__:Worst chromosome after iteration 274: 16\n"
     ]
    },
    {
     "name": "stdout",
     "output_type": "stream",
     "text": [
      "--------------------------------------------------\n"
     ]
    },
    {
     "name": "stderr",
     "output_type": "stream",
     "text": [
      "INFO:__main__:Iteration 275\n",
      "INFO:__main__:Evolve time for iteration 275: 0.962160587310791\n",
      "INFO:__main__:Best chromosome after iteration 275: 12\n",
      "INFO:__main__:Worst chromosome after iteration 275: 18\n"
     ]
    },
    {
     "name": "stdout",
     "output_type": "stream",
     "text": [
      "--------------------------------------------------\n"
     ]
    },
    {
     "name": "stderr",
     "output_type": "stream",
     "text": [
      "INFO:__main__:Iteration 276\n",
      "INFO:__main__:Evolve time for iteration 276: 0.4753713607788086\n",
      "INFO:__main__:Best chromosome after iteration 276: 12\n",
      "INFO:__main__:Worst chromosome after iteration 276: 18\n"
     ]
    },
    {
     "name": "stdout",
     "output_type": "stream",
     "text": [
      "--------------------------------------------------\n"
     ]
    },
    {
     "name": "stderr",
     "output_type": "stream",
     "text": [
      "INFO:__main__:Iteration 277\n",
      "INFO:__main__:Evolve time for iteration 277: 0.48516082763671875\n",
      "INFO:__main__:Best chromosome after iteration 277: 12\n",
      "INFO:__main__:Worst chromosome after iteration 277: 18\n"
     ]
    },
    {
     "name": "stdout",
     "output_type": "stream",
     "text": [
      "--------------------------------------------------\n"
     ]
    },
    {
     "name": "stderr",
     "output_type": "stream",
     "text": [
      "INFO:__main__:Iteration 278\n",
      "INFO:__main__:Evolve time for iteration 278: 0.5023748874664307\n",
      "INFO:__main__:Best chromosome after iteration 278: 12\n",
      "INFO:__main__:Worst chromosome after iteration 278: 19\n"
     ]
    },
    {
     "name": "stdout",
     "output_type": "stream",
     "text": [
      "--------------------------------------------------\n"
     ]
    },
    {
     "name": "stderr",
     "output_type": "stream",
     "text": [
      "INFO:__main__:Iteration 279\n",
      "INFO:__main__:Evolve time for iteration 279: 0.5151932239532471\n",
      "INFO:__main__:Best chromosome after iteration 279: 12\n",
      "INFO:__main__:Worst chromosome after iteration 279: 21\n"
     ]
    },
    {
     "name": "stdout",
     "output_type": "stream",
     "text": [
      "--------------------------------------------------\n"
     ]
    },
    {
     "name": "stderr",
     "output_type": "stream",
     "text": [
      "INFO:__main__:Iteration 280\n",
      "INFO:__main__:Evolve time for iteration 280: 0.934584379196167\n",
      "INFO:__main__:Best chromosome after iteration 280: 12\n",
      "INFO:__main__:Worst chromosome after iteration 280: 21\n"
     ]
    },
    {
     "name": "stdout",
     "output_type": "stream",
     "text": [
      "--------------------------------------------------\n"
     ]
    },
    {
     "name": "stderr",
     "output_type": "stream",
     "text": [
      "INFO:__main__:Iteration 281\n",
      "INFO:__main__:Evolve time for iteration 281: 0.5273706912994385\n",
      "INFO:__main__:Best chromosome after iteration 281: 12\n",
      "INFO:__main__:Worst chromosome after iteration 281: 18\n"
     ]
    },
    {
     "name": "stdout",
     "output_type": "stream",
     "text": [
      "--------------------------------------------------\n"
     ]
    },
    {
     "name": "stderr",
     "output_type": "stream",
     "text": [
      "INFO:__main__:Iteration 282\n",
      "INFO:__main__:Evolve time for iteration 282: 0.45033740997314453\n",
      "INFO:__main__:Best chromosome after iteration 282: 12\n",
      "INFO:__main__:Worst chromosome after iteration 282: 18\n"
     ]
    },
    {
     "name": "stdout",
     "output_type": "stream",
     "text": [
      "--------------------------------------------------\n"
     ]
    },
    {
     "name": "stderr",
     "output_type": "stream",
     "text": [
      "INFO:__main__:Iteration 283\n",
      "INFO:__main__:Evolve time for iteration 283: 0.44458794593811035\n",
      "INFO:__main__:Best chromosome after iteration 283: 12\n",
      "INFO:__main__:Worst chromosome after iteration 283: 18\n"
     ]
    },
    {
     "name": "stdout",
     "output_type": "stream",
     "text": [
      "--------------------------------------------------\n"
     ]
    },
    {
     "name": "stderr",
     "output_type": "stream",
     "text": [
      "INFO:__main__:Iteration 284\n",
      "INFO:__main__:Evolve time for iteration 284: 0.4383978843688965\n",
      "INFO:__main__:Best chromosome after iteration 284: 12\n",
      "INFO:__main__:Worst chromosome after iteration 284: 19\n"
     ]
    },
    {
     "name": "stdout",
     "output_type": "stream",
     "text": [
      "--------------------------------------------------\n"
     ]
    },
    {
     "name": "stderr",
     "output_type": "stream",
     "text": [
      "INFO:__main__:Iteration 285\n",
      "INFO:__main__:Evolve time for iteration 285: 0.9465270042419434\n",
      "INFO:__main__:Best chromosome after iteration 285: 12\n",
      "INFO:__main__:Worst chromosome after iteration 285: 19\n"
     ]
    },
    {
     "name": "stdout",
     "output_type": "stream",
     "text": [
      "--------------------------------------------------\n"
     ]
    },
    {
     "name": "stderr",
     "output_type": "stream",
     "text": [
      "INFO:__main__:Iteration 286\n",
      "INFO:__main__:Evolve time for iteration 286: 0.4678215980529785\n",
      "INFO:__main__:Best chromosome after iteration 286: 12\n",
      "INFO:__main__:Worst chromosome after iteration 286: 18\n"
     ]
    },
    {
     "name": "stdout",
     "output_type": "stream",
     "text": [
      "--------------------------------------------------\n"
     ]
    },
    {
     "name": "stderr",
     "output_type": "stream",
     "text": [
      "INFO:__main__:Iteration 287\n",
      "INFO:__main__:Evolve time for iteration 287: 0.4772946834564209\n",
      "INFO:__main__:Best chromosome after iteration 287: 12\n",
      "INFO:__main__:Worst chromosome after iteration 287: 18\n"
     ]
    },
    {
     "name": "stdout",
     "output_type": "stream",
     "text": [
      "--------------------------------------------------\n"
     ]
    },
    {
     "name": "stderr",
     "output_type": "stream",
     "text": [
      "INFO:__main__:Iteration 288\n",
      "INFO:__main__:Evolve time for iteration 288: 0.4767122268676758\n",
      "INFO:__main__:Best chromosome after iteration 288: 12\n",
      "INFO:__main__:Worst chromosome after iteration 288: 18\n"
     ]
    },
    {
     "name": "stdout",
     "output_type": "stream",
     "text": [
      "--------------------------------------------------\n"
     ]
    },
    {
     "name": "stderr",
     "output_type": "stream",
     "text": [
      "INFO:__main__:Iteration 289\n",
      "INFO:__main__:Evolve time for iteration 289: 0.4484875202178955\n",
      "INFO:__main__:Best chromosome after iteration 289: 12\n",
      "INFO:__main__:Worst chromosome after iteration 289: 18\n"
     ]
    },
    {
     "name": "stdout",
     "output_type": "stream",
     "text": [
      "--------------------------------------------------\n"
     ]
    },
    {
     "name": "stderr",
     "output_type": "stream",
     "text": [
      "INFO:__main__:Iteration 290\n",
      "INFO:__main__:Evolve time for iteration 290: 0.9835612773895264\n",
      "INFO:__main__:Best chromosome after iteration 290: 12\n",
      "INFO:__main__:Worst chromosome after iteration 290: 18\n"
     ]
    },
    {
     "name": "stdout",
     "output_type": "stream",
     "text": [
      "--------------------------------------------------\n"
     ]
    },
    {
     "name": "stderr",
     "output_type": "stream",
     "text": [
      "INFO:__main__:Iteration 291\n",
      "INFO:__main__:Evolve time for iteration 291: 0.46758389472961426\n",
      "INFO:__main__:Best chromosome after iteration 291: 12\n",
      "INFO:__main__:Worst chromosome after iteration 291: 17\n"
     ]
    },
    {
     "name": "stdout",
     "output_type": "stream",
     "text": [
      "--------------------------------------------------\n"
     ]
    },
    {
     "name": "stderr",
     "output_type": "stream",
     "text": [
      "INFO:__main__:Iteration 292\n",
      "INFO:__main__:Evolve time for iteration 292: 0.48006224632263184\n",
      "INFO:__main__:Best chromosome after iteration 292: 12\n",
      "INFO:__main__:Worst chromosome after iteration 292: 17\n"
     ]
    },
    {
     "name": "stdout",
     "output_type": "stream",
     "text": [
      "--------------------------------------------------\n"
     ]
    },
    {
     "name": "stderr",
     "output_type": "stream",
     "text": [
      "INFO:__main__:Iteration 293\n",
      "INFO:__main__:Evolve time for iteration 293: 0.47162771224975586\n",
      "INFO:__main__:Best chromosome after iteration 293: 12\n",
      "INFO:__main__:Worst chromosome after iteration 293: 18\n"
     ]
    },
    {
     "name": "stdout",
     "output_type": "stream",
     "text": [
      "--------------------------------------------------\n"
     ]
    },
    {
     "name": "stderr",
     "output_type": "stream",
     "text": [
      "INFO:__main__:Iteration 294\n",
      "INFO:__main__:Evolve time for iteration 294: 0.4979116916656494\n",
      "INFO:__main__:Best chromosome after iteration 294: 12\n",
      "INFO:__main__:Worst chromosome after iteration 294: 18\n"
     ]
    },
    {
     "name": "stdout",
     "output_type": "stream",
     "text": [
      "--------------------------------------------------\n"
     ]
    },
    {
     "name": "stderr",
     "output_type": "stream",
     "text": [
      "INFO:__main__:Iteration 295\n",
      "INFO:__main__:Evolve time for iteration 295: 1.0392143726348877\n",
      "INFO:__main__:Best chromosome after iteration 295: 12\n",
      "INFO:__main__:Worst chromosome after iteration 295: 15\n"
     ]
    },
    {
     "name": "stdout",
     "output_type": "stream",
     "text": [
      "--------------------------------------------------\n"
     ]
    },
    {
     "name": "stderr",
     "output_type": "stream",
     "text": [
      "INFO:__main__:Iteration 296\n",
      "INFO:__main__:Evolve time for iteration 296: 0.4669342041015625\n",
      "INFO:__main__:Best chromosome after iteration 296: 12\n",
      "INFO:__main__:Worst chromosome after iteration 296: 18\n"
     ]
    },
    {
     "name": "stdout",
     "output_type": "stream",
     "text": [
      "--------------------------------------------------\n"
     ]
    },
    {
     "name": "stderr",
     "output_type": "stream",
     "text": [
      "INFO:__main__:Iteration 297\n",
      "INFO:__main__:Evolve time for iteration 297: 0.4653654098510742\n",
      "INFO:__main__:Best chromosome after iteration 297: 12\n",
      "INFO:__main__:Worst chromosome after iteration 297: 16\n"
     ]
    },
    {
     "name": "stdout",
     "output_type": "stream",
     "text": [
      "--------------------------------------------------\n"
     ]
    },
    {
     "name": "stderr",
     "output_type": "stream",
     "text": [
      "INFO:__main__:Iteration 298\n",
      "INFO:__main__:Evolve time for iteration 298: 0.46974849700927734\n",
      "INFO:__main__:Best chromosome after iteration 298: 12\n",
      "INFO:__main__:Worst chromosome after iteration 298: 17\n"
     ]
    },
    {
     "name": "stdout",
     "output_type": "stream",
     "text": [
      "--------------------------------------------------\n"
     ]
    },
    {
     "name": "stderr",
     "output_type": "stream",
     "text": [
      "INFO:__main__:Iteration 299\n",
      "INFO:__main__:Evolve time for iteration 299: 0.4693021774291992\n",
      "INFO:__main__:Best chromosome after iteration 299: 12\n",
      "INFO:__main__:Worst chromosome after iteration 299: 16\n"
     ]
    },
    {
     "name": "stdout",
     "output_type": "stream",
     "text": [
      "--------------------------------------------------\n"
     ]
    },
    {
     "name": "stderr",
     "output_type": "stream",
     "text": [
      "INFO:__main__:Iteration 300\n",
      "INFO:__main__:Evolve time for iteration 300: 1.046694278717041\n",
      "INFO:__main__:Best chromosome after iteration 300: 12\n",
      "INFO:__main__:Worst chromosome after iteration 300: 17\n"
     ]
    },
    {
     "name": "stdout",
     "output_type": "stream",
     "text": [
      "--------------------------------------------------\n"
     ]
    },
    {
     "name": "stderr",
     "output_type": "stream",
     "text": [
      "INFO:__main__:Iteration 301\n",
      "INFO:__main__:Evolve time for iteration 301: 0.4510042667388916\n",
      "INFO:__main__:Best chromosome after iteration 301: 12\n",
      "INFO:__main__:Worst chromosome after iteration 301: 17\n"
     ]
    },
    {
     "name": "stdout",
     "output_type": "stream",
     "text": [
      "--------------------------------------------------\n"
     ]
    },
    {
     "name": "stderr",
     "output_type": "stream",
     "text": [
      "INFO:__main__:Iteration 302\n",
      "INFO:__main__:Evolve time for iteration 302: 0.5046741962432861\n",
      "INFO:__main__:Best chromosome after iteration 302: 12\n",
      "INFO:__main__:Worst chromosome after iteration 302: 17\n"
     ]
    },
    {
     "name": "stdout",
     "output_type": "stream",
     "text": [
      "--------------------------------------------------\n"
     ]
    },
    {
     "name": "stderr",
     "output_type": "stream",
     "text": [
      "INFO:__main__:Iteration 303\n",
      "INFO:__main__:Evolve time for iteration 303: 0.4557828903198242\n",
      "INFO:__main__:Best chromosome after iteration 303: 12\n",
      "INFO:__main__:Worst chromosome after iteration 303: 17\n"
     ]
    },
    {
     "name": "stdout",
     "output_type": "stream",
     "text": [
      "--------------------------------------------------\n"
     ]
    },
    {
     "name": "stderr",
     "output_type": "stream",
     "text": [
      "INFO:__main__:Iteration 304\n",
      "INFO:__main__:Evolve time for iteration 304: 0.4534146785736084\n",
      "INFO:__main__:Best chromosome after iteration 304: 12\n",
      "INFO:__main__:Worst chromosome after iteration 304: 17\n"
     ]
    },
    {
     "name": "stdout",
     "output_type": "stream",
     "text": [
      "--------------------------------------------------\n"
     ]
    },
    {
     "name": "stderr",
     "output_type": "stream",
     "text": [
      "INFO:__main__:Iteration 305\n",
      "INFO:__main__:Evolve time for iteration 305: 0.4809377193450928\n",
      "INFO:__main__:Best chromosome after iteration 305: 12\n",
      "INFO:__main__:Worst chromosome after iteration 305: 18\n"
     ]
    },
    {
     "name": "stdout",
     "output_type": "stream",
     "text": [
      "--------------------------------------------------\n"
     ]
    },
    {
     "name": "stderr",
     "output_type": "stream",
     "text": [
      "INFO:__main__:Iteration 306\n",
      "INFO:__main__:Evolve time for iteration 306: 0.9621801376342773\n",
      "INFO:__main__:Best chromosome after iteration 306: 12\n",
      "INFO:__main__:Worst chromosome after iteration 306: 16\n"
     ]
    },
    {
     "name": "stdout",
     "output_type": "stream",
     "text": [
      "--------------------------------------------------\n"
     ]
    },
    {
     "name": "stderr",
     "output_type": "stream",
     "text": [
      "INFO:__main__:Iteration 307\n",
      "INFO:__main__:Evolve time for iteration 307: 0.4704620838165283\n",
      "INFO:__main__:Best chromosome after iteration 307: 11\n",
      "INFO:__main__:Worst chromosome after iteration 307: 15\n"
     ]
    },
    {
     "name": "stdout",
     "output_type": "stream",
     "text": [
      "--------------------------------------------------\n"
     ]
    },
    {
     "name": "stderr",
     "output_type": "stream",
     "text": [
      "INFO:__main__:Iteration 308\n",
      "INFO:__main__:Evolve time for iteration 308: 0.46140599250793457\n",
      "INFO:__main__:Best chromosome after iteration 308: 11\n",
      "INFO:__main__:Worst chromosome after iteration 308: 16\n"
     ]
    },
    {
     "name": "stdout",
     "output_type": "stream",
     "text": [
      "--------------------------------------------------\n"
     ]
    },
    {
     "name": "stderr",
     "output_type": "stream",
     "text": [
      "INFO:__main__:Iteration 309\n",
      "INFO:__main__:Evolve time for iteration 309: 0.525040864944458\n",
      "INFO:__main__:Best chromosome after iteration 309: 11\n",
      "INFO:__main__:Worst chromosome after iteration 309: 19\n"
     ]
    },
    {
     "name": "stdout",
     "output_type": "stream",
     "text": [
      "--------------------------------------------------\n"
     ]
    },
    {
     "name": "stderr",
     "output_type": "stream",
     "text": [
      "INFO:__main__:Iteration 310\n",
      "INFO:__main__:Evolve time for iteration 310: 0.4430093765258789\n",
      "INFO:__main__:Best chromosome after iteration 310: 11\n",
      "INFO:__main__:Worst chromosome after iteration 310: 20\n"
     ]
    },
    {
     "name": "stdout",
     "output_type": "stream",
     "text": [
      "--------------------------------------------------\n"
     ]
    },
    {
     "name": "stderr",
     "output_type": "stream",
     "text": [
      "INFO:__main__:Iteration 311\n",
      "INFO:__main__:Evolve time for iteration 311: 1.0396418571472168\n",
      "INFO:__main__:Best chromosome after iteration 311: 11\n",
      "INFO:__main__:Worst chromosome after iteration 311: 21\n"
     ]
    },
    {
     "name": "stdout",
     "output_type": "stream",
     "text": [
      "--------------------------------------------------\n"
     ]
    },
    {
     "name": "stderr",
     "output_type": "stream",
     "text": [
      "INFO:__main__:Iteration 312\n",
      "INFO:__main__:Evolve time for iteration 312: 0.5152490139007568\n",
      "INFO:__main__:Best chromosome after iteration 312: 11\n",
      "INFO:__main__:Worst chromosome after iteration 312: 20\n"
     ]
    },
    {
     "name": "stdout",
     "output_type": "stream",
     "text": [
      "--------------------------------------------------\n"
     ]
    },
    {
     "name": "stderr",
     "output_type": "stream",
     "text": [
      "INFO:__main__:Iteration 313\n",
      "INFO:__main__:Evolve time for iteration 313: 0.44336795806884766\n",
      "INFO:__main__:Best chromosome after iteration 313: 11\n",
      "INFO:__main__:Worst chromosome after iteration 313: 20\n"
     ]
    },
    {
     "name": "stdout",
     "output_type": "stream",
     "text": [
      "--------------------------------------------------\n"
     ]
    },
    {
     "name": "stderr",
     "output_type": "stream",
     "text": [
      "INFO:__main__:Iteration 314\n",
      "INFO:__main__:Evolve time for iteration 314: 0.4871859550476074\n",
      "INFO:__main__:Best chromosome after iteration 314: 11\n",
      "INFO:__main__:Worst chromosome after iteration 314: 22\n"
     ]
    },
    {
     "name": "stdout",
     "output_type": "stream",
     "text": [
      "--------------------------------------------------\n"
     ]
    },
    {
     "name": "stderr",
     "output_type": "stream",
     "text": [
      "INFO:__main__:Iteration 315\n",
      "INFO:__main__:Evolve time for iteration 315: 0.488037109375\n",
      "INFO:__main__:Best chromosome after iteration 315: 11\n",
      "INFO:__main__:Worst chromosome after iteration 315: 16\n"
     ]
    },
    {
     "name": "stdout",
     "output_type": "stream",
     "text": [
      "--------------------------------------------------\n"
     ]
    },
    {
     "name": "stderr",
     "output_type": "stream",
     "text": [
      "INFO:__main__:Iteration 316\n",
      "INFO:__main__:Evolve time for iteration 316: 1.0064563751220703\n",
      "INFO:__main__:Best chromosome after iteration 316: 11\n",
      "INFO:__main__:Worst chromosome after iteration 316: 19\n"
     ]
    },
    {
     "name": "stdout",
     "output_type": "stream",
     "text": [
      "--------------------------------------------------\n"
     ]
    },
    {
     "name": "stderr",
     "output_type": "stream",
     "text": [
      "INFO:__main__:Iteration 317\n",
      "INFO:__main__:Evolve time for iteration 317: 0.46778392791748047\n",
      "INFO:__main__:Best chromosome after iteration 317: 11\n",
      "INFO:__main__:Worst chromosome after iteration 317: 21\n"
     ]
    },
    {
     "name": "stdout",
     "output_type": "stream",
     "text": [
      "--------------------------------------------------\n"
     ]
    },
    {
     "name": "stderr",
     "output_type": "stream",
     "text": [
      "INFO:__main__:Iteration 318\n",
      "INFO:__main__:Evolve time for iteration 318: 0.4546494483947754\n",
      "INFO:__main__:Best chromosome after iteration 318: 11\n",
      "INFO:__main__:Worst chromosome after iteration 318: 17\n"
     ]
    },
    {
     "name": "stdout",
     "output_type": "stream",
     "text": [
      "--------------------------------------------------\n"
     ]
    },
    {
     "name": "stderr",
     "output_type": "stream",
     "text": [
      "INFO:__main__:Iteration 319\n",
      "INFO:__main__:Evolve time for iteration 319: 0.515139102935791\n",
      "INFO:__main__:Best chromosome after iteration 319: 11\n",
      "INFO:__main__:Worst chromosome after iteration 319: 17\n"
     ]
    },
    {
     "name": "stdout",
     "output_type": "stream",
     "text": [
      "--------------------------------------------------\n"
     ]
    },
    {
     "name": "stderr",
     "output_type": "stream",
     "text": [
      "INFO:__main__:Iteration 320\n",
      "INFO:__main__:Evolve time for iteration 320: 0.5061295032501221\n",
      "INFO:__main__:Best chromosome after iteration 320: 11\n",
      "INFO:__main__:Worst chromosome after iteration 320: 16\n"
     ]
    },
    {
     "name": "stdout",
     "output_type": "stream",
     "text": [
      "--------------------------------------------------\n"
     ]
    },
    {
     "name": "stderr",
     "output_type": "stream",
     "text": [
      "INFO:__main__:Iteration 321\n",
      "INFO:__main__:Evolve time for iteration 321: 0.4715414047241211\n",
      "INFO:__main__:Best chromosome after iteration 321: 11\n",
      "INFO:__main__:Worst chromosome after iteration 321: 14\n"
     ]
    },
    {
     "name": "stdout",
     "output_type": "stream",
     "text": [
      "--------------------------------------------------\n"
     ]
    },
    {
     "name": "stderr",
     "output_type": "stream",
     "text": [
      "INFO:__main__:Iteration 322\n",
      "INFO:__main__:Evolve time for iteration 322: 1.1374149322509766\n",
      "INFO:__main__:Best chromosome after iteration 322: 11\n",
      "INFO:__main__:Worst chromosome after iteration 322: 15\n"
     ]
    },
    {
     "name": "stdout",
     "output_type": "stream",
     "text": [
      "--------------------------------------------------\n"
     ]
    },
    {
     "name": "stderr",
     "output_type": "stream",
     "text": [
      "INFO:__main__:Iteration 323\n",
      "INFO:__main__:Evolve time for iteration 323: 0.5536046028137207\n",
      "INFO:__main__:Best chromosome after iteration 323: 11\n",
      "INFO:__main__:Worst chromosome after iteration 323: 17\n"
     ]
    },
    {
     "name": "stdout",
     "output_type": "stream",
     "text": [
      "--------------------------------------------------\n"
     ]
    },
    {
     "name": "stderr",
     "output_type": "stream",
     "text": [
      "INFO:__main__:Iteration 324\n",
      "INFO:__main__:Evolve time for iteration 324: 0.4551546573638916\n",
      "INFO:__main__:Best chromosome after iteration 324: 11\n",
      "INFO:__main__:Worst chromosome after iteration 324: 17\n"
     ]
    },
    {
     "name": "stdout",
     "output_type": "stream",
     "text": [
      "--------------------------------------------------\n"
     ]
    },
    {
     "name": "stderr",
     "output_type": "stream",
     "text": [
      "INFO:__main__:Iteration 325\n",
      "INFO:__main__:Evolve time for iteration 325: 0.4444727897644043\n",
      "INFO:__main__:Best chromosome after iteration 325: 11\n",
      "INFO:__main__:Worst chromosome after iteration 325: 17\n"
     ]
    },
    {
     "name": "stdout",
     "output_type": "stream",
     "text": [
      "--------------------------------------------------\n"
     ]
    },
    {
     "name": "stderr",
     "output_type": "stream",
     "text": [
      "INFO:__main__:Iteration 326\n",
      "INFO:__main__:Evolve time for iteration 326: 0.4581277370452881\n",
      "INFO:__main__:Best chromosome after iteration 326: 11\n",
      "INFO:__main__:Worst chromosome after iteration 326: 18\n"
     ]
    },
    {
     "name": "stdout",
     "output_type": "stream",
     "text": [
      "--------------------------------------------------\n"
     ]
    },
    {
     "name": "stderr",
     "output_type": "stream",
     "text": [
      "INFO:__main__:Iteration 327\n",
      "INFO:__main__:Evolve time for iteration 327: 1.1309809684753418\n",
      "INFO:__main__:Best chromosome after iteration 327: 11\n",
      "INFO:__main__:Worst chromosome after iteration 327: 18\n"
     ]
    },
    {
     "name": "stdout",
     "output_type": "stream",
     "text": [
      "--------------------------------------------------\n"
     ]
    },
    {
     "name": "stderr",
     "output_type": "stream",
     "text": [
      "INFO:__main__:Iteration 328\n",
      "INFO:__main__:Evolve time for iteration 328: 0.45017385482788086\n",
      "INFO:__main__:Best chromosome after iteration 328: 11\n",
      "INFO:__main__:Worst chromosome after iteration 328: 16\n"
     ]
    },
    {
     "name": "stdout",
     "output_type": "stream",
     "text": [
      "--------------------------------------------------\n"
     ]
    },
    {
     "name": "stderr",
     "output_type": "stream",
     "text": [
      "INFO:__main__:Iteration 329\n",
      "INFO:__main__:Evolve time for iteration 329: 0.4567830562591553\n",
      "INFO:__main__:Best chromosome after iteration 329: 11\n",
      "INFO:__main__:Worst chromosome after iteration 329: 18\n"
     ]
    },
    {
     "name": "stdout",
     "output_type": "stream",
     "text": [
      "--------------------------------------------------\n"
     ]
    },
    {
     "name": "stderr",
     "output_type": "stream",
     "text": [
      "INFO:__main__:Iteration 330\n",
      "INFO:__main__:Evolve time for iteration 330: 0.423231840133667\n",
      "INFO:__main__:Best chromosome after iteration 330: 11\n",
      "INFO:__main__:Worst chromosome after iteration 330: 19\n"
     ]
    },
    {
     "name": "stdout",
     "output_type": "stream",
     "text": [
      "--------------------------------------------------\n"
     ]
    },
    {
     "name": "stderr",
     "output_type": "stream",
     "text": [
      "INFO:__main__:Iteration 331\n",
      "INFO:__main__:Evolve time for iteration 331: 0.4459879398345947\n",
      "INFO:__main__:Best chromosome after iteration 331: 11\n",
      "INFO:__main__:Worst chromosome after iteration 331: 23\n"
     ]
    },
    {
     "name": "stdout",
     "output_type": "stream",
     "text": [
      "--------------------------------------------------\n"
     ]
    },
    {
     "name": "stderr",
     "output_type": "stream",
     "text": [
      "INFO:__main__:Iteration 332\n",
      "INFO:__main__:Evolve time for iteration 332: 0.4720337390899658\n",
      "INFO:__main__:Best chromosome after iteration 332: 11\n",
      "INFO:__main__:Worst chromosome after iteration 332: 20\n"
     ]
    },
    {
     "name": "stdout",
     "output_type": "stream",
     "text": [
      "--------------------------------------------------\n"
     ]
    },
    {
     "name": "stderr",
     "output_type": "stream",
     "text": [
      "INFO:__main__:Iteration 333\n",
      "INFO:__main__:Evolve time for iteration 333: 1.0411303043365479\n",
      "INFO:__main__:Best chromosome after iteration 333: 11\n",
      "INFO:__main__:Worst chromosome after iteration 333: 22\n"
     ]
    },
    {
     "name": "stdout",
     "output_type": "stream",
     "text": [
      "--------------------------------------------------\n"
     ]
    },
    {
     "name": "stderr",
     "output_type": "stream",
     "text": [
      "INFO:__main__:Iteration 334\n",
      "INFO:__main__:Evolve time for iteration 334: 0.4341111183166504\n",
      "INFO:__main__:Best chromosome after iteration 334: 10\n",
      "INFO:__main__:Worst chromosome after iteration 334: 20\n"
     ]
    },
    {
     "name": "stdout",
     "output_type": "stream",
     "text": [
      "--------------------------------------------------\n"
     ]
    },
    {
     "name": "stderr",
     "output_type": "stream",
     "text": [
      "INFO:__main__:Iteration 335\n",
      "INFO:__main__:Evolve time for iteration 335: 0.4280085563659668\n",
      "INFO:__main__:Best chromosome after iteration 335: 10\n",
      "INFO:__main__:Worst chromosome after iteration 335: 18\n"
     ]
    },
    {
     "name": "stdout",
     "output_type": "stream",
     "text": [
      "--------------------------------------------------\n"
     ]
    },
    {
     "name": "stderr",
     "output_type": "stream",
     "text": [
      "INFO:__main__:Iteration 336\n",
      "INFO:__main__:Evolve time for iteration 336: 0.46184563636779785\n",
      "INFO:__main__:Best chromosome after iteration 336: 10\n",
      "INFO:__main__:Worst chromosome after iteration 336: 18\n"
     ]
    },
    {
     "name": "stdout",
     "output_type": "stream",
     "text": [
      "--------------------------------------------------\n"
     ]
    },
    {
     "name": "stderr",
     "output_type": "stream",
     "text": [
      "INFO:__main__:Iteration 337\n",
      "INFO:__main__:Evolve time for iteration 337: 0.4668898582458496\n",
      "INFO:__main__:Best chromosome after iteration 337: 10\n",
      "INFO:__main__:Worst chromosome after iteration 337: 16\n"
     ]
    },
    {
     "name": "stdout",
     "output_type": "stream",
     "text": [
      "--------------------------------------------------\n"
     ]
    },
    {
     "name": "stderr",
     "output_type": "stream",
     "text": [
      "INFO:__main__:Iteration 338\n",
      "INFO:__main__:Evolve time for iteration 338: 0.9699301719665527\n",
      "INFO:__main__:Best chromosome after iteration 338: 10\n",
      "INFO:__main__:Worst chromosome after iteration 338: 17\n"
     ]
    },
    {
     "name": "stdout",
     "output_type": "stream",
     "text": [
      "--------------------------------------------------\n"
     ]
    },
    {
     "name": "stderr",
     "output_type": "stream",
     "text": [
      "INFO:__main__:Iteration 339\n",
      "INFO:__main__:Evolve time for iteration 339: 0.4515256881713867\n",
      "INFO:__main__:Best chromosome after iteration 339: 10\n",
      "INFO:__main__:Worst chromosome after iteration 339: 16\n"
     ]
    },
    {
     "name": "stdout",
     "output_type": "stream",
     "text": [
      "--------------------------------------------------\n"
     ]
    },
    {
     "name": "stderr",
     "output_type": "stream",
     "text": [
      "INFO:__main__:Iteration 340\n",
      "INFO:__main__:Evolve time for iteration 340: 0.47263002395629883\n",
      "INFO:__main__:Best chromosome after iteration 340: 10\n",
      "INFO:__main__:Worst chromosome after iteration 340: 17\n"
     ]
    },
    {
     "name": "stdout",
     "output_type": "stream",
     "text": [
      "--------------------------------------------------\n"
     ]
    },
    {
     "name": "stderr",
     "output_type": "stream",
     "text": [
      "INFO:__main__:Iteration 341\n",
      "INFO:__main__:Evolve time for iteration 341: 0.4533500671386719\n",
      "INFO:__main__:Best chromosome after iteration 341: 10\n",
      "INFO:__main__:Worst chromosome after iteration 341: 18\n"
     ]
    },
    {
     "name": "stdout",
     "output_type": "stream",
     "text": [
      "--------------------------------------------------\n"
     ]
    },
    {
     "name": "stderr",
     "output_type": "stream",
     "text": [
      "INFO:__main__:Iteration 342\n",
      "INFO:__main__:Evolve time for iteration 342: 0.4695262908935547\n",
      "INFO:__main__:Best chromosome after iteration 342: 10\n",
      "INFO:__main__:Worst chromosome after iteration 342: 17\n"
     ]
    },
    {
     "name": "stdout",
     "output_type": "stream",
     "text": [
      "--------------------------------------------------\n"
     ]
    },
    {
     "name": "stderr",
     "output_type": "stream",
     "text": [
      "INFO:__main__:Iteration 343\n",
      "INFO:__main__:Evolve time for iteration 343: 0.47771644592285156\n",
      "INFO:__main__:Best chromosome after iteration 343: 10\n",
      "INFO:__main__:Worst chromosome after iteration 343: 19\n"
     ]
    },
    {
     "name": "stdout",
     "output_type": "stream",
     "text": [
      "--------------------------------------------------\n"
     ]
    },
    {
     "name": "stderr",
     "output_type": "stream",
     "text": [
      "INFO:__main__:Iteration 344\n",
      "INFO:__main__:Evolve time for iteration 344: 0.9559292793273926\n",
      "INFO:__main__:Best chromosome after iteration 344: 9\n",
      "INFO:__main__:Worst chromosome after iteration 344: 18\n"
     ]
    },
    {
     "name": "stdout",
     "output_type": "stream",
     "text": [
      "--------------------------------------------------\n"
     ]
    },
    {
     "name": "stderr",
     "output_type": "stream",
     "text": [
      "INFO:__main__:Iteration 345\n",
      "INFO:__main__:Evolve time for iteration 345: 0.435945987701416\n",
      "INFO:__main__:Best chromosome after iteration 345: 9\n",
      "INFO:__main__:Worst chromosome after iteration 345: 18\n"
     ]
    },
    {
     "name": "stdout",
     "output_type": "stream",
     "text": [
      "--------------------------------------------------\n"
     ]
    },
    {
     "name": "stderr",
     "output_type": "stream",
     "text": [
      "INFO:__main__:Iteration 346\n",
      "INFO:__main__:Evolve time for iteration 346: 0.4555366039276123\n",
      "INFO:__main__:Best chromosome after iteration 346: 9\n",
      "INFO:__main__:Worst chromosome after iteration 346: 19\n"
     ]
    },
    {
     "name": "stdout",
     "output_type": "stream",
     "text": [
      "--------------------------------------------------\n"
     ]
    },
    {
     "name": "stderr",
     "output_type": "stream",
     "text": [
      "INFO:__main__:Iteration 347\n",
      "INFO:__main__:Evolve time for iteration 347: 0.4828183650970459\n",
      "INFO:__main__:Best chromosome after iteration 347: 9\n",
      "INFO:__main__:Worst chromosome after iteration 347: 15\n"
     ]
    },
    {
     "name": "stdout",
     "output_type": "stream",
     "text": [
      "--------------------------------------------------\n"
     ]
    },
    {
     "name": "stderr",
     "output_type": "stream",
     "text": [
      "INFO:__main__:Iteration 348\n",
      "INFO:__main__:Evolve time for iteration 348: 0.5337216854095459\n",
      "INFO:__main__:Best chromosome after iteration 348: 9\n",
      "INFO:__main__:Worst chromosome after iteration 348: 16\n"
     ]
    },
    {
     "name": "stdout",
     "output_type": "stream",
     "text": [
      "--------------------------------------------------\n"
     ]
    },
    {
     "name": "stderr",
     "output_type": "stream",
     "text": [
      "INFO:__main__:Iteration 349\n",
      "INFO:__main__:Evolve time for iteration 349: 0.46036458015441895\n",
      "INFO:__main__:Best chromosome after iteration 349: 9\n",
      "INFO:__main__:Worst chromosome after iteration 349: 16\n"
     ]
    },
    {
     "name": "stdout",
     "output_type": "stream",
     "text": [
      "--------------------------------------------------\n"
     ]
    },
    {
     "name": "stderr",
     "output_type": "stream",
     "text": [
      "INFO:__main__:Iteration 350\n",
      "INFO:__main__:Evolve time for iteration 350: 1.0108435153961182\n",
      "INFO:__main__:Best chromosome after iteration 350: 9\n",
      "INFO:__main__:Worst chromosome after iteration 350: 17\n"
     ]
    },
    {
     "name": "stdout",
     "output_type": "stream",
     "text": [
      "--------------------------------------------------\n"
     ]
    },
    {
     "name": "stderr",
     "output_type": "stream",
     "text": [
      "INFO:__main__:Iteration 351\n",
      "INFO:__main__:Evolve time for iteration 351: 0.47276759147644043\n",
      "INFO:__main__:Best chromosome after iteration 351: 9\n",
      "INFO:__main__:Worst chromosome after iteration 351: 15\n"
     ]
    },
    {
     "name": "stdout",
     "output_type": "stream",
     "text": [
      "--------------------------------------------------\n"
     ]
    },
    {
     "name": "stderr",
     "output_type": "stream",
     "text": [
      "INFO:__main__:Iteration 352\n",
      "INFO:__main__:Evolve time for iteration 352: 0.5332238674163818\n",
      "INFO:__main__:Best chromosome after iteration 352: 9\n",
      "INFO:__main__:Worst chromosome after iteration 352: 14\n"
     ]
    },
    {
     "name": "stdout",
     "output_type": "stream",
     "text": [
      "--------------------------------------------------\n"
     ]
    },
    {
     "name": "stderr",
     "output_type": "stream",
     "text": [
      "INFO:__main__:Iteration 353\n",
      "INFO:__main__:Evolve time for iteration 353: 0.4400193691253662\n",
      "INFO:__main__:Best chromosome after iteration 353: 9\n",
      "INFO:__main__:Worst chromosome after iteration 353: 14\n"
     ]
    },
    {
     "name": "stdout",
     "output_type": "stream",
     "text": [
      "--------------------------------------------------\n"
     ]
    },
    {
     "name": "stderr",
     "output_type": "stream",
     "text": [
      "INFO:__main__:Iteration 354\n",
      "INFO:__main__:Evolve time for iteration 354: 0.45538926124572754\n",
      "INFO:__main__:Best chromosome after iteration 354: 9\n",
      "INFO:__main__:Worst chromosome after iteration 354: 14\n"
     ]
    },
    {
     "name": "stdout",
     "output_type": "stream",
     "text": [
      "--------------------------------------------------\n"
     ]
    },
    {
     "name": "stderr",
     "output_type": "stream",
     "text": [
      "INFO:__main__:Iteration 355\n",
      "INFO:__main__:Evolve time for iteration 355: 0.9806926250457764\n",
      "INFO:__main__:Best chromosome after iteration 355: 9\n",
      "INFO:__main__:Worst chromosome after iteration 355: 16\n"
     ]
    },
    {
     "name": "stdout",
     "output_type": "stream",
     "text": [
      "--------------------------------------------------\n"
     ]
    },
    {
     "name": "stderr",
     "output_type": "stream",
     "text": [
      "INFO:__main__:Iteration 356\n",
      "INFO:__main__:Evolve time for iteration 356: 0.43167591094970703\n",
      "INFO:__main__:Best chromosome after iteration 356: 9\n",
      "INFO:__main__:Worst chromosome after iteration 356: 14\n"
     ]
    },
    {
     "name": "stdout",
     "output_type": "stream",
     "text": [
      "--------------------------------------------------\n"
     ]
    },
    {
     "name": "stderr",
     "output_type": "stream",
     "text": [
      "INFO:__main__:Iteration 357\n",
      "INFO:__main__:Evolve time for iteration 357: 0.5360710620880127\n",
      "INFO:__main__:Best chromosome after iteration 357: 9\n",
      "INFO:__main__:Worst chromosome after iteration 357: 15\n"
     ]
    },
    {
     "name": "stdout",
     "output_type": "stream",
     "text": [
      "--------------------------------------------------\n"
     ]
    },
    {
     "name": "stderr",
     "output_type": "stream",
     "text": [
      "INFO:__main__:Iteration 358\n",
      "INFO:__main__:Evolve time for iteration 358: 0.4667642116546631\n",
      "INFO:__main__:Best chromosome after iteration 358: 9\n",
      "INFO:__main__:Worst chromosome after iteration 358: 14\n"
     ]
    },
    {
     "name": "stdout",
     "output_type": "stream",
     "text": [
      "--------------------------------------------------\n"
     ]
    },
    {
     "name": "stderr",
     "output_type": "stream",
     "text": [
      "INFO:__main__:Iteration 359\n",
      "INFO:__main__:Evolve time for iteration 359: 0.5110640525817871\n",
      "INFO:__main__:Best chromosome after iteration 359: 9\n",
      "INFO:__main__:Worst chromosome after iteration 359: 14\n"
     ]
    },
    {
     "name": "stdout",
     "output_type": "stream",
     "text": [
      "--------------------------------------------------\n"
     ]
    },
    {
     "name": "stderr",
     "output_type": "stream",
     "text": [
      "INFO:__main__:Iteration 360\n",
      "INFO:__main__:Evolve time for iteration 360: 0.4437878131866455\n",
      "INFO:__main__:Best chromosome after iteration 360: 9\n",
      "INFO:__main__:Worst chromosome after iteration 360: 12\n"
     ]
    },
    {
     "name": "stdout",
     "output_type": "stream",
     "text": [
      "--------------------------------------------------\n"
     ]
    },
    {
     "name": "stderr",
     "output_type": "stream",
     "text": [
      "INFO:__main__:Iteration 361\n",
      "INFO:__main__:Evolve time for iteration 361: 0.9734394550323486\n",
      "INFO:__main__:Best chromosome after iteration 361: 9\n",
      "INFO:__main__:Worst chromosome after iteration 361: 13\n"
     ]
    },
    {
     "name": "stdout",
     "output_type": "stream",
     "text": [
      "--------------------------------------------------\n"
     ]
    },
    {
     "name": "stderr",
     "output_type": "stream",
     "text": [
      "INFO:__main__:Iteration 362\n",
      "INFO:__main__:Evolve time for iteration 362: 0.43974924087524414\n",
      "INFO:__main__:Best chromosome after iteration 362: 9\n",
      "INFO:__main__:Worst chromosome after iteration 362: 14\n"
     ]
    },
    {
     "name": "stdout",
     "output_type": "stream",
     "text": [
      "--------------------------------------------------\n"
     ]
    },
    {
     "name": "stderr",
     "output_type": "stream",
     "text": [
      "INFO:__main__:Iteration 363\n",
      "INFO:__main__:Evolve time for iteration 363: 0.4486868381500244\n",
      "INFO:__main__:Best chromosome after iteration 363: 9\n",
      "INFO:__main__:Worst chromosome after iteration 363: 16\n"
     ]
    },
    {
     "name": "stdout",
     "output_type": "stream",
     "text": [
      "--------------------------------------------------\n"
     ]
    },
    {
     "name": "stderr",
     "output_type": "stream",
     "text": [
      "INFO:__main__:Iteration 364\n",
      "INFO:__main__:Evolve time for iteration 364: 0.44217705726623535\n",
      "INFO:__main__:Best chromosome after iteration 364: 9\n",
      "INFO:__main__:Worst chromosome after iteration 364: 15\n"
     ]
    },
    {
     "name": "stdout",
     "output_type": "stream",
     "text": [
      "--------------------------------------------------\n"
     ]
    },
    {
     "name": "stderr",
     "output_type": "stream",
     "text": [
      "INFO:__main__:Iteration 365\n",
      "INFO:__main__:Evolve time for iteration 365: 0.45772409439086914\n",
      "INFO:__main__:Best chromosome after iteration 365: 9\n",
      "INFO:__main__:Worst chromosome after iteration 365: 15\n"
     ]
    },
    {
     "name": "stdout",
     "output_type": "stream",
     "text": [
      "--------------------------------------------------\n"
     ]
    },
    {
     "name": "stderr",
     "output_type": "stream",
     "text": [
      "INFO:__main__:Iteration 366\n",
      "INFO:__main__:Evolve time for iteration 366: 0.4619319438934326\n",
      "INFO:__main__:Best chromosome after iteration 366: 9\n",
      "INFO:__main__:Worst chromosome after iteration 366: 15\n"
     ]
    },
    {
     "name": "stdout",
     "output_type": "stream",
     "text": [
      "--------------------------------------------------\n"
     ]
    },
    {
     "name": "stderr",
     "output_type": "stream",
     "text": [
      "INFO:__main__:Iteration 367\n",
      "INFO:__main__:Evolve time for iteration 367: 0.9473915100097656\n",
      "INFO:__main__:Best chromosome after iteration 367: 9\n",
      "INFO:__main__:Worst chromosome after iteration 367: 14\n"
     ]
    },
    {
     "name": "stdout",
     "output_type": "stream",
     "text": [
      "--------------------------------------------------\n"
     ]
    },
    {
     "name": "stderr",
     "output_type": "stream",
     "text": [
      "INFO:__main__:Iteration 368\n",
      "INFO:__main__:Evolve time for iteration 368: 0.4590785503387451\n",
      "INFO:__main__:Best chromosome after iteration 368: 9\n",
      "INFO:__main__:Worst chromosome after iteration 368: 15\n"
     ]
    },
    {
     "name": "stdout",
     "output_type": "stream",
     "text": [
      "--------------------------------------------------\n"
     ]
    },
    {
     "name": "stderr",
     "output_type": "stream",
     "text": [
      "INFO:__main__:Iteration 369\n",
      "INFO:__main__:Evolve time for iteration 369: 0.4862027168273926\n",
      "INFO:__main__:Best chromosome after iteration 369: 9\n",
      "INFO:__main__:Worst chromosome after iteration 369: 14\n"
     ]
    },
    {
     "name": "stdout",
     "output_type": "stream",
     "text": [
      "--------------------------------------------------\n"
     ]
    },
    {
     "name": "stderr",
     "output_type": "stream",
     "text": [
      "INFO:__main__:Iteration 370\n",
      "INFO:__main__:Evolve time for iteration 370: 0.43029284477233887\n",
      "INFO:__main__:Best chromosome after iteration 370: 9\n",
      "INFO:__main__:Worst chromosome after iteration 370: 16\n"
     ]
    },
    {
     "name": "stdout",
     "output_type": "stream",
     "text": [
      "--------------------------------------------------\n"
     ]
    },
    {
     "name": "stderr",
     "output_type": "stream",
     "text": [
      "INFO:__main__:Iteration 371\n",
      "INFO:__main__:Evolve time for iteration 371: 0.3933448791503906\n",
      "INFO:__main__:Best chromosome after iteration 371: 9\n",
      "INFO:__main__:Worst chromosome after iteration 371: 17\n"
     ]
    },
    {
     "name": "stdout",
     "output_type": "stream",
     "text": [
      "--------------------------------------------------\n"
     ]
    },
    {
     "name": "stderr",
     "output_type": "stream",
     "text": [
      "INFO:__main__:Iteration 372\n",
      "INFO:__main__:Evolve time for iteration 372: 0.5144164562225342\n",
      "INFO:__main__:Best chromosome after iteration 372: 9\n",
      "INFO:__main__:Worst chromosome after iteration 372: 16\n"
     ]
    },
    {
     "name": "stdout",
     "output_type": "stream",
     "text": [
      "--------------------------------------------------\n"
     ]
    },
    {
     "name": "stderr",
     "output_type": "stream",
     "text": [
      "INFO:__main__:Iteration 373\n",
      "INFO:__main__:Evolve time for iteration 373: 0.9630370140075684\n",
      "INFO:__main__:Best chromosome after iteration 373: 9\n",
      "INFO:__main__:Worst chromosome after iteration 373: 17\n"
     ]
    },
    {
     "name": "stdout",
     "output_type": "stream",
     "text": [
      "--------------------------------------------------\n"
     ]
    },
    {
     "name": "stderr",
     "output_type": "stream",
     "text": [
      "INFO:__main__:Iteration 374\n",
      "INFO:__main__:Evolve time for iteration 374: 0.45768189430236816\n",
      "INFO:__main__:Best chromosome after iteration 374: 9\n",
      "INFO:__main__:Worst chromosome after iteration 374: 14\n"
     ]
    },
    {
     "name": "stdout",
     "output_type": "stream",
     "text": [
      "--------------------------------------------------\n"
     ]
    },
    {
     "name": "stderr",
     "output_type": "stream",
     "text": [
      "INFO:__main__:Iteration 375\n",
      "INFO:__main__:Evolve time for iteration 375: 0.5135247707366943\n",
      "INFO:__main__:Best chromosome after iteration 375: 9\n",
      "INFO:__main__:Worst chromosome after iteration 375: 17\n"
     ]
    },
    {
     "name": "stdout",
     "output_type": "stream",
     "text": [
      "--------------------------------------------------\n"
     ]
    },
    {
     "name": "stderr",
     "output_type": "stream",
     "text": [
      "INFO:__main__:Iteration 376\n",
      "INFO:__main__:Evolve time for iteration 376: 0.45041346549987793\n",
      "INFO:__main__:Best chromosome after iteration 376: 9\n",
      "INFO:__main__:Worst chromosome after iteration 376: 17\n"
     ]
    },
    {
     "name": "stdout",
     "output_type": "stream",
     "text": [
      "--------------------------------------------------\n"
     ]
    },
    {
     "name": "stderr",
     "output_type": "stream",
     "text": [
      "INFO:__main__:Iteration 377\n",
      "INFO:__main__:Evolve time for iteration 377: 0.45888805389404297\n",
      "INFO:__main__:Best chromosome after iteration 377: 9\n",
      "INFO:__main__:Worst chromosome after iteration 377: 19\n"
     ]
    },
    {
     "name": "stdout",
     "output_type": "stream",
     "text": [
      "--------------------------------------------------\n"
     ]
    },
    {
     "name": "stderr",
     "output_type": "stream",
     "text": [
      "INFO:__main__:Iteration 378\n",
      "INFO:__main__:Evolve time for iteration 378: 0.49916911125183105\n",
      "INFO:__main__:Best chromosome after iteration 378: 9\n",
      "INFO:__main__:Worst chromosome after iteration 378: 16\n"
     ]
    },
    {
     "name": "stdout",
     "output_type": "stream",
     "text": [
      "--------------------------------------------------\n"
     ]
    },
    {
     "name": "stderr",
     "output_type": "stream",
     "text": [
      "INFO:__main__:Iteration 379\n",
      "INFO:__main__:Evolve time for iteration 379: 1.1278104782104492\n",
      "INFO:__main__:Best chromosome after iteration 379: 8\n",
      "INFO:__main__:Worst chromosome after iteration 379: 16\n"
     ]
    },
    {
     "name": "stdout",
     "output_type": "stream",
     "text": [
      "--------------------------------------------------\n"
     ]
    },
    {
     "name": "stderr",
     "output_type": "stream",
     "text": [
      "INFO:__main__:Iteration 380\n",
      "INFO:__main__:Evolve time for iteration 380: 0.46994853019714355\n",
      "INFO:__main__:Best chromosome after iteration 380: 8\n",
      "INFO:__main__:Worst chromosome after iteration 380: 17\n"
     ]
    },
    {
     "name": "stdout",
     "output_type": "stream",
     "text": [
      "--------------------------------------------------\n"
     ]
    },
    {
     "name": "stderr",
     "output_type": "stream",
     "text": [
      "INFO:__main__:Iteration 381\n",
      "INFO:__main__:Evolve time for iteration 381: 0.5194435119628906\n",
      "INFO:__main__:Best chromosome after iteration 381: 8\n",
      "INFO:__main__:Worst chromosome after iteration 381: 17\n"
     ]
    },
    {
     "name": "stdout",
     "output_type": "stream",
     "text": [
      "--------------------------------------------------\n"
     ]
    },
    {
     "name": "stderr",
     "output_type": "stream",
     "text": [
      "INFO:__main__:Iteration 382\n",
      "INFO:__main__:Evolve time for iteration 382: 0.5645108222961426\n",
      "INFO:__main__:Best chromosome after iteration 382: 8\n",
      "INFO:__main__:Worst chromosome after iteration 382: 13\n"
     ]
    },
    {
     "name": "stdout",
     "output_type": "stream",
     "text": [
      "--------------------------------------------------\n"
     ]
    },
    {
     "name": "stderr",
     "output_type": "stream",
     "text": [
      "INFO:__main__:Iteration 383\n",
      "INFO:__main__:Evolve time for iteration 383: 0.49131011962890625\n",
      "INFO:__main__:Best chromosome after iteration 383: 8\n",
      "INFO:__main__:Worst chromosome after iteration 383: 15\n"
     ]
    },
    {
     "name": "stdout",
     "output_type": "stream",
     "text": [
      "--------------------------------------------------\n"
     ]
    },
    {
     "name": "stderr",
     "output_type": "stream",
     "text": [
      "INFO:__main__:Iteration 384\n",
      "INFO:__main__:Evolve time for iteration 384: 0.6595022678375244\n",
      "INFO:__main__:Best chromosome after iteration 384: 8\n",
      "INFO:__main__:Worst chromosome after iteration 384: 15\n"
     ]
    },
    {
     "name": "stdout",
     "output_type": "stream",
     "text": [
      "--------------------------------------------------\n"
     ]
    },
    {
     "name": "stderr",
     "output_type": "stream",
     "text": [
      "INFO:__main__:Iteration 385\n",
      "INFO:__main__:Evolve time for iteration 385: 1.0428552627563477\n",
      "INFO:__main__:Best chromosome after iteration 385: 8\n",
      "INFO:__main__:Worst chromosome after iteration 385: 16\n"
     ]
    },
    {
     "name": "stdout",
     "output_type": "stream",
     "text": [
      "--------------------------------------------------\n"
     ]
    },
    {
     "name": "stderr",
     "output_type": "stream",
     "text": [
      "INFO:__main__:Iteration 386\n",
      "INFO:__main__:Evolve time for iteration 386: 0.4364652633666992\n",
      "INFO:__main__:Best chromosome after iteration 386: 8\n",
      "INFO:__main__:Worst chromosome after iteration 386: 16\n"
     ]
    },
    {
     "name": "stdout",
     "output_type": "stream",
     "text": [
      "--------------------------------------------------\n"
     ]
    },
    {
     "name": "stderr",
     "output_type": "stream",
     "text": [
      "INFO:__main__:Iteration 387\n",
      "INFO:__main__:Evolve time for iteration 387: 0.44307637214660645\n",
      "INFO:__main__:Best chromosome after iteration 387: 8\n",
      "INFO:__main__:Worst chromosome after iteration 387: 17\n"
     ]
    },
    {
     "name": "stdout",
     "output_type": "stream",
     "text": [
      "--------------------------------------------------\n"
     ]
    },
    {
     "name": "stderr",
     "output_type": "stream",
     "text": [
      "INFO:__main__:Iteration 388\n",
      "INFO:__main__:Evolve time for iteration 388: 0.4782528877258301\n",
      "INFO:__main__:Best chromosome after iteration 388: 7\n",
      "INFO:__main__:Worst chromosome after iteration 388: 20\n"
     ]
    },
    {
     "name": "stdout",
     "output_type": "stream",
     "text": [
      "--------------------------------------------------\n"
     ]
    },
    {
     "name": "stderr",
     "output_type": "stream",
     "text": [
      "INFO:__main__:Iteration 389\n",
      "INFO:__main__:Evolve time for iteration 389: 0.49720215797424316\n",
      "INFO:__main__:Best chromosome after iteration 389: 7\n",
      "INFO:__main__:Worst chromosome after iteration 389: 19\n"
     ]
    },
    {
     "name": "stdout",
     "output_type": "stream",
     "text": [
      "--------------------------------------------------\n"
     ]
    },
    {
     "name": "stderr",
     "output_type": "stream",
     "text": [
      "INFO:__main__:Iteration 390\n",
      "INFO:__main__:Evolve time for iteration 390: 1.0553696155548096\n",
      "INFO:__main__:Best chromosome after iteration 390: 7\n",
      "INFO:__main__:Worst chromosome after iteration 390: 19\n"
     ]
    },
    {
     "name": "stdout",
     "output_type": "stream",
     "text": [
      "--------------------------------------------------\n"
     ]
    },
    {
     "name": "stderr",
     "output_type": "stream",
     "text": [
      "INFO:__main__:Iteration 391\n",
      "INFO:__main__:Evolve time for iteration 391: 0.5174703598022461\n",
      "INFO:__main__:Best chromosome after iteration 391: 7\n",
      "INFO:__main__:Worst chromosome after iteration 391: 14\n"
     ]
    },
    {
     "name": "stdout",
     "output_type": "stream",
     "text": [
      "--------------------------------------------------\n"
     ]
    },
    {
     "name": "stderr",
     "output_type": "stream",
     "text": [
      "INFO:__main__:Iteration 392\n",
      "INFO:__main__:Evolve time for iteration 392: 0.5129585266113281\n",
      "INFO:__main__:Best chromosome after iteration 392: 7\n",
      "INFO:__main__:Worst chromosome after iteration 392: 13\n"
     ]
    },
    {
     "name": "stdout",
     "output_type": "stream",
     "text": [
      "--------------------------------------------------\n"
     ]
    },
    {
     "name": "stderr",
     "output_type": "stream",
     "text": [
      "INFO:__main__:Iteration 393\n",
      "INFO:__main__:Evolve time for iteration 393: 0.4474494457244873\n",
      "INFO:__main__:Best chromosome after iteration 393: 7\n",
      "INFO:__main__:Worst chromosome after iteration 393: 11\n"
     ]
    },
    {
     "name": "stdout",
     "output_type": "stream",
     "text": [
      "--------------------------------------------------\n"
     ]
    },
    {
     "name": "stderr",
     "output_type": "stream",
     "text": [
      "INFO:__main__:Iteration 394\n",
      "INFO:__main__:Evolve time for iteration 394: 0.47812795639038086\n",
      "INFO:__main__:Best chromosome after iteration 394: 7\n",
      "INFO:__main__:Worst chromosome after iteration 394: 11\n"
     ]
    },
    {
     "name": "stdout",
     "output_type": "stream",
     "text": [
      "--------------------------------------------------\n"
     ]
    },
    {
     "name": "stderr",
     "output_type": "stream",
     "text": [
      "INFO:__main__:Iteration 395\n",
      "INFO:__main__:Evolve time for iteration 395: 0.5154259204864502\n",
      "INFO:__main__:Best chromosome after iteration 395: 7\n",
      "INFO:__main__:Worst chromosome after iteration 395: 13\n"
     ]
    },
    {
     "name": "stdout",
     "output_type": "stream",
     "text": [
      "--------------------------------------------------\n"
     ]
    },
    {
     "name": "stderr",
     "output_type": "stream",
     "text": [
      "INFO:__main__:Iteration 396\n",
      "INFO:__main__:Evolve time for iteration 396: 0.5282890796661377\n",
      "INFO:__main__:Best chromosome after iteration 396: 7\n",
      "INFO:__main__:Worst chromosome after iteration 396: 13\n"
     ]
    },
    {
     "name": "stdout",
     "output_type": "stream",
     "text": [
      "--------------------------------------------------\n"
     ]
    },
    {
     "name": "stderr",
     "output_type": "stream",
     "text": [
      "INFO:__main__:Iteration 397\n",
      "INFO:__main__:Evolve time for iteration 397: 0.9857742786407471\n",
      "INFO:__main__:Best chromosome after iteration 397: 7\n",
      "INFO:__main__:Worst chromosome after iteration 397: 13\n"
     ]
    },
    {
     "name": "stdout",
     "output_type": "stream",
     "text": [
      "--------------------------------------------------\n"
     ]
    },
    {
     "name": "stderr",
     "output_type": "stream",
     "text": [
      "INFO:__main__:Iteration 398\n",
      "INFO:__main__:Evolve time for iteration 398: 0.4507308006286621\n",
      "INFO:__main__:Best chromosome after iteration 398: 7\n",
      "INFO:__main__:Worst chromosome after iteration 398: 13\n"
     ]
    },
    {
     "name": "stdout",
     "output_type": "stream",
     "text": [
      "--------------------------------------------------\n"
     ]
    },
    {
     "name": "stderr",
     "output_type": "stream",
     "text": [
      "INFO:__main__:Iteration 399\n",
      "INFO:__main__:Evolve time for iteration 399: 0.5037002563476562\n",
      "INFO:__main__:Best chromosome after iteration 399: 7\n",
      "INFO:__main__:Worst chromosome after iteration 399: 12\n"
     ]
    },
    {
     "name": "stdout",
     "output_type": "stream",
     "text": [
      "--------------------------------------------------\n"
     ]
    },
    {
     "name": "stderr",
     "output_type": "stream",
     "text": [
      "INFO:__main__:Iteration 400\n",
      "INFO:__main__:Evolve time for iteration 400: 0.46514296531677246\n",
      "INFO:__main__:Best chromosome after iteration 400: 7\n",
      "INFO:__main__:Worst chromosome after iteration 400: 13\n"
     ]
    },
    {
     "name": "stdout",
     "output_type": "stream",
     "text": [
      "--------------------------------------------------\n"
     ]
    },
    {
     "name": "stderr",
     "output_type": "stream",
     "text": [
      "INFO:__main__:Iteration 401\n",
      "INFO:__main__:Evolve time for iteration 401: 0.533754825592041\n",
      "INFO:__main__:Best chromosome after iteration 401: 7\n",
      "INFO:__main__:Worst chromosome after iteration 401: 10\n"
     ]
    },
    {
     "name": "stdout",
     "output_type": "stream",
     "text": [
      "--------------------------------------------------\n"
     ]
    },
    {
     "name": "stderr",
     "output_type": "stream",
     "text": [
      "INFO:__main__:Iteration 402\n",
      "INFO:__main__:Evolve time for iteration 402: 0.5287623405456543\n",
      "INFO:__main__:Best chromosome after iteration 402: 7\n",
      "INFO:__main__:Worst chromosome after iteration 402: 11\n"
     ]
    },
    {
     "name": "stdout",
     "output_type": "stream",
     "text": [
      "--------------------------------------------------\n"
     ]
    },
    {
     "name": "stderr",
     "output_type": "stream",
     "text": [
      "INFO:__main__:Iteration 403\n",
      "INFO:__main__:Evolve time for iteration 403: 1.093013048171997\n",
      "INFO:__main__:Best chromosome after iteration 403: 7\n",
      "INFO:__main__:Worst chromosome after iteration 403: 12\n"
     ]
    },
    {
     "name": "stdout",
     "output_type": "stream",
     "text": [
      "--------------------------------------------------\n"
     ]
    },
    {
     "name": "stderr",
     "output_type": "stream",
     "text": [
      "INFO:__main__:Iteration 404\n",
      "INFO:__main__:Evolve time for iteration 404: 0.5214850902557373\n",
      "INFO:__main__:Best chromosome after iteration 404: 7\n",
      "INFO:__main__:Worst chromosome after iteration 404: 10\n"
     ]
    },
    {
     "name": "stdout",
     "output_type": "stream",
     "text": [
      "--------------------------------------------------\n"
     ]
    },
    {
     "name": "stderr",
     "output_type": "stream",
     "text": [
      "INFO:__main__:Iteration 405\n",
      "INFO:__main__:Evolve time for iteration 405: 0.5225493907928467\n",
      "INFO:__main__:Best chromosome after iteration 405: 7\n",
      "INFO:__main__:Worst chromosome after iteration 405: 10\n"
     ]
    },
    {
     "name": "stdout",
     "output_type": "stream",
     "text": [
      "--------------------------------------------------\n"
     ]
    },
    {
     "name": "stderr",
     "output_type": "stream",
     "text": [
      "INFO:__main__:Iteration 406\n",
      "INFO:__main__:Evolve time for iteration 406: 0.514359712600708\n",
      "INFO:__main__:Best chromosome after iteration 406: 7\n",
      "INFO:__main__:Worst chromosome after iteration 406: 10\n"
     ]
    },
    {
     "name": "stdout",
     "output_type": "stream",
     "text": [
      "--------------------------------------------------\n"
     ]
    },
    {
     "name": "stderr",
     "output_type": "stream",
     "text": [
      "INFO:__main__:Iteration 407\n",
      "INFO:__main__:Evolve time for iteration 407: 0.4629650115966797\n",
      "INFO:__main__:Best chromosome after iteration 407: 7\n",
      "INFO:__main__:Worst chromosome after iteration 407: 10\n"
     ]
    },
    {
     "name": "stdout",
     "output_type": "stream",
     "text": [
      "--------------------------------------------------\n"
     ]
    },
    {
     "name": "stderr",
     "output_type": "stream",
     "text": [
      "INFO:__main__:Iteration 408\n",
      "INFO:__main__:Evolve time for iteration 408: 0.45417284965515137\n",
      "INFO:__main__:Best chromosome after iteration 408: 7\n",
      "INFO:__main__:Worst chromosome after iteration 408: 11\n"
     ]
    },
    {
     "name": "stdout",
     "output_type": "stream",
     "text": [
      "--------------------------------------------------\n"
     ]
    },
    {
     "name": "stderr",
     "output_type": "stream",
     "text": [
      "INFO:__main__:Iteration 409\n",
      "INFO:__main__:Evolve time for iteration 409: 1.0635550022125244\n",
      "INFO:__main__:Best chromosome after iteration 409: 7\n",
      "INFO:__main__:Worst chromosome after iteration 409: 12\n"
     ]
    },
    {
     "name": "stdout",
     "output_type": "stream",
     "text": [
      "--------------------------------------------------\n"
     ]
    },
    {
     "name": "stderr",
     "output_type": "stream",
     "text": [
      "INFO:__main__:Iteration 410\n",
      "INFO:__main__:Evolve time for iteration 410: 0.4861295223236084\n",
      "INFO:__main__:Best chromosome after iteration 410: 7\n",
      "INFO:__main__:Worst chromosome after iteration 410: 13\n"
     ]
    },
    {
     "name": "stdout",
     "output_type": "stream",
     "text": [
      "--------------------------------------------------\n"
     ]
    },
    {
     "name": "stderr",
     "output_type": "stream",
     "text": [
      "INFO:__main__:Iteration 411\n",
      "INFO:__main__:Evolve time for iteration 411: 0.46460628509521484\n",
      "INFO:__main__:Best chromosome after iteration 411: 7\n",
      "INFO:__main__:Worst chromosome after iteration 411: 12\n"
     ]
    },
    {
     "name": "stdout",
     "output_type": "stream",
     "text": [
      "--------------------------------------------------\n"
     ]
    },
    {
     "name": "stderr",
     "output_type": "stream",
     "text": [
      "INFO:__main__:Iteration 412\n",
      "INFO:__main__:Evolve time for iteration 412: 0.4369220733642578\n",
      "INFO:__main__:Best chromosome after iteration 412: 7\n",
      "INFO:__main__:Worst chromosome after iteration 412: 12\n"
     ]
    },
    {
     "name": "stdout",
     "output_type": "stream",
     "text": [
      "--------------------------------------------------\n"
     ]
    },
    {
     "name": "stderr",
     "output_type": "stream",
     "text": [
      "INFO:__main__:Iteration 413\n",
      "INFO:__main__:Evolve time for iteration 413: 0.5328023433685303\n",
      "INFO:__main__:Best chromosome after iteration 413: 7\n",
      "INFO:__main__:Worst chromosome after iteration 413: 14\n"
     ]
    },
    {
     "name": "stdout",
     "output_type": "stream",
     "text": [
      "--------------------------------------------------\n"
     ]
    },
    {
     "name": "stderr",
     "output_type": "stream",
     "text": [
      "INFO:__main__:Iteration 414\n",
      "INFO:__main__:Evolve time for iteration 414: 0.5064468383789062\n",
      "INFO:__main__:Best chromosome after iteration 414: 7\n",
      "INFO:__main__:Worst chromosome after iteration 414: 16\n"
     ]
    },
    {
     "name": "stdout",
     "output_type": "stream",
     "text": [
      "--------------------------------------------------\n"
     ]
    },
    {
     "name": "stderr",
     "output_type": "stream",
     "text": [
      "INFO:__main__:Iteration 415\n",
      "INFO:__main__:Evolve time for iteration 415: 1.0729615688323975\n",
      "INFO:__main__:Best chromosome after iteration 415: 7\n",
      "INFO:__main__:Worst chromosome after iteration 415: 14\n"
     ]
    },
    {
     "name": "stdout",
     "output_type": "stream",
     "text": [
      "--------------------------------------------------\n"
     ]
    },
    {
     "name": "stderr",
     "output_type": "stream",
     "text": [
      "INFO:__main__:Iteration 416\n",
      "INFO:__main__:Evolve time for iteration 416: 0.5113556385040283\n",
      "INFO:__main__:Best chromosome after iteration 416: 7\n",
      "INFO:__main__:Worst chromosome after iteration 416: 12\n"
     ]
    },
    {
     "name": "stdout",
     "output_type": "stream",
     "text": [
      "--------------------------------------------------\n"
     ]
    },
    {
     "name": "stderr",
     "output_type": "stream",
     "text": [
      "INFO:__main__:Iteration 417\n",
      "INFO:__main__:Evolve time for iteration 417: 0.481201171875\n",
      "INFO:__main__:Best chromosome after iteration 417: 7\n",
      "INFO:__main__:Worst chromosome after iteration 417: 12\n"
     ]
    },
    {
     "name": "stdout",
     "output_type": "stream",
     "text": [
      "--------------------------------------------------\n"
     ]
    },
    {
     "name": "stderr",
     "output_type": "stream",
     "text": [
      "INFO:__main__:Iteration 418\n",
      "INFO:__main__:Evolve time for iteration 418: 0.4617185592651367\n",
      "INFO:__main__:Best chromosome after iteration 418: 7\n",
      "INFO:__main__:Worst chromosome after iteration 418: 13\n"
     ]
    },
    {
     "name": "stdout",
     "output_type": "stream",
     "text": [
      "--------------------------------------------------\n"
     ]
    },
    {
     "name": "stderr",
     "output_type": "stream",
     "text": [
      "INFO:__main__:Iteration 419\n",
      "INFO:__main__:Evolve time for iteration 419: 0.44077372550964355\n",
      "INFO:__main__:Best chromosome after iteration 419: 7\n",
      "INFO:__main__:Worst chromosome after iteration 419: 14\n"
     ]
    },
    {
     "name": "stdout",
     "output_type": "stream",
     "text": [
      "--------------------------------------------------\n"
     ]
    },
    {
     "name": "stderr",
     "output_type": "stream",
     "text": [
      "INFO:__main__:Iteration 420\n",
      "INFO:__main__:Evolve time for iteration 420: 0.4921255111694336\n",
      "INFO:__main__:Best chromosome after iteration 420: 7\n",
      "INFO:__main__:Worst chromosome after iteration 420: 15\n"
     ]
    },
    {
     "name": "stdout",
     "output_type": "stream",
     "text": [
      "--------------------------------------------------\n"
     ]
    },
    {
     "name": "stderr",
     "output_type": "stream",
     "text": [
      "INFO:__main__:Iteration 421\n",
      "INFO:__main__:Evolve time for iteration 421: 1.160672903060913\n",
      "INFO:__main__:Best chromosome after iteration 421: 7\n",
      "INFO:__main__:Worst chromosome after iteration 421: 11\n"
     ]
    },
    {
     "name": "stdout",
     "output_type": "stream",
     "text": [
      "--------------------------------------------------\n"
     ]
    },
    {
     "name": "stderr",
     "output_type": "stream",
     "text": [
      "INFO:__main__:Iteration 422\n",
      "INFO:__main__:Evolve time for iteration 422: 0.5356037616729736\n",
      "INFO:__main__:Best chromosome after iteration 422: 7\n",
      "INFO:__main__:Worst chromosome after iteration 422: 13\n"
     ]
    },
    {
     "name": "stdout",
     "output_type": "stream",
     "text": [
      "--------------------------------------------------\n"
     ]
    },
    {
     "name": "stderr",
     "output_type": "stream",
     "text": [
      "INFO:__main__:Iteration 423\n",
      "INFO:__main__:Evolve time for iteration 423: 0.4677102565765381\n",
      "INFO:__main__:Best chromosome after iteration 423: 7\n",
      "INFO:__main__:Worst chromosome after iteration 423: 12\n"
     ]
    },
    {
     "name": "stdout",
     "output_type": "stream",
     "text": [
      "--------------------------------------------------\n"
     ]
    },
    {
     "name": "stderr",
     "output_type": "stream",
     "text": [
      "INFO:__main__:Iteration 424\n",
      "INFO:__main__:Evolve time for iteration 424: 0.48212456703186035\n",
      "INFO:__main__:Best chromosome after iteration 424: 7\n",
      "INFO:__main__:Worst chromosome after iteration 424: 13\n"
     ]
    },
    {
     "name": "stdout",
     "output_type": "stream",
     "text": [
      "--------------------------------------------------\n"
     ]
    },
    {
     "name": "stderr",
     "output_type": "stream",
     "text": [
      "INFO:__main__:Iteration 425\n",
      "INFO:__main__:Evolve time for iteration 425: 0.48365044593811035\n",
      "INFO:__main__:Best chromosome after iteration 425: 7\n",
      "INFO:__main__:Worst chromosome after iteration 425: 15\n"
     ]
    },
    {
     "name": "stdout",
     "output_type": "stream",
     "text": [
      "--------------------------------------------------\n"
     ]
    },
    {
     "name": "stderr",
     "output_type": "stream",
     "text": [
      "INFO:__main__:Iteration 426\n",
      "INFO:__main__:Evolve time for iteration 426: 0.5415239334106445\n",
      "INFO:__main__:Best chromosome after iteration 426: 7\n",
      "INFO:__main__:Worst chromosome after iteration 426: 16\n"
     ]
    },
    {
     "name": "stdout",
     "output_type": "stream",
     "text": [
      "--------------------------------------------------\n"
     ]
    },
    {
     "name": "stderr",
     "output_type": "stream",
     "text": [
      "INFO:__main__:Iteration 427\n",
      "INFO:__main__:Evolve time for iteration 427: 1.010904312133789\n",
      "INFO:__main__:Best chromosome after iteration 427: 7\n",
      "INFO:__main__:Worst chromosome after iteration 427: 15\n"
     ]
    },
    {
     "name": "stdout",
     "output_type": "stream",
     "text": [
      "--------------------------------------------------\n"
     ]
    },
    {
     "name": "stderr",
     "output_type": "stream",
     "text": [
      "INFO:__main__:Iteration 428\n",
      "INFO:__main__:Evolve time for iteration 428: 0.49912595748901367\n",
      "INFO:__main__:Best chromosome after iteration 428: 7\n",
      "INFO:__main__:Worst chromosome after iteration 428: 19\n"
     ]
    },
    {
     "name": "stdout",
     "output_type": "stream",
     "text": [
      "--------------------------------------------------\n"
     ]
    },
    {
     "name": "stderr",
     "output_type": "stream",
     "text": [
      "INFO:__main__:Iteration 429\n",
      "INFO:__main__:Evolve time for iteration 429: 0.4935142993927002\n",
      "INFO:__main__:Best chromosome after iteration 429: 6\n",
      "INFO:__main__:Worst chromosome after iteration 429: 15\n"
     ]
    },
    {
     "name": "stdout",
     "output_type": "stream",
     "text": [
      "--------------------------------------------------\n"
     ]
    },
    {
     "name": "stderr",
     "output_type": "stream",
     "text": [
      "INFO:__main__:Iteration 430\n",
      "INFO:__main__:Evolve time for iteration 430: 0.501596212387085\n",
      "INFO:__main__:Best chromosome after iteration 430: 6\n",
      "INFO:__main__:Worst chromosome after iteration 430: 13\n"
     ]
    },
    {
     "name": "stdout",
     "output_type": "stream",
     "text": [
      "--------------------------------------------------\n"
     ]
    },
    {
     "name": "stderr",
     "output_type": "stream",
     "text": [
      "INFO:__main__:Iteration 431\n",
      "INFO:__main__:Evolve time for iteration 431: 0.48363518714904785\n",
      "INFO:__main__:Best chromosome after iteration 431: 6\n",
      "INFO:__main__:Worst chromosome after iteration 431: 14\n"
     ]
    },
    {
     "name": "stdout",
     "output_type": "stream",
     "text": [
      "--------------------------------------------------\n"
     ]
    },
    {
     "name": "stderr",
     "output_type": "stream",
     "text": [
      "INFO:__main__:Iteration 432\n",
      "INFO:__main__:Evolve time for iteration 432: 0.45044732093811035\n",
      "INFO:__main__:Best chromosome after iteration 432: 6\n",
      "INFO:__main__:Worst chromosome after iteration 432: 15\n"
     ]
    },
    {
     "name": "stdout",
     "output_type": "stream",
     "text": [
      "--------------------------------------------------\n"
     ]
    },
    {
     "name": "stderr",
     "output_type": "stream",
     "text": [
      "INFO:__main__:Iteration 433\n",
      "INFO:__main__:Evolve time for iteration 433: 1.1183252334594727\n",
      "INFO:__main__:Best chromosome after iteration 433: 6\n",
      "INFO:__main__:Worst chromosome after iteration 433: 14\n"
     ]
    },
    {
     "name": "stdout",
     "output_type": "stream",
     "text": [
      "--------------------------------------------------\n"
     ]
    },
    {
     "name": "stderr",
     "output_type": "stream",
     "text": [
      "INFO:__main__:Iteration 434\n",
      "INFO:__main__:Evolve time for iteration 434: 0.44049978256225586\n",
      "INFO:__main__:Best chromosome after iteration 434: 6\n",
      "INFO:__main__:Worst chromosome after iteration 434: 16\n"
     ]
    },
    {
     "name": "stdout",
     "output_type": "stream",
     "text": [
      "--------------------------------------------------\n"
     ]
    },
    {
     "name": "stderr",
     "output_type": "stream",
     "text": [
      "INFO:__main__:Iteration 435\n",
      "INFO:__main__:Evolve time for iteration 435: 0.4855947494506836\n",
      "INFO:__main__:Best chromosome after iteration 435: 6\n",
      "INFO:__main__:Worst chromosome after iteration 435: 16\n"
     ]
    },
    {
     "name": "stdout",
     "output_type": "stream",
     "text": [
      "--------------------------------------------------\n"
     ]
    },
    {
     "name": "stderr",
     "output_type": "stream",
     "text": [
      "INFO:__main__:Iteration 436\n",
      "INFO:__main__:Evolve time for iteration 436: 0.480618953704834\n",
      "INFO:__main__:Best chromosome after iteration 436: 6\n",
      "INFO:__main__:Worst chromosome after iteration 436: 14\n"
     ]
    },
    {
     "name": "stdout",
     "output_type": "stream",
     "text": [
      "--------------------------------------------------\n"
     ]
    },
    {
     "name": "stderr",
     "output_type": "stream",
     "text": [
      "INFO:__main__:Iteration 437\n",
      "INFO:__main__:Evolve time for iteration 437: 0.49892759323120117\n",
      "INFO:__main__:Best chromosome after iteration 437: 6\n",
      "INFO:__main__:Worst chromosome after iteration 437: 10\n"
     ]
    },
    {
     "name": "stdout",
     "output_type": "stream",
     "text": [
      "--------------------------------------------------\n"
     ]
    },
    {
     "name": "stderr",
     "output_type": "stream",
     "text": [
      "INFO:__main__:Iteration 438\n",
      "INFO:__main__:Evolve time for iteration 438: 0.4612109661102295\n",
      "INFO:__main__:Best chromosome after iteration 438: 6\n",
      "INFO:__main__:Worst chromosome after iteration 438: 12\n"
     ]
    },
    {
     "name": "stdout",
     "output_type": "stream",
     "text": [
      "--------------------------------------------------\n"
     ]
    },
    {
     "name": "stderr",
     "output_type": "stream",
     "text": [
      "INFO:__main__:Iteration 439\n",
      "INFO:__main__:Evolve time for iteration 439: 0.4840404987335205\n",
      "INFO:__main__:Best chromosome after iteration 439: 6\n",
      "INFO:__main__:Worst chromosome after iteration 439: 12\n"
     ]
    },
    {
     "name": "stdout",
     "output_type": "stream",
     "text": [
      "--------------------------------------------------\n"
     ]
    },
    {
     "name": "stderr",
     "output_type": "stream",
     "text": [
      "INFO:__main__:Iteration 440\n",
      "INFO:__main__:Evolve time for iteration 440: 1.1026933193206787\n",
      "INFO:__main__:Best chromosome after iteration 440: 6\n",
      "INFO:__main__:Worst chromosome after iteration 440: 12\n"
     ]
    },
    {
     "name": "stdout",
     "output_type": "stream",
     "text": [
      "--------------------------------------------------\n"
     ]
    },
    {
     "name": "stderr",
     "output_type": "stream",
     "text": [
      "INFO:__main__:Iteration 441\n",
      "INFO:__main__:Evolve time for iteration 441: 0.44874000549316406\n",
      "INFO:__main__:Best chromosome after iteration 441: 6\n",
      "INFO:__main__:Worst chromosome after iteration 441: 11\n"
     ]
    },
    {
     "name": "stdout",
     "output_type": "stream",
     "text": [
      "--------------------------------------------------\n"
     ]
    },
    {
     "name": "stderr",
     "output_type": "stream",
     "text": [
      "INFO:__main__:Iteration 442\n",
      "INFO:__main__:Evolve time for iteration 442: 0.49932050704956055\n",
      "INFO:__main__:Best chromosome after iteration 442: 6\n",
      "INFO:__main__:Worst chromosome after iteration 442: 11\n"
     ]
    },
    {
     "name": "stdout",
     "output_type": "stream",
     "text": [
      "--------------------------------------------------\n"
     ]
    },
    {
     "name": "stderr",
     "output_type": "stream",
     "text": [
      "INFO:__main__:Iteration 443\n",
      "INFO:__main__:Evolve time for iteration 443: 0.4751448631286621\n",
      "INFO:__main__:Best chromosome after iteration 443: 6\n",
      "INFO:__main__:Worst chromosome after iteration 443: 13\n"
     ]
    },
    {
     "name": "stdout",
     "output_type": "stream",
     "text": [
      "--------------------------------------------------\n"
     ]
    },
    {
     "name": "stderr",
     "output_type": "stream",
     "text": [
      "INFO:__main__:Iteration 444\n",
      "INFO:__main__:Evolve time for iteration 444: 0.5004370212554932\n",
      "INFO:__main__:Best chromosome after iteration 444: 6\n",
      "INFO:__main__:Worst chromosome after iteration 444: 13\n"
     ]
    },
    {
     "name": "stdout",
     "output_type": "stream",
     "text": [
      "--------------------------------------------------\n"
     ]
    },
    {
     "name": "stderr",
     "output_type": "stream",
     "text": [
      "INFO:__main__:Iteration 445\n",
      "INFO:__main__:Evolve time for iteration 445: 0.5437655448913574\n",
      "INFO:__main__:Best chromosome after iteration 445: 6\n",
      "INFO:__main__:Worst chromosome after iteration 445: 14\n"
     ]
    },
    {
     "name": "stdout",
     "output_type": "stream",
     "text": [
      "--------------------------------------------------\n"
     ]
    },
    {
     "name": "stderr",
     "output_type": "stream",
     "text": [
      "INFO:__main__:Iteration 446\n",
      "INFO:__main__:Evolve time for iteration 446: 1.0996942520141602\n",
      "INFO:__main__:Best chromosome after iteration 446: 6\n",
      "INFO:__main__:Worst chromosome after iteration 446: 14\n"
     ]
    },
    {
     "name": "stdout",
     "output_type": "stream",
     "text": [
      "--------------------------------------------------\n"
     ]
    },
    {
     "name": "stderr",
     "output_type": "stream",
     "text": [
      "INFO:__main__:Iteration 447\n",
      "INFO:__main__:Evolve time for iteration 447: 0.4655179977416992\n",
      "INFO:__main__:Best chromosome after iteration 447: 6\n",
      "INFO:__main__:Worst chromosome after iteration 447: 12\n"
     ]
    },
    {
     "name": "stdout",
     "output_type": "stream",
     "text": [
      "--------------------------------------------------\n"
     ]
    },
    {
     "name": "stderr",
     "output_type": "stream",
     "text": [
      "INFO:__main__:Iteration 448\n",
      "INFO:__main__:Evolve time for iteration 448: 0.535625696182251\n",
      "INFO:__main__:Best chromosome after iteration 448: 6\n",
      "INFO:__main__:Worst chromosome after iteration 448: 12\n"
     ]
    },
    {
     "name": "stdout",
     "output_type": "stream",
     "text": [
      "--------------------------------------------------\n"
     ]
    },
    {
     "name": "stderr",
     "output_type": "stream",
     "text": [
      "INFO:__main__:Iteration 449\n",
      "INFO:__main__:Evolve time for iteration 449: 0.47203612327575684\n",
      "INFO:__main__:Best chromosome after iteration 449: 6\n",
      "INFO:__main__:Worst chromosome after iteration 449: 11\n"
     ]
    },
    {
     "name": "stdout",
     "output_type": "stream",
     "text": [
      "--------------------------------------------------\n"
     ]
    },
    {
     "name": "stderr",
     "output_type": "stream",
     "text": [
      "INFO:__main__:Iteration 450\n",
      "INFO:__main__:Evolve time for iteration 450: 0.49690675735473633\n",
      "INFO:__main__:Best chromosome after iteration 450: 6\n",
      "INFO:__main__:Worst chromosome after iteration 450: 11\n"
     ]
    },
    {
     "name": "stdout",
     "output_type": "stream",
     "text": [
      "--------------------------------------------------\n"
     ]
    },
    {
     "name": "stderr",
     "output_type": "stream",
     "text": [
      "INFO:__main__:Iteration 451\n",
      "INFO:__main__:Evolve time for iteration 451: 0.4996912479400635\n",
      "INFO:__main__:Best chromosome after iteration 451: 6\n",
      "INFO:__main__:Worst chromosome after iteration 451: 12\n"
     ]
    },
    {
     "name": "stdout",
     "output_type": "stream",
     "text": [
      "--------------------------------------------------\n"
     ]
    },
    {
     "name": "stderr",
     "output_type": "stream",
     "text": [
      "INFO:__main__:Iteration 452\n",
      "INFO:__main__:Evolve time for iteration 452: 1.1268410682678223\n",
      "INFO:__main__:Best chromosome after iteration 452: 6\n",
      "INFO:__main__:Worst chromosome after iteration 452: 12\n"
     ]
    },
    {
     "name": "stdout",
     "output_type": "stream",
     "text": [
      "--------------------------------------------------\n"
     ]
    },
    {
     "name": "stderr",
     "output_type": "stream",
     "text": [
      "INFO:__main__:Iteration 453\n",
      "INFO:__main__:Evolve time for iteration 453: 0.4594845771789551\n",
      "INFO:__main__:Best chromosome after iteration 453: 6\n",
      "INFO:__main__:Worst chromosome after iteration 453: 12\n"
     ]
    },
    {
     "name": "stdout",
     "output_type": "stream",
     "text": [
      "--------------------------------------------------\n"
     ]
    },
    {
     "name": "stderr",
     "output_type": "stream",
     "text": [
      "INFO:__main__:Iteration 454\n",
      "INFO:__main__:Evolve time for iteration 454: 0.438326358795166\n",
      "INFO:__main__:Best chromosome after iteration 454: 6\n",
      "INFO:__main__:Worst chromosome after iteration 454: 10\n"
     ]
    },
    {
     "name": "stdout",
     "output_type": "stream",
     "text": [
      "--------------------------------------------------\n"
     ]
    },
    {
     "name": "stderr",
     "output_type": "stream",
     "text": [
      "INFO:__main__:Iteration 455\n",
      "INFO:__main__:Evolve time for iteration 455: 0.526848316192627\n",
      "INFO:__main__:Best chromosome after iteration 455: 6\n",
      "INFO:__main__:Worst chromosome after iteration 455: 12\n"
     ]
    },
    {
     "name": "stdout",
     "output_type": "stream",
     "text": [
      "--------------------------------------------------\n"
     ]
    },
    {
     "name": "stderr",
     "output_type": "stream",
     "text": [
      "INFO:__main__:Iteration 456\n",
      "INFO:__main__:Evolve time for iteration 456: 0.483020544052124\n",
      "INFO:__main__:Best chromosome after iteration 456: 6\n",
      "INFO:__main__:Worst chromosome after iteration 456: 12\n"
     ]
    },
    {
     "name": "stdout",
     "output_type": "stream",
     "text": [
      "--------------------------------------------------\n"
     ]
    },
    {
     "name": "stderr",
     "output_type": "stream",
     "text": [
      "INFO:__main__:Iteration 457\n",
      "INFO:__main__:Evolve time for iteration 457: 0.5017960071563721\n",
      "INFO:__main__:Best chromosome after iteration 457: 6\n",
      "INFO:__main__:Worst chromosome after iteration 457: 12\n"
     ]
    },
    {
     "name": "stdout",
     "output_type": "stream",
     "text": [
      "--------------------------------------------------\n"
     ]
    },
    {
     "name": "stderr",
     "output_type": "stream",
     "text": [
      "INFO:__main__:Iteration 458\n",
      "INFO:__main__:Evolve time for iteration 458: 0.4595160484313965\n",
      "INFO:__main__:Best chromosome after iteration 458: 6\n",
      "INFO:__main__:Worst chromosome after iteration 458: 13\n"
     ]
    },
    {
     "name": "stdout",
     "output_type": "stream",
     "text": [
      "--------------------------------------------------\n"
     ]
    },
    {
     "name": "stderr",
     "output_type": "stream",
     "text": [
      "INFO:__main__:Iteration 459\n",
      "INFO:__main__:Evolve time for iteration 459: 1.1084201335906982\n",
      "INFO:__main__:Best chromosome after iteration 459: 6\n",
      "INFO:__main__:Worst chromosome after iteration 459: 13\n"
     ]
    },
    {
     "name": "stdout",
     "output_type": "stream",
     "text": [
      "--------------------------------------------------\n"
     ]
    },
    {
     "name": "stderr",
     "output_type": "stream",
     "text": [
      "INFO:__main__:Iteration 460\n",
      "INFO:__main__:Evolve time for iteration 460: 0.5246968269348145\n",
      "INFO:__main__:Best chromosome after iteration 460: 6\n",
      "INFO:__main__:Worst chromosome after iteration 460: 11\n"
     ]
    },
    {
     "name": "stdout",
     "output_type": "stream",
     "text": [
      "--------------------------------------------------\n"
     ]
    },
    {
     "name": "stderr",
     "output_type": "stream",
     "text": [
      "INFO:__main__:Iteration 461\n",
      "INFO:__main__:Evolve time for iteration 461: 0.4879612922668457\n",
      "INFO:__main__:Best chromosome after iteration 461: 6\n",
      "INFO:__main__:Worst chromosome after iteration 461: 10\n"
     ]
    },
    {
     "name": "stdout",
     "output_type": "stream",
     "text": [
      "--------------------------------------------------\n"
     ]
    },
    {
     "name": "stderr",
     "output_type": "stream",
     "text": [
      "INFO:__main__:Iteration 462\n",
      "INFO:__main__:Evolve time for iteration 462: 0.473804235458374\n",
      "INFO:__main__:Best chromosome after iteration 462: 6\n",
      "INFO:__main__:Worst chromosome after iteration 462: 11\n"
     ]
    },
    {
     "name": "stdout",
     "output_type": "stream",
     "text": [
      "--------------------------------------------------\n"
     ]
    },
    {
     "name": "stderr",
     "output_type": "stream",
     "text": [
      "INFO:__main__:Iteration 463\n",
      "INFO:__main__:Evolve time for iteration 463: 0.44789719581604004\n",
      "INFO:__main__:Best chromosome after iteration 463: 6\n",
      "INFO:__main__:Worst chromosome after iteration 463: 11\n"
     ]
    },
    {
     "name": "stdout",
     "output_type": "stream",
     "text": [
      "--------------------------------------------------\n"
     ]
    },
    {
     "name": "stderr",
     "output_type": "stream",
     "text": [
      "INFO:__main__:Iteration 464\n",
      "INFO:__main__:Evolve time for iteration 464: 0.5043561458587646\n",
      "INFO:__main__:Best chromosome after iteration 464: 6\n",
      "INFO:__main__:Worst chromosome after iteration 464: 11\n"
     ]
    },
    {
     "name": "stdout",
     "output_type": "stream",
     "text": [
      "--------------------------------------------------\n"
     ]
    },
    {
     "name": "stderr",
     "output_type": "stream",
     "text": [
      "INFO:__main__:Iteration 465\n",
      "INFO:__main__:Evolve time for iteration 465: 1.1184499263763428\n",
      "INFO:__main__:Best chromosome after iteration 465: 6\n",
      "INFO:__main__:Worst chromosome after iteration 465: 11\n"
     ]
    },
    {
     "name": "stdout",
     "output_type": "stream",
     "text": [
      "--------------------------------------------------\n"
     ]
    },
    {
     "name": "stderr",
     "output_type": "stream",
     "text": [
      "INFO:__main__:Iteration 466\n",
      "INFO:__main__:Evolve time for iteration 466: 0.5435802936553955\n",
      "INFO:__main__:Best chromosome after iteration 466: 6\n",
      "INFO:__main__:Worst chromosome after iteration 466: 9\n"
     ]
    },
    {
     "name": "stdout",
     "output_type": "stream",
     "text": [
      "--------------------------------------------------\n"
     ]
    },
    {
     "name": "stderr",
     "output_type": "stream",
     "text": [
      "INFO:__main__:Iteration 467\n",
      "INFO:__main__:Evolve time for iteration 467: 0.5061068534851074\n",
      "INFO:__main__:Best chromosome after iteration 467: 6\n",
      "INFO:__main__:Worst chromosome after iteration 467: 10\n"
     ]
    },
    {
     "name": "stdout",
     "output_type": "stream",
     "text": [
      "--------------------------------------------------\n"
     ]
    },
    {
     "name": "stderr",
     "output_type": "stream",
     "text": [
      "INFO:__main__:Iteration 468\n",
      "INFO:__main__:Evolve time for iteration 468: 0.47557902336120605\n",
      "INFO:__main__:Best chromosome after iteration 468: 6\n",
      "INFO:__main__:Worst chromosome after iteration 468: 11\n"
     ]
    },
    {
     "name": "stdout",
     "output_type": "stream",
     "text": [
      "--------------------------------------------------\n"
     ]
    },
    {
     "name": "stderr",
     "output_type": "stream",
     "text": [
      "INFO:__main__:Iteration 469\n",
      "INFO:__main__:Evolve time for iteration 469: 0.45864391326904297\n",
      "INFO:__main__:Best chromosome after iteration 469: 6\n",
      "INFO:__main__:Worst chromosome after iteration 469: 13\n"
     ]
    },
    {
     "name": "stdout",
     "output_type": "stream",
     "text": [
      "--------------------------------------------------\n"
     ]
    },
    {
     "name": "stderr",
     "output_type": "stream",
     "text": [
      "INFO:__main__:Iteration 470\n",
      "INFO:__main__:Evolve time for iteration 470: 0.4556310176849365\n",
      "INFO:__main__:Best chromosome after iteration 470: 6\n",
      "INFO:__main__:Worst chromosome after iteration 470: 13\n"
     ]
    },
    {
     "name": "stdout",
     "output_type": "stream",
     "text": [
      "--------------------------------------------------\n"
     ]
    },
    {
     "name": "stderr",
     "output_type": "stream",
     "text": [
      "INFO:__main__:Iteration 471\n",
      "INFO:__main__:Evolve time for iteration 471: 0.490619421005249\n",
      "INFO:__main__:Best chromosome after iteration 471: 6\n",
      "INFO:__main__:Worst chromosome after iteration 471: 14\n"
     ]
    },
    {
     "name": "stdout",
     "output_type": "stream",
     "text": [
      "--------------------------------------------------\n"
     ]
    },
    {
     "name": "stderr",
     "output_type": "stream",
     "text": [
      "INFO:__main__:Iteration 472\n",
      "INFO:__main__:Evolve time for iteration 472: 1.0922455787658691\n",
      "INFO:__main__:Best chromosome after iteration 472: 6\n",
      "INFO:__main__:Worst chromosome after iteration 472: 13\n"
     ]
    },
    {
     "name": "stdout",
     "output_type": "stream",
     "text": [
      "--------------------------------------------------\n"
     ]
    },
    {
     "name": "stderr",
     "output_type": "stream",
     "text": [
      "INFO:__main__:Iteration 473\n",
      "INFO:__main__:Evolve time for iteration 473: 0.5296783447265625\n",
      "INFO:__main__:Best chromosome after iteration 473: 6\n",
      "INFO:__main__:Worst chromosome after iteration 473: 12\n"
     ]
    },
    {
     "name": "stdout",
     "output_type": "stream",
     "text": [
      "--------------------------------------------------\n"
     ]
    },
    {
     "name": "stderr",
     "output_type": "stream",
     "text": [
      "INFO:__main__:Iteration 474\n",
      "INFO:__main__:Evolve time for iteration 474: 0.49822473526000977\n",
      "INFO:__main__:Best chromosome after iteration 474: 6\n",
      "INFO:__main__:Worst chromosome after iteration 474: 11\n"
     ]
    },
    {
     "name": "stdout",
     "output_type": "stream",
     "text": [
      "--------------------------------------------------\n"
     ]
    },
    {
     "name": "stderr",
     "output_type": "stream",
     "text": [
      "INFO:__main__:Iteration 475\n",
      "INFO:__main__:Evolve time for iteration 475: 0.5218331813812256\n",
      "INFO:__main__:Best chromosome after iteration 475: 6\n",
      "INFO:__main__:Worst chromosome after iteration 475: 14\n"
     ]
    },
    {
     "name": "stdout",
     "output_type": "stream",
     "text": [
      "--------------------------------------------------\n"
     ]
    },
    {
     "name": "stderr",
     "output_type": "stream",
     "text": [
      "INFO:__main__:Iteration 476\n",
      "INFO:__main__:Evolve time for iteration 476: 0.45937395095825195\n",
      "INFO:__main__:Best chromosome after iteration 476: 6\n",
      "INFO:__main__:Worst chromosome after iteration 476: 14\n"
     ]
    },
    {
     "name": "stdout",
     "output_type": "stream",
     "text": [
      "--------------------------------------------------\n"
     ]
    },
    {
     "name": "stderr",
     "output_type": "stream",
     "text": [
      "INFO:__main__:Iteration 477\n",
      "INFO:__main__:Evolve time for iteration 477: 0.5384838581085205\n",
      "INFO:__main__:Best chromosome after iteration 477: 6\n",
      "INFO:__main__:Worst chromosome after iteration 477: 11\n"
     ]
    },
    {
     "name": "stdout",
     "output_type": "stream",
     "text": [
      "--------------------------------------------------\n"
     ]
    },
    {
     "name": "stderr",
     "output_type": "stream",
     "text": [
      "INFO:__main__:Iteration 478\n",
      "INFO:__main__:Evolve time for iteration 478: 1.125838041305542\n",
      "INFO:__main__:Best chromosome after iteration 478: 6\n",
      "INFO:__main__:Worst chromosome after iteration 478: 11\n"
     ]
    },
    {
     "name": "stdout",
     "output_type": "stream",
     "text": [
      "--------------------------------------------------\n"
     ]
    },
    {
     "name": "stderr",
     "output_type": "stream",
     "text": [
      "INFO:__main__:Iteration 479\n",
      "INFO:__main__:Evolve time for iteration 479: 0.4738130569458008\n",
      "INFO:__main__:Best chromosome after iteration 479: 6\n",
      "INFO:__main__:Worst chromosome after iteration 479: 12\n"
     ]
    },
    {
     "name": "stdout",
     "output_type": "stream",
     "text": [
      "--------------------------------------------------\n"
     ]
    },
    {
     "name": "stderr",
     "output_type": "stream",
     "text": [
      "INFO:__main__:Iteration 480\n",
      "INFO:__main__:Evolve time for iteration 480: 0.45724964141845703\n",
      "INFO:__main__:Best chromosome after iteration 480: 6\n",
      "INFO:__main__:Worst chromosome after iteration 480: 10\n"
     ]
    },
    {
     "name": "stdout",
     "output_type": "stream",
     "text": [
      "--------------------------------------------------\n"
     ]
    },
    {
     "name": "stderr",
     "output_type": "stream",
     "text": [
      "INFO:__main__:Iteration 481\n",
      "INFO:__main__:Evolve time for iteration 481: 0.48485541343688965\n",
      "INFO:__main__:Best chromosome after iteration 481: 6\n",
      "INFO:__main__:Worst chromosome after iteration 481: 11\n"
     ]
    },
    {
     "name": "stdout",
     "output_type": "stream",
     "text": [
      "--------------------------------------------------\n"
     ]
    },
    {
     "name": "stderr",
     "output_type": "stream",
     "text": [
      "INFO:__main__:Iteration 482\n",
      "INFO:__main__:Evolve time for iteration 482: 0.4471447467803955\n",
      "INFO:__main__:Best chromosome after iteration 482: 6\n",
      "INFO:__main__:Worst chromosome after iteration 482: 11\n"
     ]
    },
    {
     "name": "stdout",
     "output_type": "stream",
     "text": [
      "--------------------------------------------------\n"
     ]
    },
    {
     "name": "stderr",
     "output_type": "stream",
     "text": [
      "INFO:__main__:Iteration 483\n",
      "INFO:__main__:Evolve time for iteration 483: 0.5093472003936768\n",
      "INFO:__main__:Best chromosome after iteration 483: 6\n",
      "INFO:__main__:Worst chromosome after iteration 483: 12\n"
     ]
    },
    {
     "name": "stdout",
     "output_type": "stream",
     "text": [
      "--------------------------------------------------\n"
     ]
    },
    {
     "name": "stderr",
     "output_type": "stream",
     "text": [
      "INFO:__main__:Iteration 484\n",
      "INFO:__main__:Evolve time for iteration 484: 0.5436387062072754\n",
      "INFO:__main__:Best chromosome after iteration 484: 6\n",
      "INFO:__main__:Worst chromosome after iteration 484: 15\n"
     ]
    },
    {
     "name": "stdout",
     "output_type": "stream",
     "text": [
      "--------------------------------------------------\n"
     ]
    },
    {
     "name": "stderr",
     "output_type": "stream",
     "text": [
      "INFO:__main__:Iteration 485\n",
      "INFO:__main__:Evolve time for iteration 485: 1.1599271297454834\n",
      "INFO:__main__:Best chromosome after iteration 485: 6\n",
      "INFO:__main__:Worst chromosome after iteration 485: 12\n"
     ]
    },
    {
     "name": "stdout",
     "output_type": "stream",
     "text": [
      "--------------------------------------------------\n"
     ]
    },
    {
     "name": "stderr",
     "output_type": "stream",
     "text": [
      "INFO:__main__:Iteration 486\n",
      "INFO:__main__:Evolve time for iteration 486: 0.446530818939209\n",
      "INFO:__main__:Best chromosome after iteration 486: 6\n",
      "INFO:__main__:Worst chromosome after iteration 486: 12\n"
     ]
    },
    {
     "name": "stdout",
     "output_type": "stream",
     "text": [
      "--------------------------------------------------\n"
     ]
    },
    {
     "name": "stderr",
     "output_type": "stream",
     "text": [
      "INFO:__main__:Iteration 487\n",
      "INFO:__main__:Evolve time for iteration 487: 0.5067265033721924\n",
      "INFO:__main__:Best chromosome after iteration 487: 6\n",
      "INFO:__main__:Worst chromosome after iteration 487: 13\n"
     ]
    },
    {
     "name": "stdout",
     "output_type": "stream",
     "text": [
      "--------------------------------------------------\n"
     ]
    },
    {
     "name": "stderr",
     "output_type": "stream",
     "text": [
      "INFO:__main__:Iteration 488\n",
      "INFO:__main__:Evolve time for iteration 488: 0.579221248626709\n",
      "INFO:__main__:Best chromosome after iteration 488: 6\n",
      "INFO:__main__:Worst chromosome after iteration 488: 10\n"
     ]
    },
    {
     "name": "stdout",
     "output_type": "stream",
     "text": [
      "--------------------------------------------------\n"
     ]
    },
    {
     "name": "stderr",
     "output_type": "stream",
     "text": [
      "INFO:__main__:Iteration 489\n",
      "INFO:__main__:Evolve time for iteration 489: 0.46283555030822754\n",
      "INFO:__main__:Best chromosome after iteration 489: 6\n",
      "INFO:__main__:Worst chromosome after iteration 489: 11\n"
     ]
    },
    {
     "name": "stdout",
     "output_type": "stream",
     "text": [
      "--------------------------------------------------\n"
     ]
    },
    {
     "name": "stderr",
     "output_type": "stream",
     "text": [
      "INFO:__main__:Iteration 490\n",
      "INFO:__main__:Evolve time for iteration 490: 0.4468214511871338\n",
      "INFO:__main__:Best chromosome after iteration 490: 6\n",
      "INFO:__main__:Worst chromosome after iteration 490: 13\n"
     ]
    },
    {
     "name": "stdout",
     "output_type": "stream",
     "text": [
      "--------------------------------------------------\n"
     ]
    },
    {
     "name": "stderr",
     "output_type": "stream",
     "text": [
      "INFO:__main__:Iteration 491\n",
      "INFO:__main__:Evolve time for iteration 491: 0.48380041122436523\n",
      "INFO:__main__:Best chromosome after iteration 491: 6\n",
      "INFO:__main__:Worst chromosome after iteration 491: 11\n"
     ]
    },
    {
     "name": "stdout",
     "output_type": "stream",
     "text": [
      "--------------------------------------------------\n"
     ]
    },
    {
     "name": "stderr",
     "output_type": "stream",
     "text": [
      "INFO:__main__:Iteration 492\n",
      "INFO:__main__:Evolve time for iteration 492: 1.1205670833587646\n",
      "INFO:__main__:Best chromosome after iteration 492: 6\n",
      "INFO:__main__:Worst chromosome after iteration 492: 11\n"
     ]
    },
    {
     "name": "stdout",
     "output_type": "stream",
     "text": [
      "--------------------------------------------------\n"
     ]
    },
    {
     "name": "stderr",
     "output_type": "stream",
     "text": [
      "INFO:__main__:Iteration 493\n",
      "INFO:__main__:Evolve time for iteration 493: 0.5707173347473145\n",
      "INFO:__main__:Best chromosome after iteration 493: 6\n",
      "INFO:__main__:Worst chromosome after iteration 493: 11\n"
     ]
    },
    {
     "name": "stdout",
     "output_type": "stream",
     "text": [
      "--------------------------------------------------\n"
     ]
    },
    {
     "name": "stderr",
     "output_type": "stream",
     "text": [
      "INFO:__main__:Iteration 494\n",
      "INFO:__main__:Evolve time for iteration 494: 0.5176131725311279\n",
      "INFO:__main__:Best chromosome after iteration 494: 6\n",
      "INFO:__main__:Worst chromosome after iteration 494: 12\n"
     ]
    },
    {
     "name": "stdout",
     "output_type": "stream",
     "text": [
      "--------------------------------------------------\n"
     ]
    },
    {
     "name": "stderr",
     "output_type": "stream",
     "text": [
      "INFO:__main__:Iteration 495\n",
      "INFO:__main__:Evolve time for iteration 495: 0.46439099311828613\n",
      "INFO:__main__:Best chromosome after iteration 495: 6\n",
      "INFO:__main__:Worst chromosome after iteration 495: 12\n"
     ]
    },
    {
     "name": "stdout",
     "output_type": "stream",
     "text": [
      "--------------------------------------------------\n"
     ]
    },
    {
     "name": "stderr",
     "output_type": "stream",
     "text": [
      "INFO:__main__:Iteration 496\n",
      "INFO:__main__:Evolve time for iteration 496: 0.5707287788391113\n",
      "INFO:__main__:Best chromosome after iteration 496: 6\n",
      "INFO:__main__:Worst chromosome after iteration 496: 12\n"
     ]
    },
    {
     "name": "stdout",
     "output_type": "stream",
     "text": [
      "--------------------------------------------------\n"
     ]
    },
    {
     "name": "stderr",
     "output_type": "stream",
     "text": [
      "INFO:__main__:Iteration 497\n",
      "INFO:__main__:Evolve time for iteration 497: 0.5453395843505859\n",
      "INFO:__main__:Best chromosome after iteration 497: 6\n",
      "INFO:__main__:Worst chromosome after iteration 497: 12\n"
     ]
    },
    {
     "name": "stdout",
     "output_type": "stream",
     "text": [
      "--------------------------------------------------\n"
     ]
    },
    {
     "name": "stderr",
     "output_type": "stream",
     "text": [
      "INFO:__main__:Iteration 498\n",
      "INFO:__main__:Evolve time for iteration 498: 0.47341132164001465\n",
      "INFO:__main__:Best chromosome after iteration 498: 6\n",
      "INFO:__main__:Worst chromosome after iteration 498: 16\n"
     ]
    },
    {
     "name": "stdout",
     "output_type": "stream",
     "text": [
      "--------------------------------------------------\n"
     ]
    },
    {
     "name": "stderr",
     "output_type": "stream",
     "text": [
      "INFO:__main__:Iteration 499\n",
      "INFO:__main__:Evolve time for iteration 499: 1.1206822395324707\n",
      "INFO:__main__:Best chromosome after iteration 499: 6\n",
      "INFO:__main__:Worst chromosome after iteration 499: 17\n"
     ]
    },
    {
     "name": "stdout",
     "output_type": "stream",
     "text": [
      "--------------------------------------------------\n"
     ]
    }
   ],
   "source": [
    "settings.DEBUG = False\n",
    "new_population = genetic_algorithm.run(500)"
   ]
  },
  {
   "cell_type": "code",
   "execution_count": 745,
   "metadata": {},
   "outputs": [
    {
     "name": "stdout",
     "output_type": "stream",
     "text": [
      "2022-09-12 07:30:00.530000+00:00\n",
      "                              Date   Shift  Assistant  Group\n",
      "0 2022-09-12 07:30:00.530000+00:00  Shift3          4     33\n",
      "\n",
      "2022-09-13 07:30:00.530000+00:00\n",
      "                              Date   Shift  Assistant  Group\n",
      "1 2022-09-13 07:30:00.530000+00:00  Shift4          5      8\n",
      "2 2022-09-13 07:30:00.530000+00:00  Shift4          6     10\n",
      "3 2022-09-13 07:30:00.530000+00:00  Shift5          3      5\n",
      "\n",
      "2022-09-14 07:30:00.530000+00:00\n",
      "                              Date   Shift  Assistant  Group\n",
      "4 2022-09-14 07:30:00.530000+00:00  Shift2          5      2\n",
      "5 2022-09-14 07:30:00.530000+00:00  Shift3          3      5\n",
      "\n",
      "2022-09-16 07:30:00.530000+00:00\n",
      "                               Date   Shift  Assistant  Group\n",
      "6  2022-09-16 07:30:00.530000+00:00  Shift1          3     22\n",
      "7  2022-09-16 07:30:00.530000+00:00  Shift3          1     27\n",
      "8  2022-09-16 07:30:00.530000+00:00  Shift3          1     34\n",
      "9  2022-09-16 07:30:00.530000+00:00  Shift4          6      6\n",
      "10 2022-09-16 07:30:00.530000+00:00  Shift4          5     20\n",
      "\n",
      "2022-09-17 07:30:00.530000+00:00\n",
      "                               Date   Shift  Assistant  Group\n",
      "11 2022-09-17 07:30:00.530000+00:00  Shift2          3      7\n",
      "12 2022-09-17 07:30:00.530000+00:00  Shift2          3     22\n",
      "13 2022-09-17 07:30:00.530000+00:00  Shift3          4     33\n",
      "\n",
      "2022-09-19 07:30:00.530000+00:00\n",
      "                               Date   Shift  Assistant  Group\n",
      "14 2022-09-19 07:30:00.530000+00:00  Shift1          4     29\n",
      "15 2022-09-19 07:30:00.530000+00:00  Shift5          4     24\n",
      "\n",
      "2022-09-20 07:30:00.530000+00:00\n",
      "                               Date   Shift  Assistant  Group\n",
      "16 2022-09-20 07:30:00.530000+00:00  Shift3          1     19\n",
      "17 2022-09-20 07:30:00.530000+00:00  Shift6          4     12\n",
      "18 2022-09-20 07:30:00.530000+00:00  Shift6          3     21\n",
      "\n",
      "2022-09-21 07:30:00.530000+00:00\n",
      "                               Date   Shift  Assistant  Group\n",
      "19 2022-09-21 07:30:00.530000+00:00  Shift2          5      2\n",
      "20 2022-09-21 07:30:00.530000+00:00  Shift2          3     31\n",
      "21 2022-09-21 07:30:00.530000+00:00  Shift3          1     30\n",
      "22 2022-09-21 07:30:00.530000+00:00  Shift3          2     35\n",
      "23 2022-09-21 07:30:00.530000+00:00  Shift4          1     25\n",
      "24 2022-09-21 07:30:00.530000+00:00  Shift4          1     25\n",
      "25 2022-09-21 07:30:00.530000+00:00  Shift6          1     26\n",
      "\n",
      "2022-09-22 07:30:00.530000+00:00\n",
      "                               Date   Shift  Assistant  Group\n",
      "26 2022-09-22 07:30:00.530000+00:00  Shift1          5     32\n",
      "27 2022-09-22 07:30:00.530000+00:00  Shift6          5      8\n",
      "\n",
      "2022-09-23 07:30:00.530000+00:00\n",
      "                               Date   Shift  Assistant  Group\n",
      "28 2022-09-23 07:30:00.530000+00:00  Shift2          3      9\n",
      "29 2022-09-23 07:30:00.530000+00:00  Shift2          6     14\n",
      "30 2022-09-23 07:30:00.530000+00:00  Shift3          4     24\n",
      "31 2022-09-23 07:30:00.530000+00:00  Shift5          3      4\n",
      "32 2022-09-23 07:30:00.530000+00:00  Shift5          6     16\n",
      "\n",
      "2022-09-24 07:30:00.530000+00:00\n",
      "                               Date   Shift  Assistant  Group\n",
      "33 2022-09-24 07:30:00.530000+00:00  Shift2          5     20\n",
      "34 2022-09-24 07:30:00.530000+00:00  Shift3          5     11\n",
      "35 2022-09-24 07:30:00.530000+00:00  Shift3          3     15\n",
      "36 2022-09-24 07:30:00.530000+00:00  Shift4          6     17\n",
      "\n",
      "2022-09-26 07:30:00.530000+00:00\n",
      "                               Date   Shift  Assistant  Group\n",
      "37 2022-09-26 07:30:00.530000+00:00  Shift3          5     13\n",
      "\n",
      "2022-09-27 07:30:00.530000+00:00\n",
      "                               Date   Shift  Assistant  Group\n",
      "38 2022-09-27 07:30:00.530000+00:00  Shift2          4     18\n",
      "39 2022-09-27 07:30:00.530000+00:00  Shift3          3     28\n",
      "\n",
      "2022-09-28 07:30:00.530000+00:00\n",
      "                               Date   Shift  Assistant  Group\n",
      "40 2022-09-28 07:30:00.530000+00:00  Shift5          2      1\n",
      "\n",
      "2022-09-29 07:30:00.530000+00:00\n",
      "                               Date   Shift  Assistant  Group\n",
      "41 2022-09-29 07:30:00.530000+00:00  Shift1          6     10\n",
      "\n",
      "2022-09-30 07:30:00.530000+00:00\n",
      "                               Date   Shift  Assistant  Group\n",
      "42 2022-09-30 07:30:00.530000+00:00  Shift2          5     11\n",
      "43 2022-09-30 07:30:00.530000+00:00  Shift6          5     16\n",
      "\n",
      "2022-10-01 07:30:00.530000+00:00\n",
      "                               Date   Shift  Assistant  Group\n",
      "44 2022-10-01 07:30:00.530000+00:00  Shift2          3      7\n",
      "45 2022-10-01 07:30:00.530000+00:00  Shift2          2     15\n",
      "46 2022-10-01 07:30:00.530000+00:00  Shift3          1     30\n",
      "\n",
      "2022-10-04 07:30:00.530000+00:00\n",
      "                               Date   Shift  Assistant  Group\n",
      "47 2022-10-04 07:30:00.530000+00:00  Shift2          3      4\n",
      "48 2022-10-04 07:30:00.530000+00:00  Shift5          3     28\n",
      "49 2022-10-04 07:30:00.530000+00:00  Shift5          4     29\n",
      "50 2022-10-04 07:30:00.530000+00:00  Shift6          3     21\n",
      "\n",
      "2022-10-05 07:30:00.530000+00:00\n",
      "                               Date   Shift  Assistant  Group\n",
      "51 2022-10-05 07:30:00.530000+00:00  Shift1          3     31\n",
      "52 2022-10-05 07:30:00.530000+00:00  Shift3          1     34\n",
      "53 2022-10-05 07:30:00.530000+00:00  Shift5          2     23\n",
      "\n",
      "2022-10-06 07:30:00.530000+00:00\n",
      "                               Date   Shift  Assistant  Group\n",
      "54 2022-10-06 07:30:00.530000+00:00  Shift1          5     32\n",
      "\n",
      "2022-10-07 07:30:00.530000+00:00\n",
      "                               Date   Shift  Assistant  Group\n",
      "55 2022-10-07 07:30:00.530000+00:00  Shift6          1     26\n",
      "\n",
      "2022-10-10 07:30:00.530000+00:00\n",
      "                               Date   Shift  Assistant  Group\n",
      "56 2022-10-10 07:30:00.530000+00:00  Shift5          2      1\n",
      "57 2022-10-10 07:30:00.530000+00:00  Shift5          1     19\n",
      "\n",
      "2022-10-11 07:30:00.530000+00:00\n",
      "                               Date   Shift  Assistant  Group\n",
      "58 2022-10-11 07:30:00.530000+00:00  Shift2          6      6\n",
      "\n",
      "2022-10-12 07:30:00.530000+00:00\n",
      "                               Date   Shift  Assistant  Group\n",
      "59 2022-10-12 07:30:00.530000+00:00  Shift1          1     36\n",
      "60 2022-10-12 07:30:00.530000+00:00  Shift2          4     18\n",
      "61 2022-10-12 07:30:00.530000+00:00  Shift3          4     12\n",
      "62 2022-10-12 07:30:00.530000+00:00  Shift4          5     13\n",
      "\n",
      "2022-10-13 07:30:00.530000+00:00\n",
      "                               Date   Shift  Assistant  Group\n",
      "63 2022-10-13 07:30:00.530000+00:00  Shift2          1     36\n",
      "64 2022-10-13 07:30:00.530000+00:00  Shift6          6     17\n",
      "\n",
      "2022-10-14 07:30:00.530000+00:00\n",
      "                               Date   Shift  Assistant  Group\n",
      "65 2022-10-14 07:30:00.530000+00:00  Shift4          4      3\n",
      "66 2022-10-14 07:30:00.530000+00:00  Shift5          1     27\n",
      "\n",
      "2022-10-15 07:30:00.530000+00:00\n",
      "                               Date   Shift  Assistant  Group\n",
      "67 2022-10-15 07:30:00.530000+00:00  Shift1          4      3\n",
      "68 2022-10-15 07:30:00.530000+00:00  Shift2          2     23\n",
      "69 2022-10-15 07:30:00.530000+00:00  Shift3          2      9\n",
      "70 2022-10-15 07:30:00.530000+00:00  Shift4          5     35\n",
      "\n",
      "2022-10-18 07:30:00.530000+00:00\n",
      "                               Date   Shift  Assistant  Group\n",
      "71 2022-10-18 07:30:00.530000+00:00  Shift6          6     14\n",
      "\n"
     ]
    }
   ],
   "source": [
    "import pandas as pd\n",
    "data = []\n",
    "for gene in new_population:\n",
    "    data.append([gene.time_slot.date, gene.time_slot.shift, gene.assistant, gene.group])\n",
    "df = pd.DataFrame(data, columns=[\"Date\", \"Shift\", \"Assistant\", \"Group\"])\n",
    "df = df.sort_values(by=[\"Date\", \"Shift\"])\n",
    "df = df.reset_index(drop=True)\n",
    "#Group By Date\n",
    "grouped = df.groupby(\"Date\")\n",
    "#Print the group\n",
    "for name, group in grouped:\n",
    "    print(name)\n",
    "    print(group)\n",
    "    print()\n",
    "    "
   ]
  },
  {
   "cell_type": "code",
   "execution_count": null,
   "metadata": {},
   "outputs": [],
   "source": [
    "for i in range(len(genetic_algorithm.log)):\n",
    "    print(f\"Best chromosome for iteration {i}: {genetic_algorithm.log[i]['best_chromosome'].fitness}\")\n",
    "    print(f\"Repair time for iteration {i}: {genetic_algorithm.log[i]['repair_time']}\")\n",
    "    print(f\"Crossover time for iteration {i}: {genetic_algorithm.log[i]['crossover_time']}\")\n",
    "    print(f\"Mutation time for iteration {i}: {genetic_algorithm.log[i]['mutation_time']}\")\n",
    "    print(f\"Fitness time for iteration {i}: {genetic_algorithm.log[i]['fitness_time']}\")\n",
    "    print(f\"Elitism time for iteration {i}: {genetic_algorithm.log[i]['elitism_time']}\")\n",
    "    print(f\"Selection time for iteration {i}: {genetic_algorithm.log[i]['selection_time']}\")\n",
    "    print(f\"Total time for iteration {i}: {genetic_algorithm.log[i]['total_time']}\")\n",
    "    print(\"--------------------------------------------------\")"
   ]
  }
 ],
 "metadata": {
  "kernelspec": {
   "display_name": "Python 3",
   "language": "python",
   "name": "python3"
  },
  "language_info": {
   "codemirror_mode": {
    "name": "ipython",
    "version": 3
   },
   "file_extension": ".py",
   "mimetype": "text/x-python",
   "name": "python",
   "nbconvert_exporter": "python",
   "pygments_lexer": "ipython3",
   "version": "3.10.12"
  },
  "orig_nbformat": 4
 },
 "nbformat": 4,
 "nbformat_minor": 2
}
